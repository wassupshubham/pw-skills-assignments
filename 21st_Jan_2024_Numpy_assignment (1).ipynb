{
 "cells": [
  {
   "cell_type": "markdown",
   "id": "f110b49c-1fea-4e85-8791-2623321f207d",
   "metadata": {},
   "source": [
    "Numpy\n",
    "Assignment Questions\n",
    "\n",
    "\n",
    "\n",
    "\n",
    "\n",
    "\n",
    "\n",
    "\n",
    "\n",
    "\n",
    "        \n",
    "Q1:- What is a Python library? Why do we use Python libraries?"
   ]
  },
  {
   "cell_type": "markdown",
   "id": "72450a60-fabb-4383-b090-eb1cebf99749",
   "metadata": {},
   "source": [
    "Ans:-A Python library is a collection of related modules. It contains bundles of code that can be used repeatedly in different programs. It makes Python Programming simpler and convenient for the programmer.\n",
    "\n",
    "Python libraries play a very vital role in fields of Machine Learning, Data Science, Data Visualization, etc.\n"
   ]
  },
  {
   "cell_type": "markdown",
   "id": "e1f68c35-01fa-4bda-aefc-b5a90c587187",
   "metadata": {},
   "source": [
    "Q2:- What is the difference between Numpy array and List?"
   ]
  },
  {
   "cell_type": "markdown",
   "id": "b0f01374-44c1-40d7-a146-f27e5b2182da",
   "metadata": {},
   "source": [
    "Ans:-  ==>Numpy arrays is a typed array, the array in memory stores a homogenous, densely packed numbers.\n",
    "\n",
    "\n",
    "==> Python list is a heterogeneous list, the list in memory stores references to objects rather than the number themselves."
   ]
  },
  {
   "cell_type": "markdown",
   "id": "fc67d961-9484-4e28-a027-3473b712d1ee",
   "metadata": {},
   "source": [
    "Q3:- Find the shape, size and dimension of the following array?\n",
    "\n",
    "[[1, 2, 3, 4]\n",
    "\n",
    "[5, 6, 7, 8],\n",
    "\n",
    "[9, 10, 11, 12]]"
   ]
  },
  {
   "cell_type": "code",
   "execution_count": 21,
   "id": "8c9e8ccc-0c1d-4323-b09e-20e20f9455c9",
   "metadata": {},
   "outputs": [
    {
     "name": "stdout",
     "output_type": "stream",
     "text": [
      "2\n"
     ]
    }
   ],
   "source": [
    "import numpy as np\n",
    "m1=[[1, 2, 3, 4],[5, 6, 7, 8],[9, 10, 11, 12]]\n",
    "arr = np.array(m1)\n",
    "print(arr.ndim)"
   ]
  },
  {
   "cell_type": "markdown",
   "id": "bc61914d-7495-496d-a088-ed5b38271b23",
   "metadata": {},
   "source": [
    "Q4:- Write python code to access the first row of the following array?\n",
    "[[1, 2, 3, 4],\n",
    "[5, 6, 7, 8],\n",
    "[9, 10, 11, 12]]"
   ]
  },
  {
   "cell_type": "code",
   "execution_count": 22,
   "id": "1241bc70-af22-4d3c-832e-f5e8b8c97a81",
   "metadata": {},
   "outputs": [
    {
     "name": "stdout",
     "output_type": "stream",
     "text": [
      "[1, 2, 3, 4]\n"
     ]
    }
   ],
   "source": [
    "import numpy as np\n",
    "arr = [[1, 2, 3, 4],\n",
    "[5, 6, 7, 8],\n",
    "[9, 10, 11, 12]]\n",
    "\n",
    "first_row = arr[0]\n",
    "print(first_row)"
   ]
  },
  {
   "cell_type": "markdown",
   "id": "be37eb62-f44b-4928-9801-7caa8498e349",
   "metadata": {},
   "source": [
    "Q5:- How do you access the element at the third row and fourth column from the given numpy array?\n",
    "[[1, 2, 3, 4],\n",
    "[5, 6, 7, 8],\n",
    "[9, 10, 11, 12]]"
   ]
  },
  {
   "cell_type": "code",
   "execution_count": 23,
   "id": "a4a73ce6-644c-4136-8c57-c016ae3866e0",
   "metadata": {},
   "outputs": [
    {
     "name": "stdout",
     "output_type": "stream",
     "text": [
      "12\n"
     ]
    }
   ],
   "source": [
    "import numpy as np\n",
    "arr = np.array([[1, 2, 3, 4],\n",
    "[5, 6, 7, 8],\n",
    "[9, 10, 11, 12]])\n",
    "\n",
    "print(arr[2,3]) #third row and fouth column"
   ]
  },
  {
   "cell_type": "markdown",
   "id": "2de01f64-c379-4b11-b548-11bdd622989a",
   "metadata": {},
   "source": [
    "Q6:- Write code to extract all odd-indexed elements from the given numpy array?\n",
    "[[1, 2, 3, 4],\n",
    "[5, 6, 7, 8],\n",
    "[9, 10, 11, 12]]"
   ]
  },
  {
   "cell_type": "code",
   "execution_count": 24,
   "id": "8a16efc3-7b75-4158-93cb-d381ead80a6c",
   "metadata": {},
   "outputs": [
    {
     "name": "stdout",
     "output_type": "stream",
     "text": [
      "[[ 2  4]\n",
      " [ 6  8]\n",
      " [10 12]]\n"
     ]
    }
   ],
   "source": [
    "import numpy as np \n",
    "arr = np.array([[1, 2, 3, 4],\n",
    "[5, 6, 7, 8],\n",
    "[9, 10, 11, 12]])\n",
    "\n",
    "odd_element = arr[:,1::2]\n",
    "print(odd_element)"
   ]
  },
  {
   "cell_type": "markdown",
   "id": "f773af8a-4684-472a-a608-41c8298d1958",
   "metadata": {},
   "source": [
    "Q7:- How can you generate a random 3x3 matrix with values between 0 and 1?\n"
   ]
  },
  {
   "cell_type": "code",
   "execution_count": 25,
   "id": "76d75a20-4350-413f-9273-11c50043b909",
   "metadata": {},
   "outputs": [
    {
     "name": "stdout",
     "output_type": "stream",
     "text": [
      "[[0.3600749  0.19988363 0.34663639]\n",
      " [0.28155165 0.23220914 0.10189759]\n",
      " [0.15008045 0.88023288 0.44818899]]\n"
     ]
    }
   ],
   "source": [
    "import numpy as np\n",
    "import random\n",
    "\n",
    "matrix = np.random.rand(3,3)\n",
    "print(matrix\n",
    "     )"
   ]
  },
  {
   "cell_type": "markdown",
   "id": "5f413a83-a8bd-4488-ba87-235cd91fc9eb",
   "metadata": {},
   "source": [
    "Q8:- Describe the difference between np.random.rand and np.random.randn?"
   ]
  },
  {
   "cell_type": "markdown",
   "id": "b9217f3f-861d-4e05-92a6-1adb08c40fc9",
   "metadata": {},
   "source": [
    "Ans:- ==> np.random.rand and np.random.randn lies in the distribution of the generated numbers: uniform distribution for rand and standard normal distribution for randn."
   ]
  },
  {
   "cell_type": "markdown",
   "id": "485595fd-9a0c-4446-b3f2-b468c1c93fe0",
   "metadata": {},
   "source": [
    "Q9:- Write code to increase the dimension of the following array?\n",
    "[[1, 2, 3, 4],\n",
    "[5, 6, 7, 8],\n",
    "[9, 10, 11, 12]]"
   ]
  },
  {
   "cell_type": "code",
   "execution_count": 26,
   "id": "b23de603-78d3-4c0f-84b9-ef04f84a3534",
   "metadata": {},
   "outputs": [
    {
     "name": "stdout",
     "output_type": "stream",
     "text": [
      "[[[ 1  2  3  4]\n",
      "  [ 5  6  7  8]\n",
      "  [ 9 10 11 12]]]\n"
     ]
    }
   ],
   "source": [
    "import numpy as np\n",
    "#original array\n",
    "arr = np.array([[1, 2, 3, 4],\n",
    "[5, 6, 7, 8],\n",
    "[9, 10, 11, 12]])\n",
    "\n",
    "#increase dimension along axis 0 \n",
    "new_array = np.expand_dims(arr, axis = 0)\n",
    "print(new_array)"
   ]
  },
  {
   "cell_type": "markdown",
   "id": "2fbef6f1-b3ac-456b-980a-4fcc3130d29b",
   "metadata": {},
   "source": [
    "Q10:- How to transpose the following array in NumPy?\n",
    "[[1, 2, 3, 4],\n",
    "[5, 6, 7, 8],\n",
    "[9, 10, 11, 12]]"
   ]
  },
  {
   "cell_type": "code",
   "execution_count": 27,
   "id": "425f1bf1-82dc-4014-9a6b-9e3ae25de262",
   "metadata": {},
   "outputs": [
    {
     "name": "stdout",
     "output_type": "stream",
     "text": [
      "[[ 1  5  9]\n",
      " [ 2  6 10]\n",
      " [ 3  7 11]\n",
      " [ 4  8 12]]\n"
     ]
    }
   ],
   "source": [
    "import numpy as np\n",
    "arr = np.array([[1, 2, 3, 4],\n",
    "[5, 6, 7, 8],\n",
    "[9, 10, 11, 12]])\n",
    "\n",
    "transpose_array = np.transpose(arr)\n",
    "print(transpose_array)"
   ]
  },
  {
   "cell_type": "markdown",
   "id": "2b9be0ef-dbc8-4dec-ac2a-fa97c2571ca7",
   "metadata": {},
   "source": [
    "Q11:- Consider the following matrix:\n",
    "\n",
    "Matrix A2 [[1, 2, 3, 4], [5, 6, 7, 8],[9, 10, 11, 12]]\n",
    "\n",
    "Matrix B2 [[1, 2, 3, 4],[5, 6, 7, 8],[9, 10, 11, 12]]"
   ]
  },
  {
   "cell_type": "code",
   "execution_count": 28,
   "id": "b8918d52-50fc-46cb-a9de-eac24c6c03b2",
   "metadata": {},
   "outputs": [
    {
     "name": "stdout",
     "output_type": "stream",
     "text": [
      "[[  1   4   9  16]\n",
      " [ 25  36  49  64]\n",
      " [ 81 100 121 144]]\n"
     ]
    }
   ],
   "source": [
    "#==> 1.Index wise multiplication\n",
    "\n",
    "A2 = np.array([[1, 2, 3, 4], [5, 6, 7, 8],[9, 10, 11, 12]]\n",
    ")\n",
    "B2 = np.array([[1, 2, 3, 4],[5, 6, 7, 8],[9, 10, 11, 12]])\n",
    "\n",
    "result = np.multiply(A2,B2)\n",
    "print(result)"
   ]
  },
  {
   "cell_type": "code",
   "execution_count": 29,
   "id": "5bd8167b-2d4b-4eb3-b02e-2a3e71446f9f",
   "metadata": {},
   "outputs": [
    {
     "name": "stdout",
     "output_type": "stream",
     "text": [
      "Resul of the matrix Multiplication:- [[ 30  70 110]\n",
      " [ 70 174 278]\n",
      " [110 278 446]]\n"
     ]
    }
   ],
   "source": [
    "#==> 2.Matrix Multiplication\n",
    "A2 = np.array([[1, 2, 3, 4], [5, 6, 7, 8],[9, 10, 11, 12]]\n",
    ")\n",
    "B2 = np.array([[1, 2, 3, 4],[5, 6, 7, 8],[9, 10, 11, 12]])\n",
    "\n",
    "result = np.dot(A2, B2.T) # Or equivalently, result = A2 @ B2.T\n",
    "print(\"Resul of the matrix Multiplication:-\", result)"
   ]
  },
  {
   "cell_type": "code",
   "execution_count": 30,
   "id": "22514d36-5980-4b37-8a18-2ea05f1b7dd9",
   "metadata": {},
   "outputs": [
    {
     "name": "stdout",
     "output_type": "stream",
     "text": [
      "[[ 2  4  6  8]\n",
      " [10 12 14 16]\n",
      " [18 20 22 24]]\n"
     ]
    }
   ],
   "source": [
    "#==> Add both the matrics \n",
    "A2 = np.array([[1, 2, 3, 4], [5, 6, 7, 8],[9, 10, 11, 12]]\n",
    ")\n",
    "B2 = np.array([[1, 2, 3, 4],[5, 6, 7, 8],[9, 10, 11, 12]])\n",
    "result = A2+B2\n",
    "print(result)"
   ]
  },
  {
   "cell_type": "code",
   "execution_count": 31,
   "id": "191f1c10-3ca6-44f9-b179-79cc30f0452e",
   "metadata": {},
   "outputs": [
    {
     "name": "stdout",
     "output_type": "stream",
     "text": [
      "[[0 0 0 0]\n",
      " [0 0 0 0]\n",
      " [0 0 0 0]]\n"
     ]
    }
   ],
   "source": [
    "#==> Subtract matrix B from A\n",
    "A2 = np.array([[1, 2, 3, 4], [5, 6, 7, 8],[9, 10, 11, 12]]\n",
    ")\n",
    "B2 = np.array([[1, 2, 3, 4],[5, 6, 7, 8],[9, 10, 11, 12]])\n",
    "\n",
    "result = B2-A2\n",
    "print(result)"
   ]
  },
  {
   "cell_type": "code",
   "execution_count": 32,
   "id": "ff2fd993-597b-482b-98cf-781533190883",
   "metadata": {},
   "outputs": [
    {
     "name": "stdout",
     "output_type": "stream",
     "text": [
      "[[1. 1. 1. 1.]\n",
      " [1. 1. 1. 1.]\n",
      " [1. 1. 1. 1.]]\n"
     ]
    }
   ],
   "source": [
    "#==> Divide Matrix B by A.\n",
    "A2 = np.array([[1, 2, 3, 4], [5, 6, 7, 8],[9, 10, 11, 12]]\n",
    ")\n",
    "B2 = np.array([[1, 2, 3, 4],[5, 6, 7, 8],[9, 10, 11, 12]])\n",
    "\n",
    "result = B2/A2\n",
    "print(result)"
   ]
  },
  {
   "cell_type": "markdown",
   "id": "953e8698-cdde-4309-9160-82bd5cdb5f04",
   "metadata": {},
   "source": [
    "Q12:- Which function in Numpy can be used to swap the byte order of an array?"
   ]
  },
  {
   "cell_type": "markdown",
   "id": "cf470634-4508-485c-aa82-2134188e768a",
   "metadata": {},
   "source": [
    "Ans: ==> Byteswap() function in Numpy is used to swap the byte order of  an Array. "
   ]
  },
  {
   "cell_type": "code",
   "execution_count": null,
   "id": "f2c5a3b4-8e39-4af8-9c1a-60c42057af4f",
   "metadata": {},
   "outputs": [],
   "source": []
  },
  {
   "cell_type": "markdown",
   "id": "69d5b4a6-4b34-474a-85a0-1cb5a7c0427f",
   "metadata": {},
   "source": [
    "Q13:-  What is the significance of the np.linalg.inv function?"
   ]
  },
  {
   "cell_type": "markdown",
   "id": "2aa91f86-c854-4c6c-a078-629027d96673",
   "metadata": {},
   "source": [
    "The np.linalg.inv function in NumPy is used to compute the multiplicative inverse of a square matrix. Specifically, if you have a square matrix A, the result of np.linalg.inv(A) will be another matrix B such that the product of A and B results in the identity matrix."
   ]
  },
  {
   "cell_type": "code",
   "execution_count": null,
   "id": "726f0b40-7ad2-4f68-b2a3-c4203eabbd86",
   "metadata": {},
   "outputs": [],
   "source": []
  },
  {
   "cell_type": "markdown",
   "id": "460b7344-cd35-4f25-b19b-199237cc1b07",
   "metadata": {},
   "source": [
    "14. What does the np.reshape function do, and how is it used?"
   ]
  },
  {
   "cell_type": "markdown",
   "id": "8a7f30a8-a4f0-405e-a6ea-8fcb701fa7dd",
   "metadata": {},
   "source": [
    "Ans:==> \n",
    "The np.reshape function in NumPy is used to change the shape of an array without changing its data. It allows you to rearrange the elements of an array into a new shape, as long as the total number of elements remains the same."
   ]
  },
  {
   "cell_type": "code",
   "execution_count": null,
   "id": "4b31b0d4-3fe4-4664-8a67-16d90fad7a32",
   "metadata": {},
   "outputs": [],
   "source": []
  },
  {
   "cell_type": "markdown",
   "id": "ba08a6c0-3f4c-4b59-862c-f687f2b43cc4",
   "metadata": {},
   "source": [
    "15. What is broadcasting in Numpy?"
   ]
  },
  {
   "cell_type": "markdown",
   "id": "83aa9ee4-2c11-4636-a2be-cf2bd2801a3a",
   "metadata": {},
   "source": [
    "Ans:==> Broadcasting is a powerful mechanism in NumPy, a popular Python library for numerical computing, that allows arrays of different shapes to be combined together in arithmetic operations. When performing element-wise operations between arrays, NumPy compares their shapes element-wise, starting from the trailing dimensions and working its way forward. "
   ]
  },
  {
   "cell_type": "code",
   "execution_count": null,
   "id": "8a53c173-061c-42f0-a821-9a44d111ab70",
   "metadata": {},
   "outputs": [],
   "source": []
  }
 ],
 "metadata": {
  "kernelspec": {
   "display_name": "Python 3 (ipykernel)",
   "language": "python",
   "name": "python3"
  },
  "language_info": {
   "codemirror_mode": {
    "name": "ipython",
    "version": 3
   },
   "file_extension": ".py",
   "mimetype": "text/x-python",
   "name": "python",
   "nbconvert_exporter": "python",
   "pygments_lexer": "ipython3",
   "version": "3.10.8"
  }
 },
 "nbformat": 4,
 "nbformat_minor": 5
}
