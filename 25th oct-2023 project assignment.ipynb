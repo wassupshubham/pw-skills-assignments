{
 "cells": [
  {
   "cell_type": "markdown",
   "id": "ecf2479c-21be-48c6-9e74-d2c6250048be",
   "metadata": {},
   "source": [
    "Advance Python Project Assignment:"
   ]
  },
  {
   "cell_type": "markdown",
   "id": "a4a2b6e9-9d58-4be4-a5ff-925fa8e806a7",
   "metadata": {},
   "source": [
    "ques1. Build a Flask app that scrapes data from multiple websites and displays it on your site.\n",
    "You can try to scrap websites like youtube , amazon and show data on output pages and deploy it on cloud\n",
    "platform ."
   ]
  },
  {
   "cell_type": "markdown",
   "id": "506f871e-947e-4a92-a209-9c8c9880c3c1",
   "metadata": {},
   "source": [
    "Creating a Flask app that scrapes data from websites like YouTube and Amazon involves several steps. Here's a high-level overview of how you might approach this:\n",
    "\n",
    "1. Setup Flask Application\n",
    "Install Flask and other necessary packages:"
   ]
  },
  {
   "cell_type": "code",
   "execution_count": null,
   "id": "3f3df1d9-5ecd-455b-8f7b-bbf36c64a8f1",
   "metadata": {},
   "outputs": [],
   "source": [
    "pip install Flask requests beautifulsoup4\n"
   ]
  },
  {
   "cell_type": "code",
   "execution_count": null,
   "id": "1ca16b96-e46f-463b-8872-6f7544f8ea3c",
   "metadata": {},
   "outputs": [],
   "source": [
    "from flask import Flask, render_template\n",
    "app = Flask(__name__)\n",
    "\n",
    "@app.route('/')\n",
    "def index():\n",
    "    return \"Welcome to the Web Scraper!\"\n",
    "\n",
    "if __name__ == '__main__':\n",
    "    app.run(debug=True)\n"
   ]
  },
  {
   "cell_type": "markdown",
   "id": "df6e2b25-3dff-4356-8ab2-496752c8d653",
   "metadata": {},
   "source": [
    "2. Scrape Data\n",
    "Install scraping librarie"
   ]
  },
  {
   "cell_type": "code",
   "execution_count": null,
   "id": "012c5b8e-5820-4e44-b7dc-e3d087acbaa3",
   "metadata": {},
   "outputs": [],
   "source": [
    "pip install requests beautifulsoup4\n"
   ]
  },
  {
   "cell_type": "markdown",
   "id": "4877d3e4-eddb-4b93-b58f-e02d6a95d913",
   "metadata": {},
   "source": [
    "Scraping YouTube (example using YouTube API):\n",
    "YouTube scraping is typically done through the YouTube Data API. First, you'll need an API key.\n",
    "\n",
    "Get API Key: Sign up for a project on Google Cloud Console, enable the YouTube Data API, and get an API key.\n",
    "Use the API to get data:"
   ]
  },
  {
   "cell_type": "code",
   "execution_count": null,
   "id": "415ea951-a615-4f7f-a791-1ff75e965edf",
   "metadata": {},
   "outputs": [],
   "source": [
    "import requests\n",
    "\n",
    "def get_youtube_data(api_key, query):\n",
    "    url = f\"https://www.googleapis.com/youtube/v3/search?part=snippet&q={query}&key={api_key}\"\n",
    "    response = requests.get(url)\n",
    "    return response.json()\n"
   ]
  },
  {
   "cell_type": "markdown",
   "id": "462bbb32-25b9-4d23-a426-ddd3f4e6e78b",
   "metadata": {},
   "source": [
    "Scraping Amazon:\n",
    "Amazon’s terms of service prohibit scraping. Instead, use the Amazon Product Advertising API:\n",
    "\n",
    "Get Access: Sign up for the Amazon Product Advertising API.\n",
    "\n",
    "Example using the API:"
   ]
  },
  {
   "cell_type": "code",
   "execution_count": null,
   "id": "720f4f15-aaf6-4ff4-81f4-b07849a18e0f",
   "metadata": {},
   "outputs": [],
   "source": [
    "import requests\n",
    "from requests.auth import HTTPBasicAuth\n",
    "\n",
    "def get_amazon_data(access_key, secret_key, associate_tag, query):\n",
    "    url = f\"https://api.amazon.com/products?search={query}&access_key={access_key}&secret_key={secret_key}&associate_tag={associate_tag}\"\n",
    "    response = requests.get(url, auth=HTTPBasicAuth(access_key, secret_key))\n",
    "    return response.json()\n"
   ]
  },
  {
   "cell_type": "markdown",
   "id": "fc9b5ac3-9e57-4968-a6c2-a652a786c855",
   "metadata": {},
   "source": [
    "3. Integrate Scraping with Flask\n",
    "Update Flask routes to include scraped data"
   ]
  },
  {
   "cell_type": "code",
   "execution_count": null,
   "id": "7fdd1847-9c4e-4b5e-a58b-d9da824b1f3d",
   "metadata": {},
   "outputs": [],
   "source": [
    "from flask import Flask, render_template\n",
    "import requests\n",
    "\n",
    "app = Flask(__name__)\n",
    "\n",
    "def get_youtube_data(api_key, query):\n",
    "    url = f\"https://www.googleapis.com/youtube/v3/search?part=snippet&q={query}&key={api_key}\"\n",
    "    response = requests.get(url)\n",
    "    return response.json()\n",
    "\n",
    "def get_amazon_data(access_key, secret_key, associate_tag, query):\n",
    "    url = f\"https://api.amazon.com/products?search={query}&access_key={access_key}&secret_key={secret_key}&associate_tag={associate_tag}\"\n",
    "    response = requests.get(url)\n",
    "    return response.json()\n",
    "\n",
    "@app.route('/')\n",
    "def index():\n",
    "    youtube_data = get_youtube_data('YOUR_YOUTUBE_API_KEY', 'Python programming')\n",
    "    amazon_data = get_amazon_data('YOUR_ACCESS_KEY', 'YOUR_SECRET_KEY', 'YOUR_ASSOCIATE_TAG', 'Python programming')\n",
    "    return render_template('index.html', youtube_data=youtube_data, amazon_data=amazon_data)\n",
    "\n",
    "if __name__ == '__main__':\n",
    "    app.run(debug=True)\n"
   ]
  },
  {
   "cell_type": "code",
   "execution_count": null,
   "id": "5ca83ff1-0a89-4efa-95d6-b95403fd5a9a",
   "metadata": {},
   "outputs": [],
   "source": [
    "<!DOCTYPE html>\n",
    "<html>\n",
    "<head>\n",
    "    <title>Web Scraper</title>\n",
    "</head>\n",
    "<body>\n",
    "    <h1>YouTube Data</h1>\n",
    "    <ul>\n",
    "        {% for item in youtube_data['items'] %}\n",
    "            <li>{{ item['snippet']['title'] }}</li>\n",
    "        {% endfor %}\n",
    "    </ul>\n",
    "    \n",
    "    <h1>Amazon Data</h1>\n",
    "    <ul>\n",
    "        {% for item in amazon_data['products'] %}\n",
    "            <li>{{ item['title'] }} - {{ item['price'] }}</li>\n",
    "        {% endfor %}\n",
    "    </ul>\n",
    "</body>\n",
    "</html>\n"
   ]
  },
  {
   "cell_type": "markdown",
   "id": "4b239896-a0aa-4e87-b966-ae016dd20f10",
   "metadata": {},
   "source": [
    "4. Deploy the Flask App\n",
    "To deploy the app, you can use platforms like Heroku, AWS, or Google Cloud Platform. Here’s a quick guide for deploying to Heroku:\n",
    "\n",
    "Install Heroku CLI: Follow instructions on Heroku Dev Center.\n",
    "\n",
    "Create a Procfile"
   ]
  },
  {
   "cell_type": "code",
   "execution_count": null,
   "id": "31f3f2a8-3106-4753-93d3-183a7764defd",
   "metadata": {},
   "outputs": [],
   "source": [
    "web: python app.py\n"
   ]
  },
  {
   "cell_type": "code",
   "execution_count": null,
   "id": "909cef52-f494-4fe7-8598-67da8d2b766a",
   "metadata": {},
   "outputs": [],
   "source": [
    "git init\n",
    "git add .\n",
    "git commit -m \"Initial commit\"\n",
    "heroku create\n",
    "git push heroku master\n"
   ]
  },
  {
   "cell_type": "code",
   "execution_count": null,
   "id": "e71cea17-970e-432e-8b51-201ae4e83339",
   "metadata": {},
   "outputs": [],
   "source": [
    "heroku config:set YOUTUBE_API_KEY=your_key\n",
    "heroku config:set AMAZON_ACCESS_KEY=your_key\n",
    "heroku config:set AMAZON_SECRET_KEY=your_key\n",
    "heroku config:set AMAZON_ASSOCIATE_TAG=your_tag\n"
   ]
  },
  {
   "cell_type": "code",
   "execution_count": null,
   "id": "a341ea14-b66a-4b1d-8528-4524f5b5f397",
   "metadata": {},
   "outputs": [],
   "source": [
    "heroku open\n"
   ]
  },
  {
   "cell_type": "markdown",
   "id": "74b1f521-d5e7-4b0c-b738-262782356cc2",
   "metadata": {},
   "source": [
    "ques2. Create a Flask app that consumes data from external APIs and displays it to users.\n",
    "Try to find an public API which will give you a data and based on that call it and deploy it on cloud platform"
   ]
  },
  {
   "cell_type": "markdown",
   "id": "7095a490-f8e7-43f5-a831-6667ffb7668d",
   "metadata": {},
   "source": [
    "1. Setup Flask Application\n",
    "Install Flask and requests library:"
   ]
  },
  {
   "cell_type": "code",
   "execution_count": null,
   "id": "3ea619dc-e6e7-4cad-b368-fa1b4883bbed",
   "metadata": {},
   "outputs": [],
   "source": [
    "pip install Flask requests\n"
   ]
  },
  {
   "cell_type": "code",
   "execution_count": null,
   "id": "37403103-9e31-43f6-b64c-7f4cf30668bc",
   "metadata": {},
   "outputs": [],
   "source": [
    "from flask import Flask, render_template, request\n",
    "import requests\n",
    "\n",
    "app = Flask(__name__)\n",
    "\n",
    "# Replace with your OpenWeatherMap API key\n",
    "API_KEY = 'YOUR_OPENWEATHERMAP_API_KEY'\n",
    "\n",
    "@app.route('/', methods=['GET', 'POST'])\n",
    "def index():\n",
    "    weather_data = None\n",
    "    if request.method == 'POST':\n",
    "        city = request.form.get('city')\n",
    "        if city:\n",
    "            weather_data = get_weather_data(city)\n",
    "    return render_template('index.html', weather_data=weather_data)\n",
    "\n",
    "def get_weather_data(city):\n",
    "    url = f'http://api.openweathermap.org/data/2.5/weather?q={city}&appid={API_KEY}&units=metric'\n",
    "    response = requests.get(url)\n",
    "    return response.json()\n",
    "\n",
    "if __name__ == '__main__':\n",
    "    app.run(debug=True)\n"
   ]
  },
  {
   "cell_type": "markdown",
   "id": "dd6f5dd1-5220-4cfd-98ed-cca748289582",
   "metadata": {},
   "source": [
    "2. Create HTML Template\n",
    "Create a folder named templates in the same directory as app.py. Inside this folder, create a file named index.html:"
   ]
  },
  {
   "cell_type": "code",
   "execution_count": null,
   "id": "d0e83ac0-209e-4cac-b2af-a3951a7fbcc7",
   "metadata": {},
   "outputs": [],
   "source": [
    "<!DOCTYPE html>\n",
    "<html lang=\"en\">\n",
    "<head>\n",
    "    <meta charset=\"UTF-8\">\n",
    "    <meta name=\"viewport\" content=\"width=device-width, initial-scale=1.0\">\n",
    "    <title>Weather App</title>\n",
    "</head>\n",
    "<body>\n",
    "    <h1>Weather App</h1>\n",
    "    <form method=\"post\">\n",
    "        <input type=\"text\" name=\"city\" placeholder=\"Enter city name\" required>\n",
    "        <button type=\"submit\">Get Weather</button>\n",
    "    </form>\n",
    "    \n",
    "    {% if weather_data %}\n",
    "        <h2>Weather in {{ weather_data['name'] }}</h2>\n",
    "        <p>Temperature: {{ weather_data['main']['temp'] }}°C</p>\n",
    "        <p>Weather: {{ weather_data['weather'][0]['description'] }}</p>\n",
    "    {% endif %}\n",
    "</body>\n",
    "</html>\n"
   ]
  },
  {
   "cell_type": "markdown",
   "id": "7af8c3c8-2d3c-489d-9b67-df3baa7ddff5",
   "metadata": {},
   "source": [
    "3. Deploy the Flask App\n",
    "To deploy the Flask app on Heroku, follow these steps:\n",
    "\n",
    "* Install the Heroku CLI:\n",
    "Follow the instructions on Heroku Dev Center.\n",
    "\n",
    "* Create a Procfile:\n",
    "In the same directory as app.py, create a file named Procfile with the following content"
   ]
  },
  {
   "cell_type": "code",
   "execution_count": null,
   "id": "811dabb7-d44d-457c-9e99-921ea379cc69",
   "metadata": {},
   "outputs": [],
   "source": [
    "web: python app.py\n"
   ]
  },
  {
   "cell_type": "code",
   "execution_count": null,
   "id": "8d23c67c-4230-47f8-860c-aca0e839b588",
   "metadata": {},
   "outputs": [],
   "source": [
    "git init\n",
    "git add .\n",
    "git commit -m \"Initial commit\"\n",
    "heroku create\n",
    "git push heroku master\n"
   ]
  },
  {
   "cell_type": "code",
   "execution_count": null,
   "id": "f5c1a227-0d2c-43ed-a8b6-2c3a498ebf6e",
   "metadata": {},
   "outputs": [],
   "source": [
    "heroku config:set OPENWEATHERMAP_API_KEY=your_openweathermap_api_key\n"
   ]
  },
  {
   "cell_type": "code",
   "execution_count": null,
   "id": "d76b906b-02d7-41ec-a998-e521d98cf3c5",
   "metadata": {},
   "outputs": [],
   "source": [
    "heroku open\n",
    "\n"
   ]
  },
  {
   "cell_type": "markdown",
   "id": "3aa1bf4b-1b76-4e0e-a6e6-a8c57b987609",
   "metadata": {},
   "source": [
    "Notes\n",
    "\n",
    "Replace YOUR_OPENWEATHERMAP_API_KEY in app.py with your actual API key from OpenWeatherMap.\n",
    "\n",
    "Ensure you have a requirements.txt file for Heroku to know what Python packages to install. Create it with:"
   ]
  },
  {
   "cell_type": "code",
   "execution_count": null,
   "id": "04f16672-7fae-4ca6-b911-989aea39e666",
   "metadata": {},
   "outputs": [],
   "source": [
    "pip freeze > requirements.txt\n"
   ]
  },
  {
   "cell_type": "code",
   "execution_count": null,
   "id": "96d2d2e8-fd74-4b36-a34d-465df7aaa220",
   "metadata": {},
   "outputs": [],
   "source": [
    "Flask==2.3.0\n",
    "requests==2.28.1\n"
   ]
  },
  {
   "cell_type": "markdown",
   "id": "5ef9283f-35af-49c4-9784-22f6f7f33063",
   "metadata": {},
   "source": [
    "Handle API Errors: In a production app, you should handle cases where the API request fails or returns an error. You can check for response.status_code or examine the API response to handle such cases gracefully.\n",
    "\n",
    "\n",
    "\n",
    "\n"
   ]
  },
  {
   "cell_type": "markdown",
   "id": "edb446d3-2242-4f2d-b787-4dab539dc8f6",
   "metadata": {},
   "source": [
    "ques3. Implement OAuth2 authentication to allow users to log in using their Google or Facebook accounts."
   ]
  },
  {
   "cell_type": "markdown",
   "id": "abac67b9-f2d1-4a6e-acbf-ff1e000b160e",
   "metadata": {},
   "source": [
    "To implement OAuth2 authentication with Google or Facebook in a Flask app, you can use the Authlib library for integration, along with Flask. Here’s a step-by-step guide to add OAuth2 authentication to your Flask app"
   ]
  },
  {
   "cell_type": "markdown",
   "id": "ff3b6095-32ce-4744-90e2-0bcb78cd808b",
   "metadata": {},
   "source": [
    "1. Setup Flask Application\n",
    "Install Flask, Authlib, and Flask-Login:"
   ]
  },
  {
   "cell_type": "code",
   "execution_count": null,
   "id": "5e344875-faa2-4279-9b2f-3d5c0e46214b",
   "metadata": {},
   "outputs": [],
   "source": [
    "pip install Flask Authlib Flask-Login\n"
   ]
  },
  {
   "cell_type": "markdown",
   "id": "d795b47c-380c-4c1f-8e27-3c5d0702e058",
   "metadata": {},
   "source": [
    "2. Create a Basic Flask App with OAuth2\n",
    "Create a file named app.py:"
   ]
  },
  {
   "cell_type": "code",
   "execution_count": null,
   "id": "9c1df837-4653-4514-b405-0bd4bc1097cf",
   "metadata": {},
   "outputs": [],
   "source": [
    "from flask import Flask, redirect, url_for, session, render_template\n",
    "from flask_login import LoginManager, UserMixin, login_user, logout_user, current_user, login_required\n",
    "from authlib.integrations.flask_client import OAuth\n",
    "import os\n",
    "\n",
    "app = Flask(__name__)\n",
    "app.secret_key = os.environ.get('SECRET_KEY', 'supersecretkey')\n",
    "\n",
    "# Configuration for OAuth\n",
    "app.config['GOOGLE_CLIENT_ID'] = os.environ.get('GOOGLE_CLIENT_ID')\n",
    "app.config['GOOGLE_CLIENT_SECRET'] = os.environ.get('GOOGLE_CLIENT_SECRET')\n",
    "app.config['FACEBOOK_CLIENT_ID'] = os.environ.get('FACEBOOK_CLIENT_ID')\n",
    "app.config['FACEBOOK_CLIENT_SECRET'] = os.environ.get('FACEBOOK_CLIENT_SECRET')\n",
    "\n",
    "oauth = OAuth(app)\n",
    "login_manager = LoginManager(app)\n",
    "login_manager.login_view = 'login'\n",
    "\n",
    "# Setup OAuth providers\n",
    "google = oauth.register(\n",
    "    'google',\n",
    "    client_id=app.config['GOOGLE_CLIENT_ID'],\n",
    "    client_secret=app.config['GOOGLE_CLIENT_SECRET'],\n",
    "    authorize_url='https://accounts.google.com/o/oauth2/auth',\n",
    "    authorize_params=None,\n",
    "    access_token_url='https://accounts.google.com/o/oauth2/token',\n",
    "    access_token_params=None,\n",
    "    refresh_token_url=None,\n",
    "    redirect_uri='http://localhost:5000/google/callback',\n",
    "    client_kwargs={'scope': 'openid profile email'}\n",
    ")\n",
    "\n",
    "facebook = oauth.register(\n",
    "    'facebook',\n",
    "    client_id=app.config['FACEBOOK_CLIENT_ID'],\n",
    "    client_secret=app.config['FACEBOOK_CLIENT_SECRET'],\n",
    "    authorize_url='https://www.facebook.com/dialog/oauth',\n",
    "    authorize_params=None,\n",
    "    access_token_url='https://graph.facebook.com/oauth/access_token',\n",
    "    access_token_params=None,\n",
    "    refresh_token_url=None,\n",
    "    redirect_uri='http://localhost:5000/facebook/callback',\n",
    "    client_kwargs={'scope': 'email'}\n",
    ")\n",
    "\n",
    "# User model\n",
    "class User(UserMixin):\n",
    "    def __init__(self, id, name):\n",
    "        self.id = id\n",
    "        self.name = name\n",
    "\n",
    "@login_manager.user_loader\n",
    "def load_user(user_id):\n",
    "    return User(user_id, user_id)\n",
    "\n",
    "@app.route('/')\n",
    "def index():\n",
    "    return render_template('index.html')\n",
    "\n",
    "@app.route('/login')\n",
    "def login():\n",
    "    return render_template('login.html')\n",
    "\n",
    "@app.route('/login/google')\n",
    "def login_google():\n",
    "    redirect_uri = url_for('google_callback', _external=True)\n",
    "    return google.authorize_redirect(redirect_uri)\n",
    "\n",
    "@app.route('/login/facebook')\n",
    "def login_facebook():\n",
    "    redirect_uri = url_for('facebook_callback', _external=True)\n",
    "    return facebook.authorize_redirect(redirect_uri)\n",
    "\n",
    "@app.route('/google/callback')\n",
    "def google_callback():\n",
    "    token = google.authorize_access_token()\n",
    "    user_info = google.parse_id_token(token)\n",
    "    user = User(user_info['sub'], user_info['name'])\n",
    "    login_user(user)\n",
    "    return redirect('/profile')\n",
    "\n",
    "@app.route('/facebook/callback')\n",
    "def facebook_callback():\n",
    "    token = facebook.authorize_access_token()\n",
    "    user_info = facebook.get('me?fields=id,name,email').json()\n",
    "    user = User(user_info['id'], user_info['name'])\n",
    "    login_user(user)\n",
    "    return redirect('/profile')\n",
    "\n",
    "@app.route('/profile')\n",
    "@login_required\n",
    "def profile():\n",
    "    return f'Hello, {current_user.name}!'\n",
    "\n",
    "@app.route('/logout')\n",
    "@login_required\n",
    "def logout():\n",
    "    logout_user()\n",
    "    return redirect('/')\n",
    "\n",
    "if __name__ == '__main__':\n",
    "    app.run(debug=True)\n"
   ]
  },
  {
   "cell_type": "markdown",
   "id": "f229863b-f069-48da-867a-0c43f2f88dbf",
   "metadata": {},
   "source": [
    "3. Create HTML Templates\n",
    "Create a folder named templates and add the following files:"
   ]
  },
  {
   "cell_type": "code",
   "execution_count": null,
   "id": "369df1aa-cad7-4c11-930e-39595ad42f82",
   "metadata": {},
   "outputs": [],
   "source": [
    "<!DOCTYPE html>\n",
    "<html lang=\"en\">\n",
    "<head>\n",
    "    <meta charset=\"UTF-8\">\n",
    "    <meta name=\"viewport\" content=\"width=device-width, initial-scale=1.0\">\n",
    "    <title>OAuth2 Demo</title>\n",
    "</head>\n",
    "<body>\n",
    "    <h1>Welcome to the OAuth2 Demo</h1>\n",
    "    <a href=\"{{ url_for('login') }}\">Login</a>\n",
    "</body>\n",
    "</html>\n"
   ]
  },
  {
   "cell_type": "code",
   "execution_count": null,
   "id": "3a5e8514-79a7-448e-ae2a-ee894b7e372a",
   "metadata": {},
   "outputs": [],
   "source": [
    "<!DOCTYPE html>\n",
    "<html lang=\"en\">\n",
    "<head>\n",
    "    <meta charset=\"UTF-8\">\n",
    "    <meta name=\"viewport\" content=\"width=device-width, initial-scale=1.0\">\n",
    "    <title>Login</title>\n",
    "</head>\n",
    "<body>\n",
    "    <h1>Login</h1>\n",
    "    <a href=\"{{ url_for('login_google') }}\">Login with Google</a><br>\n",
    "    <a href=\"{{ url_for('login_facebook') }}\">Login with Facebook</a>\n",
    "</body>\n",
    "</html>\n"
   ]
  },
  {
   "cell_type": "markdown",
   "id": "ebd0e36b-ced5-4032-ae41-8f7ffb231109",
   "metadata": {},
   "source": [
    "4. Set Up Environment Variables\n",
    "For security reasons, store sensitive information such as client secrets and keys in environment variables."
   ]
  },
  {
   "cell_type": "code",
   "execution_count": null,
   "id": "10fc1dd6-ede0-4d1c-ac70-2bf84d519c70",
   "metadata": {},
   "outputs": [],
   "source": [
    "export SECRET_KEY='supersecretkey'\n",
    "export GOOGLE_CLIENT_ID='your-google-client-id'\n",
    "export GOOGLE_CLIENT_SECRET='your-google-client-secret'\n",
    "export FACEBOOK_CLIENT_ID='your-facebook-client-id'\n",
    "export FACEBOOK_CLIENT_SECRET='your-facebook-client-secret'\n"
   ]
  },
  {
   "cell_type": "markdown",
   "id": "1bbfed0d-61d9-45e2-a13f-56e1c7cf213a",
   "metadata": {},
   "source": [
    "5. Deploy the Flask App\n",
    "To deploy the app, you can use a cloud platform like Heroku:\n",
    "\n",
    "* Install Heroku CLI: Follow the instructions on Heroku Dev Center.\n",
    "\n",
    "* Create a Procfile: In the same directory as app.py, create a file named Procfile with"
   ]
  },
  {
   "cell_type": "code",
   "execution_count": null,
   "id": "c319061c-bc57-4278-b297-84a074f515cc",
   "metadata": {},
   "outputs": [],
   "source": [
    "web: python app.py\n"
   ]
  },
  {
   "cell_type": "code",
   "execution_count": null,
   "id": "f27d2ad8-92eb-475c-ac38-5747bec1186b",
   "metadata": {},
   "outputs": [],
   "source": [
    "git init\n",
    "git add .\n",
    "git commit -m \"Initial commit\"\n",
    "heroku create\n",
    "heroku config:set SECRET_KEY=supersecretkey\n",
    "heroku config:set GOOGLE_CLIENT_ID=your-google-client-id\n",
    "heroku config:set GOOGLE_CLIENT_SECRET=your-google-client-secret\n",
    "heroku config:set FACEBOOK_CLIENT_ID=your-facebook-client-id\n",
    "heroku config:set FACEBOOK_CLIENT_SECRET=your-facebook-client-secret\n",
    "git push heroku master\n"
   ]
  },
  {
   "cell_type": "code",
   "execution_count": null,
   "id": "d3e8f9c4-2726-496e-be38-d82f27f44292",
   "metadata": {},
   "outputs": [],
   "source": [
    "heroku open\n"
   ]
  },
  {
   "cell_type": "markdown",
   "id": "b2fa9d06-8509-4bd8-bf71-3ae9832ad75f",
   "metadata": {},
   "source": [
    "ques4. Develop a recommendation system using Flask that suggests content to users based on their preferences."
   ]
  },
  {
   "cell_type": "markdown",
   "id": "c1e023d1-233e-4376-bcee-bd49dcaf6ced",
   "metadata": {},
   "source": [
    "Developing a recommendation system using Flask involves several components: collecting user preferences, generating recommendations based on those preferences, and then displaying the results to users. For this example, we’ll build a simple content-based recommendation system using Flask.\n",
    "\n",
    "Here's a step-by-step guide to help you get started:\n",
    "\n",
    "1. Setup Flask Application\n",
    "Install Flask and necessary libraries:"
   ]
  },
  {
   "cell_type": "code",
   "execution_count": null,
   "id": "355acce9-e889-449d-8cec-25b6c155669d",
   "metadata": {},
   "outputs": [],
   "source": [
    "pip install Flask pandas scikit-learn\n"
   ]
  },
  {
   "cell_type": "code",
   "execution_count": null,
   "id": "2ada9a07-d3be-4931-bc3f-3bfda91ebf29",
   "metadata": {},
   "outputs": [],
   "source": [
    "from flask import Flask, render_template, request\n",
    "import pandas as pd\n",
    "from sklearn.feature_extraction.text import TfidfVectorizer\n",
    "from sklearn.metrics.pairwise import linear_kernel\n",
    "\n",
    "app = Flask(__name__)\n",
    "\n",
    "# Sample content data\n",
    "data = {\n",
    "    'id': [1, 2, 3, 4, 5],\n",
    "    'title': ['The Great Gatsby', 'To Kill a Mockingbird', '1984', 'Pride and Prejudice', 'The Catcher in the Rye'],\n",
    "    'genre': ['Classic Fiction', 'Classic Fiction', 'Dystopian', 'Classic Fiction', 'Classic Fiction'],\n",
    "    'description': [\n",
    "        'A story about the Jazz Age in the 1920s.',\n",
    "        'A novel about racial injustice in the American South.',\n",
    "        'A dystopian novel set in a totalitarian society.',\n",
    "        'A romance set in the early 19th century England.',\n",
    "        'A story about teenage angst and rebellion.'\n",
    "    ]\n",
    "}\n",
    "\n",
    "df = pd.DataFrame(data)\n",
    "\n",
    "# Create a TF-IDF Vectorizer\n",
    "tfidf = TfidfVectorizer(stop_words='english')\n",
    "tfidf_matrix = tfidf.fit_transform(df['description'])\n",
    "cosine_sim = linear_kernel(tfidf_matrix, tfidf_matrix)\n",
    "\n",
    "@app.route('/')\n",
    "def index():\n",
    "    return render_template('index.html', titles=df['title'].tolist())\n",
    "\n",
    "@app.route('/recommend', methods=['POST'])\n",
    "def recommend():\n",
    "    selected_title = request.form.get('title')\n",
    "    recommendations = get_recommendations(selected_title)\n",
    "    return render_template('recommendations.html', recommendations=recommendations)\n",
    "\n",
    "def get_recommendations(title):\n",
    "    idx = df.index[df['title'] == title].tolist()[0]\n",
    "    sim_scores = list(enumerate(cosine_sim[idx]))\n",
    "    sim_scores = sorted(sim_scores, key=lambda x: x[1], reverse=True)\n",
    "    sim_scores = sim_scores[1:4]  # Get top 3 recommendations\n",
    "    book_indices = [i[0] for i in sim_scores]\n",
    "    return df[['title', 'description']].iloc[book_indices]\n",
    "\n",
    "if __name__ == '__main__':\n",
    "    app.run(debug=True)\n"
   ]
  },
  {
   "cell_type": "markdown",
   "id": "91d19a72-d038-4098-aabf-9d31ca91cf98",
   "metadata": {},
   "source": [
    "2. Create HTML Templates\n",
    "Create a folder named templates in the same directory as app.py. Inside this folder, create the following HTML files:"
   ]
  },
  {
   "cell_type": "code",
   "execution_count": null,
   "id": "e73c7f48-b446-4543-b707-3aaaf96e4dc4",
   "metadata": {},
   "outputs": [],
   "source": [
    "<!DOCTYPE html>\n",
    "<html lang=\"en\">\n",
    "<head>\n",
    "    <meta charset=\"UTF-8\">\n",
    "    <meta name=\"viewport\" content=\"width=device-width, initial-scale=1.0\">\n",
    "    <title>Recommendation System</title>\n",
    "</head>\n",
    "<body>\n",
    "    <h1>Welcome to the Recommendation System</h1>\n",
    "    <form action=\"{{ url_for('recommend') }}\" method=\"post\">\n",
    "        <label for=\"title\">Select a book:</label>\n",
    "        <select name=\"title\" id=\"title\">\n",
    "            {% for title in titles %}\n",
    "                <option value=\"{{ title }}\">{{ title }}</option>\n",
    "            {% endfor %}\n",
    "        </select>\n",
    "        <button type=\"submit\">Get Recommendations</button>\n",
    "    </form>\n",
    "</body>\n",
    "</html>\n"
   ]
  },
  {
   "cell_type": "code",
   "execution_count": null,
   "id": "ac38db7b-e7ad-40ec-a496-3c4e30d6c197",
   "metadata": {},
   "outputs": [],
   "source": [
    "<!DOCTYPE html>\n",
    "<html lang=\"en\">\n",
    "<head>\n",
    "    <meta charset=\"UTF-8\">\n",
    "    <meta name=\"viewport\" content=\"width=device-width, initial-scale=1.0\">\n",
    "    <title>Recommendation System</title>\n",
    "</head>\n",
    "<body>\n",
    "    <h1>Welcome to the Recommendation System</h1>\n",
    "    <form action=\"{{ url_for('recommend') }}\" method=\"post\">\n",
    "        <label for=\"title\">Select a book:</label>\n",
    "        <select name=\"title\" id=\"title\">\n",
    "            {% for title in titles %}\n",
    "                <option value=\"{{ title }}\">{{ title }}</option>\n",
    "            {% endfor %}\n",
    "        </select>\n",
    "        <button type=\"submit\">Get Recommendations</button>\n",
    "    </form>\n",
    "</body>\n",
    "</html>\n"
   ]
  },
  {
   "cell_type": "markdown",
   "id": "79cd13a1-d870-4566-bbc6-aa0f84e99918",
   "metadata": {},
   "source": [
    "3. Run the Flask App\n",
    "To run the Flask app locally:"
   ]
  },
  {
   "cell_type": "code",
   "execution_count": null,
   "id": "4f8622c4-fa90-441a-913d-50b9586c5058",
   "metadata": {},
   "outputs": [],
   "source": [
    "python app.py\n"
   ]
  },
  {
   "cell_type": "markdown",
   "id": "9c1a6ecf-ba01-49d2-9bdc-a95485185ab1",
   "metadata": {},
   "source": [
    "You should see the Flask app running at http://127.0.0.1:5000/. You can select a book from the dropdown to get recommendations based on content similarity.\n",
    "\n",
    "4. Deploy the Flask App\n",
    "To deploy the app on Heroku, follow these steps:\n",
    "\n",
    "* Create a Procfile:\n",
    "In the same directory as app.py, create a file named Procfile with the following content:"
   ]
  },
  {
   "cell_type": "code",
   "execution_count": null,
   "id": "90166c49-616b-400d-a745-5cac5986de89",
   "metadata": {},
   "outputs": [],
   "source": [
    "web: python app.py\n"
   ]
  },
  {
   "cell_type": "code",
   "execution_count": null,
   "id": "8b0bccfd-012f-4766-a687-bb2a338cfc8b",
   "metadata": {},
   "outputs": [],
   "source": [
    "git init\n",
    "git add .\n",
    "git commit -m \"Initial commit\"\n",
    "heroku create\n",
    "git push heroku master\n"
   ]
  },
  {
   "cell_type": "code",
   "execution_count": null,
   "id": "a31cb621-66a1-4a04-94b6-77d7fdd7707a",
   "metadata": {},
   "outputs": [],
   "source": [
    "heroku open\n"
   ]
  },
  {
   "cell_type": "markdown",
   "id": "2442105c-6511-4366-a577-b6a70c9dc50b",
   "metadata": {},
   "source": [
    "Notes\n",
    "\n",
    "Dataset: In a real-world scenario, you would replace the sample data with a larger dataset from a database or an API.\n",
    "\n",
    "Recommendation Algorithm: This example uses a basic content-based recommendation approach. Depending on your needs, you might want to implement more advanced recommendation algorithms like collaborative filtering or hybrid methods.\n",
    "\n",
    "Security: Ensure you handle user data securely and follow best practices for deploying Flask apps.\n",
    "\n",
    "By following these steps, you'll have a functional recommendation system that provides content suggestions based on user-selected preferences."
   ]
  },
  {
   "cell_type": "code",
   "execution_count": null,
   "id": "fe9206ea-bff5-49ea-b9c3-5f66e23b034a",
   "metadata": {},
   "outputs": [],
   "source": []
  }
 ],
 "metadata": {
  "kernelspec": {
   "display_name": "Python 3 (ipykernel)",
   "language": "python",
   "name": "python3"
  },
  "language_info": {
   "codemirror_mode": {
    "name": "ipython",
    "version": 3
   },
   "file_extension": ".py",
   "mimetype": "text/x-python",
   "name": "python",
   "nbconvert_exporter": "python",
   "pygments_lexer": "ipython3",
   "version": "3.10.8"
  }
 },
 "nbformat": 4,
 "nbformat_minor": 5
}
