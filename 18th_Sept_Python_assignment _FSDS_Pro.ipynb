{
 "cells": [
  {
   "cell_type": "markdown",
   "id": "c382672b-f802-4eee-a39a-a5f0f674ada1",
   "metadata": {},
   "source": [
    "For Loop :-\n",
    "\n",
    "\n",
    "Q1:-Write a Python program to print numbers from 1 to 10 using a for loop."
   ]
  },
  {
   "cell_type": "code",
   "execution_count": null,
   "id": "4b486fc7-87e0-452c-93b4-2fbf287d21ef",
   "metadata": {},
   "outputs": [],
   "source": [
    "for i in range(1,11):\n",
    "    print(i)"
   ]
  },
  {
   "cell_type": "markdown",
   "id": "a629f97a-ffbd-4107-a021-2cb5e261e8bc",
   "metadata": {},
   "source": [
    "Q2:- Explain the difference between a for loop and a while loop in Python."
   ]
  },
  {
   "cell_type": "markdown",
   "id": "deae4b03-4206-4aee-a274-bc205dc10e5e",
   "metadata": {},
   "source": [
    "And ==>For loop is used when we know the value of range and we know how many times a program will run.\n",
    "\n",
    "==> while loop is used when we know the condition of the program but didn't know how many times a program will iterate."
   ]
  },
  {
   "cell_type": "markdown",
   "id": "92291de7-5ea5-419d-b7e3-095853719bf5",
   "metadata": {},
   "source": [
    "Q3:- Write a Python program to calculate the sum of all numbers from 1 to 100 using a for loop."
   ]
  },
  {
   "cell_type": "code",
   "execution_count": null,
   "id": "d82fcd78-1c03-41ca-96b7-3e78eb6dc1f8",
   "metadata": {},
   "outputs": [],
   "source": [
    "sum_num  = 0\n",
    "for i in range(0,101):\n",
    "    sum_num = sum_num+i\n",
    "print(sum_num)"
   ]
  },
  {
   "cell_type": "markdown",
   "id": "2033b7b1-8a3a-4c40-bb29-3139073191c6",
   "metadata": {},
   "source": [
    "Q4:- How do you iterate through a list using a for loop in Python?"
   ]
  },
  {
   "cell_type": "code",
   "execution_count": null,
   "id": "8930ba30-c935-400f-b2c8-48d23f9a2d19",
   "metadata": {},
   "outputs": [],
   "source": [
    "# to iterate over a list we use this code.\n",
    "list = [1, 3, 5, 7, 9]\n",
    "\n",
    "# Using for loop\n",
    "for i in list:\n",
    "\tprint(i)\n"
   ]
  },
  {
   "cell_type": "markdown",
   "id": "79542ef7-758d-4048-89c0-31d0e1412a22",
   "metadata": {},
   "source": [
    "Q5:- Write a Python program to find the product of all elements in a list using a for loop."
   ]
  },
  {
   "cell_type": "code",
   "execution_count": null,
   "id": "3ef684db-6776-4cef-97c8-0f81308b4712",
   "metadata": {},
   "outputs": [],
   "source": [
    "l1 = [1,2,3,4,5]\n",
    "product = 1\n",
    "for i in l1:\n",
    "    product = product*i\n",
    "print(\"Product of the list is \",product)"
   ]
  },
  {
   "cell_type": "markdown",
   "id": "60c59c04-6d55-4837-b6ed-2cf172ff1131",
   "metadata": {},
   "source": [
    "Q6:- Create a Python program that prints all even numbers from 1 to 20 using a for loop."
   ]
  },
  {
   "cell_type": "code",
   "execution_count": null,
   "id": "a2f2c681-cc53-4a6b-89ff-fcb18993bbce",
   "metadata": {},
   "outputs": [],
   "source": [
    "for i in range(0,21):\n",
    "    if i%2 == 0:\n",
    "        print(i, end = ' ')"
   ]
  },
  {
   "cell_type": "markdown",
   "id": "4c4c851c-9116-44ca-94d4-344549627f5b",
   "metadata": {},
   "source": [
    "Q7:- Write a Python program that calculates the factorial of a number using a for loop."
   ]
  },
  {
   "cell_type": "code",
   "execution_count": null,
   "id": "768c5180-462f-4cb2-8f06-655774f18a7e",
   "metadata": {},
   "outputs": [],
   "source": [
    "n = int(input(\"Enter a number:- \"))\n",
    "fact = 1\n",
    "for i in range(1,n+1):\n",
    "    fact = fact*i\n",
    "print(\"The factorial of the number\",n,\"is\",fact)"
   ]
  },
  {
   "cell_type": "markdown",
   "id": "e3bc4e0f-503b-4875-8219-4b352cc5b0ba",
   "metadata": {},
   "source": [
    "Q8:- How can you iterate through the characters of a string using a for loop in Python?"
   ]
  },
  {
   "cell_type": "code",
   "execution_count": null,
   "id": "86a81f7a-8910-4bd9-9fde-396edc954edb",
   "metadata": {},
   "outputs": [],
   "source": [
    "string = str(\"Hello Pwskills here\")\n",
    "for i in string:\n",
    "    print(i)"
   ]
  },
  {
   "cell_type": "markdown",
   "id": "f95db04a-0e20-433b-ba67-9c6a23bdeaa2",
   "metadata": {},
   "source": [
    "Q9:- Write a Python program to find the largest number in a list using a for loop."
   ]
  },
  {
   "cell_type": "code",
   "execution_count": null,
   "id": "eb32d7bd-56cd-42d4-b336-1cdc0d2b6efb",
   "metadata": {},
   "outputs": [],
   "source": [
    "l1 = [45,56,13,6,54,1,1,102,106,5,3,95]\n",
    "l2 = []\n",
    "for i in l1:\n",
    "    l2.append(i)\n",
    "    l2.sort()\n",
    "print(\"The largest number in the list is \",l2[-1])"
   ]
  },
  {
   "cell_type": "markdown",
   "id": "e04dffc1-ed9e-4c6e-ba9b-a4aac58e681e",
   "metadata": {},
   "source": [
    "Q10:- Create a Python program that prints the Fibonacci sequence up to a specified limit using a for loop."
   ]
  },
  {
   "cell_type": "code",
   "execution_count": null,
   "id": "fd834708-fa35-40bf-b82a-c7e127692401",
   "metadata": {},
   "outputs": [],
   "source": [
    "def fibonacci(limit):\n",
    "    # Initialize the Fibonacci sequence with the first two numbers\n",
    "    sequence = [0, 1]\n",
    "\n",
    "    # Loop to generate Fibonacci numbers up to the limit\n",
    "    for i in range(2, limit):\n",
    "        next_num = sequence[i-1] + sequence[i-2]\n",
    "        if next_num <= limit:\n",
    "            sequence.append(next_num)\n",
    "        else:\n",
    "            break\n",
    "\n",
    "    # Print the Fibonacci sequence\n",
    "    print(\"Fibonacci sequence up to\", limit, \":\")\n",
    "    for num in sequence:\n",
    "        print(num, end=\" \")\n",
    "\n",
    "# Get user input for the limit\n",
    "limit = int(input(\"Enter the limit for the Fibonacci sequence: \"))\n",
    "\n",
    "# Call the function to print Fibonacci sequence up to the specified limit\n",
    "fibonacci(limit)"
   ]
  },
  {
   "cell_type": "markdown",
   "id": "a30c65b9-d3b3-4cde-875f-349f86d34a56",
   "metadata": {},
   "source": [
    "Q11:- Write a Python program to count the number of vowels in a given string using a for loop."
   ]
  },
  {
   "cell_type": "code",
   "execution_count": null,
   "id": "8c5d9bb3-1b12-4f28-901f-b870d58aeadc",
   "metadata": {},
   "outputs": [],
   "source": [
    "string = str(input(\"Enter a string:- \"))\n",
    "count = 0\n",
    "for i in string:\n",
    "    if(i =='a' or i ==\"e\" or i==\"i\" or i =='o' or i== 'u' or i ==\"A\"or i ==\"E\"or i=='U'or i =='I'or i ==\"O\"):\n",
    "        count = count+1\n",
    "print(count)"
   ]
  },
  {
   "cell_type": "markdown",
   "id": "852a7df2-9a91-4af2-89f6-e5b8037624e7",
   "metadata": {},
   "source": [
    "Q12:- Create a Python program that generates a multiplication table for a given number using a for loop."
   ]
  },
  {
   "cell_type": "code",
   "execution_count": null,
   "id": "469329f9-dd38-454d-811b-3bb369b2aceb",
   "metadata": {},
   "outputs": [],
   "source": [
    "num = int(input(\"Enter a number to create its table:-\"))\n",
    "multiply = 0\n",
    "for i in range(1,11):\n",
    "    multiply = num*i\n",
    "    print(num,\"X\",i,\"=\",multiply)"
   ]
  },
  {
   "cell_type": "markdown",
   "id": "bf4d2f0c-cd44-4eb4-bbb0-047f253dfafc",
   "metadata": {},
   "source": [
    "Q13:- Write a Python program to reverse a list using a for loop."
   ]
  },
  {
   "cell_type": "code",
   "execution_count": null,
   "id": "95717317-71cf-4c03-aeb3-1fd3142fe189",
   "metadata": {},
   "outputs": [],
   "source": [
    "l1 = [1,2,4,5,6,7,8,9,4,1,2,3]\n",
    "l2 = []\n",
    "for i in l1:\n"
   ]
  },
  {
   "cell_type": "code",
   "execution_count": null,
   "id": "5107d89c-61b2-4ea1-a9cf-5b4cafdcfb7e",
   "metadata": {},
   "outputs": [],
   "source": [
    "l1 = [1,2,4,5,6,7,8,9,4,1,2,3]\n",
    "l1.reverse()\n",
    "print(l1)"
   ]
  },
  {
   "cell_type": "markdown",
   "id": "18b15460-b17c-4529-bebc-21f97da0e09e",
   "metadata": {},
   "source": [
    "Q14:- Write a Python program to find the common elements between two lists using a for loop."
   ]
  },
  {
   "cell_type": "code",
   "execution_count": null,
   "id": "4dbe53f2-3433-444e-b370-e72ec434f029",
   "metadata": {},
   "outputs": [],
   "source": [
    "l1 = [1,2,3,3,4,5,56,6,7,9]\n",
    "l2 = [56,2,3,4,5,25,4564,363]\n",
    "common_list = []\n",
    "for i in l1:\n",
    "    if l1 ==l2:\n",
    "        commmon_list.append(i)\n",
    "print(common_list)\n",
    "        "
   ]
  },
  {
   "cell_type": "markdown",
   "id": "e1c0b407-c4d9-4359-9f3b-590c6fa94b9b",
   "metadata": {},
   "source": [
    "Q15:- Explain how to use a for loop to iterate through the keys and values of a dictionary in Python."
   ]
  },
  {
   "cell_type": "markdown",
   "id": "9a444ea7-c86a-402f-937f-0a1cbc0b6e99",
   "metadata": {},
   "source": [
    "\n",
    "In Python, you can use a for loop to iterate through the keys and values of a dictionary using the items() method. "
   ]
  },
  {
   "cell_type": "markdown",
   "id": "640abe38-c1ba-42f8-8c73-1c95f9aebf92",
   "metadata": {},
   "source": [
    "Q16:- Write a Python program to find the GCD (Greatest Common Divisor) of two numbers using a for loop."
   ]
  },
  {
   "cell_type": "code",
   "execution_count": null,
   "id": "911f8a81-862f-4840-89c1-84834776c45c",
   "metadata": {},
   "outputs": [],
   "source": [
    "def gcd(a,b):\n",
    "    if b>a:\n",
    "        a,b =b,a\n",
    "    \n",
    "    for i in range(1,b+1):\n",
    "        if a%i == 0 and b%i == 0:\n",
    "            gcd = i \n",
    "    return gcd \n",
    "a = int(input(\"Enter the first number:\"))\n",
    "b = int(input(\"Enter the second number:\"))\n",
    "\n",
    "print(\"GCD of\",a ,\"and\",b , \"is:\", gcd(a,b))"
   ]
  },
  {
   "cell_type": "markdown",
   "id": "1e82a689-1178-4d8f-a72f-c9988b6fb847",
   "metadata": {},
   "source": [
    "Q17:-Create a Python program that checks if a string is a palindrome using a for loop."
   ]
  },
  {
   "cell_type": "code",
   "execution_count": null,
   "id": "ea1693c3-1d86-4ec8-9207-f73859600dbf",
   "metadata": {},
   "outputs": [],
   "source": [
    "string = input(\"Enter a String:- \")\n",
    "i = 0\n",
    "for i in range(len(string)):\n",
    "     if string[i]  != string[-1-i]:\n",
    "            print(\"It is  not palindrome string\")\n",
    "            break\n",
    "else:\n",
    "    print(\"It is a palindrome \")    \n"
   ]
  },
  {
   "cell_type": "markdown",
   "id": "27e48c33-91ed-4d0c-84cb-cbc57008065c",
   "metadata": {},
   "source": [
    "Q18:- Write a Python program to remove duplicates from a list using a for loop."
   ]
  },
  {
   "cell_type": "code",
   "execution_count": null,
   "id": "353ef57f-c36f-4770-9b69-2014e16d3e4a",
   "metadata": {},
   "outputs": [],
   "source": [
    "l1 = [1,2,2,3,4,56,7,7,7,8,9,10]\n",
    "remove= []\n",
    "for i in l1:\n",
    "    if i not in l1 :\n",
    "        remove.append(i)\n",
    "        "
   ]
  },
  {
   "cell_type": "markdown",
   "id": "eef85124-6786-4d71-b921-573fc361a9c8",
   "metadata": {},
   "source": [
    "Q19:- Create a Python program that counts the number of words in a sentence using a for loop."
   ]
  },
  {
   "cell_type": "code",
   "execution_count": null,
   "id": "2537009f-64bb-40d1-a09a-083dc565dea5",
   "metadata": {},
   "outputs": [],
   "source": [
    "sen = str(input(\"Enter a sentence here:-\"))\n",
    "count = 0\n",
    "\n",
    "for i in sen:\n",
    "    count +=1 \n",
    "print(count)"
   ]
  },
  {
   "cell_type": "markdown",
   "id": "83543c13-53f5-4bcc-8ee6-f33f8abd7553",
   "metadata": {},
   "source": [
    "Q20:- Write a Python program to find the sum of all odd numbers from 1 to 50 using a for loop."
   ]
  },
  {
   "cell_type": "code",
   "execution_count": null,
   "id": "9cedd6e3-5cfb-4365-bf3d-e2c4cb6a9541",
   "metadata": {},
   "outputs": [],
   "source": [
    "l1 = []\n",
    "for i in range(0,51):\n",
    "    if (i%2!=0):\n",
    "        l1.append(i)\n",
    "\n",
    "print(sum(l1))\n",
    "        "
   ]
  },
  {
   "cell_type": "markdown",
   "id": "3688884d-444f-4200-b79b-5f6e83318d53",
   "metadata": {},
   "source": [
    "Q21:-  Write a Python program that checks if a given year is a leap year using a for loop."
   ]
  },
  {
   "cell_type": "code",
   "execution_count": 5,
   "id": "fc084cc5-ab80-462d-9ac7-5fb216f95a61",
   "metadata": {},
   "outputs": [
    {
     "name": "stdout",
     "output_type": "stream",
     "text": [
      "True\n"
     ]
    }
   ],
   "source": [
    "def is_leap_year(year):\n",
    "    if (year % 4 == 0 and year % 100 != 0) or (year % 400 == 0):\n",
    "        return True\n",
    "    else:\n",
    "        return False\n",
    "\n",
    "# Driver Code\n",
    "year = 2024\n",
    "print(is_leap_year(year))\n"
   ]
  },
  {
   "cell_type": "markdown",
   "id": "b1218165-e5d7-4e76-8ede-41e2cb926afd",
   "metadata": {},
   "source": [
    "Q22:- Create a Python program that calculates the square root of a number using a for loop."
   ]
  },
  {
   "cell_type": "code",
   "execution_count": null,
   "id": "55de2594-fb23-4767-b3f4-8f45dde5f91b",
   "metadata": {},
   "outputs": [],
   "source": []
  },
  {
   "cell_type": "markdown",
   "id": "1951d400-b0ea-47ae-9d5a-5b847a9b520b",
   "metadata": {},
   "source": [
    "Q23:-  Write a Python program to find the LCM (Least Common Multiple) of two numbers using a for\n",
    "loop."
   ]
  },
  {
   "cell_type": "code",
   "execution_count": null,
   "id": "4b308f68-fb86-4e1a-a51f-f142588f3854",
   "metadata": {},
   "outputs": [],
   "source": []
  },
  {
   "cell_type": "markdown",
   "id": "7d5b06fd-bde5-480e-b0c4-2527c3e7b1cc",
   "metadata": {},
   "source": [
    "If else :\n",
    "    \n",
    "    \n",
    "    \n",
    "    \n",
    "Q1:- Write a Python program to check if a number is positive, negative, or zero using an if-else\n",
    "statement."
   ]
  },
  {
   "cell_type": "code",
   "execution_count": null,
   "id": "51a597ff-d755-4860-b9e5-33c305ff4cef",
   "metadata": {},
   "outputs": [],
   "source": [
    "num = int(input(\"Enter a number:- \"))\n",
    "if (num>0):\n",
    "    print(\"The number is positive.\")\n",
    "elif (num==0):\n",
    "    print(\"The number is zero\")\n",
    "else:\n",
    "    print(\"The number is negative\")"
   ]
  },
  {
   "cell_type": "markdown",
   "id": "f10d75c3-8544-4d4f-b6b1-a012297c555b",
   "metadata": {},
   "source": [
    "Q2:- Create a Python program that checks if a given number is even or odd using an if-else statement."
   ]
  },
  {
   "cell_type": "code",
   "execution_count": null,
   "id": "75426d5f-c59d-4cf2-973d-91cd7d413377",
   "metadata": {},
   "outputs": [],
   "source": [
    "num_1 = int(input(\"Enter a number:- \"))\n",
    "if (num_1 %2 ==0):\n",
    "    print(num_1, \"is a even number\")\n",
    "else:\n",
    "    print(num_1, \"is odd number\")"
   ]
  },
  {
   "cell_type": "markdown",
   "id": "f794c8d7-096b-4011-9bb7-f22696ccd47a",
   "metadata": {},
   "source": [
    "Q3:- How can you use nested if-else statements in Python, and provide an example?"
   ]
  },
  {
   "cell_type": "code",
   "execution_count": null,
   "id": "ca69c191-7baa-4609-be8e-50bc19d63643",
   "metadata": {},
   "outputs": [],
   "source": [
    "#Ans: ==> Nested if-else statements in Python allow you to have if-else statements inside another if or else block.\n",
    "#Example of nested if-else statements.\n",
    "num = int(input(\"Enter a number: \"))\n",
    "\n",
    "if num > 0:\n",
    "    print(\"The number is positive.\")\n",
    "    if num % 2 == 0:\n",
    "        print(\"It is also even.\")\n",
    "    else:\n",
    "        print(\"It is also odd.\")\n",
    "elif num < 0:\n",
    "    print(\"The number is negative.\")\n",
    "else:\n",
    "    print(\"The number is zero.\")\n",
    "\n"
   ]
  },
  {
   "cell_type": "markdown",
   "id": "14dc4ce9-7d0f-4271-bf4a-3cb1c25feee5",
   "metadata": {},
   "source": [
    "Q4:- Write a Python program to determine the largest of three numbers using if-else."
   ]
  },
  {
   "cell_type": "code",
   "execution_count": null,
   "id": "21e6be05-795e-48e9-8130-0c598b8ad8df",
   "metadata": {},
   "outputs": [],
   "source": [
    "num1 = int(input(\"Enter the first number:- \"))\n",
    "num2 = int(input(\"Enter the second number:- \"))\n",
    "num3 = int(input(\"Enter the third number:-  \"))\n",
    "if (num3<num1>num2):\n",
    "    print(\"The greatest number is the first number \", num1)\n",
    "if(num1<num2>num3):\n",
    "    print(\"The greatest number is the second number \", num2)\n",
    "else:\n",
    "    print(\"The greatest number is the third number \", num3)"
   ]
  },
  {
   "cell_type": "markdown",
   "id": "8bea4234-67a9-4603-83e0-2eb36e9d0b62",
   "metadata": {},
   "source": [
    "Q5:- Write a Python program that calculates the absolute value of a number using if-else."
   ]
  },
  {
   "cell_type": "code",
   "execution_count": null,
   "id": "0a67f7d3-1d1a-4da2-bae8-a74f1522331b",
   "metadata": {},
   "outputs": [],
   "source": [
    "num1 = int(input(\"Enter a number to find its absolute value:- \"))\n",
    "if num1>0:\n",
    "    print(\"The absolute value is: \",num1)\n",
    "else:\n",
    "    print(\"The absolute value is: \",-1*num1)"
   ]
  },
  {
   "cell_type": "markdown",
   "id": "c895903b-abfd-45e8-8bc5-7ef0ba52dcc1",
   "metadata": {},
   "source": [
    "Q6:- Create a Python program that checks if a given character is a vowel or consonant using if-else."
   ]
  },
  {
   "cell_type": "code",
   "execution_count": null,
   "id": "05971401-5396-4e0b-ad03-bcc055c0ea41",
   "metadata": {},
   "outputs": [],
   "source": [
    "char = str(input(\"Enter a character here:- \"))\n",
    "vowels= ['a','e','i','o','u','A','E','I','O','U']\n",
    "for i in char:\n",
    "    if i in vowels:\n",
    "        print(\"Entered character is a vowel\")\n",
    "    else:\n",
    "        print(\"Entered character is a consonant\")\n",
    "        break"
   ]
  },
  {
   "cell_type": "markdown",
   "id": "3bd38568-e6e6-416b-afcf-6cd92b63b18c",
   "metadata": {},
   "source": [
    "Q7:- Write a Python program to determine if a user is eligible to vote based on their age using if-else."
   ]
  },
  {
   "cell_type": "code",
   "execution_count": null,
   "id": "ce4d7d17-9817-4370-86a9-aa5501be46b9",
   "metadata": {},
   "outputs": [],
   "source": [
    "age = int(input(\"Enter your age:\"))\n",
    "if age>= 18:\n",
    "    print(\"You are eligible to vote\")\n",
    "else:\n",
    "    print(\"You are not eligible to vote\")"
   ]
  },
  {
   "cell_type": "markdown",
   "id": "e9a8f195-6439-4e8e-bcb8-5e306ca504fc",
   "metadata": {},
   "source": [
    "Q8:- Create a Python program that calculates the discount amount based on the purchase amount\n",
    "using if-else."
   ]
  },
  {
   "cell_type": "code",
   "execution_count": null,
   "id": "5f4d942a-06b9-4b72-b02c-deb0ac012f58",
   "metadata": {},
   "outputs": [],
   "source": [
    "#The discount rates are:\n",
    "\n",
    "#   Amount          Discount\n",
    "#    0-5000          5%\n",
    "#   5000-15000      12%\n",
    "#   15000-25000     20%\n",
    "#    above 25000     30%\n",
    "\n",
    "amount = int(input(\"Enter your total cost of shopping cart:- \"))\n",
    "if(amount<=5000):\n",
    "    discount = \"5%\"\n",
    "    amount = amount -amount*0.05\n",
    "    print(\"The total cost of shopping cart based on\",discount,\"discount\",amount)\n",
    "elif(5000<amount<=15000):\n",
    "    discount = \"12%\"\n",
    "    amount = amount-amount*0.12\n",
    "    print(\"The total cost of shopping cart based on\",discount,\"discount\",amount)\n",
    "elif(15000<amount<=25000):\n",
    "    discount = \"20%\"\n",
    "    amount = amount-amount*0.20\n",
    "    print(\"The total cost of shopping cart based on\",discount,\"discount\",amount)\n",
    "else:\n",
    "    discount = \"30%\"\n",
    "    amount = amount -amount*0.30\n",
    "    print(\"The total cost of shopping cart based on\",discount,\"discount\",amount)\n"
   ]
  },
  {
   "cell_type": "markdown",
   "id": "425be04e-dbcd-4bf8-9d11-6cf1231278f3",
   "metadata": {},
   "source": [
    "Q9:- Write a Python program to check if a number is within a specified range using if-else."
   ]
  },
  {
   "cell_type": "code",
   "execution_count": null,
   "id": "dd19bff3-3605-42e9-a337-0f47a8918463",
   "metadata": {},
   "outputs": [],
   "source": [
    "range_1 = range(2, 20, 3)\n",
    "number = int(input('Enter a number : '))\n",
    " \n",
    "if number in range_1 :\n",
    "    print(number, 'is present in the range.')\n",
    "else :\n",
    "    print(number, 'is not present in the range.')"
   ]
  },
  {
   "cell_type": "markdown",
   "id": "efdaf0fa-9404-47d9-a183-373c04e8efd9",
   "metadata": {},
   "source": [
    "Q10:- Create a Python program that determines the grade of a student based on their score using\n",
    "if-else."
   ]
  },
  {
   "cell_type": "code",
   "execution_count": null,
   "id": "444ac787-6ae6-4921-99aa-3b307e3fda36",
   "metadata": {},
   "outputs": [],
   "source": [
    "percent = int(input(\"Enter your Score in percentage form:- \"))\n",
    "if(90<=percent<=100):\n",
    "    print(\"Your grade is A\")\n",
    "elif(80<=percent<90):\n",
    "    print(\"Your grade is B\")\n",
    "elif(70<=percent<80):\n",
    "    print(\"Your grade is C\")\n",
    "elif(60<=percent<70):\n",
    "    print(\"Your grade is D\")\n",
    "else:\n",
    "    print(\"you are fail\")"
   ]
  },
  {
   "cell_type": "markdown",
   "id": "b5b6a706-3f62-4677-bf4e-a37c0557ed83",
   "metadata": {},
   "source": [
    "Q11:- Write a Python program to check if a string is empty or not using if-else."
   ]
  },
  {
   "cell_type": "code",
   "execution_count": null,
   "id": "70fa91c9-0ee3-43c6-900f-085406f0e2dd",
   "metadata": {},
   "outputs": [],
   "source": [
    "string_1 = input(str(\"Enter a string here:-\"))\n",
    "if string_1 ==\"\":\n",
    "    print(\"The string is empty.\")\n",
    "else:\n",
    "    print(\"The string is not empty.\")"
   ]
  },
  {
   "cell_type": "markdown",
   "id": "eb0523ad-6aad-4f67-acd2-4ad566d171ec",
   "metadata": {},
   "source": [
    "Q12:- Create a Python program that identifies the type of a triangle (e.g., equilateral, isosceles, or\n",
    "scalene) based on input values using if-else."
   ]
  },
  {
   "cell_type": "code",
   "execution_count": null,
   "id": "c56336ce-1a52-44d8-bd5b-9459619f5639",
   "metadata": {},
   "outputs": [],
   "source": [
    "a = int(input(\"Enter the first side of the triangle:- \"))\n",
    "b = int(input(\"Enter the second side of the triangle:- \"))\n",
    "c =int(input(\"Enter the third side of the triangle:- \"))\n",
    "\n",
    "if (a==b==c):\n",
    "    print(\"It is an equilateral triangle\")\n",
    "elif(a!=b!=c):\n",
    "    print(\"It is a scalene triangle\")\n",
    "else:\n",
    "    if(a==b or b==c or c==a):\n",
    "        print(\"It is an isoceles triangle \")"
   ]
  },
  {
   "cell_type": "markdown",
   "id": "66156747-0b59-4084-8825-bfd489f1b218",
   "metadata": {},
   "source": [
    "Q13:- Write a Python program to determine the day of the week based on a user-provided number\n",
    "using if-else."
   ]
  },
  {
   "cell_type": "code",
   "execution_count": null,
   "id": "62f1a771-1962-4829-a8cd-135e202c2922",
   "metadata": {},
   "outputs": [],
   "source": [
    "number = int(input(\"Enter the number from 1 to 7:- \"))\n",
    "if(number == 1):\n",
    "    print(\"It's Monday \")\n",
    "elif(number == 2):\n",
    "    print(\"It's Tuesday \")\n",
    "elif(number == 3):\n",
    "    print(\"It's Wednesday \")\n",
    "elif(number == 4):\n",
    "    print(\"It's Thursday \")\n",
    "elif(number == 5):\n",
    "    print(\"It's Friday \")\n",
    "elif(number == 6):\n",
    "    print(\"It's Saturday \")\n",
    "elif(number == 7):\n",
    "    print(\"It's Sunday \")"
   ]
  },
  {
   "cell_type": "markdown",
   "id": "fc91160e-dd3e-4d8f-b255-b061c03fa9cb",
   "metadata": {},
   "source": [
    "Q14:- Create a Python program that checks if a given year is a leap year using both if-else and a\n",
    "function."
   ]
  },
  {
   "cell_type": "code",
   "execution_count": null,
   "id": "051f0c50-8a1c-4daf-80f2-9a40204e9ad1",
   "metadata": {},
   "outputs": [],
   "source": [
    "year = int(input(\"Enter the year:- \"))\n",
    "\n",
    "if year%4 ==0:\n",
    "    if year%100 == 0:\n",
    "        print(\"Yes , it is a leap year and also it is a century year\")\n",
    "else:\n",
    "    print(\"Not a century year\")"
   ]
  },
  {
   "cell_type": "markdown",
   "id": "a13f41b1-44a0-49b0-8a9b-f6aef966ee8e",
   "metadata": {},
   "source": [
    "Q15:- How do you use the \"assert\" statement in Python to add debugging checks within if-else blocks?"
   ]
  },
  {
   "cell_type": "code",
   "execution_count": null,
   "id": "d4b00eeb-17e1-4ca4-b340-f2239d444555",
   "metadata": {},
   "outputs": [],
   "source": []
  },
  {
   "cell_type": "markdown",
   "id": "e2f4750f-3e09-4f92-aece-478c481d2937",
   "metadata": {},
   "source": [
    "Q16:- Create a Python program that determines the eligibility of a person for a senior citizen discount\n",
    "based on age using if-else."
   ]
  },
  {
   "cell_type": "code",
   "execution_count": null,
   "id": "cdeaa2cb-ed2b-481e-bb44-06eab3c6870e",
   "metadata": {},
   "outputs": [],
   "source": [
    "#The discount rates are:\n",
    "\n",
    "#    Age         Discount\n",
    "#    61-65         5%\n",
    "#    65-70        12%\n",
    "#    70-75        20%\n",
    "#    above 75     30%\n",
    "age = int(input(\"Enter customer's age\"))\n",
    "if age>=60:\n",
    "    print(\"Eligible for Senior citizen discount\")\n",
    "else:\n",
    "    print(\"Not Eligible for senior citizen discount\")\n",
    "amount = int(input(\"Enter your total cost of shopping cart:- \"))\n",
    "if(age<60):\n",
    "    print(\"No discount\")\n",
    "    print(\"The total cost of shopping cart amount:- \",amount)\n",
    "    \n",
    "elif(60<age<=65):\n",
    "    discount = \"5%\"\n",
    "    amount = amount-amount*0.05\n",
    "    print(\"The total cost of shopping cart based on\",discount,\"discount\",amount)\n",
    "elif(65<age<=70):\n",
    "    discount = \"12%\"\n",
    "    amount = amount-amount*0.12\n",
    "    print(\"The total cost of shopping cart based on\",discount,\"discount\",amount)\n",
    "elif(70<age<=75):\n",
    "    discount = \"20%\"\n",
    "    amount = amount -amount*0.20\n",
    "    print(\"The total cost of shopping cart based on\",discount,\"discount\",amount)\n",
    "else:\n",
    "    discount = \"30%\"\n",
    "    amount = amount -amount*0.30\n",
    "    print(\"The total cost of shopping cart based on\",discount,\"discount\",amount)\n"
   ]
  },
  {
   "cell_type": "markdown",
   "id": "934a88b7-38de-46fd-9a7f-812a06bb2cf3",
   "metadata": {},
   "source": [
    "Q17:- Write a Python program to categorize a given character as uppercase, lowercase, or neither\n",
    "using if-else."
   ]
  },
  {
   "cell_type": "code",
   "execution_count": null,
   "id": "8902f9f8-f4a8-42e4-9204-bc4ec11c0aa3",
   "metadata": {},
   "outputs": [],
   "source": [
    "# Function to categorize a character\n",
    "def categorize_character(char):\n",
    "    if char.isupper():\n",
    "        return \"Uppercase\"\n",
    "    elif char.islower():\n",
    "        return \"Lowercase\"\n",
    "    else:\n",
    "        return \"Neither\"\n",
    "\n",
    "# Prompt the user to enter a character\n",
    "char = input(\"Enter a character: \")\n",
    "\n",
    "# Categorize the character and print the result\n",
    "category = categorize_character(char)\n",
    "print(f\"The character '{char}' is {category}.\")\n"
   ]
  },
  {
   "cell_type": "markdown",
   "id": "9800c4d0-75b3-4008-9c4a-b11787a46e70",
   "metadata": {},
   "source": [
    "Q18:- Write a Python program to determine the roots of a quadratic equation using if-else."
   ]
  },
  {
   "cell_type": "code",
   "execution_count": null,
   "id": "900a5d84-e2ec-4336-af38-bf2876468ec8",
   "metadata": {},
   "outputs": [],
   "source": [
    "import math\n",
    "\n",
    "def find_roots(a, b, c):\n",
    "    # Calculate discriminant\n",
    "    discriminant = b**2 - 4*a*c\n",
    "    \n",
    "    # Check if discriminant is positive, negative, or zero\n",
    "    if discriminant > 0:\n",
    "        root1 = (-b + math.sqrt(discriminant)) / (2*a)\n",
    "        root2 = (-b - math.sqrt(discriminant)) / (2*a)\n",
    "        print(\"Roots are real and different.\")\n",
    "        print(\"Root 1 =\", root1)\n",
    "        print(\"Root 2 =\", root2)\n",
    "    elif discriminant == 0:\n",
    "        root = -b / (2*a)\n",
    "        print(\"Roots are real and same.\")\n",
    "        print(\"Root =\", root)\n",
    "    else:\n",
    "        real_part = -b / (2*a)\n",
    "        imaginary_part = math.sqrt(abs(discriminant)) / (2*a)\n",
    "        print(\"Roots are complex.\")\n",
    "        print(\"Root 1 =\", real_part, \"+\", imaginary_part, \"i\")\n",
    "        print(\"Root 2 =\", real_part, \"-\", imaginary_part, \"i\")\n",
    "\n",
    "# Prompt the user to enter coefficients of the quadratic equation\n",
    "a = float(input(\"Enter coefficient a: \"))\n",
    "b = float(input(\"Enter coefficient b: \"))\n",
    "c = float(input(\"Enter coefficient c: \"))\n",
    "\n",
    "# Call the function to find roots\n",
    "find_roots(a, b, c)\n"
   ]
  },
  {
   "cell_type": "markdown",
   "id": "afca5236-6217-489b-81d7-9137365cf327",
   "metadata": {},
   "source": [
    "Q19:- Create a Python program that checks if a given year is a century year or not using if-else."
   ]
  },
  {
   "cell_type": "code",
   "execution_count": null,
   "id": "5d2b2025-28e6-4851-8144-acd8ac638bb1",
   "metadata": {},
   "outputs": [],
   "source": [
    "year = int(input(\"Enter the year:- \"))\n",
    "if year%100 == 0:\n",
    "        print(\"Yes , it is a century year\")\n",
    "else:\n",
    "    print(\"Not a century year\")"
   ]
  },
  {
   "cell_type": "markdown",
   "id": "33906d6c-6411-4d82-af32-4b10c083bc28",
   "metadata": {},
   "source": [
    "Q20:- Write a Python program to determine if a given number is a perfect square using if-else."
   ]
  },
  {
   "cell_type": "code",
   "execution_count": null,
   "id": "0e220fad-f6fc-4162-95a1-92026b2c01b4",
   "metadata": {},
   "outputs": [],
   "source": [
    "import math\n",
    "num = int(input(\"Enter the number to determine the perfect square:-\"))\n",
    "x =  math.sqrt(num)\n",
    "print(x)\n",
    "if(x == int(x)):\n",
    "    print(\"It is a perfect square.\")\n",
    "else:\n",
    "    print(\"It is not a perfect square.\")"
   ]
  },
  {
   "cell_type": "markdown",
   "id": "bc35336d-9e5f-4025-bba9-c67cb882b4e5",
   "metadata": {},
   "source": [
    "Q21:- Explain the purpose of the \"continue\" and \"break\" statements within if-else loops."
   ]
  },
  {
   "cell_type": "raw",
   "id": "d4f0bed1-44c3-4bb6-a064-7f1df17d7a34",
   "metadata": {},
   "source": [
    "#Continue\n",
    "\n",
    "The \"continue\" statement is used to skip the current iteration of a loop and move on to the next iteration. When the continue statement is encountered in a loop, the current iteration of the loop is terminated and the next iteration begins immediately.\n",
    "\n",
    "#Break\n",
    "\n",
    "The \"break\" statement is used to exit a loop prematurely. When the break statement is encountered in a loop, the loop is terminated immediately and the program continues with the next statement after the loop."
   ]
  },
  {
   "cell_type": "markdown",
   "id": "6f1df612-4ad9-41c4-a8a5-46db0670f710",
   "metadata": {},
   "source": [
    "Q22:- Create a Python program that calculates the BMI (Body Mass Index) of a person based on their weight and height using if-else."
   ]
  },
  {
   "cell_type": "code",
   "execution_count": null,
   "id": "122f05a0-d228-40e2-9f61-459a79cab510",
   "metadata": {},
   "outputs": [],
   "source": [
    "weight = float(input(\"Enter your Weight in Kg:- \"))\n",
    "height = float(input(\"Enter your height in m:- \"))\n",
    "\n",
    "height = height**2\n",
    "BMI = weight/height\n",
    "print(\"Your BMI is :- \",BMI)\n",
    "\n",
    "if BMI<18.5:\n",
    "    print(\"You are Underweight.\")\n",
    "elif 18.5<=BMI<=24.5:\n",
    "    print(\"You are Healthy Weight.\")\n",
    "elif 25.0<=BMI<=29.9:\n",
    "    print(\"you are overweight.\")"
   ]
  },
  {
   "cell_type": "markdown",
   "id": "442068fe-3362-474d-b9da-e453f2a7e731",
   "metadata": {},
   "source": [
    "Q23:- How can you use the \"filter()\" function with if-else statements to filter elements from a list?"
   ]
  },
  {
   "cell_type": "markdown",
   "id": "52328361-fd0b-4c8b-869f-8aac8265d144",
   "metadata": {},
   "source": [
    "he filter() function in Python is used to filter elements from an iterable (like a list) based on a function that returns either True or False. The filter() function applies the provided function to each item in the iterable and returns a new iterable (usually a filter object) with only those elements for which the function returns True.\n",
    "\n",
    "To use filter() with if-else logic, you need to define a function that implements the desired logic. This function should return True or False based on the conditions you specify.\n",
    "\n",
    "Example: Filtering Even Numbers from a List\n",
    "Let's say we want to filter even numbers from a list using the filter() function with an if-else statement.\n",
    "\n",
    "Define the Filtering Function: This function will use an if-else statement to determine if a number is even.\n",
    "\n",
    "Apply the filter() Function: Pass the filtering function and the list to filter().\n",
    "\n",
    "Convert the Filter Object to a List: Since filter() returns an iterable filter object, you often need to convert it to a list to see the results."
   ]
  },
  {
   "cell_type": "markdown",
   "id": "c6bea2d0-509b-44b2-bfe4-8d3cc93b4660",
   "metadata": {},
   "source": [
    "Q24:- Write a Python program to determine if a given number is prime or not using if-else."
   ]
  },
  {
   "cell_type": "code",
   "execution_count": null,
   "id": "d547cf3e-441f-4925-8972-e10ec174ee93",
   "metadata": {},
   "outputs": [],
   "source": [
    "num = int(input(\"Enter a number to find it's a prime number or not:- \"))\n",
    "if num== 2:\n",
    "    print(\"Yes it is a prime number\")\n",
    "if( num%2 !=0):\n",
    "    print(\"Yes it is a prime number \")\n",
    "else:\n",
    "    print(\"It is not a prime number \")"
   ]
  },
  {
   "cell_type": "raw",
   "id": "a25d8df8-db50-47d6-8454-0e5bb9e64c5f",
   "metadata": {},
   "source": [
    "Map :-\n",
    "\n",
    "\n",
    "Q1:- Explain the purpose of the `map()` function in Python and provide an example of how it can be used to apply a function to each element of an iterable."
   ]
  },
  {
   "cell_type": "markdown",
   "id": "2b1155b1-8ec6-4beb-8a77-67d4d6151d46",
   "metadata": {},
   "source": [
    "\n",
    "The map() function in Python is used to apply a given function to each item of an iterable (like a list, tuple, etc.) and returns an iterator that yields the results."
   ]
  },
  {
   "cell_type": "code",
   "execution_count": null,
   "id": "2c929652-7175-40c5-bb7c-c3f07240fc1f",
   "metadata": {},
   "outputs": [],
   "source": []
  },
  {
   "cell_type": "raw",
   "id": "eefc8bb2-eec0-4b09-ac1e-606bc994c48f",
   "metadata": {},
   "source": [
    "Q2:- Write a Python program that uses the `map()` function to square each element of a list of numbers."
   ]
  },
  {
   "cell_type": "code",
   "execution_count": null,
   "id": "65a74634-a359-483c-b9e4-6c66f38d316e",
   "metadata": {},
   "outputs": [],
   "source": [
    "def square(x):\n",
    "    return x ** 2\n",
    "\n",
    "# Create a list of numbers\n",
    "numbers = [1, 2, 3, 4, 5]\n",
    "\n",
    "# Use map() to apply the square function to each element of the list\n",
    "squared_numbers = map(square, numbers)\n",
    "\n",
    "# Convert the map object to a list to see the results\n",
    "squared_numbers_list = list(squared_numbers)\n",
    "\n",
    "# Print the original list and the transformed list\n",
    "print(\"Original list:\", numbers)\n",
    "print(\"Squared list:\", squared_numbers_list)\n"
   ]
  },
  {
   "cell_type": "code",
   "execution_count": null,
   "id": "09c3257b-ad06-4bab-8cd1-4e39f3bf5aa4",
   "metadata": {},
   "outputs": [],
   "source": []
  },
  {
   "cell_type": "raw",
   "id": "8de8c38c-b304-405b-b2ae-196e4732542e",
   "metadata": {},
   "source": [
    "Q3:- How does the `map()` function differ from a list comprehension in Python, and when would you choose one over the other?"
   ]
  },
  {
   "cell_type": "markdown",
   "id": "842ab1fb-782a-4f78-9256-d61a9d4bb1a5",
   "metadata": {},
   "source": [
    "Syntax:\n",
    "\n",
    "map() function: The map() function takes two arguments: a function and an iterable. It applies the function to each element of the iterable.\n",
    "List comprehension: List comprehensions are a concise way to create lists. They have a more compact syntax and can include conditions.\n",
    "Return type:\n",
    "\n",
    "map() function: It returns a map object (an iterator) that yields the results lazily. If you need a list as the result, you would need to convert the map object into a list explicitly.\n",
    "List comprehension: It directly returns a list.\n",
    "When to choose one over the other:\n",
    "\n",
    "Readability and Conciseness:\n",
    "\n",
    "List comprehensions are often more readable and concise, especially for simple transformations.\n",
    "If the transformation involves complex logic or multiple steps, map() might be clearer, as it separates the transformation logic from the iteration.\n",
    "Performance:\n",
    "\n",
    "In some cases, map() might offer slightly better performance because it can be implemented more efficiently in certain scenarios.\n",
    "However, the performance difference between map() and list comprehensions is usually negligible unless dealing with very large datasets.\n",
    "Functionality:\n",
    "\n",
    "List comprehensions are more versatile as they support conditional statements and nested comprehensions, allowing for more complex transformations.\n",
    "map() is limited to applying a single function to each element of the iterable."
   ]
  },
  {
   "cell_type": "code",
   "execution_count": null,
   "id": "579c1fe2-4c5f-47d6-ab05-94e860739091",
   "metadata": {},
   "outputs": [],
   "source": []
  },
  {
   "cell_type": "raw",
   "id": "d31761a6-8abb-4393-9723-cd980edf83f4",
   "metadata": {},
   "source": [
    "Q4:- Create a Python program that uses the `map()` function to convert a list of names to uppercase."
   ]
  },
  {
   "cell_type": "code",
   "execution_count": null,
   "id": "c66a6ce9-3388-4e12-bbb7-3c44940d06ef",
   "metadata": {},
   "outputs": [],
   "source": [
    "names = [\"Alice\", \"Bob\", \"Charlie\", \"David\"]\n",
    "\n",
    "uppercase_names = map(str.upper, names)\n",
    "\n",
    "# Convert the map object to a list to see the results\n",
    "uppercase_names_list = list(uppercase_names)\n",
    "\n",
    "print(\"Original names:\", names)\n",
    "print(\"Uppercase names:\", uppercase_names_list)\n"
   ]
  },
  {
   "cell_type": "code",
   "execution_count": null,
   "id": "de361b89-6b28-4f80-bcab-9d8b8d9dfff9",
   "metadata": {},
   "outputs": [],
   "source": []
  },
  {
   "cell_type": "raw",
   "id": "48545c88-23ea-4ba3-8498-bef14f5dc8b4",
   "metadata": {},
   "source": [
    "Q5:- Write a Python program that uses the `map()` function to calculate the length of each word in a\n",
    "list of strings."
   ]
  },
  {
   "cell_type": "code",
   "execution_count": null,
   "id": "d27f1ea6-2d45-4977-a11e-f32f4995a2c6",
   "metadata": {},
   "outputs": [],
   "source": [
    "strings = [\"Hello\", \"world\", \"Python\", \"programming\", \"is\", \"fun\"]\n",
    "word_lengths = map(len, strings)\n",
    "\n",
    "\n",
    "word_lengths_list = list(word_lengths)\n",
    "\n",
    "print(\"Original strings:\", strings)\n",
    "print(\"Lengths of each word:\", word_lengths_list)\n"
   ]
  },
  {
   "cell_type": "code",
   "execution_count": null,
   "id": "c7704d5b-1be8-4154-b812-45b600271509",
   "metadata": {},
   "outputs": [],
   "source": []
  },
  {
   "cell_type": "raw",
   "id": "e9f5eec8-c015-4be4-a3f9-84977b1ce64d",
   "metadata": {},
   "source": [
    "Q6:- How can you use the `map()` function to apply a custom function to elements of multiple lists\n",
    "simultaneously in Python?"
   ]
  },
  {
   "cell_type": "code",
   "execution_count": null,
   "id": "a3ec5c41-62a3-490f-937d-32d46a1a4c4e",
   "metadata": {},
   "outputs": [],
   "source": [
    "def add_elements(x, y):\n",
    "    return x + y\n",
    "\n",
    "list1 = [1, 2, 3, 4]\n",
    "list2 = [5, 6, 7, 8]\n",
    "\n",
    "sums = map(add_elements, list1, list2)\n",
    "\n",
    "sums_list = list(sums)\n",
    "\n",
    "\n",
    "print(\"List 1:\", list1)\n",
    "print(\"List 2:\", list2)\n",
    "print(\"Sum of corresponding elements:\", sums_list)\n"
   ]
  },
  {
   "cell_type": "code",
   "execution_count": null,
   "id": "8f8be7e3-7787-4d7c-b2a9-ec171e67a4f4",
   "metadata": {},
   "outputs": [],
   "source": []
  },
  {
   "cell_type": "raw",
   "id": "55e90d90-9e38-4e15-b707-be5f0d8738bb",
   "metadata": {},
   "source": [
    "Q7:- Create a Python program that uses `map()` to convert a list of temperatures from Celsius to\n",
    "Fahrenheit."
   ]
  },
  {
   "cell_type": "code",
   "execution_count": null,
   "id": "5178f044-984e-470d-b0d4-fb037ba0d5bb",
   "metadata": {},
   "outputs": [],
   "source": [
    "def celsius_to_fahrenheit(celsius):\n",
    "    return (celsius * 9/5) + 32\n",
    "celsius_temperatures = [0, 10, 20, 30, 40]\n",
    "fahrenheit_temperatures = map(celsius_to_fahrenheit, celsius_temperatures)\n",
    "\n",
    "fahrenheit_temperatures_list = list(fahrenheit_temperatures)\n",
    "print(\"Temperatures in Celsius:\", celsius_temperatures)\n",
    "print(\"Temperatures in Fahrenheit:\", fahrenheit_temperatures_list)\n"
   ]
  },
  {
   "cell_type": "raw",
   "id": "7237850a-f36b-429d-b2e0-d49daecb42cd",
   "metadata": {},
   "source": [
    "Q8:- Write a Python program that uses the `map()` function to round each element of a list of\n",
    "floating-point numbers to the nearest integer."
   ]
  },
  {
   "cell_type": "code",
   "execution_count": null,
   "id": "f9fd68db-5210-42a2-aa6f-93bce1829c3a",
   "metadata": {},
   "outputs": [],
   "source": [
    "float_numbers = [3.14, 2.718, 1.618, 4.669, 6.626]\n",
    "rounded_numbers = map(round, float_numbers)\n",
    "rounded_numbers_list = list(rounded_numbers)\n",
    "\n",
    "\n",
    "print(\"Original float numbers:\", float_numbers)\n",
    "print(\"Rounded numbers:\", rounded_numbers_list)\n"
   ]
  },
  {
   "cell_type": "raw",
   "id": "25ba29cc-7023-43d0-b17a-8d5d26d3e8da",
   "metadata": {},
   "source": [
    "Reduce :-\n",
    "\n",
    "\n",
    "\n",
    "\n",
    "\n",
    "Q1:- What is the `reduce()` function in Python, and what module should you import to use it? Provide\n",
    "an example of its basic usage."
   ]
  },
  {
   "cell_type": "code",
   "execution_count": null,
   "id": "ac42513c-f3e6-4454-811c-b69627ef8714",
   "metadata": {},
   "outputs": [],
   "source": [
    "from functools import reduce\n",
    "\n",
    "def multiply(x, y):\n",
    "    return x * y\n",
    "numbers = [1, 2, 3, 4, 5]\n",
    "product = reduce(multiply, numbers)\n",
    "print(\"Product of all numbers:\", product)\n"
   ]
  },
  {
   "cell_type": "raw",
   "id": "b31eb53d-1a06-408e-bc2c-d3fa124a7858",
   "metadata": {},
   "source": [
    "Q2:- Write a Python program that uses the `reduce()` function to find the product of all elements in a\n",
    "list.\n"
   ]
  },
  {
   "cell_type": "code",
   "execution_count": 6,
   "id": "9c2a0b05-ea5e-4914-80c3-c6dfddc03025",
   "metadata": {},
   "outputs": [
    {
     "name": "stdout",
     "output_type": "stream",
     "text": [
      "The product of all elements in the list is: 120\n"
     ]
    }
   ],
   "source": [
    "from functools import reduce\n",
    "\n",
    "def multiply(x, y):\n",
    "    return x * y\n",
    "\n",
    "# List of numbers\n",
    "numbers = [1, 2, 3, 4, 5]\n",
    "\n",
    "# Use of reduce function \n",
    "product = reduce(multiply, numbers)\n",
    "\n",
    "print(\"The product of all elements in the list is:\", product)\n"
   ]
  },
  {
   "cell_type": "raw",
   "id": "69720022-bf1c-4e3c-9d35-09be94d1159d",
   "metadata": {},
   "source": [
    "Q3:- Create a Python program that uses `reduce()` to find the maximum element in a list of numbers.\n"
   ]
  },
  {
   "cell_type": "code",
   "execution_count": 7,
   "id": "63605dfa-c379-415f-9274-6a45f0627ba7",
   "metadata": {},
   "outputs": [
    {
     "name": "stdout",
     "output_type": "stream",
     "text": [
      "The maximum element in the list is: 8\n"
     ]
    }
   ],
   "source": [
    "from functools import reduce\n",
    "\n",
    "def max_of_two(x, y):\n",
    "\n",
    "    return x if x > y else y\n",
    "\n",
    "# List of numbers\n",
    "numbers = [3, 5, 2, 8, 7, 1, 4]\n",
    "\n",
    "# Use of reduce fucntion...\n",
    "maximum = reduce(max_of_two, numbers)\n",
    "\n",
    "print(\"The maximum element in the list is:\", maximum)\n"
   ]
  },
  {
   "cell_type": "raw",
   "id": "0f6e52c2-a9a5-42aa-a91f-0730720f7c77",
   "metadata": {},
   "source": [
    "Q4:- How can you use the `reduce()` function to concatenate a list of strings into a single string?\n"
   ]
  },
  {
   "cell_type": "code",
   "execution_count": 9,
   "id": "fd342616-ff77-4755-a115-70dea7615683",
   "metadata": {},
   "outputs": [
    {
     "name": "stdout",
     "output_type": "stream",
     "text": [
      "Concatenated string: Hello world! How are you?\n"
     ]
    }
   ],
   "source": [
    "from functools import reduce\n",
    "\n",
    "def concatenate_strings(s1, s2):\n",
    "    return s1 + s2\n",
    "\n",
    "# List of strings\n",
    "strings = [\"Hello\", \" \", \"world\", \"! \", \"How\", \" \", \"are\", \" \", \"you?\"]\n",
    "\n",
    "# Use of reduce function\n",
    "result = reduce(concatenate_strings, strings)\n",
    "\n",
    "print(\"Concatenated string:\", result)\n",
    "\n"
   ]
  },
  {
   "cell_type": "raw",
   "id": "fcbcea48-5399-405e-b65e-a3aae8c2e404",
   "metadata": {},
   "source": [
    "Q5:- Write a Python program that calculates the factorial of a number using the `reduce()` function.\n"
   ]
  },
  {
   "cell_type": "code",
   "execution_count": 10,
   "id": "b3c441e2-4314-4d43-b04b-41fb30046bc9",
   "metadata": {},
   "outputs": [
    {
     "name": "stdout",
     "output_type": "stream",
     "text": [
      "The factorial of 5 is: 120\n"
     ]
    }
   ],
   "source": [
    "from functools import reduce\n",
    "\n",
    "def multiply(x, y):\n",
    "    return x * y\n",
    "\n",
    "def factorial(n):\n",
    "    if n < 0:\n",
    "        raise ValueError(\"Factorial is not defined for negative numbers.\")\n",
    "    \n",
    "    # Create a list of numbers from 1 to n\n",
    "    numbers = list(range(1, n + 1))\n",
    "    \n",
    "    # Use reduce to compute the factorial\n",
    "    return reduce(multiply, numbers, 1)  # Start with initial value 1\n",
    "\n",
    "# Driver Code\n",
    "number = 5\n",
    "fact = factorial(number)\n",
    "print(f\"The factorial of {number} is: {fact}\")\n"
   ]
  },
  {
   "cell_type": "raw",
   "id": "fc62a312-7864-4aaa-8e63-9c4d08def87f",
   "metadata": {},
   "source": [
    "Q6:- Create a Python program that uses `reduce()` to find the GCD (Greatest Common Divisor) of a list\n",
    "of numbers.\n"
   ]
  },
  {
   "cell_type": "code",
   "execution_count": null,
   "id": "8448c15e-db0a-45ff-b8f5-4353f9c7d7e6",
   "metadata": {},
   "outputs": [],
   "source": []
  },
  {
   "cell_type": "markdown",
   "id": "865ab418-6fc9-4ca5-8442-53c572130ec5",
   "metadata": {},
   "source": [
    "Q7:- Write a Python program that uses the `reduce()` function to find the sum of the digits of a given\n",
    "number."
   ]
  },
  {
   "cell_type": "code",
   "execution_count": 12,
   "id": "54b206f5-b297-4023-b68e-0ee159ab52af",
   "metadata": {},
   "outputs": [
    {
     "name": "stdout",
     "output_type": "stream",
     "text": [
      "The sum of the digits of 12345 is: 15\n"
     ]
    }
   ],
   "source": [
    "from functools import reduce\n",
    "\n",
    "def add(x, y):\n",
    "  \n",
    "    return x + y\n",
    "\n",
    "def sum_of_digits(n):\n",
    "    if n < 0:\n",
    "        raise ValueError(\"Sum of digits is not defined for negative numbers.\")\n",
    "    \n",
    "    # Convert the number to a list of its digits\n",
    "    digits = [int(digit) for digit in str(n)]\n",
    "    \n",
    "    # Use reduce to compute the sum of the digits\n",
    "    return reduce(add, digits, 0) \n",
    "\n",
    "# Driver Code\n",
    "number = 12345\n",
    "sum_digits = sum_of_digits(number)\n",
    "print(f\"The sum of the digits of {number} is: {sum_digits}\")\n"
   ]
  },
  {
   "cell_type": "markdown",
   "id": "b8043057-b0c5-4f0e-80bc-2f30de55696a",
   "metadata": {},
   "source": [
    "Filter :-\n",
    "\n",
    "\n",
    "\n",
    "\n",
    "Q1:- Explain the purpose of the `filter()` function in Python and provide an example of how it can be\n",
    "used to filter elements from an iterable."
   ]
  },
  {
   "cell_type": "code",
   "execution_count": 13,
   "id": "f290a163-9ac2-4ec4-b9ca-3a782086fea4",
   "metadata": {},
   "outputs": [
    {
     "name": "stdout",
     "output_type": "stream",
     "text": [
      "Even numbers: [2, 4, 6, 8, 10]\n"
     ]
    }
   ],
   "source": [
    "def is_even(number):\n",
    "    return number % 2 == 0\n",
    "\n",
    "# List of numbers\n",
    "numbers = [1, 2, 3, 4, 5, 6, 7, 8, 9, 10]\n",
    "\n",
    "# Use filter to get only even numbers\n",
    "even_numbers = filter(is_even, numbers)\n",
    "\n",
    "# Convert filter object to list\n",
    "even_numbers_list = list(even_numbers)\n",
    "\n",
    "print(\"Even numbers:\", even_numbers_list)\n"
   ]
  },
  {
   "cell_type": "markdown",
   "id": "7267988f-40af-4c10-aa24-dc1d8cba86ac",
   "metadata": {},
   "source": [
    "Q2:- Write a Python program that uses the `filter()` function to select even numbers from a list of\n",
    "integers."
   ]
  },
  {
   "cell_type": "code",
   "execution_count": 16,
   "id": "ce1a7049-60be-4f2c-931f-919cdcaa8005",
   "metadata": {},
   "outputs": [
    {
     "name": "stdout",
     "output_type": "stream",
     "text": [
      "Even numbers in the list: [10, 4, 18, 32, 50]\n"
     ]
    }
   ],
   "source": [
    "def is_even(number):\n",
    "    \"\"\"Return True if the number is even, False otherwise.\"\"\"\n",
    "    return number % 2 == 0\n",
    "\n",
    "# List of integers\n",
    "numbers = [10, 23, 4, 17, 18, 29, 32, 45, 50]\n",
    "\n",
    "# Use filter to select even numbers\n",
    "even_numbers = filter(is_even, numbers)\n",
    "\n",
    "# Convert filter object to list\n",
    "even_numbers_list = list(even_numbers)\n",
    "\n",
    "print(\"Even numbers in the list:\", even_numbers_list)\n"
   ]
  },
  {
   "cell_type": "markdown",
   "id": "e35829e3-1c28-4ab5-a2af-a200c6f43ffc",
   "metadata": {},
   "source": [
    "Q3:- Create a Python program that uses the `filter()` function to select names that start with a specific\n",
    "letter from a list of strings."
   ]
  },
  {
   "cell_type": "code",
   "execution_count": null,
   "id": "2643bc03-cd7e-49ca-9fc8-0f776fe52867",
   "metadata": {},
   "outputs": [],
   "source": []
  },
  {
   "cell_type": "markdown",
   "id": "12e2e9ea-fb9a-4f64-96c6-70bc063bb607",
   "metadata": {},
   "source": [
    "Q4:- Write a Python program that uses the `filter()` function to select prime numbers from a list of\n",
    "integers."
   ]
  },
  {
   "cell_type": "code",
   "execution_count": 15,
   "id": "1b21a523-eb23-424a-83eb-43a9547837a8",
   "metadata": {},
   "outputs": [
    {
     "name": "stdout",
     "output_type": "stream",
     "text": [
      "Prime numbers in the list: [23, 17, 29, 37]\n"
     ]
    }
   ],
   "source": [
    "def is_prime(num):\n",
    "    \"\"\"Return True if num is a prime number, False otherwise.\"\"\"\n",
    "    if num <= 1:\n",
    "        return False\n",
    "    if num <= 3:\n",
    "        return True\n",
    "    if num % 2 == 0 or num % 3 == 0:\n",
    "        return False\n",
    "    i = 5\n",
    "    while i * i <= num:\n",
    "        if num % i == 0 or num % (i + 2) == 0:\n",
    "            return False\n",
    "        i += 6\n",
    "    return True\n",
    "\n",
    "# List of integers\n",
    "numbers = [10, 23, 4, 17, 18, 29, 37, 50]\n",
    "\n",
    "# Use filter to select prime numbers\n",
    "primes = filter(is_prime, numbers)\n",
    "\n",
    "# Convert filter object to list\n",
    "prime_numbers = list(primes)\n",
    "\n",
    "print(\"Prime numbers in the list:\", prime_numbers)\n"
   ]
  },
  {
   "cell_type": "markdown",
   "id": "53af90ff-4224-4248-aca4-86645ea06f88",
   "metadata": {},
   "source": [
    "Q5:- How can you use the `filter()` function to remove None values from a list in Python?"
   ]
  },
  {
   "cell_type": "code",
   "execution_count": 14,
   "id": "937ed735-015e-4265-a774-d7c994fce0ef",
   "metadata": {},
   "outputs": [
    {
     "name": "stdout",
     "output_type": "stream",
     "text": [
      "List after removing None values: [1, 2, 3, 4, 5]\n"
     ]
    }
   ],
   "source": [
    "def is_not_none(value):\n",
    "    \"\"\"Return True if the value is not None, False otherwise.\"\"\"\n",
    "    return value is not None\n",
    "\n",
    "# List with some None values\n",
    "values = [1, None, 2, None, 3, 4, None, 5]\n",
    "\n",
    "# Use filter to remove None values\n",
    "filtered_values = filter(is_not_none, values)\n",
    "\n",
    "# Convert filter object to list\n",
    "filtered_list = list(filtered_values)\n",
    "\n",
    "print(\"List after removing None values:\", filtered_list)\n"
   ]
  },
  {
   "cell_type": "markdown",
   "id": "30df0d71-eaaa-4ab1-ba5f-4694b23f2b3a",
   "metadata": {},
   "source": [
    "Q6:- Create a Python program that uses `filter()` to select words longer than a certain length from a\n",
    "list of strings."
   ]
  },
  {
   "cell_type": "code",
   "execution_count": null,
   "id": "ab5920d1-2b27-431b-8dec-7758ab34ba60",
   "metadata": {},
   "outputs": [],
   "source": []
  },
  {
   "cell_type": "markdown",
   "id": "1420a813-53ca-4798-a7d8-eabcde52d6a6",
   "metadata": {},
   "source": [
    "Q7:- Write a Python program that uses the `filter()` function to select elements greater than a\n",
    "specified threshold from a list of values."
   ]
  },
  {
   "cell_type": "code",
   "execution_count": null,
   "id": "9324290e-79ce-4796-86ac-c4ba788c32c3",
   "metadata": {},
   "outputs": [],
   "source": []
  },
  {
   "cell_type": "raw",
   "id": "26832295-000c-4f10-9a93-753fac72451b",
   "metadata": {},
   "source": [
    "Recursion:-\n",
    "\n",
    "\n",
    "\n",
    "\n",
    "Q1:- Explain the concept of recursion in Python. How does it differ from iteration?"
   ]
  },
  {
   "cell_type": "markdown",
   "id": "4e470cec-3b70-4ce7-b0ff-d275a93b4e8c",
   "metadata": {},
   "source": [
    "Recursion is a technique in which the function calls itself in its body to solve the problem, typically breaking into smaller and more manageable sub-problems. In contrast, Iteration is a technique that repetitively executes a code block until the condition is unmet."
   ]
  },
  {
   "cell_type": "markdown",
   "id": "26dbdf6c-62f8-493d-8abc-45dd7cd80f36",
   "metadata": {},
   "source": [
    "Q2:- Write a Python program to calculate the factorial of a number using recursion."
   ]
  },
  {
   "cell_type": "code",
   "execution_count": null,
   "id": "fd81b796-b360-408b-9c4c-44477589ac73",
   "metadata": {},
   "outputs": [],
   "source": [
    "def fact(n):\n",
    "    if n <=1:\n",
    "        return 1\n",
    "    else:\n",
    "        return n*fact(n-1)\n",
    "\n",
    "# driver code \n",
    "n = 5\n",
    "result = fact(n)\n",
    "print(result)"
   ]
  },
  {
   "cell_type": "markdown",
   "id": "53d55a4c-93f1-491e-867d-eedebeee00af",
   "metadata": {},
   "source": [
    "Q3:- Create a recursive Python function to find the nth Fibonacci number."
   ]
  },
  {
   "cell_type": "code",
   "execution_count": null,
   "id": "eebf2e39-ff78-4c49-911b-27f73534ead8",
   "metadata": {},
   "outputs": [],
   "source": [
    "def fibonacci(n):\n",
    "    if n == 0:\n",
    "        return 0\n",
    "    elif n == 1:\n",
    "        return 1\n",
    "    else:\n",
    "        return fibonacci(n - 1) + fibonacci(n - 2)\n",
    "\n",
    "\n",
    "n = int(input(\"Enter the value of n to find the nth Fibonacci number: \"))\n",
    "print(f\"The {n}th Fibonacci number is:\", fibonacci(n))\n"
   ]
  },
  {
   "cell_type": "code",
   "execution_count": null,
   "id": "ab51315e-a562-4295-9f9e-5b950c5aac5f",
   "metadata": {},
   "outputs": [],
   "source": []
  },
  {
   "cell_type": "markdown",
   "id": "8ae2b3a9-f94d-44f0-86dd-51ee8536b525",
   "metadata": {},
   "source": [
    "Q4:- Write a recursive Python function to calculate the sum of all elements in a list."
   ]
  },
  {
   "cell_type": "code",
   "execution_count": null,
   "id": "80dcc78d-2e19-4c8b-b84f-51427004dd54",
   "metadata": {},
   "outputs": [],
   "source": [
    "def list_sum(lst):\n",
    "    if len(lst) == 0:\n",
    "        return 0\n",
    "    else:\n",
    "        return lst[0] + list_sum(lst[1:])\n",
    "\n",
    "#driver code\n",
    "numbers = [1, 2, 3, 4, 5]\n",
    "print(\"Sum of all elements in the list:\", list_sum(numbers))\n"
   ]
  },
  {
   "cell_type": "code",
   "execution_count": null,
   "id": "10a82e20-7c58-41ff-8880-0f9cddd4b458",
   "metadata": {},
   "outputs": [],
   "source": []
  },
  {
   "cell_type": "markdown",
   "id": "c9db9b72-490c-490c-999b-ef5d55426fac",
   "metadata": {},
   "source": [
    "Q5:- How can you prevent a recursive function from running indefinitely, causing a stack overflow\n",
    "error?\n"
   ]
  },
  {
   "cell_type": "markdown",
   "id": "23a2ef1c-7ea9-459c-bfbb-a2ac2db416d2",
   "metadata": {},
   "source": [
    "To prevent a recursive function from running indefinitely and causing a stack overflow error, you can use several strategies:\n",
    "\n",
    "1==> Base Case: Ensure that your recursive function has a base case, which is a condition under which the function stops calling itself. This is crucial for recursion to terminate correctly.\n",
    "\n",
    "\n",
    "2 ==> Correct Recursive Case: Make sure the recursive case progresses towards the base case. Each recursive call should modify the parameters in such a way that it eventually satisfies the base case.\n",
    "\n",
    "3 ==> Limit Depth: Implement a maximum depth limit to avoid excessive recursion. This is useful in cases where the problem might involve a large number of recursive calls."
   ]
  },
  {
   "cell_type": "markdown",
   "id": "231bf591-e644-4d6b-bf5b-1bfe50a9defb",
   "metadata": {},
   "source": [
    "Q6:- Create a recursive Python function to find the greatest common divisor (GCD) of two numbers\n",
    "using the Euclidean algorithm.\n"
   ]
  },
  {
   "cell_type": "code",
   "execution_count": null,
   "id": "12cc7c0d-8a18-412d-92d2-a8e4ca0c3c41",
   "metadata": {},
   "outputs": [],
   "source": [
    "def gcd(a, b):\n",
    "    \"\"\"\n",
    "    Recursive function to find the greatest common divisor (GCD)\n",
    "    of two numbers using the Euclidean algorithm.\n",
    "    \"\"\"\n",
    "    if b == 0:\n",
    "        return a\n",
    "    else:\n",
    "        \n",
    "        return gcd(b, a % b)\n",
    "\n",
    "num1 = int(input(\"Enter the first number: \"))\n",
    "num2 = int(input(\"Enter the second number: \"))\n",
    "\n",
    "\n",
    "result = gcd(num1, num2)\n",
    "print(\"The greatest common divisor (GCD) of\", num1, \"and\", num2, \"is:\", result)\n"
   ]
  },
  {
   "cell_type": "code",
   "execution_count": null,
   "id": "d8b000e9-598c-48c7-b4bf-55b51277ff13",
   "metadata": {},
   "outputs": [],
   "source": []
  },
  {
   "cell_type": "markdown",
   "id": "e578221e-7d36-4518-b289-a00ef21dcf05",
   "metadata": {},
   "source": [
    "Q7:- Write a recursive Python function to reverse a string."
   ]
  },
  {
   "cell_type": "code",
   "execution_count": null,
   "id": "17661d49-3c37-4d1b-91f5-f2c7c370c539",
   "metadata": {},
   "outputs": [],
   "source": [
    "def reverse_string(s):\n",
    "    \"\"\"\n",
    "    Recursive function to reverse a string.\n",
    "    \"\"\"\n",
    "    \n",
    "    if len(s) <= 1:\n",
    "        return s\n",
    "    else:\n",
    "       \n",
    "        return s[-1] + reverse_string(s[:-1])\n",
    "\n",
    "# Function call\n",
    "input_string = input(\"Enter a string: \")\n",
    "reversed_string = reverse_string(input_string)\n",
    "print(\"Reversed string:\", reversed_string)\n"
   ]
  },
  {
   "cell_type": "code",
   "execution_count": null,
   "id": "1be3c9ed-6296-4ead-b0e6-6039a8a49ebf",
   "metadata": {},
   "outputs": [],
   "source": []
  },
  {
   "cell_type": "markdown",
   "id": "1408b8e6-6509-4e78-ab5a-6cf1dbf9940c",
   "metadata": {},
   "source": [
    "Q8:- Create a recursive Python function to calculate the power of a number (x^n).\n"
   ]
  },
  {
   "cell_type": "code",
   "execution_count": 19,
   "id": "1638ae14-493c-4329-8cb7-99121c674108",
   "metadata": {},
   "outputs": [
    {
     "name": "stdout",
     "output_type": "stream",
     "text": [
      "8\n"
     ]
    }
   ],
   "source": [
    "def power(x, n):\n",
    "    # Base case 1: Any number raised to the power of 0 is 1\n",
    "    if n == 0:\n",
    "        return 1\n",
    "    # Base case 2: Any number raised to the power of 1 is the number itself\n",
    "    elif n == 1:\n",
    "        return x\n",
    "    # Recursive case: Use the property of exponents\n",
    "    elif n < 0:\n",
    "        # Handle negative exponents\n",
    "        return 1 / power(x, -n)\n",
    "    else:\n",
    "        # Recursive case for positive n\n",
    "        return x * power(x, n - 1)\n",
    "    \n",
    "# driver code\n",
    "print(power(2,3))\n"
   ]
  },
  {
   "cell_type": "code",
   "execution_count": null,
   "id": "784bba6a-5259-4bdc-8201-e00b36295f32",
   "metadata": {},
   "outputs": [],
   "source": []
  },
  {
   "cell_type": "markdown",
   "id": "b06d8b9e-506c-4f6e-ac82-dd2c2c8eda17",
   "metadata": {},
   "source": [
    "Q9:- Write a recursive Python function to find all permutations of a given string.\n"
   ]
  },
  {
   "cell_type": "code",
   "execution_count": null,
   "id": "d81ce8de-b1b6-435d-bcc7-c433dc48bc7a",
   "metadata": {},
   "outputs": [],
   "source": []
  },
  {
   "cell_type": "code",
   "execution_count": null,
   "id": "d4934c63-337e-4d5a-98d0-65fa50accdba",
   "metadata": {},
   "outputs": [],
   "source": []
  },
  {
   "cell_type": "markdown",
   "id": "cb61e079-2ff7-4d47-8236-9392f37f1f32",
   "metadata": {},
   "source": [
    "Q10:- Write a recursive Python function to check if a string is a palindrome.\n"
   ]
  },
  {
   "cell_type": "code",
   "execution_count": 20,
   "id": "6f2255ac-b6aa-4450-88d1-c2f42b16c32a",
   "metadata": {},
   "outputs": [
    {
     "name": "stdout",
     "output_type": "stream",
     "text": [
      "True\n"
     ]
    }
   ],
   "source": [
    "def is_palindrome(s):\n",
    "    # Base case 1: An empty string or a single character is a palindrome\n",
    "    if len(s) <= 1:\n",
    "        return True\n",
    "    \n",
    "    # Compare the first and last characters\n",
    "    if s[0] != s[-1]:\n",
    "        return False\n",
    "    \n",
    "    # Recursive case: Check the substring without the first and last characters\n",
    "    return is_palindrome(s[1:-1])\n",
    "\n",
    "\n",
    "# Driver Code\n",
    "print(is_palindrome(\"nitin\"))"
   ]
  },
  {
   "cell_type": "code",
   "execution_count": null,
   "id": "52e403ba-df3b-44c4-9ab1-6e7bad233a57",
   "metadata": {},
   "outputs": [],
   "source": []
  },
  {
   "cell_type": "markdown",
   "id": "1e9e218b-698a-4691-8b1e-e04699057238",
   "metadata": {},
   "source": [
    "Q11:- Create a recursive Python function to generate all possible combinations of a list of elements."
   ]
  },
  {
   "cell_type": "code",
   "execution_count": null,
   "id": "a00aaea1-a445-4c97-80a8-729971029c70",
   "metadata": {},
   "outputs": [],
   "source": [
    "def combinations(lst):\n",
    "    \"\"\"\n",
    "    Recursive function to generate all possible combinations of a list of elements.\n",
    "    \"\"\"\n",
    "    def generate_combinations(current_combination, remaining_elements):\n",
    "        \"\"\"\n",
    "        Helper function to recursively generate combinations.\n",
    "        \"\"\"\n",
    "        # Base case: If there are no more elements to choose from,\n",
    "        # add the current combination to the result\n",
    "        if len(remaining_elements) == 0:\n",
    "            result.append(current_combination)\n",
    "        else:\n",
    "            # Choose each element from the remaining elements and generate combinations\n",
    "            for i in range(len(remaining_elements)):\n",
    "                next_combination = current_combination + [remaining_elements[i]]\n",
    "                next_remaining = remaining_elements[i+1:]\n",
    "                generate_combinations(next_combination, next_remaining)\n",
    "    \n",
    "    # Initialize an empty list to store the result\n",
    "    result = []\n",
    "    # Start generating combinations with an empty current combination and the entire list\n",
    "    generate_combinations([], lst)\n",
    "    return result\n",
    "\n",
    "# function call\n",
    "elements = [1, 2, 3]\n",
    "print(\"All possible combinations of\", elements, \"are:\")\n",
    "print(combinations(elements))\n"
   ]
  },
  {
   "cell_type": "code",
   "execution_count": null,
   "id": "1c9e9ee0-a4fb-44af-943e-4f06ef682257",
   "metadata": {},
   "outputs": [],
   "source": []
  },
  {
   "cell_type": "markdown",
   "id": "f45e51e8-e574-4994-878d-22b4514fca9a",
   "metadata": {},
   "source": [
    "Basics of Functions:\n",
    "    \n",
    "    \n",
    "\n",
    "    \n",
    "    \n",
    "Q1:- What is a function in Python, and why is it used?"
   ]
  },
  {
   "cell_type": "markdown",
   "id": "5ce57bac-10fc-47cf-b45e-334bac549436",
   "metadata": {},
   "source": [
    "a function is a block of reusable code that performs a specific task. Functions provide a way to organize code into manageable chunks, making it easier to understand, reuse, and maintain.\n",
    "\n",
    "\n",
    "It is used for:-\n",
    "1. modularization and reusability of code\n",
    "2.  abstraction\n",
    "3. Code organization\n",
    "4. Encapsulation\n"
   ]
  },
  {
   "cell_type": "code",
   "execution_count": null,
   "id": "185d5fa0-4682-407d-94d7-a5bebd29cc92",
   "metadata": {},
   "outputs": [],
   "source": []
  },
  {
   "cell_type": "markdown",
   "id": "240ac988-079b-4df3-9f38-b144fabe15bd",
   "metadata": {},
   "source": [
    "Q2:- How do you define a function in Python? Provide an example.\n"
   ]
  },
  {
   "cell_type": "code",
   "execution_count": null,
   "id": "605d2d41-a867-4924-9bf4-c05f1f942560",
   "metadata": {},
   "outputs": [],
   "source": [
    "\n",
    "def greet(user):\n",
    "    return \"Hello\" + user\n",
    "\n",
    "#function call\n",
    "\n",
    "user = \"Ketan\"\n",
    "greet(user)"
   ]
  },
  {
   "cell_type": "code",
   "execution_count": null,
   "id": "7702b7d5-6a46-4d3c-8719-f73a1a107215",
   "metadata": {},
   "outputs": [],
   "source": []
  },
  {
   "cell_type": "markdown",
   "id": "3bbb10d0-7056-440e-8708-8cbd443387c9",
   "metadata": {},
   "source": [
    "Q3:- Explain the difference between a function definition and a function call.\n"
   ]
  },
  {
   "cell_type": "markdown",
   "id": "aa6913c1-defc-4ec2-bae6-d42719731b89",
   "metadata": {},
   "source": [
    "Function Definition:\n",
    "\n",
    "A function definition is where the actual implementation of a function is written.\n",
    "It defines what the function does when called and typically includes the function name, parameters (if any), and the code block that constitutes the function's body.\n",
    "\n",
    "Function Call:\n",
    "\n",
    "A function call is the action of executing or invoking a function that has been previously defined.\n",
    "It involves using the function name followed by parentheses, optionally containing arguments (if the function requires any).\n",
    "\n"
   ]
  },
  {
   "cell_type": "code",
   "execution_count": null,
   "id": "10d05ddc-444f-425f-9dfa-9201b0422dc0",
   "metadata": {},
   "outputs": [],
   "source": []
  },
  {
   "cell_type": "markdown",
   "id": "19b2c06d-4d65-4ca5-8059-66ff74779194",
   "metadata": {},
   "source": [
    "Q4:- Write a Python program that defines a function to calculate the sum of two numbers and then\n",
    "calls the function."
   ]
  },
  {
   "cell_type": "code",
   "execution_count": null,
   "id": "58e6655c-b931-4ad8-b57d-cfbb6db455e9",
   "metadata": {},
   "outputs": [],
   "source": [
    "def sumfunc(a,b):\n",
    "    a = a+b \n",
    "    return a \n",
    "\n",
    "    \n",
    "##driver code...................\n",
    "a = 10 \n",
    "b = 5 \n",
    "result = sumfunc(a,b) ## this is called function calling...............\n",
    "print(result)"
   ]
  },
  {
   "cell_type": "markdown",
   "id": "85c616a6-d09a-477f-beb4-9b18e78f31e3",
   "metadata": {},
   "source": [
    "Q5:- What is a function signature, and what information does it typically include?"
   ]
  },
  {
   "cell_type": "markdown",
   "id": "8b6c7495-3cb5-468f-abc0-cf302ded52f8",
   "metadata": {},
   "source": [
    "\n",
    "A function signature, also known as a function prototype or function declaration, defines the interface of a function.\n",
    "\n",
    "Function Name: The name by which the function is identified within the program.\n",
    "\n",
    "Return Type: The data type of the value that the function returns after execution. It could be int, float, str, list, tuple, dict, None, or any other data type.\n",
    "\n",
    "Parameters/Arguments: The list of parameters that the function accepts.\n",
    "\n",
    "Exception(s): In some programming languages, especially those that support exception handling,\n"
   ]
  },
  {
   "cell_type": "code",
   "execution_count": null,
   "id": "e88c182b-b4a0-4a7f-98ce-f99af322793c",
   "metadata": {},
   "outputs": [],
   "source": []
  },
  {
   "cell_type": "markdown",
   "id": "bffd262b-6335-4e97-9ce8-66ffe596f402",
   "metadata": {},
   "source": [
    "Q6:- Create a Python function that takes two arguments and returns their product"
   ]
  },
  {
   "cell_type": "code",
   "execution_count": 1,
   "id": "46cad6a3-f0d3-445a-a27d-845c7abd33a1",
   "metadata": {},
   "outputs": [
    {
     "name": "stdin",
     "output_type": "stream",
     "text": [
      "Enter the first number:  12\n",
      "Enter the second number:  3\n"
     ]
    },
    {
     "name": "stdout",
     "output_type": "stream",
     "text": [
      "The product of 12.0 and 3.0 is: 36.0\n"
     ]
    }
   ],
   "source": [
    "def product(x, y):\n",
    "    return x * y\n",
    "\n",
    "# Driver code\n",
    "num1 = float(input(\"Enter the first number: \"))\n",
    "num2 = float(input(\"Enter the second number: \"))\n",
    "print(\"The product of\", num1, \"and\", num2, \"is:\", product(num1, num2))\n"
   ]
  },
  {
   "cell_type": "markdown",
   "id": "5198f1be-fe2a-423e-8d9d-2fdeef06b708",
   "metadata": {},
   "source": [
    "\n",
    "Function Parameters and Arguments:\n",
    "\n",
    "Q1:- Explain the concepts of formal parameters and actual arguments in Python functions.\n"
   ]
  },
  {
   "cell_type": "markdown",
   "id": "5668f82c-525e-459e-a784-2827fc2c6d16",
   "metadata": {},
   "source": [
    "Formal Parameters\n",
    "\n",
    "Formal parameters are the variables listed in the function definition. They act as placeholders for the values that will be passed to the function when it is called. They define what kind of information the function expects to receive.\n",
    "\n",
    "Actual Arguments\n",
    "\n",
    "Actual arguments are the real values or variables that are passed to the function when it is called. They replace the formal parameters with actual values and are used within the function body."
   ]
  },
  {
   "cell_type": "markdown",
   "id": "d3e38554-2dc7-4669-b254-c186a8d4e0dd",
   "metadata": {},
   "source": [
    "Q2:- Write a Python program that defines a function with default argument values.\n"
   ]
  },
  {
   "cell_type": "code",
   "execution_count": 21,
   "id": "c0627217-6e23-4fce-a1e0-94e6cd6dc40b",
   "metadata": {},
   "outputs": [
    {
     "name": "stdout",
     "output_type": "stream",
     "text": [
      "Hello, Guest!\n",
      "Hello, Alice!\n",
      "Hi, Guest!\n",
      "Hey, Bob!\n"
     ]
    }
   ],
   "source": [
    "def create_greeting(name=\"Guest\", greeting=\"Hello\"):\n",
    "    \"\"\"\n",
    "    Function to create a personalized greeting message.\n",
    "    \n",
    "    Parameters:\n",
    "    - name (str): The name of the person to greet. Default is \"Guest\".\n",
    "    - greeting (str): The greeting message. Default is \"Hello\".\n",
    "    \n",
    "    Returns:\n",
    "    - str: A personalized greeting message.\n",
    "    \"\"\"\n",
    "    return f\"{greeting}, {name}!\"\n",
    "\n",
    "# driver code\n",
    "print(create_greeting())            \n",
    "print(create_greeting(\"Alice\"))      \n",
    "print(create_greeting(greeting=\"Hi\")) \n",
    "print(create_greeting(\"Bob\", \"Hey\"))   \n"
   ]
  },
  {
   "cell_type": "markdown",
   "id": "ebafd9e1-74db-496d-a1d2-e4f7ea4b7ca0",
   "metadata": {},
   "source": [
    "Q3:- How do you use keyword arguments in Python function calls? Provide an example.\n"
   ]
  },
  {
   "cell_type": "code",
   "execution_count": 22,
   "id": "250c1b1a-1a11-4583-bc8b-16c6c58a698f",
   "metadata": {},
   "outputs": [
    {
     "name": "stdout",
     "output_type": "stream",
     "text": [
      "Alice, aged 30, lives in New York, USA.\n",
      "Bob, aged 25, lives in Paris, Unknown.\n",
      "Charlie, aged 40, lives in Unknown, Unknown.\n"
     ]
    }
   ],
   "source": [
    "def describe_person(name, age, city=\"Unknown\", country=\"Unknown\"):\n",
    "    \"\"\"\n",
    "    Function to describe a person with name, age, and optional city and country.\n",
    "    \n",
    "    Parameters:\n",
    "    - name (str): The name of the person.\n",
    "    - age (int): The age of the person.\n",
    "    - city (str): The city where the person lives. Default is \"Unknown\".\n",
    "    - country (str): The country where the person lives. Default is \"Unknown\".\n",
    "    \n",
    "    Returns:\n",
    "    - str: A description of the person.\n",
    "    \"\"\"\n",
    "    return f\"{name}, aged {age}, lives in {city}, {country}.\"\n",
    "\n",
    "# Example usage with keyword arguments\n",
    "print(describe_person(name=\"Alice\", age=30, city=\"New York\", country=\"USA\"))\n",
    "# Output: Alice, aged 30, lives in New York, USA.\n",
    "\n",
    "print(describe_person(name=\"Bob\", age=25, city=\"Paris\"))\n",
    "# Output: Bob, aged 25, lives in Paris, Unknown.\n",
    "\n",
    "print(describe_person(age=40, name=\"Charlie\"))\n",
    "# Output: Charlie, aged 40, lives in Unknown, Unknown.\n"
   ]
  },
  {
   "cell_type": "markdown",
   "id": "f6a62dd9-fd4f-4046-9609-45a6a4f0b11c",
   "metadata": {},
   "source": [
    "Q4:- Create a Python function that accepts a variable number of arguments and calculates their sum.\n"
   ]
  },
  {
   "cell_type": "code",
   "execution_count": 23,
   "id": "3055f7c7-9c08-491a-bf9e-70124cec174e",
   "metadata": {},
   "outputs": [
    {
     "name": "stdout",
     "output_type": "stream",
     "text": [
      "6\n",
      "100\n"
     ]
    }
   ],
   "source": [
    "def sum_numbers(*args):\n",
    "    \"\"\"\n",
    "    Function to calculate the sum of a variable number of arguments.\n",
    "    \n",
    "    Parameters:\n",
    "    - *args: A variable number of positional arguments (numbers).\n",
    "    \n",
    "    Returns:\n",
    "    - int or float: The sum of all arguments.\n",
    "    \"\"\"\n",
    "    # Calculate the sum of all arguments\n",
    "    total = sum(args)\n",
    "    return total\n",
    "# Driver Code\n",
    "print(sum_numbers(1, 2, 3))            \n",
    "print(sum_numbers(10, 20, 30, 40))     \n"
   ]
  },
  {
   "cell_type": "markdown",
   "id": "22819a0f-8b54-40ac-aa21-578a146ff4cb",
   "metadata": {},
   "source": [
    "Q5:- What is the purpose of the `*args` and `**kwargs` syntax in function parameter lists?\n"
   ]
  },
  {
   "cell_type": "markdown",
   "id": "8faedb04-b79d-4147-a291-a66f64d8890b",
   "metadata": {},
   "source": [
    "In Python, *args and **kwargs are used in function definitions to handle a variable number of arguments. They allow for more flexible function signatures by enabling functions to accept an arbitrary number of positional and keyword arguments, respectively. Here’s a detailed explanation of each:\n",
    "\n",
    "\n",
    "*args\n",
    "Purpose: *args allows a function to accept any number of positional arguments (i.e., arguments passed without explicitly specifying parameter names). The arguments are collected into a tuple.\n",
    "Syntax: The * symbol before args (or any name) in the function definition indicates that the function will accept additional positional arguments.\n",
    "\n",
    "kwargs\n",
    "\n",
    "Purpose: **kwargs allows a function to accept any number of keyword arguments (i.e., arguments passed with explicit parameter names). The arguments are collected into a dictionary.\n",
    "Syntax: The ** symbol before kwargs (or any name) in the function definition indicates that the function will accept additional keyword arguments.\n"
   ]
  },
  {
   "cell_type": "markdown",
   "id": "85f84915-b6c9-4776-98ab-8f48707c9d64",
   "metadata": {},
   "source": [
    "\n",
    "Return Values and Scoping:\n",
    "\n",
    "Q1:- Describe the role of the `return` statement in Python functions and provide examples.\n"
   ]
  },
  {
   "cell_type": "markdown",
   "id": "fac5c2b9-0948-455c-85e7-b2af5c41b859",
   "metadata": {},
   "source": [
    "The return statement in Python functions plays a crucial role in determining the output of a function. It is used to exit a function and optionally pass back a value to the caller. The value returned by a function can be used for further computation or as input to other functions. If no return statement is present, or if return is used without an expression, the function returns None by default.\n"
   ]
  },
  {
   "cell_type": "markdown",
   "id": "48fb599d-2b38-49ea-aa89-5f1168d17167",
   "metadata": {},
   "source": [
    "Q2:- Explain the concept of variable scope in Python, including local and global variables.\n"
   ]
  },
  {
   "cell_type": "markdown",
   "id": "f8591753-5971-4fe4-bce0-dab757a999e9",
   "metadata": {},
   "source": [
    "Variable scope in Python refers to the region within a program where a variable is accessible. Understanding scope is crucial for writing functions and managing variables effectively. In Python, variable scope can be categorized into several types, with the most common being local and global scope.\n",
    "\n",
    "Local Variables\n",
    "Definition: Local variables are defined within a function and can only be accessed from within that function. They exist only during the execution of the function.\n",
    "\n",
    "Lifetime: They are created when the function is called and destroyed when the function exits.\n",
    "\n",
    "\n",
    "\n",
    "Variable scope in Python refers to the region within a program where a variable is accessible. Understanding scope is crucial for writing functions and managing variables effectively. In Python, variable scope can be categorized into several types, with the most common being local and global scope.\n",
    "\n",
    "Local Variables\n",
    "Definition: Local variables are defined within a function and can only be accessed from within that function. They exist only during the execution of the function.They are created when the function is called and destroyed when the function exits.\n",
    "\n",
    "Global Variables\n",
    "\n",
    "Definition: Global variables are defined outside of all functions and can be accessed from any function or module within the same script or module. They exist for the duration of the program’s execution.\n",
    "They are created when the script starts and destroyed when the script ends.\n"
   ]
  },
  {
   "cell_type": "markdown",
   "id": "a94e470e-4e19-45f2-bcb4-47bc3cf16f9c",
   "metadata": {},
   "source": [
    "Q3:- Write a Python program that demonstrates the use of global variables within functions.\n"
   ]
  },
  {
   "cell_type": "code",
   "execution_count": 27,
   "id": "08be0881-7469-4614-b228-f79b30efe592",
   "metadata": {},
   "outputs": [
    {
     "name": "stdout",
     "output_type": "stream",
     "text": [
      "The current count is: 2\n",
      "The current count is: 1\n"
     ]
    }
   ],
   "source": [
    "# Define a global variable\n",
    "count = 0\n",
    "\n",
    "def increment():\n",
    "    global count  # Declare that we want to use the global variable `count`\n",
    "    count += 1\n",
    "\n",
    "def decrement():\n",
    "    global count  # Declare that we want to use the global variable `count`\n",
    "    count -= 1\n",
    "\n",
    "def display_count():\n",
    "\n",
    "    print(f\"The current count is: {count}\")\n",
    "\n",
    "# Driver code\n",
    "increment()\n",
    "increment()\n",
    "display_count()  \n",
    "decrement()\n",
    "display_count()  \n"
   ]
  },
  {
   "cell_type": "markdown",
   "id": "e994b09f-4bb3-41b1-943e-7fb7ece2fb22",
   "metadata": {},
   "source": [
    "Q4:- Create a Python function that calculates the factorial of a number and returns it.\n"
   ]
  },
  {
   "cell_type": "code",
   "execution_count": 28,
   "id": "d59f8520-2e38-48b7-8ee3-93d4475e3963",
   "metadata": {},
   "outputs": [
    {
     "name": "stdout",
     "output_type": "stream",
     "text": [
      "120\n"
     ]
    }
   ],
   "source": [
    "def factorial_recursive(n):\n",
    "    if n < 0:\n",
    "        raise ValueError(\"Factorial is not defined for negative numbers.\")\n",
    "    \n",
    "    if n == 0 or n == 1:\n",
    "        return 1\n",
    "    else:\n",
    "        return n * factorial_recursive(n - 1)\n",
    "\n",
    "# Driver Code\n",
    "print(factorial_recursive(5))  # Output: 120\n",
    " "
   ]
  },
  {
   "cell_type": "markdown",
   "id": "bdaf3cb5-02c7-4647-bcb7-047ecb9911a9",
   "metadata": {},
   "source": [
    "Q5:- How can you access variables defined outside a function from within the function?\n"
   ]
  },
  {
   "cell_type": "markdown",
   "id": "0949e0c5-ce19-423d-8a89-e0ebcae5284a",
   "metadata": {},
   "source": [
    "In Python, accessing variables defined outside a function from within the function involves understanding variable scope. Variables defined outside any function are called global variables and can be accessed inside functions, but modifications require explicit declarations."
   ]
  },
  {
   "cell_type": "markdown",
   "id": "9e308ad5-e793-410a-a823-78ee63228556",
   "metadata": {},
   "source": [
    "Lambda Functions and Higher-Order Functions:\n",
    "\n",
    "Q1:- What are lambda functions in Python, and when are they typically used?\n"
   ]
  },
  {
   "cell_type": "markdown",
   "id": "34205e3e-8915-4970-ab7d-d4654dd4718e",
   "metadata": {},
   "source": [
    "Lambda functions in Python are a way to create small, anonymous functions on the fly. They are useful for short-term operations and are defined using the lambda keyword. Unlike regular functions defined with def, lambda functions are not given a name and are typically used for simple operations that are needed temporarily."
   ]
  },
  {
   "cell_type": "markdown",
   "id": "07407d21-ec04-4191-8d6e-b494892a9b10",
   "metadata": {},
   "source": [
    "Q2:- Write a Python program that uses lambda functions to sort a list of tuples based on the second element.\n"
   ]
  },
  {
   "cell_type": "code",
   "execution_count": 33,
   "id": "aa6dc8da-f71c-4db3-b7eb-0a0f50eee1a1",
   "metadata": {},
   "outputs": [
    {
     "name": "stdout",
     "output_type": "stream",
     "text": [
      "Sorted list based on the second element:\n",
      "(1, 'apple')\n",
      "(2, 'banana')\n",
      "(3, 'cherry')\n",
      "(4, 'date')\n"
     ]
    }
   ],
   "source": [
    "# Define a list of tuples\n",
    "data = [(1, 'apple'), (2, 'banana'), (3, 'cherry'), (4, 'date')]\n",
    "\n",
    "sorted_data = sorted(data, key=lambda x: x[1])\n",
    "\n",
    "\n",
    "print(\"Sorted list based on the second element:\")\n",
    "for item in sorted_data:\n",
    "    print(item)\n"
   ]
  },
  {
   "cell_type": "markdown",
   "id": "157d4457-59b8-4409-a04b-2796f20477ab",
   "metadata": {},
   "source": [
    "Q3:- Explain the concept of higher-order functions in Python, and provide an example."
   ]
  },
  {
   "cell_type": "markdown",
   "id": "6abbb4fb-2144-43f0-a381-8876f427e10e",
   "metadata": {},
   "source": [
    "==> higher-order functions are a fundamental concept in functional programming and are commonly used in Python. They are functions that can take other functions as arguments or return functions as results. This feature allows for more abstract and flexible code by enabling functions to operate on other functions.\n",
    "\n",
    "==> Key Concepts of Higher-Order Functions\n",
    "1 ==> Functions as Arguments: Higher-order functions can accept other functions as parameters. This allows you to pass behavior into functions and make them more versatile.\n",
    "2 ==> Functions as Return Values: Higher-order functions can return other functions as results. This is useful for creating function factories or closures.\n",
    "3 ==> Abstraction and Reusability: By treating functions as first-class objects, you can abstract and reuse code more effectively.\n",
    "\n",
    "Examples of Higher-Order Functions in Python\n",
    "Example 1: Passing Functions as Arguments\n",
    "One common higher-order function in Python is map(), which applies a given function to each item of an iterable (like a list) and returns a list of the results.\n",
    "\n",
    "Example 2: Returning Functions from Other Functions\n",
    "You can also create higher-order functions that return other functions. Here’s an example using a function factory:"
   ]
  },
  {
   "cell_type": "markdown",
   "id": "c442797a-83af-4c60-966e-9b00b6c270d0",
   "metadata": {},
   "source": [
    "Q4:- Create a Python function that takes a list of numbers and a function as arguments, applying the function to each element in the list.\n"
   ]
  },
  {
   "cell_type": "code",
   "execution_count": 31,
   "id": "d258a638-06b6-4b11-9cd5-0a1dff1c6598",
   "metadata": {},
   "outputs": [
    {
     "name": "stdout",
     "output_type": "stream",
     "text": [
      "Squared numbers: [1, 4, 9, 16, 25]\n",
      "Incremented numbers: [2, 3, 4, 5, 6]\n"
     ]
    }
   ],
   "source": [
    "def apply_function_to_list(numbers, func):\n",
    "  \n",
    "\n",
    "    return [func(x) for x in numbers]\n",
    "\n",
    "\n",
    "# Define a function to be applied\n",
    "def square(x):\n",
    "    #Return the square of a number.\n",
    "    return x * x\n",
    "\n",
    "def increment(x):\n",
    "    #Return the number incremented by 1.\n",
    "    return x + 1\n",
    "\n",
    "# List of numbers\n",
    "numbers = [1, 2, 3, 4, 5]\n",
    "\n",
    "# Apply the square function to each element\n",
    "squared_numbers = apply_function_to_list(numbers, square)\n",
    "print(f\"Squared numbers: {squared_numbers}\")\n",
    "\n",
    "# Apply the increment function to each element\n",
    "incremented_numbers = apply_function_to_list(numbers, increment)\n",
    "print(f\"Incremented numbers: {incremented_numbers}\")\n"
   ]
  },
  {
   "cell_type": "markdown",
   "id": "a3fd7840-5175-4e71-a3ef-ac3e01ac20f4",
   "metadata": {},
   "source": [
    "Built-in Functions:\n",
    "\n",
    "Q1:- Describe the role of built-in functions like `len()`, `max()`, and `min()` in Python.\n"
   ]
  },
  {
   "cell_type": "markdown",
   "id": "e0cdde28-44b2-4862-9580-69684089e75d",
   "metadata": {},
   "source": [
    "len()\n",
    "Purpose: The len() function returns the number of items (length) in an object.\n",
    "\n",
    "Usage: It can be used with various data structures such as lists, tuples, strings, dictionaries, and sets.\n",
    "\n",
    "max()\n",
    "Purpose: The max() function returns the largest item from an iterable or the largest of two or more arguments.\n",
    "\n",
    "Usage: It is used to find the maximum value from a list, tuple, or other iterable. It can also compare multiple values directly.\n",
    "\n",
    "min()\n",
    "Purpose: The min() function returns the smallest item from an iterable or the smallest of two or more arguments.\n",
    "\n",
    "Usage: It is used to find the minimum value from a list, tuple, or other iterable. It can also compare multiple values directly."
   ]
  },
  {
   "cell_type": "markdown",
   "id": "0df6a4f6-b05e-48ed-a13d-4be5a99b0167",
   "metadata": {},
   "source": [
    "Q2:- Write a Python program that uses the `map()` function to apply a function to each element of a list.\n"
   ]
  },
  {
   "cell_type": "code",
   "execution_count": 34,
   "id": "a99bc786-d347-40cd-b11e-4ba1c99b865a",
   "metadata": {},
   "outputs": [
    {
     "name": "stdout",
     "output_type": "stream",
     "text": [
      "[1, 4, 9, 16, 25]\n"
     ]
    }
   ],
   "source": [
    "# List of numbers\n",
    "numbers = [1, 2, 3, 4, 5]\n",
    "\n",
    "squared_numbers = map(lambda x: x * x, numbers)\n",
    "squared_numbers_list = list(squared_numbers)\n",
    "print(squared_numbers_list)  "
   ]
  },
  {
   "cell_type": "markdown",
   "id": "4095cf73-6dd2-42ec-88de-1947f3ef7495",
   "metadata": {},
   "source": [
    "Q3:- How does the `filter()` function work in Python, and when would you use it?\n"
   ]
  },
  {
   "cell_type": "markdown",
   "id": "b1f8f129-c736-4e4c-957d-eac75f8c721d",
   "metadata": {},
   "source": [
    "==> The filter() function in Python is used to construct an iterator from elements of an iterable for which a function returns True. It allows you to filter out elements based on a condition specified by a function. The filter() function is useful when you want to selectively include items from a list or other iterable based on a predicate (a function that returns a boolean value).\n",
    "\n",
    "==> How filter() Works\n",
    "==> Function Application: The filter() function applies the function to each element of the iterable.\n",
    "Condition Check: It retains only those elements for which the function returns True.\n",
    "Result: The result is an iterator that yields the filtered elements."
   ]
  },
  {
   "cell_type": "markdown",
   "id": "9c75a075-5208-4ecb-bf56-8bee74ddaedf",
   "metadata": {},
   "source": [
    "Q4:- Create a Python program that uses the `reduce()` function to find the product of all elements in a list.\n"
   ]
  },
  {
   "cell_type": "code",
   "execution_count": 35,
   "id": "0ec63e15-0def-4135-8c92-ed184a3c8c7b",
   "metadata": {},
   "outputs": [
    {
     "name": "stdout",
     "output_type": "stream",
     "text": [
      "The product of all elements is: 120\n"
     ]
    }
   ],
   "source": [
    "from functools import reduce\n",
    "\n",
    "def multiply(x, y):\n",
    "    return x * y\n",
    "\n",
    "# List of numbers\n",
    "numbers = [1, 2, 3, 4, 5]\n",
    "\n",
    "\n",
    "product = reduce(multiply, numbers)\n",
    "\n",
    "# Print the result\n",
    "print(f\"The product of all elements is: {product}\")  # Output: 120\n"
   ]
  },
  {
   "cell_type": "markdown",
   "id": "8ff7ef0a-cfb7-4c92-b260-d3dc4cc8d31f",
   "metadata": {},
   "source": [
    "\n",
    "Function Documentation and Best Practices:\n",
    "\n",
    "Q1:- Explain the purpose of docstrings in Python functions and how to write them.\n"
   ]
  },
  {
   "cell_type": "markdown",
   "id": "7cc6c3f4-c6bc-42a1-9ebe-92d5183c7547",
   "metadata": {},
   "source": [
    "Purpose of Docstrings\n",
    "\n",
    "1 ==> Documentation: Provide clear and concise explanations of what a function, class, or module does, its parameters, and its return values.\n",
    "2 ==> Code Readability: Improve the readability of the code by describing its purpose and functionality directly in the code.\n",
    "3 ==> Help Functions: Allow users to access documentation interactively using Python's built-in help system (e.g., help(function_name)).\n",
    "4 ==> Automatic Documentation Generation: Facilitate the generation of documentation using tools like Sphinx or pydoc.\n"
   ]
  },
  {
   "cell_type": "markdown",
   "id": "96f985a8-fb37-48c1-a7af-4a4f0de5c0b6",
   "metadata": {},
   "source": [
    "Q2:- Describe some best practices for naming functions and variables in Python, including naming conventions and guidelines.\n"
   ]
  },
  {
   "cell_type": "markdown",
   "id": "2402aa04-4941-4eff-904d-19e46e2e6721",
   "metadata": {},
   "source": [
    ". Use Descriptive Names\n",
    "\n",
    "Function Names: Use descriptive names that indicate what the function does. Aim for clarity over brevity.\n",
    "Example: calculate_total_price() is better than calc().\n",
    "Variable Names: Choose names that convey the purpose or content of the variable.\n",
    "Example: user_age is better than ua.\n",
    "\n",
    "2. Follow Naming Conventions\n",
    "\n",
    "Function Names: Use lowercase words separated by underscores (snake_case).\n",
    "Example: get_user_info(), fetch_data_from_server()\n",
    "Variable Names: Use lowercase words separated by underscores (snake_case).\n",
    "Example: max_height, file_path\n",
    "Class Names: Use CapitalizedWords (CamelCase) for class names.\n",
    "Example: UserProfile, DataProcessor\n",
    "Constants: Use all uppercase letters with underscores separating words (UPPER_CASE).\n",
    "Example: MAX_CONNECTIONS, DEFAULT_TIMEOUT\n",
    "\n",
    "\n",
    "3. Be Consistent\n",
    "\n",
    "Stick to one naming convention throughout your codebase or project.\n",
    "Consistent naming helps in maintaining readability and understanding the code."
   ]
  }
 ],
 "metadata": {
  "kernelspec": {
   "display_name": "Python 3 (ipykernel)",
   "language": "python",
   "name": "python3"
  },
  "language_info": {
   "codemirror_mode": {
    "name": "ipython",
    "version": 3
   },
   "file_extension": ".py",
   "mimetype": "text/x-python",
   "name": "python",
   "nbconvert_exporter": "python",
   "pygments_lexer": "ipython3",
   "version": "3.10.8"
  }
 },
 "nbformat": 4,
 "nbformat_minor": 5
}
