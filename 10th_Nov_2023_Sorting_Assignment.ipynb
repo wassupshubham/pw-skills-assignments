{
 "cells": [
  {
   "cell_type": "markdown",
   "id": "d3e745be-9d28-40f4-a5b1-17856c7d0779",
   "metadata": {},
   "source": [
    "Problem 1.Given an array of n numbers, give an algorithm which gives the element appearing maximum\n",
    "number of times?"
   ]
  },
  {
   "cell_type": "code",
   "execution_count": 3,
   "id": "9f5e177c-f19e-4fbd-b632-21f4990d85df",
   "metadata": {},
   "outputs": [
    {
     "name": "stdout",
     "output_type": "stream",
     "text": [
      "The element with the maximum frequency is: 2\n"
     ]
    }
   ],
   "source": [
    "def find_maximum_frequency_element(arr):\n",
    "    frequency_dict = {}\n",
    "    \n",
    "    for element in arr:\n",
    "        if element in frequency_dict:\n",
    "            frequency_dict[element] += 1\n",
    "        else:\n",
    "            frequency_dict[element] = 1\n",
    "    \n",
    "    \n",
    "    max_element = None\n",
    "    max_frequency = 0\n",
    "    \n",
    "    for element, frequency in frequency_dict.items():\n",
    "        if frequency > max_frequency:\n",
    "            max_frequency = frequency\n",
    "            max_element = element\n",
    "    \n",
    "    return max_element\n",
    "\n",
    "# Driver Code \n",
    "arr = [1, 3, 2, 1, 4, 1, 3, 2, 2, 2]\n",
    "result = find_maximum_frequency_element(arr)\n",
    "print(f\"The element with the maximum frequency is: {result}\")\n"
   ]
  },
  {
   "cell_type": "markdown",
   "id": "291bbfe1-83f6-4ce8-bde7-c3bb095f0a6e",
   "metadata": {},
   "source": [
    "Problem 2 : We are given a list of n-1 integers and these integers are in the range of 1 to n . There are no\n",
    "duplicates in the list. One of the integers is missing in the list. Give an algorithm to find that element Ex:\n",
    "[1,2,4,6,3,7,8] 5 is the missing num.\n",
    "\n"
   ]
  },
  {
   "cell_type": "code",
   "execution_count": null,
   "id": "9f9094c4-4885-412b-a780-854ca64f10a3",
   "metadata": {},
   "outputs": [
    {
     "name": "stdout",
     "output_type": "stream",
     "text": [
      "The missing number is: 5\n"
     ]
    }
   ],
   "source": [
    "def find_missing_number_sum(arr):\n",
    "    n = len(arr) + 1  \n",
    "    \n",
    "    expected_sum = n * (n + 1) // 2\n",
    "\n",
    "    actual_sum = sum(arr)\n",
    "\n",
    "    missing_number = expected_sum - actual_sum\n",
    "    return missing_number\n",
    "\n",
    "# Driver Code \n",
    "arr = [1, 2, 4, 6, 3, 7, 8]\n",
    "missing_number = find_missing_number_sum(arr)\n",
    "print(f\"The missing number is: {missing_number}\")\n"
   ]
  },
  {
   "cell_type": "markdown",
   "id": "b9794d73-7d1d-4bcb-a98b-1cef1ce38029",
   "metadata": {},
   "source": [
    "Problem 3 : Given an array of n positive numbers. All numbers occurs even number of times except 1 which\n",
    "occurs odd number of times. Find that number in O(n) time and O(1) space. Ex: [1,2,3,2,3,1,3]. 3 is repeats odd\n",
    "times.\n",
    "\n"
   ]
  },
  {
   "cell_type": "code",
   "execution_count": 5,
   "id": "7ac11107-d1e3-47b2-98d0-ac8385450df8",
   "metadata": {},
   "outputs": [
    {
     "name": "stdout",
     "output_type": "stream",
     "text": [
      "The number that occurs an odd number of times is: 3\n"
     ]
    }
   ],
   "source": [
    "def find_odd_occurrence(arr):\n",
    "    result = 0\n",
    "    for num in arr:\n",
    "        result ^= num\n",
    "    return result\n",
    "\n",
    "# Driver Code \n",
    "arr = [1, 2, 3, 2, 3, 1, 3]\n",
    "odd_occurrence = find_odd_occurrence(arr)\n",
    "print(f\"The number that occurs an odd number of times is: {odd_occurrence}\")\n"
   ]
  },
  {
   "cell_type": "markdown",
   "id": "39d96167-6766-4722-bb06-6ab8860aed5b",
   "metadata": {},
   "source": [
    "Problem 4 : Given an array of n elements. Find two elements in the array such that their sum is equal to given\n",
    "element K.\n",
    "\n"
   ]
  },
  {
   "cell_type": "code",
   "execution_count": 6,
   "id": "94f93d09-45f6-430e-8ac6-899af3a7560e",
   "metadata": {},
   "outputs": [
    {
     "name": "stdout",
     "output_type": "stream",
     "text": [
      "The pair with sum 9 is: (2, 7)\n"
     ]
    }
   ],
   "source": [
    "def find_pair_with_sum(arr, K):\n",
    "    seen = set()\n",
    "    for num in arr:\n",
    "        complement = K - num\n",
    "        if complement in seen:\n",
    "            return (complement, num)\n",
    "        seen.add(num)\n",
    "    return None\n",
    "\n",
    "# Driver Code \n",
    "arr = [2, 7, 11, 15]\n",
    "K = 9\n",
    "pair = find_pair_with_sum(arr, K)\n",
    "if pair:\n",
    "    print(f\"The pair with sum {K} is: {pair}\")\n",
    "else:\n",
    "    print\n"
   ]
  },
  {
   "cell_type": "markdown",
   "id": "fa50386b-4cb3-4392-b98d-c53746aee36c",
   "metadata": {},
   "source": [
    "Problem 5 : Given an array of both positive and negative numbers, find two numbers such that their sum is\n",
    "closest to 0. Ex: [ 1 ,60 ,-10, 70, -80,85]. Ans : -80,85.\n",
    "\n"
   ]
  },
  {
   "cell_type": "code",
   "execution_count": null,
   "id": "8817095e-62b0-4a49-ba34-47ddbcd66ba9",
   "metadata": {},
   "outputs": [],
   "source": []
  },
  {
   "cell_type": "markdown",
   "id": "70613c3e-48c3-474a-b253-10f52bf9d428",
   "metadata": {},
   "source": [
    "Problem 6 : Given an array of n elements . Find three elements such that their sum is equal to the given\n",
    "number.\n",
    "\n"
   ]
  },
  {
   "cell_type": "code",
   "execution_count": 7,
   "id": "4be3c20b-24fd-459d-8ee6-438403f695f0",
   "metadata": {},
   "outputs": [
    {
     "name": "stdout",
     "output_type": "stream",
     "text": [
      "Found triplet: (3, 6, 15)\n",
      "Found triplet: (3, 9, 12)\n"
     ]
    }
   ],
   "source": [
    "def find_three_elements_with_sum(arr, K):\n",
    "    arr.sort()  \n",
    "    n = len(arr)\n",
    "    \n",
    "    for i in range(n - 2):\n",
    "        if i > 0 and arr[i] == arr[i - 1]:\n",
    "            continue\n",
    "        \n",
    "        left, right = i + 1, n - 1\n",
    "        while left < right:\n",
    "            current_sum = arr[i] + arr[left] + arr[right]\n",
    "            \n",
    "            if current_sum == K:\n",
    "                print(f\"Found triplet: ({arr[i]}, {arr[left]}, {arr[right]})\")\n",
    "                while left < right and arr[left] == arr[left + 1]:\n",
    "                    left += 1\n",
    "                while left < right and arr[right] == arr[right - 1]:\n",
    "                    right -= 1\n",
    "                left += 1\n",
    "                right -= 1\n",
    "            elif current_sum < K:\n",
    "                left += 1\n",
    "            else:\n",
    "                right -= 1\n",
    "\n",
    "# Driver Code\n",
    "arr = [12, 3, 6, 9, 15, 30, -5]\n",
    "K = 24\n",
    "find_three_elements_with_sum(arr, K)\n"
   ]
  },
  {
   "cell_type": "markdown",
   "id": "46c8952a-a5c4-4172-a2b3-86fad6f6dac8",
   "metadata": {},
   "source": [
    "Problem 7 : Given an array of n elements . Find three elements i, j, k in the array such that\n",
    "i * i + j * j = k*k.\n",
    "\n"
   ]
  },
  {
   "cell_type": "code",
   "execution_count": null,
   "id": "f525940b-24af-4ae6-9774-837171e65cee",
   "metadata": {},
   "outputs": [],
   "source": []
  },
  {
   "cell_type": "markdown",
   "id": "f51038a5-1e07-4c5d-8479-1b891b9fc89d",
   "metadata": {},
   "source": [
    "Problem 8 : An element is a majority if it appears more than n/2 times. Give an algorithm takes an array of n\n",
    "element as argument and identifies a majority (if it exists).\n",
    "\n"
   ]
  },
  {
   "cell_type": "code",
   "execution_count": 8,
   "id": "60ec68ba-347f-45cc-8685-621ff9e2da2b",
   "metadata": {},
   "outputs": [
    {
     "name": "stdout",
     "output_type": "stream",
     "text": [
      "4\n",
      "None\n"
     ]
    }
   ],
   "source": [
    "def find_majority_element(nums):\n",
    "    candidate = None\n",
    "    count = 0\n",
    "    \n",
    "    for num in nums:\n",
    "        if count == 0:\n",
    "            candidate = num\n",
    "        count += (1 if num == candidate else -1)\n",
    "    count = 0\n",
    "    for num in nums:\n",
    "        if num == candidate:\n",
    "            count += 1\n",
    "    \n",
    "    if count > len(nums) // 2:\n",
    "        return candidate\n",
    "    else:\n",
    "        return None\n",
    "\n",
    "# Driver Code\n",
    "nums = [3, 3, 4, 2, 4, 4, 2, 4, 4]\n",
    "print(find_majority_element(nums)) \n",
    "\n",
    "nums = [3, 3, 4, 2, 4, 4, 2, 4]\n",
    "print(find_majority_element(nums))\n"
   ]
  },
  {
   "cell_type": "markdown",
   "id": "dd0d5a89-b58c-437f-9c26-3c70627555d3",
   "metadata": {},
   "source": [
    "Problem 9 : Given n × n matrix, and in each row all 1’s are followed by 0’s. Find the row with the maximum\n",
    "number of 0’s.\n",
    "\n"
   ]
  },
  {
   "cell_type": "code",
   "execution_count": 9,
   "id": "b0702daa-a488-482e-ab73-a8d77abe7f92",
   "metadata": {},
   "outputs": [
    {
     "name": "stdout",
     "output_type": "stream",
     "text": [
      "0\n"
     ]
    }
   ],
   "source": [
    "def find_row_with_max_zeros(matrix):\n",
    "    n = len(matrix)\n",
    "    if n == 0:\n",
    "        return -1\n",
    "    \n",
    "    max_zeros = -1\n",
    "    row_with_max_zeros = -1\n",
    "\n",
    "    col = n - 1\n",
    "    row = 0\n",
    "\n",
    "    while row < n and col >= 0:\n",
    "        if matrix[row][col] == 0:\n",
    "            num_zeros = col + 1\n",
    "            if num_zeros > max_zeros:\n",
    "                max_zeros = num_zeros\n",
    "                row_with_max_zeros = row\n",
    "\n",
    "            row += 1\n",
    "        else:\n",
    "            # Move left\n",
    "            col -= 1\n",
    "    \n",
    "    return row_with_max_zeros\n",
    "# Driver Code\n",
    "matrix = [\n",
    "    [1, 1, 1, 0, 0],\n",
    "    [1, 1, 0, 0, 0],\n",
    "    [1, 0, 0, 0, 0],\n",
    "    [0, 0, 0, 0, 0]\n",
    "]\n",
    "\n",
    "print(find_row_with_max_zeros(matrix))  \n"
   ]
  },
  {
   "cell_type": "markdown",
   "id": "7bff4217-0e6d-4304-b3cf-2fa3579a9fa6",
   "metadata": {},
   "source": [
    "Problem 10 : Sort an array of 0’s, 1’s and 2’s [or R’s, G’s and B’s]: Given an array A[] consisting of 0’s, 1’s and\n",
    "2’s, give an algorithm for sorting A[].The algorithm should put all 0’s first, then all 1’s and finally all 2’s at the\n",
    "end. Example Input = {0,1,1,0,1,2,1,2,0,0,0,1}, Output = {0,0,0,0,0,1,1,1,1,1,2,2}"
   ]
  },
  {
   "cell_type": "code",
   "execution_count": 10,
   "id": "511fe12d-e703-4584-abcd-dca7014dbd37",
   "metadata": {},
   "outputs": [
    {
     "name": "stdout",
     "output_type": "stream",
     "text": [
      "[0, 0, 0, 0, 0, 1, 1, 1, 1, 1, 2, 2]\n"
     ]
    }
   ],
   "source": [
    "def sort_colors(arr):\n",
    "    low = 0\n",
    "    mid = 0\n",
    "    high = len(arr) - 1\n",
    "\n",
    "    while mid <= high:\n",
    "        if arr[mid] == 0:\n",
    "            arr[low], arr[mid] = arr[mid], arr[low]\n",
    "            low += 1\n",
    "            mid += 1\n",
    "        elif arr[mid] == 1:\n",
    "            mid += 1\n",
    "        else:  # arr[mid] == 2\n",
    "            arr[high], arr[mid] = arr[mid], arr[high]\n",
    "            high -= 1\n",
    "\n",
    "# Driver Code\n",
    "arr = [0, 1, 1, 0, 1, 2, 1, 2, 0, 0, 0, 1]\n",
    "sort_colors(arr)\n",
    "print(arr)  \n"
   ]
  },
  {
   "cell_type": "code",
   "execution_count": null,
   "id": "a12910b9-d3c8-4742-87cf-c78af0bfb46b",
   "metadata": {},
   "outputs": [],
   "source": []
  }
 ],
 "metadata": {
  "kernelspec": {
   "display_name": "Python 3 (ipykernel)",
   "language": "python",
   "name": "python3"
  },
  "language_info": {
   "codemirror_mode": {
    "name": "ipython",
    "version": 3
   },
   "file_extension": ".py",
   "mimetype": "text/x-python",
   "name": "python",
   "nbconvert_exporter": "python",
   "pygments_lexer": "ipython3",
   "version": "3.10.8"
  }
 },
 "nbformat": 4,
 "nbformat_minor": 5
}
