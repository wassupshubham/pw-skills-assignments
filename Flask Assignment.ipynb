{
 "cells": [
  {
   "cell_type": "markdown",
   "id": "fe0dbcec-94aa-4759-b15d-653d8cb0e63f",
   "metadata": {},
   "source": [
    "Basics of Flask:"
   ]
  },
  {
   "cell_type": "markdown",
   "id": "b470c32c-4891-4c22-a81d-434fa2f8b504",
   "metadata": {},
   "source": [
    "ques 1. Create a Flask app that displays \"Hello, World!\" on the homepage."
   ]
  },
  {
   "cell_type": "markdown",
   "id": "a027e31f-4466-4f2d-9f7a-fb656aee3cfc",
   "metadata": {},
   "source": [
    "Install Flask:\n",
    "\n",
    "1. First, make sure you have Flask installed. You can install it using pip if you haven't already:\n",
    "\n",
    "2.Create a Python File for Your App:\n",
    "\n",
    "Create a new Python file, for example, app.py. You can use any text editor or IDE of your choice.\n",
    "\n",
    "3.Write the Flask Application:\n",
    "\n",
    "Open app.py and add the following code\n",
    "\n"
   ]
  },
  {
   "cell_type": "code",
   "execution_count": 3,
   "id": "f23ff6bb-9dec-42ac-a485-79bd4cb8f484",
   "metadata": {},
   "outputs": [
    {
     "name": "stdout",
     "output_type": "stream",
     "text": [
      "Requirement already satisfied: Flask in /opt/conda/lib/python3.10/site-packages (3.0.3)\n",
      "Requirement already satisfied: Werkzeug>=3.0.0 in /opt/conda/lib/python3.10/site-packages (from Flask) (3.0.3)\n",
      "Requirement already satisfied: blinker>=1.6.2 in /opt/conda/lib/python3.10/site-packages (from Flask) (1.8.2)\n",
      "Requirement already satisfied: click>=8.1.3 in /opt/conda/lib/python3.10/site-packages (from Flask) (8.1.3)\n",
      "Requirement already satisfied: Jinja2>=3.1.2 in /opt/conda/lib/python3.10/site-packages (from Flask) (3.1.2)\n",
      "Requirement already satisfied: itsdangerous>=2.1.2 in /opt/conda/lib/python3.10/site-packages (from Flask) (2.2.0)\n",
      "Requirement already satisfied: MarkupSafe>=2.0 in /opt/conda/lib/python3.10/site-packages (from Jinja2>=3.1.2->Flask) (2.1.1)\n",
      "Note: you may need to restart the kernel to use updated packages.\n"
     ]
    }
   ],
   "source": [
    "pip install Flask\n"
   ]
  },
  {
   "cell_type": "code",
   "execution_count": null,
   "id": "0ec148da-5760-49f3-acd1-037c2062739b",
   "metadata": {},
   "outputs": [],
   "source": [
    "from flask import Flask\n",
    "\n",
    "# Create an instance of the Flask class\n",
    "app = Flask(__name__)\n",
    "\n",
    "# Define the route for the homepage\n",
    "@app.route('/')\n",
    "def home():\n",
    "    return 'Hello, World!'\n",
    "\n",
    "# Run the app\n",
    "if __name__ == '__main__':\n",
    "    app.run(debug=True)\n",
    "\n"
   ]
  },
  {
   "cell_type": "markdown",
   "id": "f9eac0be-c99f-4706-8555-b7efb21ace53",
   "metadata": {},
   "source": [
    "4. Run Your Flask Application:\n",
    "\n",
    "Open a terminal or command prompt, navigate to the directory where app.py is located, and run:\n",
    "\n"
   ]
  },
  {
   "cell_type": "code",
   "execution_count": null,
   "id": "0248bae3-17be-4017-a8f9-6f3e178a3e99",
   "metadata": {},
   "outputs": [],
   "source": [
    "python app.py"
   ]
  },
  {
   "cell_type": "markdown",
   "id": "c2f9b625-a7d3-4835-abbd-2a40454dbba1",
   "metadata": {},
   "source": [
    "You should see output indicating that the server is running, such as:"
   ]
  },
  {
   "cell_type": "code",
   "execution_count": null,
   "id": "9e6fe2c1-2f65-46f3-8be7-8da86d477442",
   "metadata": {},
   "outputs": [],
   "source": [
    "* Running on http://127.0.0.1:5000/ (Press CTRL+C to quit)"
   ]
  },
  {
   "cell_type": "markdown",
   "id": "8c7ab26c-8d13-4e10-9645-837f78044123",
   "metadata": {},
   "source": [
    "5. View Your Application:\n",
    "\n",
    "Open a web browser and go to http://127.0.0.1:5000/. You should see \"Hello, World!\" displayed on the page."
   ]
  },
  {
   "cell_type": "markdown",
   "id": "8f5da4d9-b761-48c8-a1d9-b133b6b5147e",
   "metadata": {},
   "source": [
    "ques 2. Build a Flask app with static HTML pages and navigate between them."
   ]
  },
  {
   "cell_type": "markdown",
   "id": "a9b336c3-33cb-43e0-b5c7-b7d8ac95ad3c",
   "metadata": {},
   "source": [
    "ans. To build a Flask app that serves static HTML pages and allows navigation between them, follow these steps:\n",
    "\n",
    "Setup Your Project Structure:\n",
    "\n",
    "Create a new project directory and set up the following structure:"
   ]
  },
  {
   "cell_type": "code",
   "execution_count": null,
   "id": "5beba5b1-31cd-4244-a8e2-acc48a6f6a4b",
   "metadata": {},
   "outputs": [],
   "source": [
    "my_flask_app/\n",
    "├── app.py\n",
    "├── static/\n",
    "│   ├── style.css\n",
    "└── templates/\n",
    "    ├── index.html\n",
    "    ├── about.html\n",
    "    └── contact.html\n"
   ]
  },
  {
   "cell_type": "markdown",
   "id": "f5862fa4-20c1-41dc-ad9b-dfd4d28fdf1e",
   "metadata": {},
   "source": [
    "Create HTML Files in templates/:\n",
    "\n",
    "Flask uses the templates/ folder to store HTML files. Create three HTML files with basic content."
   ]
  },
  {
   "cell_type": "code",
   "execution_count": null,
   "id": "db5d73b8-8d69-46fc-80be-bd35236688fb",
   "metadata": {},
   "outputs": [],
   "source": [
    "<!DOCTYPE html>\n",
    "<html lang=\"en\">\n",
    "<head>\n",
    "    <meta charset=\"UTF-8\">\n",
    "    <meta name=\"viewport\" content=\"width=device-width, initial-scale=1.0\">\n",
    "    <title>Home</title>\n",
    "    <link rel=\"stylesheet\" href=\"{{ url_for('static', filename='style.css') }}\">\n",
    "</head>\n",
    "<body>\n",
    "    <header>\n",
    "        <nav>\n",
    "            <a href=\"{{ url_for('index') }}\">Home</a>\n",
    "            <a href=\"{{ url_for('about') }}\">About</a>\n",
    "            <a href=\"{{ url_for('contact') }}\">Contact</a>\n",
    "        </nav>\n",
    "    </header>\n",
    "    <main>\n",
    "        <h1>Welcome to the Home Page</h1>\n",
    "        <p>This is the homepage of our Flask app.</p>\n",
    "    </main>\n",
    "</body>\n",
    "</html>\n"
   ]
  },
  {
   "cell_type": "code",
   "execution_count": null,
   "id": "a1b5edff-9d89-4ecb-8dcd-37ef37f5a17c",
   "metadata": {},
   "outputs": [],
   "source": [
    "<!DOCTYPE html>\n",
    "<html lang=\"en\">\n",
    "<head>\n",
    "    <meta charset=\"UTF-8\">\n",
    "    <meta name=\"viewport\" content=\"width=device-width, initial-scale=1.0\">\n",
    "    <title>About</title>\n",
    "    <link rel=\"stylesheet\" href=\"{{ url_for('static', filename='style.css') }}\">\n",
    "</head>\n",
    "<body>\n",
    "    <header>\n",
    "        <nav>\n",
    "            <a href=\"{{ url_for('index') }}\">Home</a>\n",
    "            <a href=\"{{ url_for('about') }}\">About</a>\n",
    "            <a href=\"{{ url_for('contact') }}\">Contact</a>\n",
    "        </nav>\n",
    "    </header>\n",
    "    <main>\n",
    "        <h1>About Us</h1>\n",
    "        <p>This page contains information about us.</p>\n",
    "    </main>\n",
    "</body>\n",
    "</html>\n"
   ]
  },
  {
   "cell_type": "code",
   "execution_count": null,
   "id": "16ab787f-1fa9-45b2-8ee2-29d5938aa450",
   "metadata": {},
   "outputs": [],
   "source": [
    "<!DOCTYPE html>\n",
    "<html lang=\"en\">\n",
    "<head>\n",
    "    <meta charset=\"UTF-8\">\n",
    "    <meta name=\"viewport\" content=\"width=device-width, initial-scale=1.0\">\n",
    "    <title>Contact</title>\n",
    "    <link rel=\"stylesheet\" href=\"{{ url_for('static', filename='style.css') }}\">\n",
    "</head>\n",
    "<body>\n",
    "    <header>\n",
    "        <nav>\n",
    "            <a href=\"{{ url_for('index') }}\">Home</a>\n",
    "            <a href=\"{{ url_for('about') }}\">About</a>\n",
    "            <a href=\"{{ url_for('contact') }}\">Contact</a>\n",
    "        </nav>\n",
    "    </header>\n",
    "    <main>\n",
    "        <h1>Contact Us</h1>\n",
    "        <p>This page contains our contact information.</p>\n",
    "    </main>\n",
    "</body>\n",
    "</html>\n"
   ]
  },
  {
   "cell_type": "markdown",
   "id": "43f858d6-12be-4090-990c-a7e60e2ac2be",
   "metadata": {},
   "source": [
    "3. Create a CSS File in static/:\n",
    "\n",
    "The static/ folder is used for static files like CSS and JavaScript. Create a style.css file with some basic styling."
   ]
  },
  {
   "cell_type": "code",
   "execution_count": null,
   "id": "207535ba-9939-46ac-b2c6-41018d5597e5",
   "metadata": {},
   "outputs": [],
   "source": [
    "body {\n",
    "    font-family: Arial, sans-serif;\n",
    "    margin: 0;\n",
    "    padding: 0;\n",
    "    background-color: #f4f4f4;\n",
    "}\n",
    "\n",
    "header {\n",
    "    background-color: #333;\n",
    "    color: white;\n",
    "    padding: 1em;\n",
    "}\n",
    "\n",
    "nav a {\n",
    "    color: white;\n",
    "    text-decoration: none;\n",
    "    margin: 0 1em;\n",
    "}\n",
    "\n",
    "nav a:hover {\n",
    "    text-decoration: underline;\n",
    "}\n",
    "\n",
    "main {\n",
    "    padding: 1em;\n",
    "}\n"
   ]
  },
  {
   "cell_type": "markdown",
   "id": "cfcc61cd-a61d-4367-9396-7b24101c901e",
   "metadata": {},
   "source": [
    "4.Create the Flask Application (app.py):\n",
    "\n",
    "Create app.py with the following content:"
   ]
  },
  {
   "cell_type": "code",
   "execution_count": null,
   "id": "e9210277-866b-46fb-a2cc-ecd7d9264598",
   "metadata": {},
   "outputs": [],
   "source": [
    "from flask import Flask, render_template\n",
    "\n",
    "# Create an instance of the Flask class\n",
    "app = Flask(__name__)\n",
    "\n",
    "# Define routes for the pages\n",
    "@app.route('/')\n",
    "def index():\n",
    "    return render_template('index.html')\n",
    "\n",
    "@app.route('/about')\n",
    "def about():\n",
    "    return render_template('about.html')\n",
    "\n",
    "@app.route('/contact')\n",
    "def contact():\n",
    "    return render_template('contact.html')\n",
    "\n",
    "# Run the app\n",
    "if __name__ == '__main__':\n",
    "    app.run(debug=True)\n"
   ]
  },
  {
   "cell_type": "markdown",
   "id": "dbf73d0c-4ac8-4016-9079-86a569312287",
   "metadata": {},
   "source": [
    "5.Run Your Flask Application:\n",
    "\n",
    "Open a terminal or command prompt, navigate to your project directory (my_flask_app), and run:"
   ]
  },
  {
   "cell_type": "code",
   "execution_count": null,
   "id": "ecbdc00f-7f18-4050-903d-ffae3abd1d6f",
   "metadata": {},
   "outputs": [],
   "source": [
    "python app.py\n"
   ]
  },
  {
   "cell_type": "markdown",
   "id": "582f01c0-6795-48fb-af9a-d15acb103ce2",
   "metadata": {},
   "source": [
    "6.Navigate Between Pages:\n",
    "\n",
    "Use the navigation links on each page to switch between the home, about, and contact pages. The links use Flask’s url_for function to generate URLs, making it easy to change routes in one place without updating all links manually.\n",
    "\n",
    "That’s it! You’ve created a Flask app with static HTML pages and navigational links between them."
   ]
  },
  {
   "cell_type": "markdown",
   "id": "2022a3e3-96d2-4e2c-a956-826da8f9d1d4",
   "metadata": {},
   "source": [
    "ques3. Develop a Flask app that uses URL parameters to display dynamic content."
   ]
  },
  {
   "cell_type": "markdown",
   "id": "76d402b4-d1a2-4d0b-87aa-14d81cb25d8e",
   "metadata": {},
   "source": [
    "To develop a Flask app that uses URL parameters to display dynamic content, follow these steps. In this example, we'll create a simple app that displays personalized greetings based on a user’s name provided through a URL parameter.\n",
    "\n",
    "1. Project Structure\n",
    "Create a project directory and set up the following structure:"
   ]
  },
  {
   "cell_type": "code",
   "execution_count": null,
   "id": "ecd70ebc-18ee-4a5c-81fd-79762615f14b",
   "metadata": {},
   "outputs": [],
   "source": [
    "flask_dynamic_app/\n",
    "├── app.py\n",
    "└── templates/\n",
    "    └── greet.html\n"
   ]
  },
  {
   "cell_type": "markdown",
   "id": "8c6749c6-e8a7-4a61-9a69-ae3300b5a0f0",
   "metadata": {},
   "source": [
    "2. Create HTML Template (greet.html)\n",
    "Create an HTML file in the templates directory that will be used to render the dynamic content."
   ]
  },
  {
   "cell_type": "code",
   "execution_count": null,
   "id": "1500afe9-728a-4f11-9f39-9dff7363daea",
   "metadata": {},
   "outputs": [],
   "source": [
    "<!DOCTYPE html>\n",
    "<html lang=\"en\">\n",
    "<head>\n",
    "    <meta charset=\"UTF-8\">\n",
    "    <meta name=\"viewport\" content=\"width=device-width, initial-scale=1.0\">\n",
    "    <title>Greeting</title>\n",
    "</head>\n",
    "<body>\n",
    "    <h1>Hello, {{ name }}!</h1>\n",
    "    <p>Welcome to our dynamic Flask app!</p>\n",
    "</body>\n",
    "</html>\n"
   ]
  },
  {
   "cell_type": "markdown",
   "id": "8e62c52e-b36f-4e62-99fa-c40f7e6d279d",
   "metadata": {},
   "source": [
    "3. Create the Flask Application (app.py)\n",
    "Create a Python file, app.py, with the following content to set up the Flask application and handle URL parameters."
   ]
  },
  {
   "cell_type": "code",
   "execution_count": null,
   "id": "49deab03-2e90-41e4-8595-2dd57efc48f9",
   "metadata": {},
   "outputs": [],
   "source": [
    "from flask import Flask, render_template\n",
    "\n",
    "# Create an instance of the Flask class\n",
    "app = Flask(__name__)\n",
    "\n",
    "# Define a route with a URL parameter\n",
    "@app.route('/greet/<name>')\n",
    "def greet(name):\n",
    "    return render_template('greet.html', name=name)\n",
    "\n",
    "# Run the app\n",
    "if __name__ == '__main__':\n",
    "    app.run(debug=True)\n"
   ]
  },
  {
   "cell_type": "markdown",
   "id": "17439cb5-30ab-4bfc-9572-ff8fbf0010ae",
   "metadata": {},
   "source": [
    "4. Run Your Flask Application\n",
    "Open a terminal or command prompt, navigate to your project directory (flask_dynamic_app), and run:"
   ]
  },
  {
   "cell_type": "code",
   "execution_count": null,
   "id": "8ac9844a-4a1a-466e-838d-2e25d41062de",
   "metadata": {},
   "outputs": [],
   "source": [
    "python app.py\n"
   ]
  },
  {
   "cell_type": "code",
   "execution_count": null,
   "id": "89e6defd-8741-4136-a693-cdebb5a8e1d2",
   "metadata": {},
   "outputs": [],
   "source": [
    "Hello, John!\n",
    "Welcome to our dynamic Flask app!\n"
   ]
  },
  {
   "cell_type": "markdown",
   "id": "583fdce4-dc31-41d6-925b-6fc7deebcd74",
   "metadata": {},
   "source": [
    "5. Test with Different Parameters\n",
    "You can test the app with different names by changing the URL parameter. For example:\n",
    "\n",
    "http://127.0.0.1:5000/greet/Alice will display \"Hello, Alice!\"\n",
    "http://127.0.0.1:5000/greet/Bob will display \"Hello, Bob!\"\n",
    "This approach demonstrates how to use URL parameters in Flask to create dynamic content based on user input or other variables. You can expand this concept to handle more complex data and parameters as needed."
   ]
  },
  {
   "cell_type": "markdown",
   "id": "858c6159-db4d-410d-91f0-d2fbb5e4b2c2",
   "metadata": {},
   "source": [
    "ques 4. Create a Flask app with a form that accepts user input and displays it."
   ]
  },
  {
   "cell_type": "markdown",
   "id": "49af2ea2-a1be-4c2d-8120-7aea1f1c6a85",
   "metadata": {},
   "source": [
    "To create a Flask app that includes a form for user input and displays the submitted data, follow these steps. We’ll build a simple form where users can input their name and a message, and then display this information after submission.\n",
    "\n",
    "1. Project Structure\n",
    "Create a project directory and set up the following structure:"
   ]
  },
  {
   "cell_type": "code",
   "execution_count": null,
   "id": "141c5360-5ead-4efe-82f7-78dc66b50062",
   "metadata": {},
   "outputs": [],
   "source": [
    "flask_form_app/\n",
    "├── app.py\n",
    "└── templates/\n",
    "    ├── form.html\n",
    "    └── result.html\n"
   ]
  },
  {
   "cell_type": "markdown",
   "id": "6587f101-8933-444f-85db-b340458ffd85",
   "metadata": {},
   "source": [
    "2. Create HTML Templates\n",
    "We will use two HTML templates: one for the form and one for displaying the result.\n",
    "\n",
    "templates/form.html: This template renders the form where users can submit their input."
   ]
  },
  {
   "cell_type": "code",
   "execution_count": null,
   "id": "05b51ec7-7d49-4786-9dd0-996d40bafd5f",
   "metadata": {},
   "outputs": [],
   "source": [
    "<!DOCTYPE html>\n",
    "<html lang=\"en\">\n",
    "<head>\n",
    "    <meta charset=\"UTF-8\">\n",
    "    <meta name=\"viewport\" content=\"width=device-width, initial-scale=1.0\">\n",
    "    <title>Form</title>\n",
    "</head>\n",
    "<body>\n",
    "    <h1>User Input Form</h1>\n",
    "    <form action=\"/result\" method=\"post\">\n",
    "        <label for=\"name\">Name:</label>\n",
    "        <input type=\"text\" id=\"name\" name=\"name\" required><br><br>\n",
    "        <label for=\"message\">Message:</label><br>\n",
    "        <textarea id=\"message\" name=\"message\" rows=\"4\" cols=\"50\" required></textarea><br><br>\n",
    "        <input type=\"submit\" value=\"Submit\">\n",
    "    </form>\n",
    "</body>\n",
    "</html>\n"
   ]
  },
  {
   "cell_type": "code",
   "execution_count": null,
   "id": "97454065-957a-4ef5-b694-44775b3b67e8",
   "metadata": {},
   "outputs": [],
   "source": [
    "<!DOCTYPE html>\n",
    "<html lang=\"en\">\n",
    "<head>\n",
    "    <meta charset=\"UTF-8\">\n",
    "    <meta name=\"viewport\" content=\"width=device-width, initial-scale=1.0\">\n",
    "    <title>Result</title>\n",
    "</head>\n",
    "<body>\n",
    "    <h1>Submission Result</h1>\n",
    "    <p><strong>Name:</strong> {{ name }}</p>\n",
    "    <p><strong>Message:</strong></p>\n",
    "    <p>{{ message }}</p>\n",
    "    <a href=\"/\">Go Back</a>\n",
    "</body>\n",
    "</html>\n"
   ]
  },
  {
   "cell_type": "markdown",
   "id": "e114dba2-3327-4d08-bcf9-4c0a3dd035ba",
   "metadata": {},
   "source": [
    "3. Create the Flask Application (app.py)\n",
    "Create a Python file, app.py, with the following content to set up the Flask application and handle form submissions."
   ]
  },
  {
   "cell_type": "code",
   "execution_count": null,
   "id": "9660c44a-51e6-4ab3-8bdd-dbcbe598d99e",
   "metadata": {},
   "outputs": [],
   "source": [
    "from flask import Flask, render_template, request, redirect, url_for\n",
    "\n",
    "# Create an instance of the Flask class\n",
    "app = Flask(__name__)\n",
    "\n",
    "# Route to display the form\n",
    "@app.route('/')\n",
    "def form():\n",
    "    return render_template('form.html')\n",
    "\n",
    "# Route to handle form submission\n",
    "@app.route('/result', methods=['POST'])\n",
    "def result():\n",
    "    name = request.form['name']\n",
    "    message = request.form['message']\n",
    "    return render_template('result.html', name=name, message=message)\n",
    "\n",
    "# Run the app\n",
    "if __name__ == '__main__':\n",
    "    app.run(debug=True)\n"
   ]
  },
  {
   "cell_type": "markdown",
   "id": "d859fc81-b1f3-4a50-abc8-6526a7e918d2",
   "metadata": {},
   "source": [
    "4. Run Your Flask Application\n",
    "Open a terminal or command prompt, navigate to your project directory (flask_form_app), and run:\n"
   ]
  },
  {
   "cell_type": "code",
   "execution_count": null,
   "id": "782bfafc-0c5a-4b5f-984c-c673cdb72121",
   "metadata": {},
   "outputs": [],
   "source": [
    "python app.py"
   ]
  },
  {
   "cell_type": "markdown",
   "id": "7f2264f6-8111-49f6-b88e-74125ed86649",
   "metadata": {},
   "source": [
    "5. Test the Form\n",
    "Fill out the form and submit it to see how the data is displayed on the result page. You can go back to the form by clicking the \"Go Back\" link.\n",
    "\n",
    "This setup demonstrates how to handle user input in a Flask app using HTML forms and how to display the submitted data dynamically. You can expand on this basic example by adding more form fields, validation, and styling as needed.\n",
    "\n",
    "\n",
    "\n"
   ]
  },
  {
   "cell_type": "markdown",
   "id": "ae1e63c9-f437-4dbf-a441-05899677aaa3",
   "metadata": {},
   "source": [
    "ques5. Implement user sessions in a Flask app to store and display user-specific data."
   ]
  },
  {
   "cell_type": "markdown",
   "id": "587b1e41-692f-40e9-be9e-efc1ebe8d88c",
   "metadata": {},
   "source": [
    "To implement user sessions in a Flask app, you’ll use Flask’s session management features to store and display user-specific data. Sessions allow you to keep track of user-specific information across multiple requests.\n",
    "\n",
    "1. Project Structure\n",
    "Create a project directory and set up the following structure:"
   ]
  },
  {
   "cell_type": "code",
   "execution_count": null,
   "id": "a4d54a10-a2a7-444c-b7fb-19f364996b23",
   "metadata": {},
   "outputs": [],
   "source": [
    "flask_session_app/\n",
    "├── app.py\n",
    "└── templates/\n",
    "    ├── login.html\n",
    "    ├── profile.html\n",
    "    └── home.html\n"
   ]
  },
  {
   "cell_type": "markdown",
   "id": "98269a56-2c61-4f65-be7e-4990892e4b7f",
   "metadata": {},
   "source": [
    "2. Create HTML Templates\n",
    "We will use three HTML templates: one for logging in, one for displaying the user’s profile, and one for the home page.\n",
    "\n",
    "templates/login.html: This template renders the login form."
   ]
  },
  {
   "cell_type": "code",
   "execution_count": null,
   "id": "5c875f1c-2451-44b4-9ebd-66f69fa4803c",
   "metadata": {},
   "outputs": [],
   "source": [
    "<!DOCTYPE html>\n",
    "<html lang=\"en\">\n",
    "<head>\n",
    "    <meta charset=\"UTF-8\">\n",
    "    <meta name=\"viewport\" content=\"width=device-width, initial-scale=1.0\">\n",
    "    <title>Login</title>\n",
    "</head>\n",
    "<body>\n",
    "    <h1>Login</h1>\n",
    "    <form action=\"/login\" method=\"post\">\n",
    "        <label for=\"username\">Username:</label>\n",
    "        <input type=\"text\" id=\"username\" name=\"username\" required><br><br>\n",
    "        <input type=\"submit\" value=\"Login\">\n",
    "    </form>\n",
    "</body>\n",
    "</html>\n",
    "\n"
   ]
  },
  {
   "cell_type": "markdown",
   "id": "286a631e-6034-4b6f-9391-466306b7f859",
   "metadata": {},
   "source": [
    "3. Create the Flask Application (app.py)\n",
    "Create a Python file, app.py, to set up the Flask application and handle sessions."
   ]
  },
  {
   "cell_type": "code",
   "execution_count": null,
   "id": "9c2747b7-5200-4f5e-8147-33b94d4e094f",
   "metadata": {},
   "outputs": [],
   "source": [
    "from flask import Flask, render_template, request, redirect, url_for, session\n",
    "from flask.sessions import SessionInterface\n",
    "\n",
    "app = Flask(__name__)\n",
    "app.secret_key = 'supersecretkey'  # Replace with a strong, unique key for production\n",
    "\n",
    "# Route for the home page\n",
    "@app.route('/')\n",
    "def home():\n",
    "    if 'username' in session:\n",
    "        return redirect(url_for('profile'))\n",
    "    return render_template('home.html')\n",
    "\n",
    "# Route to display the login form\n",
    "@app.route('/login', methods=['GET', 'POST'])\n",
    "def login():\n",
    "    if request.method == 'POST':\n",
    "        session['username'] = request.form['username']\n",
    "        return redirect(url_for('profile'))\n",
    "    return render_template('login.html')\n",
    "\n",
    "# Route to display the user profile\n",
    "@app.route('/profile')\n",
    "def profile():\n",
    "    if 'username' not in session:\n",
    "        return redirect(url_for('login'))\n",
    "    return render_template('profile.html', username=session['username'])\n",
    "\n",
    "# Route to handle logout\n",
    "@app.route('/logout')\n",
    "def logout():\n",
    "    session.pop('username', None)\n",
    "    return redirect(url_for('home'))\n",
    "\n",
    "if __name__ == '__main__':\n",
    "    app.run(debug=True)\n"
   ]
  },
  {
   "cell_type": "markdown",
   "id": "bc9899a7-28bf-4577-a071-5287ce3bacdf",
   "metadata": {},
   "source": [
    "4. Run Your Flask Application\n",
    "Open a terminal or command prompt, navigate to your project directory (flask_session_app), and run:"
   ]
  },
  {
   "cell_type": "code",
   "execution_count": null,
   "id": "a6809889-eb70-4040-896b-b8d46c912636",
   "metadata": {},
   "outputs": [],
   "source": [
    "python app.py\n"
   ]
  },
  {
   "cell_type": "markdown",
   "id": "f5970abb-d14f-4cce-b413-41eadaea9052",
   "metadata": {},
   "source": [
    "5. Test the Session Management\n",
    "Access Home Page: Start by visiting the home page.\n",
    "Login: Click the login link, enter a username, and submit the form.\n",
    "Profile Page: After logging in, you should be redirected to the profile page displaying your username.\n",
    "Logout: Click the logout link to clear the session and return to the home page."
   ]
  },
  {
   "cell_type": "markdown",
   "id": "9b412e1d-5bca-4652-acaa-d718c4246de5",
   "metadata": {},
   "source": [
    "Intermediate Flask Topics:"
   ]
  },
  {
   "cell_type": "markdown",
   "id": "3b72b10d-1d56-40fe-a527-3e36a3de9ac6",
   "metadata": {},
   "source": [
    "ques 6. Build a Flask app that allows users to upload files and display them on the website."
   ]
  },
  {
   "cell_type": "markdown",
   "id": "6ac2b840-5519-46e3-b3ed-59c78c65bb13",
   "metadata": {},
   "source": [
    "1. Project Structure\n",
    "Create a project directory and set up the following structure:"
   ]
  },
  {
   "cell_type": "code",
   "execution_count": null,
   "id": "1f243ea6-2fd9-448d-a9ff-7a7d4a88e246",
   "metadata": {},
   "outputs": [],
   "source": [
    "flask_file_upload/\n",
    "├── app.py\n",
    "└── templates/\n",
    "    ├── upload.html\n",
    "    └── display.html\n",
    "└── uploads/  # Directory where uploaded files will be saved\n"
   ]
  },
  {
   "cell_type": "markdown",
   "id": "02db006c-8da2-4a2a-a299-003e343a7d14",
   "metadata": {},
   "source": [
    "2. Create HTML Templates\n",
    "We will use two HTML templates: one for uploading files and one for displaying the uploaded files."
   ]
  },
  {
   "cell_type": "code",
   "execution_count": null,
   "id": "00c5f4b0-c729-47cd-9f5b-8a4ef2881fe5",
   "metadata": {},
   "outputs": [],
   "source": [
    "<!DOCTYPE html>\n",
    "<html lang=\"en\">\n",
    "<head>\n",
    "    <meta charset=\"UTF-8\">\n",
    "    <meta name=\"viewport\" content=\"width=device-width, initial-scale=1.0\">\n",
    "    <title>Upload File</title>\n",
    "</head>\n",
    "<body>\n",
    "    <h1>Upload a File</h1>\n",
    "    <form action=\"/upload\" method=\"post\" enctype=\"multipart/form-data\">\n",
    "        <label for=\"file\">Choose file:</label>\n",
    "        <input type=\"file\" id=\"file\" name=\"file\" required><br><br>\n",
    "        <input type=\"submit\" value=\"Upload\">\n",
    "    </form>\n",
    "    <a href=\"/display\">View Uploaded Files</a>\n",
    "</body>\n",
    "</html>\n"
   ]
  },
  {
   "cell_type": "code",
   "execution_count": null,
   "id": "5f86951b-3e57-4bd4-bcf9-33356d63fbe5",
   "metadata": {},
   "outputs": [],
   "source": [
    "<!DOCTYPE html>\n",
    "<html lang=\"en\">\n",
    "<head>\n",
    "    <meta charset=\"UTF-8\">\n",
    "    <meta name=\"viewport\" content=\"width=device-width, initial-scale=1.0\">\n",
    "    <title>Display Files</title>\n",
    "</head>\n",
    "<body>\n",
    "    <h1>Uploaded Files</h1>\n",
    "    <ul>\n",
    "        {% for filename in files %}\n",
    "            <li><a href=\"{{ url_for('uploaded_file', filename=filename) }}\">{{ filename }}</a></li>\n",
    "        {% endfor %}\n",
    "    </ul>\n",
    "    <a href=\"/\">Upload Another File</a>\n",
    "</body>\n",
    "</html>\n"
   ]
  },
  {
   "cell_type": "markdown",
   "id": "95329427-2321-4dd1-a616-e47d0124d145",
   "metadata": {},
   "source": [
    "3. Create the Flask Application (app.py)\n",
    "Create a Python file, app.py, to set up the Flask application and handle file uploads."
   ]
  },
  {
   "cell_type": "code",
   "execution_count": null,
   "id": "7d143737-d53d-4dd5-8a6b-be04ac136682",
   "metadata": {},
   "outputs": [],
   "source": [
    "import os\n",
    "from flask import Flask, render_template, request, redirect, url_for, send_from_directory\n",
    "\n",
    "app = Flask(__name__)\n",
    "app.config['UPLOAD_FOLDER'] = 'uploads'  # Directory to save uploaded files\n",
    "app.config['ALLOWED_EXTENSIONS'] = {'png', 'jpg', 'jpeg', 'gif'}\n",
    "\n",
    "def allowed_file(filename):\n",
    "    \"\"\"Check if the file has an allowed extension.\"\"\"\n",
    "    return '.' in filename and \\\n",
    "           filename.rsplit('.', 1)[1].lower() in app.config['ALLOWED_EXTENSIONS']\n",
    "\n",
    "@app.route('/')\n",
    "def upload():\n",
    "    return render_template('upload.html')\n",
    "\n",
    "@app.route('/upload', methods=['POST'])\n",
    "def upload_file():\n",
    "    if 'file' not in request.files:\n",
    "        return redirect(request.url)\n",
    "    file = request.files['file']\n",
    "    if file.filename == '':\n",
    "        return redirect(request.url)\n",
    "    if file and allowed_file(file.filename):\n",
    "        filename = file.filename\n",
    "        file.save(os.path.join(app.config['UPLOAD_FOLDER'], filename))\n",
    "        return redirect(url_for('display'))\n",
    "    return redirect(request.url)\n",
    "\n",
    "@app.route('/display')\n",
    "def display_files():\n",
    "    files = os.listdir(app.config['UPLOAD_FOLDER'])\n",
    "    return render_template('display.html', files=files)\n",
    "\n",
    "@app.route('/uploads/<filename>')\n",
    "def uploaded_file(filename):\n",
    "    return send_from_directory(app.config['UPLOAD_FOLDER'], filename)\n",
    "\n",
    "if __name__ == '__main__':\n",
    "    if not os.path.exists(app.config['UPLOAD_FOLDER']):\n",
    "        os.makedirs(app.config['UPLOAD_FOLDER'])\n",
    "    app.run(debug=True)\n"
   ]
  },
  {
   "cell_type": "markdown",
   "id": "e7776e0f-26cb-46cd-9ce0-6b8f86f1319a",
   "metadata": {},
   "source": [
    "4. Run Your Flask Application\n",
    "Open a terminal or command prompt, navigate to your project directory (flask_file_upload), and run:"
   ]
  },
  {
   "cell_type": "code",
   "execution_count": null,
   "id": "96847115-42b0-45ea-9466-b8c7e593c054",
   "metadata": {},
   "outputs": [],
   "source": [
    "python app.py\n"
   ]
  },
  {
   "cell_type": "markdown",
   "id": "53f673df-d9f9-4f68-8b50-5b8bfbd2598e",
   "metadata": {},
   "source": [
    "5. Test the File Upload Feature\n",
    "\n",
    "  Upload a File: Go to the upload page and choose a file to upload\n",
    "\n",
    " View Uploaded Files: After uploading, click the link to view uploaded files     and see the list with clickable links.\n",
    "\n",
    " Download/View File: Click on the file link to view or download the uploaded     file.\n",
    "  "
   ]
  },
  {
   "cell_type": "markdown",
   "id": "d5b1ae0f-6f59-4696-960d-a4ac53c3487d",
   "metadata": {},
   "source": [
    "ques 7. Integrate a SQLite database with Flask to perform CRUD operations on a list of items."
   ]
  },
  {
   "cell_type": "markdown",
   "id": "3c38e4de-27bf-4aa3-a27e-c191290c66b3",
   "metadata": {},
   "source": [
    "1. Project Structure\n",
    "Create a project directory and set up the following structure:"
   ]
  },
  {
   "cell_type": "code",
   "execution_count": null,
   "id": "8dbf8be5-c921-4667-86fd-7bba9ef303ea",
   "metadata": {},
   "outputs": [],
   "source": [
    "flask_crud_app/\n",
    "├── app.py\n",
    "├── instance/\n",
    "│   └── database.db  # SQLite database file (this will be created automatically)\n",
    "└── templates/\n",
    "    ├── index.html\n",
    "    ├── add_item.html\n",
    "    └── edit_item.html\n"
   ]
  },
  {
   "cell_type": "markdown",
   "id": "898d09ea-c3f1-4e18-941f-4af9dc517726",
   "metadata": {},
   "source": [
    "2. Create HTML Templates\n",
    "We will use three HTML templates: one for displaying items, one for adding new items, and one for editing existing items."
   ]
  },
  {
   "cell_type": "code",
   "execution_count": null,
   "id": "10d54d81-c2f7-467f-b462-a77c29bf9d09",
   "metadata": {},
   "outputs": [],
   "source": [
    "<!DOCTYPE html>\n",
    "<html lang=\"en\">\n",
    "<head>\n",
    "    <meta charset=\"UTF-8\">\n",
    "    <meta name=\"viewport\" content=\"width=device-width, initial-scale=1.0\">\n",
    "    <title>Items List</title>\n",
    "</head>\n",
    "<body>\n",
    "    <h1>Items List</h1>\n",
    "    <a href=\"/add\">Add New Item</a>\n",
    "    <ul>\n",
    "        {% for item in items %}\n",
    "            <li>\n",
    "                {{ item.name }}\n",
    "                <a href=\"/edit/{{ item.id }}\">Edit</a>\n",
    "                <a href=\"/delete/{{ item.id }}\">Delete</a>\n",
    "            </li>\n",
    "        {% endfor %}\n",
    "    </ul>\n",
    "</body>\n",
    "</html>\n"
   ]
  },
  {
   "cell_type": "code",
   "execution_count": null,
   "id": "e4ed137a-9a75-4b41-8776-94a80e7c72e6",
   "metadata": {},
   "outputs": [],
   "source": [
    "<!DOCTYPE html>\n",
    "<html lang=\"en\">\n",
    "<head>\n",
    "    <meta charset=\"UTF-8\">\n",
    "    <meta name=\"viewport\" content=\"width=device-width, initial-scale=1.0\">\n",
    "    <title>Add Item</title>\n",
    "</head>\n",
    "<body>\n",
    "    <h1>Add New Item</h1>\n",
    "    <form action=\"/add\" method=\"post\">\n",
    "        <label for=\"name\">Item Name:</label>\n",
    "        <input type=\"text\" id=\"name\" name=\"name\" required><br><br>\n",
    "        <input type=\"submit\" value=\"Add Item\">\n",
    "    </form>\n",
    "    <a href=\"/\">Back to Items List</a>\n",
    "</body>\n",
    "</html>\n"
   ]
  },
  {
   "cell_type": "code",
   "execution_count": null,
   "id": "1bdfaaa0-c934-4c38-8686-5d45fff81333",
   "metadata": {},
   "outputs": [],
   "source": [
    "<!DOCTYPE html>\n",
    "<html lang=\"en\">\n",
    "<head>\n",
    "    <meta charset=\"UTF-8\">\n",
    "    <meta name=\"viewport\" content=\"width=device-width, initial-scale=1.0\">\n",
    "    <title>Edit Item</title>\n",
    "</head>\n",
    "<body>\n",
    "    <h1>Edit Item</h1>\n",
    "    <form action=\"/edit/{{ item.id }}\" method=\"post\">\n",
    "        <label for=\"name\">Item Name:</label>\n",
    "        <input type=\"text\" id=\"name\" name=\"name\" value=\"{{ item.name }}\" required><br><br>\n",
    "        <input type=\"submit\" value=\"Update Item\">\n",
    "    </form>\n",
    "    <a href=\"/\">Back to Items List</a>\n",
    "</body>\n",
    "</html>\n"
   ]
  },
  {
   "cell_type": "markdown",
   "id": "bb4e330b-7cc1-45e4-b185-69b075223243",
   "metadata": {},
   "source": [
    "3. Create the Flask Application (app.py)\n",
    "Create a Python file, app.py, to set up the Flask application and integrate SQLite."
   ]
  },
  {
   "cell_type": "code",
   "execution_count": null,
   "id": "644a6a03-541f-4aa1-8736-b5af22056f23",
   "metadata": {},
   "outputs": [],
   "source": [
    "from flask import Flask, render_template, request, redirect, url_for\n",
    "from flask_sqlalchemy import SQLAlchemy\n",
    "\n",
    "app = Flask(__name__)\n",
    "app.config['SQLALCHEMY_DATABASE_URI'] = 'sqlite:///instance/database.db'\n",
    "app.config['SQLALCHEMY_TRACK_MODIFICATIONS'] = False\n",
    "db = SQLAlchemy(app)\n",
    "\n",
    "# Define the Item model\n",
    "class Item(db.Model):\n",
    "    id = db.Column(db.Integer, primary_key=True)\n",
    "    name = db.Column(db.String(100), nullable=False)\n",
    "\n",
    "# Initialize the database\n",
    "@app.before_first_request\n",
    "def create_tables():\n",
    "    db.create_all()\n",
    "\n",
    "# Route to display all items\n",
    "@app.route('/')\n",
    "def index():\n",
    "    items = Item.query.all()\n",
    "    return render_template('index.html', items=items)\n",
    "\n",
    "# Route to add a new item\n",
    "@app.route('/add', methods=['GET', 'POST'])\n",
    "def add_item():\n",
    "    if request.method == 'POST':\n",
    "        name = request.form['name']\n",
    "        new_item = Item(name=name)\n",
    "        db.session.add(new_item)\n",
    "        db.session.commit()\n",
    "        return redirect(url_for('index'))\n",
    "    return render_template('add_item.html')\n",
    "\n",
    "# Route to edit an existing item\n",
    "@app.route('/edit/<int:id>', methods=['GET', 'POST'])\n",
    "def edit_item(id):\n",
    "    item = Item.query.get_or_404(id)\n",
    "    if request.method == 'POST':\n",
    "        item.name = request.form['name']\n",
    "        db.session.commit()\n",
    "        return redirect(url_for('index'))\n",
    "    return render_template('edit_item.html', item=item)\n",
    "\n",
    "# Route to delete an item\n",
    "@app.route('/delete/<int:id>')\n",
    "def delete_item(id):\n",
    "    item = Item.query.get_or_404(id)\n",
    "    db.session.delete(item)\n",
    "    db.session.commit()\n",
    "    return redirect(url_for('index'))\n",
    "\n",
    "if __name__ == '__main__':\n",
    "    app.run(debug=True)\n"
   ]
  },
  {
   "cell_type": "markdown",
   "id": "50f67620-3d87-4e44-b156-0fc39212e73f",
   "metadata": {},
   "source": [
    "4. Run Your Flask Application\n",
    "Open a terminal or command prompt, navigate to your project directory (flask_crud_app), and run:"
   ]
  },
  {
   "cell_type": "code",
   "execution_count": null,
   "id": "f96d8a01-39e3-466e-86b4-f83b5d6b5186",
   "metadata": {},
   "outputs": [],
   "source": [
    "python app.py\n"
   ]
  },
  {
   "cell_type": "markdown",
   "id": "e0ecb377-dee2-41ac-a2c0-da09034698da",
   "metadata": {},
   "source": [
    "5. Test CRUD Operations"
   ]
  },
  {
   "cell_type": "markdown",
   "id": "774d4464-9cbc-44d7-b79b-4c8bf2c42200",
   "metadata": {},
   "source": [
    " *Add Items: Use the \"Add New Item\" link to add new items to the database.\n",
    " \n",
    " *Edit Items: Click \"Edit\" next to an item to modify its name.\n",
    " \n",
    " *Delete Items: Click \"Delete\" next to an item to remove it.\n",
    " \n",
    " *View Items: Return to the home page to see the updated list of items."
   ]
  },
  {
   "cell_type": "markdown",
   "id": "07937538-5064-4a65-a399-cbc243ac657f",
   "metadata": {},
   "source": [
    "ques8. Implement user authentication and registration in a Flask app using Flask-Login."
   ]
  },
  {
   "cell_type": "markdown",
   "id": "41f601c1-19e9-4280-b830-66405f9a1c53",
   "metadata": {},
   "source": [
    "1. Project Structure\n",
    "Create a project directory and set up the following structure:"
   ]
  },
  {
   "cell_type": "code",
   "execution_count": null,
   "id": "d2c4aa96-5d4b-4c1a-a0ad-4205561a8d23",
   "metadata": {},
   "outputs": [],
   "source": [
    "flask_auth_app/\n",
    "├── app.py\n",
    "├── instance/\n",
    "│   └── database.db  # SQLite database file (this will be created automatically)\n",
    "└── templates/\n",
    "    ├── home.html\n",
    "    ├── login.html\n",
    "    ├── register.html\n",
    "    └── profile.html\n"
   ]
  },
  {
   "cell_type": "markdown",
   "id": "5ed1d3af-4141-43b2-85c9-097a75b2ff97",
   "metadata": {},
   "source": [
    "2. Create HTML Templates\n",
    "We will use four HTML templates: one for the home page, one for login, one for registration, and one for the user profile.\n",
    "\n",
    "templates/home.html: The home page with links to login and register."
   ]
  },
  {
   "cell_type": "code",
   "execution_count": null,
   "id": "50d6d549-89eb-4a9a-a97e-d182b6a1d3d8",
   "metadata": {},
   "outputs": [],
   "source": [
    "<!DOCTYPE html>\n",
    "<html lang=\"en\">\n",
    "<head>\n",
    "    <meta charset=\"UTF-8\">\n",
    "    <meta name=\"viewport\" content=\"width=device-width, initial-scale=1.0\">\n",
    "    <title>Home</title>\n",
    "</head>\n",
    "<body>\n",
    "    <h1>Welcome to the Flask Authentication App</h1>\n",
    "    {% if current_user.is_authenticated %}\n",
    "        <p>Hello, {{ current_user.username }}!</p>\n",
    "        <a href=\"/profile\">Profile</a> |\n",
    "        <a href=\"/logout\">Logout</a>\n",
    "    {% else %}\n",
    "        <a href=\"/login\">Login</a> |\n",
    "        <a href=\"/register\">Register</a>\n",
    "    {% endif %}\n",
    "</body>\n",
    "</html>\n"
   ]
  },
  {
   "cell_type": "code",
   "execution_count": null,
   "id": "5c160056-a13f-4e3c-b6cd-b9704fce4936",
   "metadata": {},
   "outputs": [],
   "source": [
    "<!DOCTYPE html>\n",
    "<html lang=\"en\">\n",
    "<head>\n",
    "    <meta charset=\"UTF-8\">\n",
    "    <meta name=\"viewport\" content=\"width=device-width, initial-scale=1.0\">\n",
    "    <title>Login</title>\n",
    "</head>\n",
    "<body>\n",
    "    <h1>Login</h1>\n",
    "    <form action=\"/login\" method=\"post\">\n",
    "        <label for=\"username\">Username:</label>\n",
    "        <input type=\"text\" id=\"username\" name=\"username\" required><br><br>\n",
    "        <label for=\"password\">Password:</label>\n",
    "        <input type=\"password\" id=\"password\" name=\"password\" required><br><br>\n",
    "        <input type=\"submit\" value=\"Login\">\n",
    "    </form>\n",
    "    <a href=\"/\">Back to Home</a>\n",
    "</body>\n",
    "</html>\n"
   ]
  },
  {
   "cell_type": "markdown",
   "id": "b517f859-dff5-4b98-a8bd-34f44fd96cee",
   "metadata": {},
   "source": [
    "3. Create the Flask Application (app.py)\n",
    "Create a Python file, app.py, with the following content to set up the Flask application, integrate Flask-Login, and handle user authentication."
   ]
  },
  {
   "cell_type": "code",
   "execution_count": null,
   "id": "a1e129f7-1777-4fb8-8804-03f109abfb3f",
   "metadata": {},
   "outputs": [],
   "source": [
    "from flask import Flask, render_template, redirect, url_for, request\n",
    "from flask_sqlalchemy import SQLAlchemy\n",
    "from flask_login import LoginManager, UserMixin, login_user, login_required, logout_user, current_user\n",
    "\n",
    "app = Flask(__name__)\n",
    "app.config['SQLALCHEMY_DATABASE_URI'] = 'sqlite:///instance/database.db'\n",
    "app.config['SQLALCHEMY_TRACK_MODIFICATIONS'] = False\n",
    "app.config['SECRET_KEY'] = 'your_secret_key'  # Replace with a strong, unique key for production\n",
    "\n",
    "db = SQLAlchemy(app)\n",
    "login_manager = LoginManager(app)\n",
    "login_manager.login_view = 'login'\n",
    "\n",
    "class User(db.Model, UserMixin):\n",
    "    id = db.Column(db.Integer, primary_key=True)\n",
    "    username = db.Column(db.String(100), unique=True, nullable=False)\n",
    "    password = db.Column(db.String(100), nullable=False)\n",
    "\n",
    "@login_manager.user_loader\n",
    "def load_user(user_id):\n",
    "    return User.query.get(int(user_id))\n",
    "\n",
    "@app.before_first_request\n",
    "def create_tables():\n",
    "    db.create_all()\n",
    "\n",
    "@app.route('/')\n",
    "def home():\n",
    "    return render_template('home.html')\n",
    "\n",
    "@app.route('/login', methods=['GET', 'POST'])\n",
    "def login():\n",
    "    if request.method == 'POST':\n",
    "        username = request.form['username']\n",
    "        password = request.form['password']\n",
    "        user = User.query.filter_by(username=username, password=password).first()\n",
    "        if user:\n",
    "            login_user(user)\n",
    "            return redirect(url_for('home'))\n",
    "    return render_template('login.html')\n",
    "\n",
    "@app.route('/register', methods=['GET', 'POST'])\n",
    "def register():\n",
    "    if request.method == 'POST':\n",
    "        username = request.form['username']\n",
    "        password = request.form['password']\n",
    "        if User.query.filter_by(username=username).first():\n",
    "            return \"User already exists\"\n",
    "        new_user = User(username=username, password=password)\n",
    "        db.session.add(new_user)\n",
    "        db.session.commit()\n",
    "        login_user(new_user)\n",
    "        return redirect(url_for('home'))\n",
    "    return render_template('register.html')\n",
    "\n",
    "@app.route('/profile')\n",
    "@login_required\n",
    "def profile():\n",
    "    return render_template('profile.html')\n",
    "\n",
    "@app.route('/logout')\n",
    "@login_required\n",
    "def logout():\n",
    "    logout_user()\n",
    "    return redirect(url_for('home'))\n",
    "\n",
    "if __name__ == '__main__':\n",
    "    app.run(debug=True)\n",
    "\n"
   ]
  },
  {
   "cell_type": "markdown",
   "id": "d85fc978-150f-4821-8e27-e21ac8fb4ccb",
   "metadata": {},
   "source": [
    "4. Run Your Flask Application\n",
    "Open a terminal or command prompt, navigate to your project directory (flask_auth_app), and run:"
   ]
  },
  {
   "cell_type": "code",
   "execution_count": null,
   "id": "c6e9b01c-c2a4-44f9-a8cc-aa0d208c0814",
   "metadata": {},
   "outputs": [],
   "source": [
    "python app.py\n"
   ]
  },
  {
   "cell_type": "markdown",
   "id": "71016584-5de3-4537-ab71-e356016010e2",
   "metadata": {},
   "source": [
    "5. Test Authentication Features\n",
    "Register a User: Use the registration page to create a new user.\n",
    "Login: Use the login page to log in with the registered user's credentials.\n",
    "Access Profile: After logging in, navigate to the profile page.\n",
    "Logout: Click the logout link to log out and return to the home page."
   ]
  },
  {
   "cell_type": "markdown",
   "id": "52b2367c-7533-496c-86fe-864b60cfded1",
   "metadata": {},
   "source": [
    "ques9. Create a RESTful API using Flask to perform CRUD operations on resources like books or movies."
   ]
  },
  {
   "cell_type": "markdown",
   "id": "5e9057e1-abcf-44e9-b56d-5b08e1d4ed87",
   "metadata": {},
   "source": [
    "1. Project Structure\n",
    "Create a project directory and set up the following structure:"
   ]
  },
  {
   "cell_type": "code",
   "execution_count": null,
   "id": "24a4f59a-4e4e-4f0b-ba3c-0781f939870e",
   "metadata": {},
   "outputs": [],
   "source": [
    "flask_rest_api/\n",
    "├── app.py\n",
    "├── instance/\n",
    "│   └── database.db  # SQLite database file (this will be created automatically)\n",
    "└── requirements.txt\n"
   ]
  },
  {
   "cell_type": "markdown",
   "id": "5e23bd75-f6f4-4a91-a3c7-973bd8ba1acc",
   "metadata": {},
   "source": [
    "2. Define Dependencies\n",
    "Create a requirements.txt file to list the necessary dependencies:"
   ]
  },
  {
   "cell_type": "code",
   "execution_count": null,
   "id": "637591a0-66fb-41dc-882b-516d17fe6426",
   "metadata": {},
   "outputs": [],
   "source": [
    "Flask\n",
    "Flask-SQLAlchemy\n"
   ]
  },
  {
   "cell_type": "code",
   "execution_count": null,
   "id": "0feafdc6-604d-43e5-b07c-7b8db0432beb",
   "metadata": {},
   "outputs": [],
   "source": [
    "pip install -r requirements.txt\n",
    "\n"
   ]
  },
  {
   "cell_type": "markdown",
   "id": "324a614c-a8a6-49b6-a385-1723a9d9c44a",
   "metadata": {},
   "source": [
    "3. Create the Flask Application (app.py)\n",
    "Create a Python file, app.py, with the following content to set up the Flask application and define the RESTful API endpoints."
   ]
  },
  {
   "cell_type": "code",
   "execution_count": null,
   "id": "7a415d8e-27fb-4a86-b8e4-44b3f6987689",
   "metadata": {},
   "outputs": [],
   "source": [
    "from flask import Flask, request, jsonify, abort\n",
    "from flask_sqlalchemy import SQLAlchemy\n",
    "\n",
    "app = Flask(__name__)\n",
    "app.config['SQLALCHEMY_DATABASE_URI'] = 'sqlite:///instance/database.db'\n",
    "app.config['SQLALCHEMY_TRACK_MODIFICATIONS'] = False\n",
    "\n",
    "db = SQLAlchemy(app)\n",
    "\n",
    "# Define the Book model\n",
    "class Book(db.Model):\n",
    "    id = db.Column(db.Integer, primary_key=True)\n",
    "    title = db.Column(db.String(100), nullable=False)\n",
    "    author = db.Column(db.String(100), nullable=False)\n",
    "    published_year = db.Column(db.Integer, nullable=False)\n",
    "\n",
    "# Initialize the database\n",
    "@app.before_first_request\n",
    "def create_tables():\n",
    "    db.create_all()\n",
    "\n",
    "# Route to create a new book\n",
    "@app.route('/books', methods=['POST'])\n",
    "def create_book():\n",
    "    data = request.get_json()\n",
    "    if not all(k in data for k in ('title', 'author', 'published_year')):\n",
    "        abort(400, description=\"Missing required fields\")\n",
    "    new_book = Book(\n",
    "        title=data['title'],\n",
    "        author=data['author'],\n",
    "        published_year=data['published_year']\n",
    "    )\n",
    "    db.session.add(new_book)\n",
    "    db.session.commit()\n",
    "    return jsonify({'id': new_book.id}), 201\n",
    "\n",
    "# Route to get all books\n",
    "@app.route('/books', methods=['GET'])\n",
    "def get_books():\n",
    "    books = Book.query.all()\n",
    "    return jsonify([{\n",
    "        'id': book.id,\n",
    "        'title': book.title,\n",
    "        'author': book.author,\n",
    "        'published_year': book.published_year\n",
    "    } for book in books])\n",
    "\n",
    "# Route to get a single book by ID\n",
    "@app.route('/books/<int:id>', methods=['GET'])\n",
    "def get_book(id):\n",
    "    book = Book.query.get_or_404(id)\n",
    "    return jsonify({\n",
    "        'id': book.id,\n",
    "        'title': book.title,\n",
    "        'author': book.author,\n",
    "        'published_year': book.published_year\n",
    "    })\n",
    "\n",
    "# Route to update a book by ID\n",
    "@app.route('/books/<int:id>', methods=['PUT'])\n",
    "def update_book(id):\n",
    "    book = Book.query.get_or_404(id)\n",
    "    data = request.get_json()\n",
    "    if 'title' in data:\n",
    "        book.title = data['title']\n",
    "    if 'author' in data:\n",
    "        book.author = data['author']\n",
    "    if 'published_year' in data:\n",
    "        book.published_year = data['published_year']\n",
    "    db.session.commit()\n",
    "    return jsonify({\n",
    "        'id': book.id,\n",
    "        'title': book.title,\n",
    "        'author': book.author,\n",
    "        'published_year': book.published_year\n",
    "    })\n",
    "\n",
    "# Route to delete a book by ID\n",
    "@app.route('/books/<int:id>', methods=['DELETE'])\n",
    "def delete_book(id):\n",
    "    book = Book.query.get_or_404(id)\n",
    "    db.session.delete(book)\n",
    "    db.session.commit()\n",
    "    return '', 204\n",
    "\n",
    "if __name__ == '__main__':\n",
    "    app.run(debug=True)\n"
   ]
  },
  {
   "cell_type": "markdown",
   "id": "0ae6f07f-27cb-4762-88c7-b3627095c006",
   "metadata": {},
   "source": [
    "4. Run Your Flask Application\n",
    "Open a terminal or command prompt, navigate to your project directory (flask_rest_api), and run:"
   ]
  },
  {
   "cell_type": "code",
   "execution_count": null,
   "id": "ff8e0dd3-c6ac-48ff-8232-4543b4b5dfda",
   "metadata": {},
   "outputs": [],
   "source": [
    "python app.py\n"
   ]
  },
  {
   "cell_type": "markdown",
   "id": "a3f9f0dd-c61e-4eed-bbf2-5670fb8023da",
   "metadata": {},
   "source": [
    "5. Test the API Endpoints\n",
    "Create a New Book (POST /books):"
   ]
  },
  {
   "cell_type": "code",
   "execution_count": null,
   "id": "ba742b5b-a143-455b-8bb3-ad792d6dc61b",
   "metadata": {},
   "outputs": [],
   "source": [
    "curl -X POST http://127.0.0.1:5000/books -H \"Content-Type: application/json\" -d '{\"title\": \"The Great Gatsby\", \"author\": \"F. Scott Fitzgerald\", \"published_year\": 1925}'\n"
   ]
  },
  {
   "cell_type": "code",
   "execution_count": null,
   "id": "1f8cd929-85f0-4e0e-8955-7b0136c5776c",
   "metadata": {},
   "outputs": [],
   "source": [
    "{\n",
    "    \"id\": 1\n",
    "}\n"
   ]
  },
  {
   "cell_type": "code",
   "execution_count": null,
   "id": "f380b46a-d2d0-40f8-8314-83049afc34dd",
   "metadata": {},
   "outputs": [],
   "source": [
    "curl http://127.0.0.1:5000/books\n"
   ]
  },
  {
   "cell_type": "code",
   "execution_count": null,
   "id": "503424ff-b8ae-4c5d-a2cf-815106c650b6",
   "metadata": {},
   "outputs": [],
   "source": [
    "[\n",
    "    {\n",
    "        \"id\": 1,\n",
    "        \"title\": \"The Great Gatsby\",\n",
    "        \"author\": \"F. Scott Fitzgerald\",\n",
    "        \"published_year\": 1925\n",
    "    }\n",
    "]\n"
   ]
  },
  {
   "cell_type": "code",
   "execution_count": null,
   "id": "afcc8178-1203-4cb1-9414-59028ab4db11",
   "metadata": {},
   "outputs": [],
   "source": [
    "curl http://127.0.0.1:5000/books/1\n"
   ]
  },
  {
   "cell_type": "code",
   "execution_count": null,
   "id": "2cb81e5d-6c32-420b-a192-818d5f745eb2",
   "metadata": {},
   "outputs": [],
   "source": [
    "{\n",
    "    \"id\": 1,\n",
    "    \"title\": \"The Great Gatsby\",\n",
    "    \"author\": \"F. Scott Fitzgerald\",\n",
    "    \"published_year\": 1925\n",
    "}\n"
   ]
  },
  {
   "cell_type": "code",
   "execution_count": null,
   "id": "1ae99892-ff25-4bc6-8fdf-26293a0b4258",
   "metadata": {},
   "outputs": [],
   "source": [
    "curl -X PUT http://127.0.0.1:5000/books/1 -H \"Content-Type: application/json\" -d '{\"title\": \"The Great Gatsby\", \"author\": \"F. Scott Fitzgerald\", \"published_year\": 1926}'\n"
   ]
  },
  {
   "cell_type": "code",
   "execution_count": null,
   "id": "f4fa18cd-b935-476e-a21f-c5ba6514b1f1",
   "metadata": {},
   "outputs": [],
   "source": [
    "{\n",
    "    \"id\": 1,\n",
    "    \"title\": \"The Great Gatsby\",\n",
    "    \"author\": \"F. Scott Fitzgerald\",\n",
    "    \"published_year\": 1926\n",
    "}\n"
   ]
  },
  {
   "cell_type": "code",
   "execution_count": null,
   "id": "d9b3e1a9-a17f-4899-b77b-806de3d5e239",
   "metadata": {},
   "outputs": [],
   "source": [
    "curl -X DELETE http://127.0.0.1:5000/books/1\n"
   ]
  },
  {
   "cell_type": "code",
   "execution_count": null,
   "id": "0227f0ad-09eb-4709-adb0-3cd23893c98c",
   "metadata": {},
   "outputs": [],
   "source": [
    "HTTP/1.1 204 No Content\n"
   ]
  },
  {
   "cell_type": "markdown",
   "id": "693d073f-4f08-436e-bc0a-6cc835603b68",
   "metadata": {},
   "source": [
    "10. Design a Flask app with proper error handling for 404 and 500 errors."
   ]
  },
  {
   "cell_type": "markdown",
   "id": "eac2f07d-1750-4a31-b0b7-5e12ce55e608",
   "metadata": {},
   "source": [
    "To design a Flask app with proper error handling for 404 (Not Found) and 500 (Internal Server Error) errors, you'll need to define custom error handlers in your Flask application. This allows you to provide user-friendly error messages and handle errors gracefully.\n",
    "\n",
    "Here's a step-by-step guide to implementing error handling in a Flask app:\n",
    "\n",
    "1. Project Structure\n",
    "Create a project directory and set up the following structure:"
   ]
  },
  {
   "cell_type": "code",
   "execution_count": null,
   "id": "186dff4e-2a83-400e-ac40-35201f6bb2be",
   "metadata": {},
   "outputs": [],
   "source": [
    "flask_error_handling_app/\n",
    "├── app.py\n",
    "└── templates/\n",
    "    ├── 404.html\n",
    "    └── 500.html\n"
   ]
  },
  {
   "cell_type": "markdown",
   "id": "2853cb3b-f49e-4eb5-a7fd-995f9398086c",
   "metadata": {},
   "source": [
    "2. Create HTML Templates\n",
    "Create custom HTML templates to display user-friendly error messages"
   ]
  },
  {
   "cell_type": "code",
   "execution_count": null,
   "id": "947c0e69-ea57-4dbd-954c-287ea6f90fa8",
   "metadata": {},
   "outputs": [],
   "source": [
    "<!DOCTYPE html>\n",
    "<html lang=\"en\">\n",
    "<head>\n",
    "    <meta charset=\"UTF-8\">\n",
    "    <meta name=\"viewport\" content=\"width=device-width, initial-scale=1.0\">\n",
    "    <title>404 Not Found</title>\n",
    "</head>\n",
    "<body>\n",
    "    <h1>404 Not Found</h1>\n",
    "    <p>The page you are looking for does not exist.</p>\n",
    "    <a href=\"/\">Back to Home</a>\n",
    "</body>\n",
    "</html>\n"
   ]
  },
  {
   "cell_type": "code",
   "execution_count": null,
   "id": "e4c8b3a3-6c39-4610-b0a8-bcf029441d23",
   "metadata": {},
   "outputs": [],
   "source": [
    "<!DOCTYPE html>\n",
    "<html lang=\"en\">\n",
    "<head>\n",
    "    <meta charset=\"UTF-8\">\n",
    "    <meta name=\"viewport\" content=\"width=device-width, initial-scale=1.0\">\n",
    "    <title>500 Internal Server Error</title>\n",
    "</head>\n",
    "<body>\n",
    "    <h1>500 Internal Server Error</h1>\n",
    "    <p>Something went wrong on our end. Please try again later.</p>\n",
    "    <a href=\"/\">Back to Home</a>\n",
    "</body>\n",
    "</html>\n"
   ]
  },
  {
   "cell_type": "markdown",
   "id": "c03e714c-e1b9-4987-b501-f134bd984876",
   "metadata": {},
   "source": [
    "3. Create the Flask Application (app.py)\n",
    "Create a Python file, app.py, with the following content to set up the Flask application and handle errors."
   ]
  },
  {
   "cell_type": "code",
   "execution_count": null,
   "id": "c7c1ad61-d9cc-4874-8199-ec47eab01591",
   "metadata": {},
   "outputs": [],
   "source": [
    "from flask import Flask, render_template, request, jsonify\n",
    "\n",
    "app = Flask(__name__)\n",
    "\n",
    "@app.route('/')\n",
    "def home():\n",
    "    return 'Welcome to the Flask App!'\n",
    "\n",
    "@app.route('/error')\n",
    "def trigger_error():\n",
    "    # This route is just to demonstrate a 500 error\n",
    "    raise Exception(\"This is a test exception to trigger a 500 error\")\n",
    "\n",
    "# Custom error handler for 404 errors\n",
    "@app.errorhandler(404)\n",
    "def page_not_found(error):\n",
    "    return render_template('404.html'), 404\n",
    "\n",
    "# Custom error handler for 500 errors\n",
    "@app.errorhandler(500)\n",
    "def internal_server_error(error):\n",
    "    return render_template('500.html'), 500\n",
    "\n",
    "if __name__ == '__main__':\n",
    "    app.run(debug=True)\n"
   ]
  },
  {
   "cell_type": "markdown",
   "id": "102293c1-c7fc-4f37-abe8-ee1da1e81bcb",
   "metadata": {},
   "source": [
    "4. Run Your Flask Application\n",
    "Open a terminal or command prompt, navigate to your project directory (flask_error_handling_app), and run:"
   ]
  },
  {
   "cell_type": "code",
   "execution_count": null,
   "id": "083d0d4c-b056-4a6c-9696-9b425dc78d05",
   "metadata": {},
   "outputs": [],
   "source": [
    "python app.py\n"
   ]
  },
  {
   "cell_type": "markdown",
   "id": "a91227e0-8c4f-4cf4-a3f6-6b7940281cb8",
   "metadata": {},
   "source": [
    "5. Test Error Handling\n",
    "\n",
    "   404 Error Handling:\n",
    "   \n",
    "      Visit a non-existent route, such as http://127.0.0.1:5000/nonexistent.         This should trigger the 404 error page with the custom 404 template.\n",
    "      \n",
    "   500 Error Handling:\n",
    "   \n",
    "      Visit http://127.0.0.1:5000/error. This route is designed to trigger a         500error by raising an exception. You should see the custom 500 error         page"
   ]
  },
  {
   "cell_type": "markdown",
   "id": "3726280a-de90-4345-958d-3071173bd8b5",
   "metadata": {},
   "source": [
    "Real-time Development:"
   ]
  },
  {
   "cell_type": "markdown",
   "id": "b29b05d3-70cf-4b3e-8557-feddf2f2171c",
   "metadata": {},
   "source": [
    "ques11. Create a real-time chat application using Flask-SocketIO."
   ]
  },
  {
   "cell_type": "markdown",
   "id": "58df7d9a-acac-427f-a23d-5b5104fc15c7",
   "metadata": {},
   "source": [
    "To create a real-time chat application using Flask-SocketIO, you'll leverage Flask for the web framework and SocketIO for real-time communication. Flask-SocketIO allows you to handle WebSocket connections and real-time messaging between the server and clients.\n",
    "\n",
    "Here's a step-by-step guide to building a simple real-time chat application.\n",
    "\n",
    "1. Project Structure\n",
    "Create a project directory and set up the following structure:"
   ]
  },
  {
   "cell_type": "code",
   "execution_count": null,
   "id": "8dcc3f0b-62b3-4c5d-bef6-c2df58887dbb",
   "metadata": {},
   "outputs": [],
   "source": [
    "flask_chat_app/\n",
    "├── app.py\n",
    "├── static/\n",
    "│   └── chat.js\n",
    "└── templates/\n",
    "    ├── index.html\n"
   ]
  },
  {
   "cell_type": "markdown",
   "id": "efca530a-4f45-4cb0-a917-04e5c20c64e3",
   "metadata": {},
   "source": [
    "2. Define Dependencies\n",
    "Create a requirements.txt file to list the necessary dependencies:"
   ]
  },
  {
   "cell_type": "code",
   "execution_count": null,
   "id": "3a7033f9-554e-4f98-97dc-dab7f00dd786",
   "metadata": {},
   "outputs": [],
   "source": [
    "Flask\n",
    "Flask-SocketIO\n"
   ]
  },
  {
   "cell_type": "code",
   "execution_count": null,
   "id": "194f0589-a672-4f35-b7e0-e5d5f26d7a21",
   "metadata": {},
   "outputs": [],
   "source": [
    "pip install -r requirements.txt\n"
   ]
  },
  {
   "cell_type": "markdown",
   "id": "8d738415-01d6-4f3b-8774-491d7d4592e7",
   "metadata": {},
   "source": [
    "3. Create HTML Template\n",
    "Create a basic HTML template for the chat interface"
   ]
  },
  {
   "cell_type": "code",
   "execution_count": null,
   "id": "c98a5db7-017b-47f5-9867-e5bd3baddd00",
   "metadata": {},
   "outputs": [],
   "source": [
    "<!DOCTYPE html>\n",
    "<html lang=\"en\">\n",
    "<head>\n",
    "    <meta charset=\"UTF-8\">\n",
    "    <meta name=\"viewport\" content=\"width=device-width, initial-scale=1.0\">\n",
    "    <title>Chat Application</title>\n",
    "    <script src=\"https://cdn.jsdelivr.net/npm/socket.io@4.0.0/dist/socket.io.min.js\"></script>\n",
    "    <script src=\"{{ url_for('static', filename='chat.js') }}\"></script>\n",
    "</head>\n",
    "<body>\n",
    "    <h1>Real-time Chat</h1>\n",
    "    <ul id=\"messages\"></ul>\n",
    "    <input id=\"message-input\" autocomplete=\"off\" />\n",
    "    <button id=\"send-button\">Send</button>\n",
    "</body>\n",
    "</html>\n"
   ]
  },
  {
   "cell_type": "markdown",
   "id": "a954af29-0222-4119-8984-16d79e86d0b5",
   "metadata": {},
   "source": [
    "4. Create JavaScript File\n",
    "Create a JavaScript file to handle client-side SocketIO events.\n",
    "\n"
   ]
  },
  {
   "cell_type": "code",
   "execution_count": null,
   "id": "c359efab-de3d-4e9e-b198-ccf0c911f333",
   "metadata": {},
   "outputs": [],
   "source": [
    "document.addEventListener('DOMContentLoaded', () => {\n",
    "    const socket = io.connect('http://' + document.domain + ':' + location.port);\n",
    "\n",
    "    const messageInput = document.getElementById('message-input');\n",
    "    const sendButton = document.getElementById('send-button');\n",
    "    const messagesList = document.getElementById('messages');\n",
    "\n",
    "    // Function to add a message to the chat\n",
    "    function addMessage(message) {\n",
    "        const li = document.createElement('li');\n",
    "        li.textContent = message;\n",
    "        messagesList.appendChild(li);\n",
    "    }\n",
    "\n",
    "    // Emit a message to the server when the send button is clicked\n",
    "    sendButton.addEventListener('click', () => {\n",
    "        const message = messageInput.value;\n",
    "        socket.send(message);\n",
    "        messageInput.value = '';\n",
    "    });\n",
    "\n",
    "    // Receive a message from the server\n",
    "    socket.on('message', (data) => {\n",
    "        addMessage(data);\n",
    "    });\n",
    "});\n"
   ]
  },
  {
   "cell_type": "markdown",
   "id": "5aedd9c4-1a8a-4980-8002-542163fb12b8",
   "metadata": {},
   "source": [
    "5. Create the Flask Application (app.py)\n",
    "Create a Python file to set up the Flask application and handle SocketIO events."
   ]
  },
  {
   "cell_type": "code",
   "execution_count": null,
   "id": "1bb25a58-d25e-4283-a71c-9541bc14f280",
   "metadata": {},
   "outputs": [],
   "source": [
    "from flask import Flask, render_template\n",
    "from flask_socketio import SocketIO, send\n",
    "\n",
    "app = Flask(__name__)\n",
    "app.config['SECRET_KEY'] = 'mysecret'\n",
    "socketio = SocketIO(app)\n",
    "\n",
    "@app.route('/')\n",
    "def index():\n",
    "    return render_template('index.html')\n",
    "\n",
    "@socketio.on('message')\n",
    "def handle_message(message):\n",
    "    print(f'Received message: {message}')\n",
    "    send(message, broadcast=True)\n",
    "\n",
    "if __name__ == '__main__':\n",
    "    socketio.run(app, debug=True)\n"
   ]
  },
  {
   "cell_type": "code",
   "execution_count": null,
   "id": "1ed3b321-6da4-493b-b326-22d3ef528098",
   "metadata": {},
   "outputs": [],
   "source": [
    "6. Run Your Flask Application\n",
    "Open a terminal or command prompt, navigate to your project directory (flask_chat_app), and run:"
   ]
  },
  {
   "cell_type": "code",
   "execution_count": null,
   "id": "64372c33-f235-407c-86e4-9115810f78c3",
   "metadata": {},
   "outputs": [],
   "source": [
    "python app.py\n"
   ]
  },
  {
   "cell_type": "code",
   "execution_count": null,
   "id": "d1d03ebf-a86f-47ef-b158-7435778bc68c",
   "metadata": {},
   "outputs": [],
   "source": [
    "http://127.0.0.1:5000/\n"
   ]
  },
  {
   "cell_type": "markdown",
   "id": "d9d864d1-148f-4b03-995c-970729c7f5ce",
   "metadata": {},
   "source": [
    "7. Test Your Chat Application\n",
    "\n",
    "Open multiple browser tabs or windows to simulate different users.\n",
    "\n",
    "Type messages into the input field and click the \"Send\" button\n",
    "\n",
    "Messages should appear in real-time across all open tabs or windows.\n",
    "\n"
   ]
  },
  {
   "cell_type": "markdown",
   "id": "d342326c-d01e-4300-8771-176435e57c43",
   "metadata": {},
   "source": [
    "12. Build a Flask app that updates data in real-time using WebSocket connections."
   ]
  },
  {
   "cell_type": "markdown",
   "id": "9dd5beb5-1359-41ad-8294-08d473d5b0c8",
   "metadata": {},
   "source": [
    "o build a Flask app that updates data in real-time using WebSocket connections, you can use Flask-SocketIO to handle WebSocket connections. In this example, we'll create a simple Flask application that updates a counter in real-time across multiple clients.\n",
    "\n",
    "Project Structure"
   ]
  },
  {
   "cell_type": "code",
   "execution_count": null,
   "id": "4e06207e-93ea-42b1-aa5b-b1419af87d90",
   "metadata": {},
   "outputs": [],
   "source": [
    "flask_realtime_updates/\n",
    "├── app.py\n",
    "├── static/\n",
    "│   └── script.js\n",
    "└── templates/\n",
    "    └── index.html\n"
   ]
  },
  {
   "cell_type": "markdown",
   "id": "781437cd-fbbd-4f3e-b636-5c35ff28bfce",
   "metadata": {},
   "source": [
    "Step-by-Step Implementation\n",
    "1. Define Dependencies\n",
    "Create a requirements.txt file to list the necessary dependencies"
   ]
  },
  {
   "cell_type": "code",
   "execution_count": null,
   "id": "bc51ec11-440d-4d66-b99f-7ed5593ac9fe",
   "metadata": {},
   "outputs": [],
   "source": [
    "Flask\n",
    "Flask-SocketIO\n"
   ]
  },
  {
   "cell_type": "code",
   "execution_count": null,
   "id": "9e66594a-9535-40b8-a59d-24e0a6a4af13",
   "metadata": {},
   "outputs": [],
   "source": [
    "pip install -r requirements.txt\n"
   ]
  },
  {
   "cell_type": "markdown",
   "id": "07b5261e-4863-4a34-b9d8-a33ea71f097e",
   "metadata": {},
   "source": [
    "2. Create the HTML Template\n",
    "Create an HTML template to display the real-time data and a button to increment the counter."
   ]
  },
  {
   "cell_type": "code",
   "execution_count": null,
   "id": "a56440d9-253b-46f6-a246-026bbb59f511",
   "metadata": {},
   "outputs": [],
   "source": [
    "<!DOCTYPE html>\n",
    "<html lang=\"en\">\n",
    "<head>\n",
    "    <meta charset=\"UTF-8\">\n",
    "    <meta name=\"viewport\" content=\"width=device-width, initial-scale=1.0\">\n",
    "    <title>Real-time Updates</title>\n",
    "    <script src=\"https://cdn.jsdelivr.net/npm/socket.io@4.0.0/dist/socket.io.min.js\"></script>\n",
    "    <script src=\"{{ url_for('static', filename='script.js') }}\"></script>\n",
    "</head>\n",
    "<body>\n",
    "    <h1>Real-time Counter</h1>\n",
    "    <p>Current Count: <span id=\"count\">0</span></p>\n",
    "    <button id=\"increment\">Increment</button>\n",
    "</body>\n",
    "</html>\n"
   ]
  },
  {
   "cell_type": "markdown",
   "id": "2a631b3a-916a-4da4-8a6f-3fb5da382c9e",
   "metadata": {},
   "source": [
    "3. Create the JavaScript File\n",
    "Create a JavaScript file to handle WebSocket connections and updates."
   ]
  },
  {
   "cell_type": "code",
   "execution_count": null,
   "id": "3998ec99-3157-4e6d-b36e-5479ee989c0a",
   "metadata": {},
   "outputs": [],
   "source": [
    "document.addEventListener('DOMContentLoaded', () => {\n",
    "    const socket = io.connect('http://' + document.domain + ':' + location.port);\n",
    "\n",
    "    const countElement = document.getElementById('count');\n",
    "    const incrementButton = document.getElementById('increment');\n",
    "\n",
    "    // Function to update the count in the UI\n",
    "    function updateCount(count) {\n",
    "        countElement.textContent = count;\n",
    "    }\n",
    "\n",
    "    // Listen for 'count_update' events from the server\n",
    "    socket.on('count_update', (data) => {\n",
    "        updateCount(data.count);\n",
    "    });\n",
    "\n",
    "    // Emit 'increment' event to the server when the button is clicked\n",
    "    incrementButton.addEventListener('click', () => {\n",
    "        socket.emit('increment');\n",
    "    });\n",
    "});\n"
   ]
  },
  {
   "cell_type": "markdown",
   "id": "ac2713bb-e058-4053-93a0-6d09704bf326",
   "metadata": {},
   "source": [
    "4. Create the Flask Application\n",
    "Create a Python file to set up the Flask application and handle WebSocket events"
   ]
  },
  {
   "cell_type": "code",
   "execution_count": null,
   "id": "8f080ffd-66d1-4c0e-8608-fdc9c340acb4",
   "metadata": {},
   "outputs": [],
   "source": [
    "from flask import Flask, render_template\n",
    "from flask_socketio import SocketIO, emit\n",
    "\n",
    "app = Flask(__name__)\n",
    "app.config['SECRET_KEY'] = 'your_secret_key'\n",
    "socketio = SocketIO(app)\n",
    "\n",
    "count = 0\n",
    "\n",
    "@app.route('/')\n",
    "def index():\n",
    "    return render_template('index.html')\n",
    "\n",
    "@socketio.on('increment')\n",
    "def handle_increment():\n",
    "    global count\n",
    "    count += 1\n",
    "    emit('count_update', {'count': count}, broadcast=True)\n",
    "\n",
    "if __name__ == '__main__':\n",
    "    socketio.run(app, debug=True)\n"
   ]
  },
  {
   "cell_type": "markdown",
   "id": "04ce1c63-b51c-40f3-aa67-49bf70e84d13",
   "metadata": {},
   "source": [
    "5. Run Your Flask Application\n",
    "Open a terminal or command prompt, navigate to your project directory (flask_realtime_updates), and run:"
   ]
  },
  {
   "cell_type": "code",
   "execution_count": null,
   "id": "7f159efc-7e93-4311-a1fd-f61122ee4f0f",
   "metadata": {},
   "outputs": [],
   "source": [
    "python app.py\n"
   ]
  },
  {
   "cell_type": "code",
   "execution_count": null,
   "id": "b4c35d8c-484d-4131-bf4c-7110d25d9861",
   "metadata": {},
   "outputs": [],
   "source": [
    "http://127.0.0.1:5000/\n"
   ]
  },
  {
   "cell_type": "markdown",
   "id": "ede6a77a-08d1-414a-b715-2781caf6ee14",
   "metadata": {},
   "source": [
    "6. Test Real-Time Updates\n",
    "\n",
    "Open multiple browser tabs or windows to simulate different clients.\n",
    "\n",
    "Click the \"Increment\" button in one tab.\n",
    "\n",
    "The counter should update in real-time across all open tabs or windows."
   ]
  },
  {
   "cell_type": "markdown",
   "id": "7b301dbf-5699-4977-8e18-bbdce2bb1f0c",
   "metadata": {},
   "source": [
    "ques 13. Implement notifications in a Flask app using websockets to notify users of updates."
   ]
  },
  {
   "cell_type": "markdown",
   "id": "13123617-ec19-42a2-b485-39396e1c87d2",
   "metadata": {},
   "source": [
    "To implement notifications in a Flask app using WebSockets, you'll leverage Flask-SocketIO to push notifications to users in real-time. This example will guide you through creating a Flask application that notifies users of updates, such as new messages or system alerts.\n",
    "\n",
    "Project Structure\n",
    "Here's the structure of the project:"
   ]
  },
  {
   "cell_type": "code",
   "execution_count": null,
   "id": "24aa0585-5e61-461d-98fe-f62ed3a7a246",
   "metadata": {},
   "outputs": [],
   "source": [
    "flask_notifications_app/\n",
    "├── app.py\n",
    "├── static/\n",
    "│   └── script.js\n",
    "└── templates/\n",
    "    └── index.html\n"
   ]
  },
  {
   "cell_type": "markdown",
   "id": "cf92f1cc-0545-41bd-9c30-b2a56c938940",
   "metadata": {},
   "source": [
    "1. Define Dependencies\n",
    "Create a requirements.txt file with the necessary dependencies:"
   ]
  },
  {
   "cell_type": "code",
   "execution_count": null,
   "id": "e92537dc-13e6-4c13-ba54-4c1c00212a87",
   "metadata": {},
   "outputs": [],
   "source": [
    "Flask\n",
    "Flask-SocketIO\n"
   ]
  },
  {
   "cell_type": "code",
   "execution_count": null,
   "id": "439abf34-e54f-4262-b818-cb1aa3b101d4",
   "metadata": {},
   "outputs": [],
   "source": [
    "pip install -r requirements.txt\n"
   ]
  },
  {
   "cell_type": "markdown",
   "id": "183ebf58-019d-4b13-afc9-e5f72882ff08",
   "metadata": {},
   "source": [
    "2. Create the HTML Template\n",
    "Create an HTML template for the notifications interface. This template will have a section to display notifications and a button to trigger a test notification."
   ]
  },
  {
   "cell_type": "code",
   "execution_count": null,
   "id": "c7f66542-98b2-40da-86fc-16f67f9621d9",
   "metadata": {},
   "outputs": [],
   "source": [
    "<!DOCTYPE html>\n",
    "<html lang=\"en\">\n",
    "<head>\n",
    "    <meta charset=\"UTF-8\">\n",
    "    <meta name=\"viewport\" content=\"width=device-width, initial-scale=1.0\">\n",
    "    <title>Real-time Notifications</title>\n",
    "    <script src=\"https://cdn.jsdelivr.net/npm/socket.io@4.0.0/dist/socket.io.min.js\"></script>\n",
    "    <script src=\"{{ url_for('static', filename='script.js') }}\"></script>\n",
    "</head>\n",
    "<body>\n",
    "    <h1>Real-time Notifications</h1>\n",
    "    <div id=\"notifications\"></div>\n",
    "    <button id=\"notify-button\">Send Test Notification</button>\n",
    "</body>\n",
    "</html>\n"
   ]
  },
  {
   "cell_type": "markdown",
   "id": "d4db7cbf-c6c9-4812-98c2-a18307f97fd4",
   "metadata": {},
   "source": [
    "3. Create the JavaScript File\n",
    "Create a JavaScript file to handle WebSocket connections and display notifications."
   ]
  },
  {
   "cell_type": "code",
   "execution_count": null,
   "id": "f4a29a3a-51d8-4f30-b7e8-d6433cd15bc2",
   "metadata": {},
   "outputs": [],
   "source": [
    "document.addEventListener('DOMContentLoaded', () => {\n",
    "    const socket = io.connect('http://' + document.domain + ':' + location.port);\n",
    "\n",
    "    const notificationsDiv = document.getElementById('notifications');\n",
    "    const notifyButton = document.getElementById('notify-button');\n",
    "\n",
    "    // Function to add a notification to the page\n",
    "    function addNotification(message) {\n",
    "        const div = document.createElement('div');\n",
    "        div.textContent = message;\n",
    "        notificationsDiv.appendChild(div);\n",
    "    }\n",
    "\n",
    "    // Listen for 'notification' events from the server\n",
    "    socket.on('notification', (data) => {\n",
    "        addNotification(data.message);\n",
    "    });\n",
    "\n",
    "    // Emit 'test_notification' event to the server when the button is clicked\n",
    "    notifyButton.addEventListener('click', () => {\n",
    "        socket.emit('test_notification');\n",
    "    });\n",
    "});\n"
   ]
  },
  {
   "cell_type": "markdown",
   "id": "d83df467-00b0-4a33-865f-dfbfdca7b4e9",
   "metadata": {},
   "source": [
    "4. Create the Flask Application\n",
    "Create a Python file to set up the Flask application and handle WebSocket events."
   ]
  },
  {
   "cell_type": "code",
   "execution_count": null,
   "id": "b67a9c23-3074-42ca-92f4-4a039646ef92",
   "metadata": {},
   "outputs": [],
   "source": [
    "from flask import Flask, render_template\n",
    "from flask_socketio import SocketIO, emit\n",
    "\n",
    "app = Flask(__name__)\n",
    "app.config['SECRET_KEY'] = 'your_secret_key'\n",
    "socketio = SocketIO(app)\n",
    "\n",
    "@app.route('/')\n",
    "def index():\n",
    "    return render_template('index.html')\n",
    "\n",
    "@socketio.on('test_notification')\n",
    "def handle_test_notification():\n",
    "    message = \"This is a test notification!\"\n",
    "    emit('notification', {'message': message}, broadcast=True)\n",
    "\n",
    "if __name__ == '__main__':\n",
    "    socketio.run(app, debug=True)\n"
   ]
  },
  {
   "cell_type": "markdown",
   "id": "86e56ae7-a2fd-411a-9da2-e73da282df9e",
   "metadata": {},
   "source": [
    "5. Run Your Flask Application\n",
    "Open a terminal or command prompt, navigate to your project directory (flask_notifications_app), and run:"
   ]
  },
  {
   "cell_type": "code",
   "execution_count": null,
   "id": "0d5df5d1-800a-4509-82aa-8f9e666a8e27",
   "metadata": {},
   "outputs": [],
   "source": [
    "python app.py\n"
   ]
  },
  {
   "cell_type": "code",
   "execution_count": null,
   "id": "67651950-6bb9-47ec-beee-9375d6a1a157",
   "metadata": {},
   "outputs": [],
   "source": [
    "http://127.0.0.1:5000/\n"
   ]
  },
  {
   "cell_type": "markdown",
   "id": "2c7fa978-4cae-44a2-a3f4-9c11b3e76a6e",
   "metadata": {},
   "source": [
    "6. Test Notifications\n",
    "\n",
    "Open multiple browser tabs or windows to simulate different users.\n",
    "\n",
    "Click the \"Send Test Notification\" button in one tab.\n",
    "\n",
    "Notifications should appear in real-time across all open tabs or windows."
   ]
  },
  {
   "cell_type": "code",
   "execution_count": null,
   "id": "94a558a7-0652-4d9a-8153-baae076dc4f1",
   "metadata": {},
   "outputs": [],
   "source": []
  }
 ],
 "metadata": {
  "kernelspec": {
   "display_name": "Python 3 (ipykernel)",
   "language": "python",
   "name": "python3"
  },
  "language_info": {
   "codemirror_mode": {
    "name": "ipython",
    "version": 3
   },
   "file_extension": ".py",
   "mimetype": "text/x-python",
   "name": "python",
   "nbconvert_exporter": "python",
   "pygments_lexer": "ipython3",
   "version": "3.10.8"
  }
 },
 "nbformat": 4,
 "nbformat_minor": 5
}
