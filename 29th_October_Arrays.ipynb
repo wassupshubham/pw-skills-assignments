{
 "cells": [
  {
   "cell_type": "raw",
   "id": "7a632b2d-365a-4f54-9109-64e4205bc5c2",
   "metadata": {},
   "source": [
    "Assignment Questions\n",
    "\n",
    "\n",
    "\n",
    "Array............."
   ]
  },
  {
   "cell_type": "raw",
   "id": "2f60ff9f-cd08-46b1-8a4a-db7366631252",
   "metadata": {},
   "source": [
    "1. Given an array, check if it contains any duplicates or not.\n",
    "arr = [1, 2, 4, 2, 5, 9]\n",
    "Output = True"
   ]
  },
  {
   "cell_type": "code",
   "execution_count": 60,
   "id": "238713a2-7691-4362-80bf-32b25243346e",
   "metadata": {},
   "outputs": [
    {
     "name": "stdout",
     "output_type": "stream",
     "text": [
      "True\n"
     ]
    }
   ],
   "source": [
    "hashset = set()\n",
    "def duplicate(arr):\n",
    "    for i in arr:\n",
    "        if i in hashset:\n",
    "            return True\n",
    "        hashset.add(i)\n",
    "    return False\n",
    "\n",
    "## driver code\n",
    "arr = [1,2,4,2,5,9]\n",
    "print(duplicate(arr))\n"
   ]
  },
  {
   "cell_type": "raw",
   "id": "5e9f6f01-eef2-4567-bb22-7bad0bb461a9",
   "metadata": {},
   "source": [
    "2. Given an array and an integer k, rotate the array to the right by k steps.\n",
    "arr = [1, 2, 3, 4, 5, 6, 7] k = 3\n",
    "Output = [5, 6, 7, 1, 2, 3, 4]"
   ]
  },
  {
   "cell_type": "code",
   "execution_count": 39,
   "id": "401e55b4-0068-4eed-ae01-766a0ee2a546",
   "metadata": {},
   "outputs": [
    {
     "name": "stdout",
     "output_type": "stream",
     "text": [
      "[5, 6, 7, 1, 2, 3, 4]\n"
     ]
    }
   ],
   "source": [
    "def rightrotate(arr,k):\n",
    "    for i in range(0,k):\n",
    "        temp = arr[len(arr)-1]\n",
    "        for j in range(len(arr)-1,0,-1):\n",
    "            arr[j] = arr[j-1]\n",
    "        arr[0] = temp\n",
    "    \n",
    "    return arr\n",
    "\n",
    "##driver code\n",
    "arr = [1,2,3,4,5,6,7]\n",
    "k = 3\n",
    "temp = []\n",
    "result = rightrotate(arr, k)\n",
    "print(result)"
   ]
  },
  {
   "cell_type": "raw",
   "id": "0aad923f-3d82-4258-a3a8-db781afe399b",
   "metadata": {},
   "source": [
    "3. Reverse the given array in-place, means without using any extra data structure.\n",
    "arr = [2, 4, 5, 7, 9, 12]\n",
    "Output = [12, 9, 7, 5, 4, 2]"
   ]
  },
  {
   "cell_type": "code",
   "execution_count": 3,
   "id": "ec27475e-3d05-450a-95a2-c58e093579a6",
   "metadata": {},
   "outputs": [
    {
     "name": "stdout",
     "output_type": "stream",
     "text": [
      "[12, 9, 7, 5, 4, 2]\n"
     ]
    }
   ],
   "source": [
    "def reverse(arr):\n",
    "    arr.reverse()\n",
    "    \n",
    "    return arr\n",
    "## driver code....\n",
    "arr = [2, 4, 5, 7, 9, 12]\n",
    "print(reverse(arr))\n"
   ]
  },
  {
   "cell_type": "raw",
   "id": "1fff4623-7f6f-4c8b-ba91-2f6db763f5a2",
   "metadata": {},
   "source": [
    "4. Given an array of integers, find the maximum element in an array\n",
    "arr = [10, 5, 20, 8, 15]\n",
    "Output = 20"
   ]
  },
  {
   "cell_type": "code",
   "execution_count": 13,
   "id": "c3c30358-e9db-4a4f-8326-4a9a7a9d8655",
   "metadata": {},
   "outputs": [
    {
     "name": "stdout",
     "output_type": "stream",
     "text": [
      "20\n"
     ]
    }
   ],
   "source": [
    "def maximum(arr):\n",
    "    for i in range(len(arr)-1,0,-1):\n",
    "        for j in range(i):\n",
    "            if (arr[j]> arr[j+1]):\n",
    "                # swapping is done here....\n",
    "                arr[j] , arr[j+1]= arr[j+1],arr[j]\n",
    "                \n",
    "    return (arr[-1])\n",
    "\n",
    "                \n",
    "    \n",
    "    \n",
    "\n",
    "\n",
    "## driver code\n",
    "arr = [10, 5, 20, 8, 15]\n",
    "print(maximum(arr))"
   ]
  },
  {
   "cell_type": "raw",
   "id": "268a433e-9f49-41d6-976a-cd798fb64ac4",
   "metadata": {},
   "source": [
    "5. Given a sorted array, remove the duplicate element without using any extra data structure.\n",
    "arr = [1, 1, 2, 2, 2, 3, 3, 4, 4, 4, 5, 5]\n",
    "Output = [1, 2, 3, 4, 5]"
   ]
  },
  {
   "cell_type": "code",
   "execution_count": 31,
   "id": "3e6909c8-e00c-4aee-83fc-a5141545847a",
   "metadata": {},
   "outputs": [
    {
     "name": "stdout",
     "output_type": "stream",
     "text": [
      "Original string:- [1, 1, 2, 2, 2, 3, 3, 4, 4, 4, 5, 5]\n",
      "[1, 2, 3, 4, 5]\n"
     ]
    }
   ],
   "source": [
    "arr = [1, 1, 2, 2, 2, 3, 3, 4, 4, 4, 5, 5]\n",
    "print(\"Original string:- \" + str(arr))\n",
    "res = [arr[i] for i in range(len(arr)) if i == arr.index(arr[i])]\n",
    "print(res)"
   ]
  },
  {
   "cell_type": "code",
   "execution_count": null,
   "id": "7fdc4427-baa4-48ee-a446-55ee7502c0ec",
   "metadata": {},
   "outputs": [],
   "source": []
  }
 ],
 "metadata": {
  "kernelspec": {
   "display_name": "Python 3 (ipykernel)",
   "language": "python",
   "name": "python3"
  },
  "language_info": {
   "codemirror_mode": {
    "name": "ipython",
    "version": 3
   },
   "file_extension": ".py",
   "mimetype": "text/x-python",
   "name": "python",
   "nbconvert_exporter": "python",
   "pygments_lexer": "ipython3",
   "version": "3.10.8"
  }
 },
 "nbformat": 4,
 "nbformat_minor": 5
}
