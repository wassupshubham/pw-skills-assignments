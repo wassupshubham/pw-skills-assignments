{
 "cells": [
  {
   "cell_type": "markdown",
   "id": "fdc92da5-523f-4d93-ba45-2036ebd51f48",
   "metadata": {},
   "source": [
    "TOPIC : PYTHON BASIC VARIABLE\n",
    "\n",
    "\n",
    "\n",
    "\n",
    "ques 1) Declare two variables,'x' and 'y', and assign them integer values.swap the value of these variables without using any temporary variable."
   ]
  },
  {
   "cell_type": "code",
   "execution_count": 9,
   "id": "5b54405e-2fb1-4ad5-9779-4a5695b9ee46",
   "metadata": {},
   "outputs": [
    {
     "name": "stdout",
     "output_type": "stream",
     "text": [
      "the swap value of x : 24\n",
      "the swap value of y : 54\n"
     ]
    }
   ],
   "source": [
    "x=54\n",
    "y=24\n",
    "x,y = y,x\n",
    "print(\"the swap value of x :\",x)\n",
    "print(\"the swap value of y :\",y)"
   ]
  },
  {
   "cell_type": "markdown",
   "id": "af09d2bd-e08e-4213-a818-0532473249b0",
   "metadata": {},
   "source": [
    "ques 2) create a program that calculates the area of a rectangle.take the length and width as inputs from the user and store them in variables .calculate and display the eresult.;"
   ]
  },
  {
   "cell_type": "code",
   "execution_count": 10,
   "id": "cbfa37ed-67aa-4653-be68-fefb45bb7a1f",
   "metadata": {},
   "outputs": [
    {
     "name": "stdin",
     "output_type": "stream",
     "text": [
      "enter the length: 5\n",
      "enter ur breadth: 2\n"
     ]
    },
    {
     "name": "stdout",
     "output_type": "stream",
     "text": [
      "the area of rectangle is 10.0\n"
     ]
    }
   ],
   "source": [
    "length = float(input(\"enter the length:\"))\n",
    "breadth = float(input(\"enter ur breadth:\"))\n",
    "area = length * breadth\n",
    "print('the area of rectangle is',area)\n"
   ]
  },
  {
   "cell_type": "markdown",
   "id": "0f9f57f6-401d-4582-84b9-cc330f0c7b0b",
   "metadata": {},
   "source": [
    "ques 3) write python program hat converts temperatures from celsius to fahreneit, take the temperature in celcius as input,store it in a variable,covert it to fahrenheit,and display the result.\n"
   ]
  },
  {
   "cell_type": "code",
   "execution_count": 12,
   "id": "8fd85204-0dd8-48dc-8f4f-f2ba136f10fc",
   "metadata": {},
   "outputs": [
    {
     "name": "stdin",
     "output_type": "stream",
     "text": [
      "enter the temperature in celcius: 100\n"
     ]
    },
    {
     "name": "stdout",
     "output_type": "stream",
     "text": [
      "the temperature in fahreneit 212.0\n"
     ]
    }
   ],
   "source": [
    "celcius = float(input(\"enter the temperature in celcius:\"))\n",
    "fahreneit =(1.8*celcius)+32\n",
    "print(\"the temperature in fahreneit\",fahreneit)                "
   ]
  },
  {
   "cell_type": "markdown",
   "id": "d6a046d9-218b-4d8d-86e8-eb8d17fb7e89",
   "metadata": {},
   "source": [
    "        "
   ]
  },
  {
   "cell_type": "markdown",
   "id": "40cdddb8-9091-4af3-951e-c5f1f04b79f2",
   "metadata": {},
   "source": [
    "    "
   ]
  },
  {
   "cell_type": "markdown",
   "id": "0cd6955e-ab64-4a0c-a2fc-f56015c71027",
   "metadata": {},
   "source": [
    "\n",
    "\n",
    "\n",
    "\n",
    "\n",
    "\n",
    "\n",
    "                            \n",
    "\n",
    "TOPIC: STRING BASED QUESTIONS\n",
    "\n",
    "\n",
    "\n"
   ]
  },
  {
   "cell_type": "markdown",
   "id": "86e6ef66-53bf-413f-a639-04af8836e80e",
   "metadata": {},
   "source": [
    "     "
   ]
  },
  {
   "cell_type": "markdown",
   "id": "21e59abe-8f4d-48b6-a727-b5864c0e3c76",
   "metadata": {},
   "source": [
    "           "
   ]
  },
  {
   "cell_type": "markdown",
   "id": "3d379ce9-d7f0-427a-b14d-f850aa43e223",
   "metadata": {},
   "source": [
    "ques 1) Write a python program that takes a string as input and prints the length of string."
   ]
  },
  {
   "cell_type": "code",
   "execution_count": 13,
   "id": "63b391d3-913c-4130-9dcc-cddd5de638a9",
   "metadata": {},
   "outputs": [
    {
     "name": "stdin",
     "output_type": "stream",
     "text": [
      "enter ur string: shubham\n"
     ]
    },
    {
     "name": "stdout",
     "output_type": "stream",
     "text": [
      "the length of the string is  7\n"
     ]
    }
   ],
   "source": [
    "string = input(\"enter ur string:\")\n",
    "print(\"the length of the string is \",len(string))"
   ]
  },
  {
   "cell_type": "markdown",
   "id": "5bb7d77b-d18d-426c-a393-22c0631ce522",
   "metadata": {},
   "source": [
    "ques 2) create a program that takes a sentence from the user and counts the number of vowels (a,e,i,o,u) in the string."
   ]
  },
  {
   "cell_type": "code",
   "execution_count": 14,
   "id": "96a10a5c-0c05-4d2f-a3f0-b4c76442cd8d",
   "metadata": {},
   "outputs": [
    {
     "name": "stdin",
     "output_type": "stream",
     "text": [
      "enter ur string: shubham\n"
     ]
    },
    {
     "name": "stdout",
     "output_type": "stream",
     "text": [
      "number of vowels  2\n"
     ]
    }
   ],
   "source": [
    "string2 = input(\"enter ur string:\")\n",
    "vowels = (\"aeiouAEIOU\")\n",
    "count = sum(string2.count(vowel) for vowel in vowels)\n",
    "print(\"number of vowels \",count)\n"
   ]
  },
  {
   "cell_type": "markdown",
   "id": "0378e2cd-326e-42a0-9cd9-db78d3ab87af",
   "metadata": {},
   "source": [
    "ques 3) given a string.reverse the order of characteristics using string slicing and print the reversed string.\n"
   ]
  },
  {
   "cell_type": "code",
   "execution_count": 55,
   "id": "f3a45f07-4f04-4b93-8193-6b4a26c87f78",
   "metadata": {},
   "outputs": [
    {
     "name": "stdin",
     "output_type": "stream",
     "text": [
      "enter your string: shubham\n"
     ]
    },
    {
     "data": {
      "text/plain": [
       "('reverse of the string', 'mahbuhs')"
      ]
     },
     "execution_count": 55,
     "metadata": {},
     "output_type": "execute_result"
    }
   ],
   "source": [
    "string3 = input(\"enter your string:\")\n",
    "reverse = string3[::-1]\n",
    "print(\"reverse of the string\",reverse)"
   ]
  },
  {
   "cell_type": "markdown",
   "id": "b5940f61-cfda-43fb-9455-275729744558",
   "metadata": {},
   "source": [
    "ques 4) write a rogram that takes a string as input and checks if it is a palindrome\n",
    "(reads the same forwards and backwards)"
   ]
  },
  {
   "cell_type": "code",
   "execution_count": 15,
   "id": "f306ec2d-641c-408f-b337-6d173b4f4973",
   "metadata": {},
   "outputs": [
    {
     "name": "stdin",
     "output_type": "stream",
     "text": [
      "enter your string: maam\n"
     ]
    },
    {
     "name": "stdout",
     "output_type": "stream",
     "text": [
      "yes\n"
     ]
    }
   ],
   "source": [
    "string4 = input(\"enter your string:\")\n",
    "palindrome = string4[::-1]\n",
    "if palindrome == string4:\n",
    "    print(\"yes\")\n",
    "else:\n",
    "    print(\"no\")"
   ]
  },
  {
   "cell_type": "markdown",
   "id": "19ec9ee2-6410-480f-a011-eebd843cf549",
   "metadata": {},
   "source": [
    "ques 5) create a program that takes a string as input and removes all the spaces from it.print the modified string without spaces."
   ]
  },
  {
   "cell_type": "code",
   "execution_count": 16,
   "id": "b9115fe2-2ce3-4ef9-ae96-b5f57b5b2443",
   "metadata": {},
   "outputs": [
    {
     "name": "stdin",
     "output_type": "stream",
     "text": [
      "enter your string: sh ub ham\n"
     ]
    },
    {
     "name": "stdout",
     "output_type": "stream",
     "text": [
      "string without spaces shubham\n"
     ]
    }
   ],
   "source": [
    "string5 = input(\"enter your string:\")\n",
    "string6 = string5.replace(\" \",\"\")\n",
    "print(\"string without spaces\",string6)\n"
   ]
  },
  {
   "cell_type": "code",
   "execution_count": null,
   "id": "8ebcf32f-4470-4870-9211-c0a5ce179d48",
   "metadata": {},
   "outputs": [],
   "source": []
  }
 ],
 "metadata": {
  "kernelspec": {
   "display_name": "Python 3 (ipykernel)",
   "language": "python",
   "name": "python3"
  },
  "language_info": {
   "codemirror_mode": {
    "name": "ipython",
    "version": 3
   },
   "file_extension": ".py",
   "mimetype": "text/x-python",
   "name": "python",
   "nbconvert_exporter": "python",
   "pygments_lexer": "ipython3",
   "version": "3.10.8"
  }
 },
 "nbformat": 4,
 "nbformat_minor": 5
}
