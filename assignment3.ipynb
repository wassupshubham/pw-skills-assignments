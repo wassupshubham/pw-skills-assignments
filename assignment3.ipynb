{
 "cells": [
  {
   "cell_type": "markdown",
   "id": "de655cf9-780c-46d4-af02-2f3f3072f426",
   "metadata": {},
   "source": [
    "FOR LOOP ASSIGNMENT"
   ]
  },
  {
   "cell_type": "markdown",
   "id": "9b1f0937-e704-479f-b9e3-0fecb8c0d8ac",
   "metadata": {},
   "source": [
    "1. Write a Python program to print the numbers from 1 to 10 using a `for` loop"
   ]
  },
  {
   "cell_type": "code",
   "execution_count": 3,
   "id": "fd60e7e8-12db-4a14-b1d8-e2e24f12a49e",
   "metadata": {},
   "outputs": [
    {
     "name": "stdout",
     "output_type": "stream",
     "text": [
      "1\n",
      "2\n",
      "3\n",
      "4\n",
      "5\n",
      "6\n",
      "7\n",
      "8\n",
      "9\n",
      "10\n"
     ]
    }
   ],
   "source": [
    "for i in range(1,11):\n",
    "    print(i)\n",
    "    "
   ]
  },
  {
   "cell_type": "markdown",
   "id": "9d2f6457-e8d9-4855-8332-01ee3471b8e8",
   "metadata": {},
   "source": [
    "2. Create a program that calculates the sum of all numbers in a list using a `for` loop."
   ]
  },
  {
   "cell_type": "code",
   "execution_count": 7,
   "id": "9b8eb412-fbdf-4d44-8161-3e0470fa815a",
   "metadata": {},
   "outputs": [
    {
     "name": "stdout",
     "output_type": "stream",
     "text": [
      "The sum of the numbers is: 55\n"
     ]
    }
   ],
   "source": [
    "# Define a list of numbers\n",
    "numbers = [1, 2, 3, 4, 5, 6, 7, 8, 9, 10]\n",
    "\n",
    "# Initialize a variable to store the sum\n",
    "sum_of_numbers = 0\n",
    "\n",
    "# Use a for loop to iterate through the list and calculate the sum\n",
    "for num in numbers:\n",
    "    sum_of_numbers += num\n",
    "\n",
    "# Print the result\n",
    "print(\"The sum of the numbers is:\", sum_of_numbers)\n"
   ]
  },
  {
   "cell_type": "markdown",
   "id": "5e6b5559-9530-45da-be3a-c9e89e2df78a",
   "metadata": {},
   "source": [
    "3. Write a program to print the characters of a string in reverse order using a `for` loop."
   ]
  },
  {
   "cell_type": "code",
   "execution_count": 8,
   "id": "9f4a11bd-d827-4a76-b014-f32c5889e29a",
   "metadata": {},
   "outputs": [
    {
     "name": "stdout",
     "output_type": "stream",
     "text": [
      "m\n",
      "a\n",
      "h\n",
      "b\n",
      "u\n",
      "h\n",
      "s\n"
     ]
    }
   ],
   "source": [
    "string = (\"shubham\")\n",
    "for i in  reversed(string):\n",
    "    print(i)"
   ]
  },
  {
   "cell_type": "markdown",
   "id": "c9a568ce-58b2-4357-a4d9-3cd9ea912479",
   "metadata": {},
   "source": [
    "4. Develop a program that finds the factorial of a given number using a `for` loop"
   ]
  },
  {
   "cell_type": "code",
   "execution_count": 17,
   "id": "0f60227d-6cb3-426f-98b7-71305d3a6226",
   "metadata": {},
   "outputs": [
    {
     "name": "stdin",
     "output_type": "stream",
     "text": [
      "Enter a number:  4\n"
     ]
    },
    {
     "name": "stdout",
     "output_type": "stream",
     "text": [
      "The factorial of 4 is: 24\n"
     ]
    }
   ],
   "source": [
    "# Get the input number from the user\n",
    "num = int(input(\"Enter a number: \"))\n",
    "\n",
    "# Initialize a variable to store the factorial (start with 1 for the multiplication)\n",
    "factorial_result = 1\n",
    "\n",
    "# Use a for loop to calculate the factorial\n",
    "for i in range(1, num + 1):\n",
    "    factorial_result *= i\n",
    "\n",
    "# Print the result\n",
    "print(f\"The factorial of {num} is: {factorial_result}\")\n"
   ]
  },
  {
   "cell_type": "markdown",
   "id": "48a41078-ba0a-4d4c-9468-cecbbc3b7c02",
   "metadata": {},
   "source": [
    " 5. Create a program to print the multiplication table of a given number using a `for` loop."
   ]
  },
  {
   "cell_type": "code",
   "execution_count": 37,
   "id": "4a718c44-0761-43b7-a8b8-3d389b6bdb1e",
   "metadata": {},
   "outputs": [
    {
     "name": "stdin",
     "output_type": "stream",
     "text": [
      "Enter a number:  4\n"
     ]
    },
    {
     "name": "stdout",
     "output_type": "stream",
     "text": [
      "Multiplication table for 4:\n",
      "4 x 1 = 4\n",
      "4 x 2 = 8\n",
      "4 x 3 = 12\n",
      "4 x 4 = 16\n",
      "4 x 5 = 20\n",
      "4 x 6 = 24\n",
      "4 x 7 = 28\n",
      "4 x 8 = 32\n",
      "4 x 9 = 36\n",
      "4 x 10 = 40\n"
     ]
    }
   ],
   "source": [
    "# Get the input number from the user\n",
    "num = int(input(\"Enter a number: \"))\n",
    "\n",
    "# Use a for loop to print the multiplication table\n",
    "print(f\"Multiplication table for {num}:\")\n",
    "for i in range(1, 11):\n",
    "    result = num * i\n",
    "    print(f\"{num} x {i} = {result}\")\n"
   ]
  },
  {
   "cell_type": "markdown",
   "id": "036dff38-a4a1-4e55-9388-22cbe2957ef0",
   "metadata": {},
   "source": [
    "6.. Write a program that counts the number of even and odd numbers in a list using a `for` loop."
   ]
  },
  {
   "cell_type": "code",
   "execution_count": 38,
   "id": "31d8f315-43af-4334-8d4a-2a1d726c3525",
   "metadata": {},
   "outputs": [
    {
     "name": "stdout",
     "output_type": "stream",
     "text": [
      "Number of even numbers: 5\n",
      "Number of odd numbers: 5\n"
     ]
    }
   ],
   "source": [
    "# Define a list of numbers\n",
    "numbers = [1, 2, 3, 4, 5, 6, 7, 8, 9, 10]\n",
    "\n",
    "# Initialize counters for even and odd numbers\n",
    "even_count = 0\n",
    "odd_count = 0\n",
    "\n",
    "# Use a for loop to iterate through the list and count even and odd numbers\n",
    "for num in numbers:\n",
    "    if num % 2 == 0:\n",
    "        even_count += 1\n",
    "    else:\n",
    "        odd_count += 1\n",
    "\n",
    "# Print the results\n",
    "print(\"Number of even numbers:\", even_count)\n",
    "print(\"Number of odd numbers:\", odd_count)\n"
   ]
  },
  {
   "cell_type": "markdown",
   "id": "0d140c2b-a771-4ec6-9fd3-24de37b1b86a",
   "metadata": {},
   "source": [
    " 7. Develop a program that prints the squares of numbers from 1 to 5 using a `for` loop."
   ]
  },
  {
   "cell_type": "code",
   "execution_count": 50,
   "id": "6703c735-d6ee-4614-8587-6848989c1a94",
   "metadata": {},
   "outputs": [
    {
     "name": "stdout",
     "output_type": "stream",
     "text": [
      "1\n",
      "4\n",
      "9\n",
      "16\n",
      "25\n"
     ]
    }
   ],
   "source": [
    "numbers = [1,2,3,4,5]\n",
    "for i in numbers:\n",
    "    square = i** 2\n",
    "    print(square)"
   ]
  },
  {
   "cell_type": "markdown",
   "id": "fce18a91-df8d-4adf-a057-190a8cc69ec5",
   "metadata": {},
   "source": [
    "8. Create a program to find the length of a string without using the `len()` function."
   ]
  },
  {
   "cell_type": "code",
   "execution_count": 1,
   "id": "1e074c19-5d3b-4550-a2b2-ecda3d9558aa",
   "metadata": {},
   "outputs": [
    {
     "name": "stdin",
     "output_type": "stream",
     "text": [
      "Enter a string:  gullu singh\n"
     ]
    },
    {
     "name": "stdout",
     "output_type": "stream",
     "text": [
      "The length of the string is: 11\n"
     ]
    }
   ],
   "source": [
    "# Get the input string from the user\n",
    "input_string = input(\"Enter a string: \")\n",
    "\n",
    "# Initialize a counter for the length\n",
    "length = 0\n",
    "\n",
    "# Use a for loop to iterate through the characters and count the length\n",
    "for char in input_string:\n",
    "    length += 1\n",
    "\n",
    "# Print the result\n",
    "print(f\"The length of the string is: {length}\")\n"
   ]
  },
  {
   "cell_type": "markdown",
   "id": "dba23f40-a507-443e-ab43-1a68460f2dfc",
   "metadata": {},
   "source": [
    " 9. Write a program that calculates the average of a list of numbers using a `for` loop."
   ]
  },
  {
   "cell_type": "code",
   "execution_count": 2,
   "id": "56192078-8166-489e-bbc0-2e318707b8e3",
   "metadata": {},
   "outputs": [
    {
     "name": "stdout",
     "output_type": "stream",
     "text": [
      "The average of the numbers is: 5.5\n"
     ]
    }
   ],
   "source": [
    "# Define a list of numbers\n",
    "numbers = [1, 2, 3, 4, 5, 6, 7, 8, 9, 10]\n",
    "\n",
    "# Initialize variables for sum and count\n",
    "sum_of_numbers = 0\n",
    "count = 0\n",
    "\n",
    "# Use a for loop to iterate through the list and calculate the sum and count\n",
    "for num in numbers:\n",
    "    sum_of_numbers += num\n",
    "    count += 1\n",
    "\n",
    "# Calculate the average\n",
    "average = sum_of_numbers / count\n",
    "\n",
    "# Print the result\n",
    "print(\"The average of the numbers is:\", average)\n"
   ]
  },
  {
   "cell_type": "markdown",
   "id": "c5e55d96-5f22-4749-8a2f-7c2d0e7b57ee",
   "metadata": {},
   "source": [
    "10. Develop a program that prints the first `n` Fibonacci numbers using a `for` loop."
   ]
  },
  {
   "cell_type": "code",
   "execution_count": 4,
   "id": "eca864fb-03c3-40bf-8cd4-aa6ae89ac395",
   "metadata": {},
   "outputs": [
    {
     "name": "stdin",
     "output_type": "stream",
     "text": [
      "Enter the number of Fibonacci numbers to print:  4\n"
     ]
    },
    {
     "name": "stdout",
     "output_type": "stream",
     "text": [
      "The first 4 Fibonacci numbers are: [0, 1, 1, 2]\n"
     ]
    }
   ],
   "source": [
    "# Get the value of n from the user\n",
    "n = int(input(\"Enter the number of Fibonacci numbers to print: \"))\n",
    "\n",
    "# Initialize the first two numbers in the Fibonacci sequence\n",
    "fibonacci_sequence = [0, 1]\n",
    "\n",
    "# Use a for loop to generate the Fibonacci sequence\n",
    "for i in range(2, n):\n",
    "    next_number = fibonacci_sequence[-1] + fibonacci_sequence[-2]\n",
    "    fibonacci_sequence.append(next_number)\n",
    "\n",
    "# Print the generated Fibonacci sequence\n",
    "print(f\"The first {n} Fibonacci numbers are: {fibonacci_sequence}\")\n"
   ]
  },
  {
   "cell_type": "markdown",
   "id": "d02dd353-39a7-4c95-aba6-e132da56be74",
   "metadata": {},
   "source": [
    "11.write a program to check if a given list contains any duplicate using a'for' loop."
   ]
  },
  {
   "cell_type": "code",
   "execution_count": 5,
   "id": "9f52742f-deed-45a7-85f1-a879e9704725",
   "metadata": {},
   "outputs": [
    {
     "name": "stdout",
     "output_type": "stream",
     "text": [
      "True\n"
     ]
    }
   ],
   "source": [
    "def has_duplicates(lst):\n",
    "    seen = set()\n",
    "    for item in lst:\n",
    "        if item in seen:\n",
    "            return True\n",
    "        seen.add(item)\n",
    "    return False\n",
    "my_list = [1,2,3,4,1]\n",
    "result = has_duplicates(my_list)\n",
    "print(result)"
   ]
  },
  {
   "cell_type": "markdown",
   "id": "d141bb7e-bc5f-41c8-aa23-8921eb733f11",
   "metadata": {},
   "source": [
    "12. Create a program that prints the prime numbers in a given range using a `for` loop."
   ]
  },
  {
   "cell_type": "code",
   "execution_count": 1,
   "id": "b17e881a-2f55-486a-b066-f0bc62df2b30",
   "metadata": {},
   "outputs": [
    {
     "name": "stdout",
     "output_type": "stream",
     "text": [
      "Prime numbers between 10 and 50:\n",
      "11 13 17 19 23 29 31 37 41 43 47 "
     ]
    }
   ],
   "source": [
    "def is_prime(num):\n",
    "    if num < 2:\n",
    "        return False\n",
    "    for i in range(2, int(num**0.5) + 1):\n",
    "        if num % i == 0:\n",
    "            return False\n",
    "    return True\n",
    "\n",
    "def print_primes_in_range(start, end):\n",
    "    print(f\"Prime numbers between {start} and {end}:\")\n",
    "    for num in range(start, end + 1):\n",
    "        if is_prime(num):\n",
    "            print(num, end=' ')\n",
    "\n",
    "# Example: Print prime numbers between 10 and 50\n",
    "print_primes_in_range(10, 50)\n"
   ]
  },
  {
   "cell_type": "markdown",
   "id": "8c6303c0-56d4-40f5-a027-f764e61bbfa8",
   "metadata": {},
   "source": [
    " 13. Develop a program that counts the number of vowels in a string using a `for` loop."
   ]
  },
  {
   "cell_type": "code",
   "execution_count": 2,
   "id": "14e97548-cc69-43ce-9fc1-5167a57c0d03",
   "metadata": {},
   "outputs": [
    {
     "name": "stdout",
     "output_type": "stream",
     "text": [
      "The number of vowels in the string 'Hello, World!' is: 3\n"
     ]
    }
   ],
   "source": [
    "def count_vowels(input_string):\n",
    "    vowels = \"aeiouAEIOU\"\n",
    "    vowel_count = 0\n",
    "\n",
    "    for char in input_string:\n",
    "        if char in vowels:\n",
    "            vowel_count += 1\n",
    "\n",
    "    return vowel_count\n",
    "\n",
    "# Example: Count vowels in a string\n",
    "input_str = \"Hello, World!\"\n",
    "result = count_vowels(input_str)\n",
    "\n",
    "print(f\"The number of vowels in the string '{input_str}' is: {result}\")\n"
   ]
  },
  {
   "cell_type": "markdown",
   "id": "080f84f1-9248-4428-873a-f51e3f82ba57",
   "metadata": {},
   "source": [
    "15. Create a program that removes all occurrences of a specific element from a list using a `for` loop."
   ]
  },
  {
   "cell_type": "code",
   "execution_count": 4,
   "id": "2a5402d2-44d7-4960-ad11-96a27f4ca997",
   "metadata": {},
   "outputs": [
    {
     "name": "stdout",
     "output_type": "stream",
     "text": [
      "Original list: [1, 2, 3, 4, 3, 5, 6, 3, 7]\n",
      "List after removing 3: [1, 2, 4, 5, 6, 7]\n"
     ]
    }
   ],
   "source": [
    "def remove_element_from_list(input_list, element_to_remove):\n",
    "    updated_list = []\n",
    "\n",
    "    for item in input_list:\n",
    "        if item != element_to_remove:\n",
    "            updated_list.append(item)\n",
    "\n",
    "    return updated_list\n",
    "\n",
    "# Example: Remove all occurrences of '3' from the list\n",
    "original_list = [1, 2, 3, 4, 3, 5, 6, 3, 7]\n",
    "element_to_remove = 3\n",
    "\n",
    "result_list = remove_element_from_list(original_list, element_to_remove)\n",
    "\n",
    "print(f\"Original list: {original_list}\")\n",
    "print(f\"List after removing {element_to_remove}: {result_list}\")\n",
    "\n"
   ]
  },
  {
   "cell_type": "markdown",
   "id": "b3bbb24a-ae79-4197-9830-a8a90651ab1a",
   "metadata": {},
   "source": [
    "16. Develop a program that generates a multiplication table for numbers from 1 to 5 using a nested `for` loop."
   ]
  },
  {
   "cell_type": "code",
   "execution_count": 5,
   "id": "4478dc51-1875-49d4-9f43-5b27fb20aeb5",
   "metadata": {},
   "outputs": [
    {
     "name": "stdout",
     "output_type": "stream",
     "text": [
      "Multiplication table for 1:\n",
      "1 x 1 = 1\n",
      "1 x 2 = 2\n",
      "1 x 3 = 3\n",
      "1 x 4 = 4\n",
      "1 x 5 = 5\n",
      "1 x 6 = 6\n",
      "1 x 7 = 7\n",
      "1 x 8 = 8\n",
      "1 x 9 = 9\n",
      "1 x 10 = 10\n",
      "\n",
      "Multiplication table for 2:\n",
      "2 x 1 = 2\n",
      "2 x 2 = 4\n",
      "2 x 3 = 6\n",
      "2 x 4 = 8\n",
      "2 x 5 = 10\n",
      "2 x 6 = 12\n",
      "2 x 7 = 14\n",
      "2 x 8 = 16\n",
      "2 x 9 = 18\n",
      "2 x 10 = 20\n",
      "\n",
      "Multiplication table for 3:\n",
      "3 x 1 = 3\n",
      "3 x 2 = 6\n",
      "3 x 3 = 9\n",
      "3 x 4 = 12\n",
      "3 x 5 = 15\n",
      "3 x 6 = 18\n",
      "3 x 7 = 21\n",
      "3 x 8 = 24\n",
      "3 x 9 = 27\n",
      "3 x 10 = 30\n",
      "\n",
      "Multiplication table for 4:\n",
      "4 x 1 = 4\n",
      "4 x 2 = 8\n",
      "4 x 3 = 12\n",
      "4 x 4 = 16\n",
      "4 x 5 = 20\n",
      "4 x 6 = 24\n",
      "4 x 7 = 28\n",
      "4 x 8 = 32\n",
      "4 x 9 = 36\n",
      "4 x 10 = 40\n",
      "\n",
      "Multiplication table for 5:\n",
      "5 x 1 = 5\n",
      "5 x 2 = 10\n",
      "5 x 3 = 15\n",
      "5 x 4 = 20\n",
      "5 x 5 = 25\n",
      "5 x 6 = 30\n",
      "5 x 7 = 35\n",
      "5 x 8 = 40\n",
      "5 x 9 = 45\n",
      "5 x 10 = 50\n",
      "\n"
     ]
    }
   ],
   "source": [
    "def generate_multiplication_table():\n",
    "    for i in range(1, 6):\n",
    "        print(f\"Multiplication table for {i}:\")\n",
    "        for j in range(1, 11):\n",
    "            result = i * j\n",
    "            print(f\"{i} x {j} = {result}\")\n",
    "        print()  # Add a newline after each table for better readability\n",
    "\n",
    "# Call the function to generate the multiplication tables\n",
    "generate_multiplication_table()\n"
   ]
  },
  {
   "cell_type": "markdown",
   "id": "7a3206fe-2892-4992-85d0-515661543d58",
   "metadata": {},
   "source": [
    "17. Write a program that converts a list of Fahrenheit temperatures to Celsius using a `for` loop."
   ]
  },
  {
   "cell_type": "code",
   "execution_count": 6,
   "id": "e3010ce0-1218-4ef4-8246-d4b7336c0cb1",
   "metadata": {},
   "outputs": [
    {
     "name": "stdout",
     "output_type": "stream",
     "text": [
      "Fahrenheit Temperatures: [32, 68, 104, 212, 451]\n",
      "Celsius Temperatures: [0.0, 20.0, 40.0, 100.0, 232.77777777777777]\n"
     ]
    }
   ],
   "source": [
    "def fahrenheit_to_celsius(fahrenheit_temperatures):\n",
    "    celsius_temperatures = []\n",
    "\n",
    "    for fahrenheit in fahrenheit_temperatures:\n",
    "        celsius = (fahrenheit - 32) * 5/9\n",
    "        celsius_temperatures.append(celsius)\n",
    "\n",
    "    return celsius_temperatures\n",
    "\n",
    "# Example: Convert a list of Fahrenheit temperatures to Celsius\n",
    "fahrenheit_temps = [32, 68, 104, 212, 451]\n",
    "celsius_temps = fahrenheit_to_celsius(fahrenheit_temps)\n",
    "\n",
    "print(\"Fahrenheit Temperatures:\", fahrenheit_temps)\n",
    "print(\"Celsius Temperatures:\", celsius_temps)\n"
   ]
  },
  {
   "cell_type": "markdown",
   "id": "909aef7c-2fda-4b35-ab98-766528d00fb1",
   "metadata": {},
   "source": [
    " 18. Create a program to print the common elements from two lists using a `for` loop."
   ]
  },
  {
   "cell_type": "code",
   "execution_count": 8,
   "id": "36955539-f9ea-4e96-9b1a-be9adc625f4c",
   "metadata": {},
   "outputs": [
    {
     "name": "stdout",
     "output_type": "stream",
     "text": [
      "List 1: [1, 2, 3, 4, 5]\n",
      "List 2: [3, 4, 5, 6, 7]\n",
      "Common Elements: [3, 4, 5]\n"
     ]
    }
   ],
   "source": [
    "def find_common_elements(list1, list2):\n",
    "    common_elements = []\n",
    "\n",
    "    for element in list1:\n",
    "        if element in list2:\n",
    "            common_elements.append(element)\n",
    "\n",
    "    return common_elements\n",
    "\n",
    "# Example: Find common elements between two lists\n",
    "list1 = [1, 2, 3, 4, 5]\n",
    "list2 = [3, 4, 5, 6, 7]\n",
    "\n",
    "common_elements = find_common_elements(list1, list2)\n",
    "\n",
    "print(f\"List 1: {list1}\")\n",
    "print(f\"List 2: {list2}\")\n",
    "print(f\"Common Elements: {common_elements}\")\n"
   ]
  },
  {
   "cell_type": "markdown",
   "id": "654bca96-16cb-44b5-812e-fbd6de7702b5",
   "metadata": {},
   "source": [
    " 19. Develop a program that prints the pattern of right-angled triangles using a `for` loop. Use ‘*’ to draw the \n",
    "pattern"
   ]
  },
  {
   "cell_type": "code",
   "execution_count": 1,
   "id": "83d0e517-061e-4531-b631-9a4e6e475112",
   "metadata": {},
   "outputs": [
    {
     "name": "stdout",
     "output_type": "stream",
     "text": [
      "*\n",
      "**\n",
      "***\n",
      "****\n",
      "*****\n"
     ]
    }
   ],
   "source": [
    "def print_right_angle_triangle(height):\n",
    "    for i in range(1, height + 1):\n",
    "        print('*' * i)\n",
    "\n",
    "# Example: Print a right-angled triangle with height 5\n",
    "print_right_angle_triangle(5)\n"
   ]
  },
  {
   "cell_type": "markdown",
   "id": "7e8d67e4-a1ad-4e87-8de1-7d032f584212",
   "metadata": {},
   "source": [
    " 20. Write a program to find the greatest common divisor (GCD) of two numbers using a `for` loop."
   ]
  },
  {
   "cell_type": "code",
   "execution_count": 2,
   "id": "7e3d5bc0-03d0-406c-ae19-a8080ac3da2e",
   "metadata": {},
   "outputs": [
    {
     "name": "stdin",
     "output_type": "stream",
     "text": [
      "Enter the first number:  1\n",
      "Enter the second number:  2\n"
     ]
    },
    {
     "name": "stdout",
     "output_type": "stream",
     "text": [
      "The GCD of 1 and 2 is: 1\n"
     ]
    }
   ],
   "source": [
    "def find_gcd(a, b):\n",
    "    while b:\n",
    "        a, b = b, a % b\n",
    "    return a\n",
    "\n",
    "# Input two numbers\n",
    "num1 = int(input(\"Enter the first number: \"))\n",
    "num2 = int(input(\"Enter the second number: \"))\n",
    "\n",
    "# Calculate and print the GCD\n",
    "gcd = find_gcd(num1, num2)\n",
    "print(f\"The GCD of {num1} and {num2} is: {gcd}\")\n"
   ]
  },
  {
   "cell_type": "markdown",
   "id": "eb6717e9-5f6e-4a66-a1cd-2586c6b36652",
   "metadata": {},
   "source": [
    " 21. Create a program that calculates the sum of the digits of numbers in a list using a list comprehension"
   ]
  },
  {
   "cell_type": "code",
   "execution_count": 3,
   "id": "8d89dab4-e218-49bd-8321-daec7ff5bfbe",
   "metadata": {},
   "outputs": [
    {
     "name": "stdout",
     "output_type": "stream",
     "text": [
      "The sum of digits for 123 is: 6\n",
      "The sum of digits for 456 is: 15\n",
      "The sum of digits for 789 is: 24\n",
      "The sum of digits for 321 is: 6\n"
     ]
    }
   ],
   "source": [
    "def sum_of_digits(number):\n",
    "    return sum(int(digit) for digit in str(number) if digit.isdigit())\n",
    "\n",
    "# Example list of numbers\n",
    "numbers_list = [123, 456, 789, 321]\n",
    "\n",
    "# Calculate and print the sum of digits for each number using list comprehension\n",
    "sums = [sum_of_digits(num) for num in numbers_list]\n",
    "\n",
    "# Print the results\n",
    "for i in range(len(numbers_list)):\n",
    "    print(f\"The sum of digits for {numbers_list[i]} is: {sums[i]}\")\n"
   ]
  },
  {
   "cell_type": "markdown",
   "id": "a7ba5d07-b930-44b1-a40a-2a6ca6fe4341",
   "metadata": {},
   "source": [
    " 22. Write a program to find the prime factors of a given number using a `for` loop and list comprehension"
   ]
  },
  {
   "cell_type": "code",
   "execution_count": 8,
   "id": "b1be6390-2427-4fb0-905a-a0036ab18efb",
   "metadata": {},
   "outputs": [
    {
     "name": "stdin",
     "output_type": "stream",
     "text": [
      "Enter a number to find its prime factors:  5\n"
     ]
    },
    {
     "name": "stdout",
     "output_type": "stream",
     "text": [
      "The prime factors of 5 are: [5]\n"
     ]
    }
   ],
   "source": [
    "def prime_factors(n):\n",
    "    factors = [i for i in range(2, n + 1) if n % i == 0 and all(i % j != 0 for j in range(2, int(i**0.5) + 1))]\n",
    "    return factors\n",
    "\n",
    "# Input a number\n",
    "number = int(input(\"Enter a number to find its prime factors: \"))\n",
    "\n",
    "# Find and print the prime factors\n",
    "factors = prime_factors(number)\n",
    "print(f\"The prime factors of {number} are: {factors}\")\n"
   ]
  },
  {
   "cell_type": "markdown",
   "id": "f529ac30-3ae5-407b-b054-03d51b7051fc",
   "metadata": {},
   "source": [
    "23. Develop a program that extracts unique elements from a list and stores them in a new list using a list \n",
    "comprehension."
   ]
  },
  {
   "cell_type": "code",
   "execution_count": 7,
   "id": "5d1a5821-8198-4027-be0a-65e67b302121",
   "metadata": {},
   "outputs": [
    {
     "name": "stdout",
     "output_type": "stream",
     "text": [
      "Original List: [1, 2, 2, 3, 4, 4, 5, 6, 6, 7]\n",
      "Unique Elements: [1, 2, 3, 4, 5, 6, 7]\n"
     ]
    }
   ],
   "source": [
    "# Input list with duplicate elements\n",
    "original_list = [1, 2, 2, 3, 4, 4, 5, 6, 6, 7]\n",
    "\n",
    "# Extract unique elements using list comprehension\n",
    "unique_elements = list(set(item for item in original_list))\n",
    "\n",
    "# Print the result\n",
    "print(\"Original List:\", original_list)\n",
    "print(\"Unique Elements:\", unique_elements)\n"
   ]
  },
  {
   "cell_type": "markdown",
   "id": "362017ab-f923-45f9-b2b8-6dd0d977aeb2",
   "metadata": {},
   "source": [
    "24. Create a program that generates a list of all palindromic numbers up to a specified limit using a list \n",
    "comprehension."
   ]
  },
  {
   "cell_type": "code",
   "execution_count": 6,
   "id": "d92c3cdc-6e38-418a-a935-a81002204422",
   "metadata": {},
   "outputs": [
    {
     "name": "stdin",
     "output_type": "stream",
     "text": [
      "Enter the limit for palindromic numbers:  5\n"
     ]
    },
    {
     "name": "stdout",
     "output_type": "stream",
     "text": [
      "Palindromic numbers up to 5: [0, 1, 2, 3, 4, 5]\n"
     ]
    }
   ],
   "source": [
    "def is_palindrome(number):\n",
    "    return str(number) == str(number)[::-1]\n",
    "\n",
    "# Specify the limit\n",
    "limit = int(input(\"Enter the limit for palindromic numbers: \"))\n",
    "\n",
    "# Generate a list of palindromic numbers using list comprehension\n",
    "palindromic_numbers = [num for num in range(limit + 1) if is_palindrome(num)]\n",
    "\n",
    "# Print the result\n",
    "print(f\"Palindromic numbers up to {limit}: {palindromic_numbers}\")\n"
   ]
  },
  {
   "cell_type": "markdown",
   "id": "e9ee66dd-d91b-457c-b55b-8eeaecdb82a3",
   "metadata": {},
   "source": [
    "25. Write a program to flatten a nested list using list comprehension."
   ]
  },
  {
   "cell_type": "code",
   "execution_count": 4,
   "id": "ff043206-daf4-499b-8acd-b46842faed7c",
   "metadata": {},
   "outputs": [
    {
     "name": "stdout",
     "output_type": "stream",
     "text": [
      "Original Nested List: [[1, 2, 3], [4, 5], [6, 7, 8]]\n",
      "Flattened List: [1, 2, 3, 4, 5, 6, 7, 8]\n"
     ]
    }
   ],
   "source": [
    "# Example nested list\n",
    "nested_list = [[1, 2, 3], [4, 5], [6, 7, 8]]\n",
    "\n",
    "# Flatten the nested list using list comprehension\n",
    "flattened_list = [element for sublist in nested_list for element in sublist]\n",
    "\n",
    "# Print the result\n",
    "print(\"Original Nested List:\", nested_list)\n",
    "print(\"Flattened List:\", flattened_list)\n",
    "\n"
   ]
  },
  {
   "cell_type": "markdown",
   "id": "2074b051-acfa-4c12-84a6-570accb1377d",
   "metadata": {},
   "source": [
    " 26. Develop a program that computes the sum of even and odd numbers in a list separately using list \n",
    "comprehension."
   ]
  },
  {
   "cell_type": "code",
   "execution_count": 3,
   "id": "ce2ac605-c569-4fae-9630-9606906da155",
   "metadata": {},
   "outputs": [
    {
     "name": "stdout",
     "output_type": "stream",
     "text": [
      "Original List: [1, 2, 3, 4, 5, 6, 7, 8, 9, 10]\n",
      "Even Numbers: [2, 4, 6, 8, 10]\n",
      "Sum of Even Numbers: 30\n",
      "Odd Numbers: [1, 3, 5, 7, 9]\n",
      "Sum of Odd Numbers: 25\n"
     ]
    }
   ],
   "source": [
    "# Example list of numbers\n",
    "numbers_list = [1, 2, 3, 4, 5, 6, 7, 8, 9, 10]\n",
    "\n",
    "# Separate even and odd numbers using list comprehension\n",
    "even_numbers = [num for num in numbers_list if num % 2 == 0]\n",
    "odd_numbers = [num for num in numbers_list if num % 2 != 0]\n",
    "\n",
    "# Calculate the sum of even and odd numbers\n",
    "sum_even = sum(even_numbers)\n",
    "sum_odd = sum(odd_numbers)\n",
    "\n",
    "# Print the results\n",
    "print(\"Original List:\", numbers_list)\n",
    "print(\"Even Numbers:\", even_numbers)\n",
    "print(\"Sum of Even Numbers:\", sum_even)\n",
    "print(\"Odd Numbers:\", odd_numbers)\n",
    "print(\"Sum of Odd Numbers:\", sum_odd)\n"
   ]
  },
  {
   "cell_type": "markdown",
   "id": "01261feb-60dc-4e03-9705-4e39d2ed6c43",
   "metadata": {},
   "source": [
    "27. Create a program that generates a list of squares of odd numbers between 1 and 10 using list \n",
    "comprehension."
   ]
  },
  {
   "cell_type": "code",
   "execution_count": 1,
   "id": "ea43ccfe-1d7e-4206-baa2-97d60fef6d45",
   "metadata": {},
   "outputs": [
    {
     "name": "stdout",
     "output_type": "stream",
     "text": [
      "Squares of Odd Numbers between 1 and 10: [1, 9, 25, 49, 81]\n"
     ]
    }
   ],
   "source": [
    "# Generate a list of squares of odd numbers using list comprehension\n",
    "squares_of_odd_numbers = [num**2 for num in range(1, 11) if num % 2 != 0]\n",
    "\n",
    "# Print the result\n",
    "print(\"Squares of Odd Numbers between 1 and 10:\", squares_of_odd_numbers)\n"
   ]
  },
  {
   "cell_type": "markdown",
   "id": "9075b9c5-cce9-44e9-8a4e-8d035aa3f2dd",
   "metadata": {},
   "source": [
    "28. Write a program that combines two lists into a dictionary using list comprehension."
   ]
  },
  {
   "cell_type": "code",
   "execution_count": 2,
   "id": "f4ab38ac-ec9b-4d8f-94ed-8ee96a891520",
   "metadata": {},
   "outputs": [
    {
     "name": "stdout",
     "output_type": "stream",
     "text": [
      "Combined Dictionary: {'a': 1, 'b': 2, 'c': 3}\n"
     ]
    }
   ],
   "source": [
    "# Example lists\n",
    "keys = ['a', 'b', 'c']\n",
    "values = [1, 2, 3]\n",
    "\n",
    "# Combine lists into a dictionary using list comprehension\n",
    "combined_dict = {key: value for key, value in zip(keys, values)}\n",
    "\n",
    "# Print the result\n",
    "print(\"Combined Dictionary:\", combined_dict)\n"
   ]
  },
  {
   "cell_type": "markdown",
   "id": "bbb980ad-9f4f-4914-8103-fb0d43e6c505",
   "metadata": {},
   "source": [
    " 29. Develop a program that extracts the vowels from a string and stores them in a list using list comprehension"
   ]
  },
  {
   "cell_type": "code",
   "execution_count": 9,
   "id": "309de2b7-b587-4566-8bf6-90d0007b43ca",
   "metadata": {},
   "outputs": [
    {
     "name": "stdin",
     "output_type": "stream",
     "text": [
      "Enter a string:  shubham\n"
     ]
    },
    {
     "name": "stdout",
     "output_type": "stream",
     "text": [
      "Vowels extracted: ['u', 'a']\n"
     ]
    }
   ],
   "source": [
    "def extract_vowels(input_string):\n",
    "    vowels = [char for char in input_string if char.lower() in 'aeiou']\n",
    "    return vowels\n",
    "\n",
    "# Example usage:\n",
    "input_str = input(\"Enter a string: \")\n",
    "result = extract_vowels(input_str)\n",
    "\n",
    "print(\"Vowels extracted:\", result)\n"
   ]
  },
  {
   "cell_type": "markdown",
   "id": "752e6917-d250-4d62-9e4d-fa9def29660a",
   "metadata": {},
   "source": [
    " 30. Create a program that removes all non-numeric characters from a list of strings using list comprehension."
   ]
  },
  {
   "cell_type": "code",
   "execution_count": 10,
   "id": "57e96a03-8e00-45e8-b48c-337ec03bc1fa",
   "metadata": {},
   "outputs": [
    {
     "name": "stdout",
     "output_type": "stream",
     "text": [
      "Input Strings: ['abc123', '456def', '789ghi', 'jkl!@#']\n",
      "Result: ['123', '456', '789', '']\n"
     ]
    }
   ],
   "source": [
    "def remove_non_numeric(strings_list):\n",
    "    return [''.join(char for char in s if char.isdigit()) for s in strings_list]\n",
    "\n",
    "# Example usage:\n",
    "input_strings = [\"abc123\", \"456def\", \"789ghi\", \"jkl!@#\"]\n",
    "result = remove_non_numeric(input_strings)\n",
    "\n",
    "print(\"Input Strings:\", input_strings)\n",
    "print(\"Result:\", result)\n"
   ]
  },
  {
   "cell_type": "markdown",
   "id": "4497a111-8c94-4af3-80dd-a6b4bc2d2e73",
   "metadata": {},
   "source": [
    "31. Write a program to generate a list of prime numbers using the Sieve of Eratosthenes algorithm and list \n",
    "comprehension."
   ]
  },
  {
   "cell_type": "code",
   "execution_count": 11,
   "id": "e9cc7aab-e739-4e2b-b18f-8e3a30c7c354",
   "metadata": {},
   "outputs": [
    {
     "name": "stdout",
     "output_type": "stream",
     "text": [
      "Prime numbers up to 50:\n",
      "[2, 3, 5, 7, 11, 13, 17, 19, 23, 29, 31, 37, 41, 43, 47]\n"
     ]
    }
   ],
   "source": [
    "def sieve_of_eratosthenes(limit):\n",
    "    primes = [True] * (limit + 1)\n",
    "    primes[0] = primes[1] = False\n",
    "\n",
    "    for i in range(2, int(limit**0.5) + 1):\n",
    "        if primes[i]:\n",
    "            primes[i*i:limit+1:i] = [False] * len(range(i*i, limit+1, i))\n",
    "\n",
    "    return [num for num in range(2, limit + 1) if primes[num]]\n",
    "\n",
    "# Example usage:\n",
    "limit = 50\n",
    "prime_list = sieve_of_eratosthenes(limit)\n",
    "\n",
    "print(f\"Prime numbers up to {limit}:\")\n",
    "print(prime_list)\n",
    "\n"
   ]
  },
  {
   "cell_type": "markdown",
   "id": "3a60e2bb-47c1-4057-b65b-d635b5fcd964",
   "metadata": {},
   "source": [
    "32. Create a program that generates a list of all Pythagorean triplets up to a specified limit using list \n",
    "comprehension."
   ]
  },
  {
   "cell_type": "code",
   "execution_count": 12,
   "id": "2cdb7d19-ccfc-4bd6-ad5d-6e341c978d0e",
   "metadata": {},
   "outputs": [
    {
     "name": "stdout",
     "output_type": "stream",
     "text": [
      "Pythagorean triplets up to 20:\n",
      "[(3, 4, 5), (5, 12, 13), (6, 8, 10), (8, 15, 17), (9, 12, 15), (12, 16, 20)]\n"
     ]
    }
   ],
   "source": [
    "def pythagorean_triplets(limit):\n",
    "    return [(a, b, c) for a in range(1, limit + 1)\n",
    "            for b in range(a, limit + 1)\n",
    "            for c in range(b, limit + 1)\n",
    "            if a**2 + b**2 == c**2]\n",
    "\n",
    "# Example usage:\n",
    "limit = 20\n",
    "triplets_list = pythagorean_triplets(limit)\n",
    "\n",
    "print(f\"Pythagorean triplets up to {limit}:\")\n",
    "print(triplets_list)\n"
   ]
  },
  {
   "cell_type": "markdown",
   "id": "a7823b30-6f96-44b9-b704-7a661bdba136",
   "metadata": {},
   "source": [
    " 33. Develop a program that generates a list of all possible combinations of two lists using list comprehension."
   ]
  },
  {
   "cell_type": "code",
   "execution_count": 13,
   "id": "f58a5bf2-b704-4b50-8c2d-35380e458732",
   "metadata": {},
   "outputs": [
    {
     "name": "stdout",
     "output_type": "stream",
     "text": [
      "List A: [1, 2, 3]\n",
      "List B: ['a', 'b', 'c']\n",
      "Combinations:\n",
      "[(1, 'a'), (1, 'b'), (1, 'c'), (2, 'a'), (2, 'b'), (2, 'c'), (3, 'a'), (3, 'b'), (3, 'c')]\n"
     ]
    }
   ],
   "source": [
    "def generate_combinations(list1, list2):\n",
    "    return [(x, y) for x in list1 for y in list2]\n",
    "\n",
    "# Example usage:\n",
    "list_a = [1, 2, 3]\n",
    "list_b = ['a', 'b', 'c']\n",
    "combinations_list = generate_combinations(list_a, list_b)\n",
    "\n",
    "print(\"List A:\", list_a)\n",
    "print(\"List B:\", list_b)\n",
    "print(\"Combinations:\")\n",
    "print(combinations_list)\n"
   ]
  },
  {
   "cell_type": "markdown",
   "id": "554662ae-fe48-4629-8b33-76ecfd564be4",
   "metadata": {},
   "source": [
    " 34. Write a program that calculates the mean, median, and mode of a list of numbers using list \n",
    "comprehension."
   ]
  },
  {
   "cell_type": "code",
   "execution_count": 14,
   "id": "894e268f-40ba-4440-8f5a-79bd031196bb",
   "metadata": {},
   "outputs": [
    {
     "name": "stdout",
     "output_type": "stream",
     "text": [
      "Number List: [1, 2, 3, 4, 5, 5, 6, 7, 8, 8, 8, 9]\n",
      "Mean: 5.5\n",
      "Median: 5.5\n",
      "Mode: [8]\n"
     ]
    }
   ],
   "source": [
    "from statistics import mean, median, mode\n",
    "\n",
    "def calculate_statistics(numbers):\n",
    "    # Using list comprehension to calculate the mean\n",
    "    mean_value = mean(numbers)\n",
    "\n",
    "    # Median calculation doesn't easily lend itself to list comprehension\n",
    "    # You may use sorted() and len() functions\n",
    "    sorted_numbers = sorted(numbers)\n",
    "    mid = len(numbers) // 2\n",
    "    median_value = (sorted_numbers[mid] + sorted_numbers[mid - 1]) / 2 if len(numbers) % 2 == 0 else sorted_numbers[mid]\n",
    "\n",
    "    # Mode calculation doesn't easily lend itself to list comprehension\n",
    "    # You may use a Counter from the collections module\n",
    "    from collections import Counter\n",
    "    counts = Counter(numbers)\n",
    "    mode_value = [k for k, v in counts.items() if v == max(counts.values())]\n",
    "\n",
    "    return mean_value, median_value, mode_value\n",
    "\n",
    "# Example usage:\n",
    "number_list = [1, 2, 3, 4, 5, 5, 6, 7, 8, 8, 8, 9]\n",
    "mean_val, median_val, mode_val = calculate_statistics(number_list)\n",
    "\n",
    "print(\"Number List:\", number_list)\n",
    "print(\"Mean:\", mean_val)\n",
    "print(\"Median:\", median_val)\n",
    "print(\"Mode:\", mode_val)\n"
   ]
  },
  {
   "cell_type": "markdown",
   "id": "1ebd460d-8ce0-4b11-8032-d291dee9b6f1",
   "metadata": {},
   "source": [
    "35. Create a program that generates Pascal's triangle up to a specified number of rows using list \n",
    "comprehension."
   ]
  },
  {
   "cell_type": "code",
   "execution_count": 15,
   "id": "5626983b-6091-491d-8d86-e2e25daa48cf",
   "metadata": {},
   "outputs": [
    {
     "name": "stdout",
     "output_type": "stream",
     "text": [
      "Pascal's Triangle with 5 rows:\n",
      "[1]\n",
      "[1, 1]\n",
      "[1, 2, 1]\n",
      "[1, 3, 3, 1]\n",
      "[1, 4, 6, 4, 1]\n"
     ]
    }
   ],
   "source": [
    "def generate_pascals_triangle(num_rows):\n",
    "    triangle = [[1] * (row + 1) for row in range(num_rows)]\n",
    "\n",
    "    for i in range(2, num_rows):\n",
    "        for j in range(1, i):\n",
    "            triangle[i][j] = triangle[i-1][j-1] + triangle[i-1][j]\n",
    "\n",
    "    return triangle\n",
    "\n",
    "def print_pascals_triangle(triangle):\n",
    "    for row in triangle:\n",
    "        print(row)\n",
    "\n",
    "# Example usage:\n",
    "num_rows = 5\n",
    "pascals_triangle = generate_pascals_triangle(num_rows)\n",
    "\n",
    "print(f\"Pascal's Triangle with {num_rows} rows:\")\n",
    "print_pascals_triangle(pascals_triangle)\n"
   ]
  },
  {
   "cell_type": "markdown",
   "id": "70f49fcb-8c05-481b-8b35-f7310432baeb",
   "metadata": {},
   "source": [
    "36. Develop a program that calculates the sum of the digits of a factorial of numbers from 1 to 5 using list \n",
    "comprehension."
   ]
  },
  {
   "cell_type": "code",
   "execution_count": 17,
   "id": "c4edcad4-8b3a-4ac6-b31c-1802a5ace368",
   "metadata": {},
   "outputs": [
    {
     "name": "stdout",
     "output_type": "stream",
     "text": [
      "The sum of digits of 1! is: 1\n",
      "The sum of digits of 2! is: 2\n",
      "The sum of digits of 3! is: 6\n",
      "The sum of digits of 4! is: 6\n",
      "The sum of digits of 5! is: 3\n"
     ]
    }
   ],
   "source": [
    "from math import factorial\n",
    "\n",
    "def digit_sum(n):\n",
    "    return sum(int(digit) for digit in str(n))\n",
    "\n",
    "# Calculate the sum of the digits of the factorial for numbers from 1 to 5\n",
    "factorial_sums = [digit_sum(factorial(num)) for num in range(1, 6)]\n",
    "\n",
    "# Print the results\n",
    "for num, factorial_sum in zip(range(1, 6), factorial_sums):\n",
    "    print(f\"The sum of digits of {num}! is: {factorial_sum}\")\n"
   ]
  },
  {
   "cell_type": "markdown",
   "id": "f032e729-df1b-4e41-9736-586a2d900133",
   "metadata": {},
   "source": [
    " 37. Write a program that finds the longest word in a sentence using list comprehension."
   ]
  },
  {
   "cell_type": "code",
   "execution_count": 18,
   "id": "b5d5f735-5811-42c6-a827-6fd5339b237b",
   "metadata": {},
   "outputs": [
    {
     "name": "stdout",
     "output_type": "stream",
     "text": [
      "Input Sentence: This is an example sentence to find the longest word.\n",
      "Longest Word: sentence\n"
     ]
    }
   ],
   "source": [
    "def find_longest_word(sentence):\n",
    "    words = sentence.split()\n",
    "    longest_word = max(words, key=len)\n",
    "    return longest_word\n",
    "\n",
    "# Example usage:\n",
    "input_sentence = \"This is an example sentence to find the longest word.\"\n",
    "longest_word = find_longest_word(input_sentence)\n",
    "\n",
    "print(\"Input Sentence:\", input_sentence)\n",
    "print(\"Longest Word:\", longest_word)\n"
   ]
  },
  {
   "cell_type": "markdown",
   "id": "2f3cd567-976f-4e42-8c04-80d56e7f34dc",
   "metadata": {},
   "source": [
    " 38. Create a program that filters a list of strings to include only those with more than three vowels using list \n",
    "comprehension."
   ]
  },
  {
   "cell_type": "code",
   "execution_count": 19,
   "id": "b8e0bd6a-b0d5-4387-98a7-4e242b062fd0",
   "metadata": {},
   "outputs": [
    {
     "name": "stdout",
     "output_type": "stream",
     "text": [
      "Input Strings: ['apple', 'banana', 'grape', 'kiwi', 'orange', 'python', 'programming']\n",
      "Filtered Strings (more than 3 vowels): []\n"
     ]
    }
   ],
   "source": [
    "def count_vowels(word):\n",
    "    return sum(1 for char in word.lower() if char in \"aeiou\")\n",
    "\n",
    "def filter_strings_by_vowels(string_list, threshold=3):\n",
    "    return [word for word in string_list if count_vowels(word) > threshold]\n",
    "\n",
    "# Example usage:\n",
    "input_strings = [\"apple\", \"banana\", \"grape\", \"kiwi\", \"orange\", \"python\", \"programming\"]\n",
    "filtered_strings = filter_strings_by_vowels(input_strings)\n",
    "\n",
    "print(\"Input Strings:\", input_strings)\n",
    "print(\"Filtered Strings (more than 3 vowels):\", filtered_strings)\n"
   ]
  },
  {
   "cell_type": "markdown",
   "id": "e1073c2c-5fa1-498e-a5c0-9ff55f345da3",
   "metadata": {},
   "source": [
    " 39. Develop a program that calculates the sum of the digits of numbers from 1 to 1000 using list \n",
    "comprehension."
   ]
  },
  {
   "cell_type": "code",
   "execution_count": 20,
   "id": "a4b84bc0-d686-4a8e-a9b9-1983dc54d418",
   "metadata": {},
   "outputs": [
    {
     "name": "stdout",
     "output_type": "stream",
     "text": [
      "Sum of the digits for numbers from 1 to 1000: 13501\n"
     ]
    }
   ],
   "source": [
    "def digit_sum(n):\n",
    "    return sum(int(digit) for digit in str(n))\n",
    "\n",
    "# Calculate the sum of the digits for numbers from 1 to 1000\n",
    "sum_of_digits = sum(digit_sum(num) for num in range(1, 1001))\n",
    "\n",
    "print(\"Sum of the digits for numbers from 1 to 1000:\", sum_of_digits)\n"
   ]
  },
  {
   "cell_type": "markdown",
   "id": "c62a859a-0bbe-4abc-8560-ee819beff5a7",
   "metadata": {},
   "source": [
    ".\n",
    " 40. Write a program that generates a list of prime palindromic numbers using list comprehension."
   ]
  },
  {
   "cell_type": "code",
   "execution_count": 21,
   "id": "8d69b6d3-b39d-4722-ba78-318b232fb0d9",
   "metadata": {},
   "outputs": [
    {
     "name": "stdout",
     "output_type": "stream",
     "text": [
      "Sum of the digits for numbers from 1 to 1000: 13501\n"
     ]
    }
   ],
   "source": [
    "def digit_sum(n):\n",
    "    return sum(int(digit) for digit in str(n))\n",
    "\n",
    "# Calculate the sum of the digits for numbers from 1 to 1000\n",
    "sum_of_digits = sum(digit_sum(num) for num in range(1, 1001))\n",
    "\n",
    "print(\"Sum of the digits for numbers from 1 to 1000:\", sum_of_digits)\n"
   ]
  },
  {
   "cell_type": "code",
   "execution_count": null,
   "id": "e1db9583-138a-4c0f-af42-cee046eb8816",
   "metadata": {},
   "outputs": [],
   "source": []
  }
 ],
 "metadata": {
  "kernelspec": {
   "display_name": "Python 3 (ipykernel)",
   "language": "python",
   "name": "python3"
  },
  "language_info": {
   "codemirror_mode": {
    "name": "ipython",
    "version": 3
   },
   "file_extension": ".py",
   "mimetype": "text/x-python",
   "name": "python",
   "nbconvert_exporter": "python",
   "pygments_lexer": "ipython3",
   "version": "3.10.8"
  }
 },
 "nbformat": 4,
 "nbformat_minor": 5
}
