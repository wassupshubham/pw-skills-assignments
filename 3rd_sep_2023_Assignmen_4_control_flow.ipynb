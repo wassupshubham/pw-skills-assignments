{
 "cells": [
  {
   "cell_type": "raw",
   "id": "0761ab15-aa84-4506-a9ff-1a92acca8b0a",
   "metadata": {},
   "source": [
    "Basic If-Else Statements:\n",
    "\n",
    " \n",
    " \n",
    "\n",
    "Q1:- Write a Python program to check if a given number is positive or negative  "
   ]
  },
  {
   "cell_type": "code",
   "execution_count": 2,
   "id": "bc266393-7743-451c-b647-ed9701be4f3a",
   "metadata": {},
   "outputs": [
    {
     "name": "stdin",
     "output_type": "stream",
     "text": [
      "Enter a number:-  -5\n"
     ]
    },
    {
     "name": "stdout",
     "output_type": "stream",
     "text": [
      "The number is negative\n"
     ]
    }
   ],
   "source": [
    "num = int(input(\"Enter a number:- \"))\n",
    "if (num>0):\n",
    "    print(\"The number is positive.\")\n",
    "else:\n",
    "    print(\"The number is negative\")"
   ]
  },
  {
   "cell_type": "raw",
   "id": "bc0c6b91-05b5-454f-b6f8-8588d710c73d",
   "metadata": {},
   "source": [
    "Q2:- Create a program that determines if a person is eligible to vote based on their age."
   ]
  },
  {
   "cell_type": "code",
   "execution_count": 7,
   "id": "ab690519-14e2-4eb8-b313-a2ff5be277a5",
   "metadata": {},
   "outputs": [
    {
     "name": "stdin",
     "output_type": "stream",
     "text": [
      "Enter your age: 19\n"
     ]
    },
    {
     "name": "stdout",
     "output_type": "stream",
     "text": [
      "You are eligible to vote\n"
     ]
    }
   ],
   "source": [
    "age = int(input(\"Enter your age:\"))\n",
    "if age>= 18:\n",
    "    print(\"You are eligible to vote\")\n",
    "else:\n",
    "    print(\"You are not eligible to vote\")"
   ]
  },
  {
   "cell_type": "raw",
   "id": "774ac0dd-f839-44f7-9a7c-895b79492c40",
   "metadata": {},
   "source": [
    "Q3:- Develop a program to find the maximum of two numbers using if-else statements."
   ]
  },
  {
   "cell_type": "code",
   "execution_count": 13,
   "id": "19ade25e-fef4-4dd9-a80b-8733ac77f05d",
   "metadata": {},
   "outputs": [
    {
     "name": "stdin",
     "output_type": "stream",
     "text": [
      "Enter the first number  1 \n",
      "Enter the second number  2\n"
     ]
    },
    {
     "name": "stdout",
     "output_type": "stream",
     "text": [
      "The second number is maximum that is  2\n"
     ]
    }
   ],
   "source": [
    "num1 = int(input(\"Enter the first number \"))\n",
    "num2 = int(input(\"Enter the second number \"))\n",
    "if (num1>num2):\n",
    "    print(\"The first number is maximum that is \",num1)\n",
    "else:\n",
    "    print(\"The second number is maximum that is \", num2)"
   ]
  },
  {
   "cell_type": "raw",
   "id": "4ad25a9a-320b-4635-b113-cae1a31054b9",
   "metadata": {},
   "source": [
    "Q4:- Write a Python script to classify a given year as a leap year or not."
   ]
  },
  {
   "cell_type": "code",
   "execution_count": 13,
   "id": "772679ce-2752-4db4-93a1-e221f9d269de",
   "metadata": {},
   "outputs": [
    {
     "name": "stdin",
     "output_type": "stream",
     "text": [
      "Enter the year to know it's a leap year or not  2004\n"
     ]
    },
    {
     "name": "stdout",
     "output_type": "stream",
     "text": [
      "The 2004 is a leap year\n"
     ]
    }
   ],
   "source": [
    "year = int(input(\"Enter the year to know it's a leap year or not \"))\n",
    "if (year%4 == 0):\n",
    "    print(\"The\",year,\"is a leap year\")\n",
    "else:\n",
    "    print(\"It is not a leap year\")"
   ]
  },
  {
   "cell_type": "raw",
   "id": "95a65049-f6c0-4b73-9c29-605c2a433eab",
   "metadata": {},
   "source": [
    "Q5:- Create a program that checks whether a character is a vowel or a consonant."
   ]
  },
  {
   "cell_type": "code",
   "execution_count": 14,
   "id": "36f05242-281f-4882-8cc3-90e84bcfa91d",
   "metadata": {},
   "outputs": [
    {
     "name": "stdin",
     "output_type": "stream",
     "text": [
      "Enter a character here:-  s\n"
     ]
    },
    {
     "name": "stdout",
     "output_type": "stream",
     "text": [
      "Entered character is a consonant\n"
     ]
    }
   ],
   "source": [
    "char = str(input(\"Enter a character here:- \"))\n",
    "vowels= ['a','e','i','o','u','A','E','I','O','U']\n",
    "for i in char:\n",
    "    if i in vowels:\n",
    "        print(\"Entered character is a vowel\")\n",
    "    else:\n",
    "        print(\"Entered character is a consonant\")\n",
    "        break\n",
    "        "
   ]
  },
  {
   "cell_type": "raw",
   "id": "a403f301-6867-4646-bc2e-5a8ab2038ac4",
   "metadata": {},
   "source": [
    "Q6:- Implement a program to determine whether a given number is even or odd."
   ]
  },
  {
   "cell_type": "code",
   "execution_count": 17,
   "id": "2fcaecb9-b4c6-4379-9312-479c6265593e",
   "metadata": {},
   "outputs": [
    {
     "name": "stdin",
     "output_type": "stream",
     "text": [
      "Enter a number:-  5\n"
     ]
    },
    {
     "name": "stdout",
     "output_type": "stream",
     "text": [
      "5 is odd number\n"
     ]
    }
   ],
   "source": [
    "num_1 = int(input(\"Enter a number:- \"))\n",
    "if (num_1 %2 ==0):\n",
    "    print(num_1, \"is a even number\")\n",
    "else:\n",
    "    print(num_1, \"is odd number\")"
   ]
  },
  {
   "cell_type": "raw",
   "id": "b0657c0c-2eca-4b6f-8ef8-535a762cfdc0",
   "metadata": {},
   "source": [
    "Q7:- Write a Python function to calculate the absolute value of a number without using the `abs()`"
   ]
  },
  {
   "cell_type": "code",
   "execution_count": 15,
   "id": "29a65301-e988-4eea-820c-8cd5450b3f20",
   "metadata": {},
   "outputs": [
    {
     "name": "stdin",
     "output_type": "stream",
     "text": [
      "Enter a number to find its absolute value:-  -1\n"
     ]
    },
    {
     "name": "stdout",
     "output_type": "stream",
     "text": [
      "The absolute value is:  1\n"
     ]
    }
   ],
   "source": [
    "num1 = int(input(\"Enter a number to find its absolute value:- \"))\n",
    "if num1>0:\n",
    "    print(\"The absolute value is: \",num1)\n",
    "else:\n",
    "    print(\"The absolute value is: \",-1*num1)"
   ]
  },
  {
   "cell_type": "raw",
   "id": "4bca5997-1fbe-4e66-ae34-2915d90bd864",
   "metadata": {},
   "source": [
    "Q8:- Develop a program that determines the largest of three given numbers using if-else statements."
   ]
  },
  {
   "cell_type": "code",
   "execution_count": 18,
   "id": "0f2a48b4-5533-4c63-9e03-42022cb4372d",
   "metadata": {},
   "outputs": [
    {
     "name": "stdin",
     "output_type": "stream",
     "text": [
      "Enter the first number:-  10\n",
      "Enter the second number:-  30\n",
      "Enter the third number:-   20\n"
     ]
    },
    {
     "name": "stdout",
     "output_type": "stream",
     "text": [
      "The greatest number is the second number  30\n"
     ]
    }
   ],
   "source": [
    "num1 = int(input(\"Enter the first number:- \"))\n",
    "num2 = int(input(\"Enter the second number:- \"))\n",
    "num3 = int(input(\"Enter the third number:-  \"))\n",
    "if (num3<num1>num2):\n",
    "    print(\"The greatest number is the first number \", num1)\n",
    "if(num1<num2>num3):\n",
    "    print(\"The greatest number is the second number \", num2)\n",
    "else:\n",
    "    print(\"The greatest number is the third number \", num3)\n",
    "    "
   ]
  },
  {
   "cell_type": "raw",
   "id": "cdeecb0b-d417-44d2-a561-1e768b97a4e0",
   "metadata": {},
   "source": [
    "Q9:- Create a program that checks if a given string is a palindrome."
   ]
  },
  {
   "cell_type": "code",
   "execution_count": 5,
   "id": "6e39b8e9-f000-4b99-9b16-019161783fe3",
   "metadata": {},
   "outputs": [
    {
     "name": "stdin",
     "output_type": "stream",
     "text": [
      "Enter a string:-  radar\n"
     ]
    },
    {
     "name": "stdout",
     "output_type": "stream",
     "text": [
      "The radar is a palindrome string \n"
     ]
    }
   ],
   "source": [
    "string = str(input(\"Enter a string:- \"))\n",
    "if string[0:] == string[::-1]:\n",
    "    print(\"The\",string,\"is a palindrome string \")\n",
    "else:\n",
    "    print(\"It is not a palindrome string \")"
   ]
  },
  {
   "cell_type": "raw",
   "id": "865ea5e1-66b6-455b-80bb-710400750c71",
   "metadata": {},
   "source": [
    "Q10:- Write a Python program to calculate the grade based on a student's score."
   ]
  },
  {
   "cell_type": "code",
   "execution_count": 19,
   "id": "a9e083de-d7ac-4762-9e90-9831241986ef",
   "metadata": {},
   "outputs": [
    {
     "name": "stdin",
     "output_type": "stream",
     "text": [
      "Enter your Score in percentage form:-  82\n"
     ]
    },
    {
     "name": "stdout",
     "output_type": "stream",
     "text": [
      "Your grade is B\n",
      "you are fail\n"
     ]
    }
   ],
   "source": [
    "percent = int(input(\"Enter your Score in percentage form:- \"))\n",
    "if(90<=percent<=100):\n",
    "    print(\"Your grade is A\")\n",
    "if(80<=percent<90):\n",
    "    print(\"Your grade is B\")\n",
    "if(70<=percent<80):\n",
    "    print(\"Your grade is C\")\n",
    "if(60<=percent<70):\n",
    "    print(\"Your grade is D\")\n",
    "else:\n",
    "    print(\"you are fail\")"
   ]
  },
  {
   "cell_type": "raw",
   "id": "cfc0d3b9-6ac9-4016-98f7-bb77e2294231",
   "metadata": {},
   "source": [
    "Nested If-Else Statements:\n",
    "\n",
    " \n",
    "\n",
    "Q11:- Write a program to find the largest among three numbers using nested if-else statements."
   ]
  },
  {
   "cell_type": "code",
   "execution_count": 3,
   "id": "541a7f71-2e9f-4248-a729-2a7e9c5decd9",
   "metadata": {},
   "outputs": [
    {
     "name": "stdin",
     "output_type": "stream",
     "text": [
      "Enter the first number:-  10\n",
      "Enter the second number:-  20\n",
      "Enter the third number:-  30\n"
     ]
    },
    {
     "name": "stdout",
     "output_type": "stream",
     "text": [
      "30 is the largest number\n"
     ]
    }
   ],
   "source": [
    "num1 = int(input(\"Enter the first number:- \"))\n",
    "num2 = int(input(\"Enter the second number:- \"))\n",
    "num3 = int(input(\"Enter the third number:- \"))\n",
    "\n",
    "if(num1>num2 and num1>num3):\n",
    "    print(num1,\"is the largest number\")\n",
    "if (num2>num1 and num2>num3):\n",
    "    print(num2, \"is the largest number\")\n",
    "else:\n",
    "    print(num3,\"is the largest number\")"
   ]
  },
  {
   "cell_type": "raw",
   "id": "281a681e-64c5-414f-95fd-fce41e1ea127",
   "metadata": {},
   "source": [
    "Q12:- Implement a program to determine if a triangle is equilateral, isosceles, or scalene."
   ]
  },
  {
   "cell_type": "code",
   "execution_count": 54,
   "id": "a55f21ce-8b32-4e7d-a035-3f01cfb2e6f4",
   "metadata": {},
   "outputs": [
    {
     "name": "stdin",
     "output_type": "stream",
     "text": [
      "Enter the first side of the triangle:-  65\n",
      "Enter the second side of the triangle:-  65\n",
      "Enter the third side of the triangle:-  50\n"
     ]
    },
    {
     "name": "stdout",
     "output_type": "stream",
     "text": [
      "It is an isoceles triangle \n"
     ]
    }
   ],
   "source": [
    "a = int(input(\"Enter the first side of the triangle:- \"))\n",
    "b = int(input(\"Enter the second side of the triangle:- \"))\n",
    "c =int(input(\"Enter the third side of the triangle:- \"))\n",
    "\n",
    "if (a==b==c):\n",
    "    print(\"It is an equilateral triangle\")\n",
    "elif(a!=b!=c):\n",
    "    print(\"It is a scalene triangle\")\n",
    "else:\n",
    "    if(a==b or b==c or c==a):\n",
    "        print(\"It is an isoceles triangle \")"
   ]
  },
  {
   "cell_type": "raw",
   "id": "abaa4e75-6312-4ccf-b4b0-cbccd452734d",
   "metadata": {},
   "source": [
    "Q13:- Develop a program that checks if a year is a leap year and also if it is a century year."
   ]
  },
  {
   "cell_type": "code",
   "execution_count": 5,
   "id": "315d096b-a2d4-4875-b75f-2b6c22d7b5cc",
   "metadata": {},
   "outputs": [
    {
     "name": "stdin",
     "output_type": "stream",
     "text": [
      "Enter the year:-  2000\n"
     ]
    },
    {
     "name": "stdout",
     "output_type": "stream",
     "text": [
      "Yes , it is a leap year and also it is a century year\n"
     ]
    }
   ],
   "source": [
    "year = int(input(\"Enter the year:- \"))\n",
    "\n",
    "if year%4 ==0:\n",
    "    if year%100 == 0:\n",
    "        print(\"Yes , it is a leap year and also it is a century year\")\n",
    "else:\n",
    "    print(\"Not a centur year\")"
   ]
  },
  {
   "cell_type": "raw",
   "id": "ae15ea13-6826-4202-92d4-cd5d9ae03587",
   "metadata": {},
   "source": [
    "Q14:- Write a Python script to determine if a number is positive, negative, or zero."
   ]
  },
  {
   "cell_type": "code",
   "execution_count": 44,
   "id": "bd9de3d3-8073-48b6-b854-1df19a7fef59",
   "metadata": {},
   "outputs": [
    {
     "name": "stdin",
     "output_type": "stream",
     "text": [
      "Enter a number here:-  0\n"
     ]
    },
    {
     "name": "stdout",
     "output_type": "stream",
     "text": [
      "It is Zero\n"
     ]
    }
   ],
   "source": [
    "num = int(input(\"Enter a number here:- \"))\n",
    "if(num>0 ):\n",
    "    print(\"It is a positive number \")\n",
    "elif(num<0):\n",
    "    print(\"It is a negative number \")\n",
    "else:\n",
    "    if (num==0)\n",
    "    "
   ]
  },
  {
   "cell_type": "raw",
   "id": "baefe2de-3724-409c-b0e5-f88a418319bd",
   "metadata": {},
   "source": [
    "Q15:- Create a program to check if a person is a teenager (between 13 and 19 years old)."
   ]
  },
  {
   "cell_type": "code",
   "execution_count": 20,
   "id": "42aae3da-f193-4d49-93a0-fbf889a2dd76",
   "metadata": {},
   "outputs": [
    {
     "name": "stdin",
     "output_type": "stream",
     "text": [
      "Enter your age:-  14\n"
     ]
    },
    {
     "name": "stdout",
     "output_type": "stream",
     "text": [
      "you are a teenager\n"
     ]
    }
   ],
   "source": [
    "age = int(input(\"Enter your age:- \"))\n",
    "if (13<=age<=19):\n",
    "    print(\"you are a teenager\")\n",
    "else:\n",
    "    if(age>19):\n",
    "        print(\"you are an adult \")\n",
    "    else:\n",
    "        print(\"You are a child\")"
   ]
  },
  {
   "cell_type": "raw",
   "id": "436eced5-3324-4d90-810d-6b75a77315f5",
   "metadata": {},
   "source": [
    "Q16:- Develop a program that determines the type of angle based on its measure (acute, obtuse, or right)."
   ]
  },
  {
   "cell_type": "code",
   "execution_count": 7,
   "id": "d7526354-7a27-4bbd-afca-5bfa593ae8d9",
   "metadata": {},
   "outputs": [
    {
     "name": "stdin",
     "output_type": "stream",
     "text": [
      "Enter an angle in degrees:-  172\n"
     ]
    },
    {
     "name": "stdout",
     "output_type": "stream",
     "text": [
      "It is an obtuse angle \n"
     ]
    }
   ],
   "source": [
    "angle = float(input(\"Enter an angle in degrees:- \"))\n",
    "if (90.0<angle<180.0 ):\n",
    "    print(\"It is an obtuse angle \")\n",
    "if (angle<90.0):\n",
    "    print(\"It is an acute angle\")\n",
    "else:\n",
    "    if(angle== float(90)):\n",
    "        print(\"It is an right angle\")\n",
    "    "
   ]
  },
  {
   "cell_type": "raw",
   "id": "0eebff09-eaa9-4697-9beb-b040ceff364e",
   "metadata": {},
   "source": [
    "Q17:- Write a Python program to calculate the roots of a quadratic equation."
   ]
  },
  {
   "cell_type": "code",
   "execution_count": 8,
   "id": "4196a727-c76d-457f-9e16-c216c7b24736",
   "metadata": {},
   "outputs": [
    {
     "name": "stdin",
     "output_type": "stream",
     "text": [
      "Enter the first number:- 10\n",
      "Enter the second number:-  20\n",
      "Enter the third number:-  30\n"
     ]
    },
    {
     "name": "stdout",
     "output_type": "stream",
     "text": [
      "The solution are (-1-1.4142135623730951j) and (-1+1.4142135623730951j)\n"
     ]
    }
   ],
   "source": [
    "import cmath  #importing complex math module...........\n",
    "\n",
    "a = int(input(\"Enter the first number:-\"))\n",
    "b = int(input(\"Enter the second number:- \"))\n",
    "c = int(input(\"Enter the third number:- \"))\n",
    "\n",
    "# calculating the discriminant....\n",
    "\n",
    "d = (b**2) - (4*a*c)\n",
    "\n",
    "# find the roots with the help of the quadratic formula.....\n",
    "\n",
    "root1 = (-b-cmath.sqrt(d))/(2*a)\n",
    "root2 = (-b+cmath.sqrt(d))/(2*a)\n",
    "\n",
    "print(\"The solution are {0} and {1}\".format(root1,root2))\n",
    "\n",
    "\n",
    "\n"
   ]
  },
  {
   "cell_type": "raw",
   "id": "992de09a-2952-42a3-8b26-bd726455a04e",
   "metadata": {},
   "source": [
    "Q18:- Implement a program to determine the day of the week based on a user-provided number (1 for Monday, 2\n",
    "for Tuesday, etc.)."
   ]
  },
  {
   "cell_type": "code",
   "execution_count": 9,
   "id": "f2a4122d-868e-4d2c-a073-7549dac68c77",
   "metadata": {},
   "outputs": [
    {
     "name": "stdin",
     "output_type": "stream",
     "text": [
      "Enter the number from 1 to 7:-  7\n"
     ]
    },
    {
     "name": "stdout",
     "output_type": "stream",
     "text": [
      "It's Sunday \n"
     ]
    }
   ],
   "source": [
    "number = int(input(\"Enter the number from 1 to 7:- \"))\n",
    "if(number == 1):\n",
    "    print(\"It's Monday \")\n",
    "elif(number == 2):\n",
    "    print(\"It's Tuesday \")\n",
    "elif(number == 3):\n",
    "    print(\"It's Wednesday \")\n",
    "elif(number == 4):\n",
    "    print(\"It's Thursday \")\n",
    "elif(number == 5):\n",
    "    print(\"It's Friday \")\n",
    "elif(number == 6):\n",
    "    print(\"It's Saturday \")\n",
    "elif(number == 7):\n",
    "    print(\"It's Sunday \")"
   ]
  },
  {
   "cell_type": "raw",
   "id": "227cf459-b3da-4713-9c36-efe8c1acabf9",
   "metadata": {},
   "source": [
    "Q19:- Create a program that determines if a year is a leap year and also if it is evenly divisible by 400."
   ]
  },
  {
   "cell_type": "code",
   "execution_count": 65,
   "id": "9acef8e8-12dc-4771-b431-b4c16919471c",
   "metadata": {},
   "outputs": [
    {
     "name": "stdin",
     "output_type": "stream",
     "text": [
      "Enter the year:-  2004\n"
     ]
    },
    {
     "name": "stdout",
     "output_type": "stream",
     "text": [
      "2004 It's a leap year but It is not evenly divisible by 400\n"
     ]
    }
   ],
   "source": [
    "year = int(input(\"Enter the year:- \"))\n",
    "if(year%4 == 0 and year%400==0):\n",
    "    print(year,\"It's leap year and It is evenly divisible by 400\")\n",
    "else:\n",
    "    if (year%4==0):\n",
    "        print(year, \"It's a leap year but It is not evenly divisible by 400\")"
   ]
  },
  {
   "cell_type": "raw",
   "id": "2e1f91a2-e63a-485b-8116-3505ef0f47d7",
   "metadata": {},
   "source": [
    "Q20:- Develop a program that checks if a given number is prime or not using nested if-else statements."
   ]
  },
  {
   "cell_type": "code",
   "execution_count": 13,
   "id": "a9284838-ee56-4de5-b380-76fcaa8395b6",
   "metadata": {},
   "outputs": [
    {
     "name": "stdin",
     "output_type": "stream",
     "text": [
      "Enter a number to find it's a prime number or not:-  7\n"
     ]
    },
    {
     "name": "stdout",
     "output_type": "stream",
     "text": [
      "Yes it is a prime number \n"
     ]
    }
   ],
   "source": [
    "num = int(input(\"Enter a number to find it's a prime number or not:- \"))\n",
    "if num== 2:\n",
    "    print(\"Yes it is a prime number\")\n",
    "if( num%2 !=0):\n",
    "    print(\"Yes it is a prime number \")\n",
    "else:\n",
    "    print(\"It is not a prime number \")"
   ]
  },
  {
   "cell_type": "raw",
   "id": "4f587ea2-460a-415e-92ef-43e688fc2454",
   "metadata": {},
   "source": [
    "Elif Statements:\n",
    "\n",
    " \n",
    "\n",
    "Q21:- Write a Python program to assign grades based on different ranges of scores using elif statements."
   ]
  },
  {
   "cell_type": "code",
   "execution_count": 2,
   "id": "7ef02f18-f239-46e4-adb0-a96df0871f85",
   "metadata": {},
   "outputs": [
    {
     "name": "stdin",
     "output_type": "stream",
     "text": [
      "Enter your Score in percentage form:-  90\n"
     ]
    },
    {
     "name": "stdout",
     "output_type": "stream",
     "text": [
      "Your grade is A\n"
     ]
    }
   ],
   "source": [
    "percent = int(input(\"Enter your Score in percentage form:- \"))\n",
    "if(90<=percent<=100):\n",
    "    print(\"Your grade is A\")\n",
    "elif(80<=percent<90):\n",
    "    print(\"Your grade is B\")\n",
    "elif(70<=percent<80):\n",
    "    print(\"Your grade is C\")\n",
    "elif(60<=percent<70):\n",
    "    print(\"Your grade is D\")\n",
    "else:\n",
    "    print(\"you are fail\")"
   ]
  },
  {
   "cell_type": "raw",
   "id": "79e12222-3dd8-4167-b2d1-7acc4f3abf34",
   "metadata": {},
   "source": [
    "Q22:- Implement a program to determine the type of a triangle based on its angles."
   ]
  },
  {
   "cell_type": "code",
   "execution_count": 3,
   "id": "9c075431-fdaa-486d-aa1d-d68dac7afbda",
   "metadata": {},
   "outputs": [
    {
     "name": "stdin",
     "output_type": "stream",
     "text": [
      "Enter an angle in degrees:-  65.5\n"
     ]
    },
    {
     "name": "stdout",
     "output_type": "stream",
     "text": [
      "It is an acute angle\n"
     ]
    }
   ],
   "source": [
    "angle = float(input(\"Enter an angle in degrees:- \"))\n",
    "if (90.0<angle<180.0 ):\n",
    "    print(\"It is an obtuse angle \")\n",
    "elif(angle<90.0):\n",
    "    print(\"It is an acute angle\")\n",
    "else:\n",
    "    if(angle== float(90)):\n",
    "        print(\"It is an right angle\")\n",
    "    "
   ]
  },
  {
   "cell_type": "raw",
   "id": "f9d6873b-db52-435f-bd6a-2c37c1575ad2",
   "metadata": {},
   "source": [
    "23:- Develop a program to categorize a given person's BMI into underweight, normal, overweight, or obese using\n",
    "elif statements."
   ]
  },
  {
   "cell_type": "code",
   "execution_count": 14,
   "id": "8ca0bb3f-3ee8-452d-80fc-1bdafa518b9a",
   "metadata": {},
   "outputs": [
    {
     "name": "stdin",
     "output_type": "stream",
     "text": [
      "Enter your Weight in Kg:-  89\n",
      "Enter your height in m:-  1.76\n"
     ]
    },
    {
     "name": "stdout",
     "output_type": "stream",
     "text": [
      "Your BMI is :-  28.731921487603305\n",
      "you are overweight.\n"
     ]
    }
   ],
   "source": [
    "weight = float(input(\"Enter your Weight in Kg:- \"))\n",
    "height = float(input(\"Enter your height in m:- \"))\n",
    "\n",
    "height = height**2\n",
    "BMI = weight/height\n",
    "print(\"Your BMI is :- \",BMI)\n",
    "\n",
    "if BMI<18.5:\n",
    "    print(\"You are Underweight.\")\n",
    "elif 18.5<=BMI<=24.5:\n",
    "    print(\"You are Healthy Weight.\")\n",
    "elif 25.0<=BMI<=29.9:\n",
    "    print(\"you are overweight.\")"
   ]
  },
  {
   "cell_type": "raw",
   "id": "11a3f9ac-c02d-4d37-910d-71183c3cb1be",
   "metadata": {},
   "source": [
    "Q24:- Create a program that determines whether a given number is positive, negative, or zero using elif\n",
    "statements."
   ]
  },
  {
   "cell_type": "code",
   "execution_count": 8,
   "id": "eeee92d7-982f-4665-aff3-8ba0b3002df9",
   "metadata": {},
   "outputs": [
    {
     "name": "stdin",
     "output_type": "stream",
     "text": [
      "Enter a number here:-  5\n"
     ]
    },
    {
     "name": "stdout",
     "output_type": "stream",
     "text": [
      "It is a positive number \n"
     ]
    }
   ],
   "source": [
    "num = int(input(\"Enter a number here:- \"))\n",
    "if(num>0 ):\n",
    "    print(\"It is a positive number \")\n",
    "elif(num<0):\n",
    "    print(\"It is a negative number \")\n",
    "else:\n",
    "    if (num==0):\n",
    "        print(\"It is Zero\")\n",
    "    "
   ]
  },
  {
   "cell_type": "raw",
   "id": "c13ea583-8bb5-400c-91c0-ef9c310f0f3f",
   "metadata": {},
   "source": [
    "Q25:-Write a Python script to determine the type of a character (uppercase, lowercase, or special) using elif statements."
   ]
  },
  {
   "cell_type": "code",
   "execution_count": 48,
   "id": "797edcb1-ac9f-42a6-bc82-0d88f81621e7",
   "metadata": {},
   "outputs": [
    {
     "name": "stdin",
     "output_type": "stream",
     "text": [
      "Enter a string:-  Ketan@\n"
     ]
    },
    {
     "name": "stdout",
     "output_type": "stream",
     "text": [
      "It is a special case.\n"
     ]
    }
   ],
   "source": [
    "string = str(input(\"Enter a string:- \"))\n",
    "if string  == string.lower():\n",
    "    print(\"It is a lowercase character.\")\n",
    "elif string == string.upper():\n",
    "    print(\"It is a uppercase character.\")\n",
    "for i in string:\n",
    "    if i == \"!\":\n",
    "        print(\"It is a special case.\")\n",
    "    elif i == \"@\":\n",
    "        print(\"It is a special case.\")\n",
    "    elif i == \"#\":\n",
    "        print(\"It is a special case.\")\n",
    "    elif i == \"$\":\n",
    "        print(\"It is a special case.\")\n",
    "    elif i == \"%\":\n",
    "        print(\"It is a special case.\")\n",
    "    elif i == \"^\":\n",
    "        print(\"It is a special case.\")\n",
    "    elif i == \"&\":\n",
    "        print(\"It is a special case.\")\n",
    "    elif i == \"*\":\n",
    "        print(\"It is a special case.\")"
   ]
  },
  {
   "cell_type": "raw",
   "id": "544853c0-59dc-432b-b8d4-e186adf5c2de",
   "metadata": {},
   "source": [
    "Q26:- Implement a program to calculate the discounted price based on different purchase amounts using elif\n",
    "statements."
   ]
  },
  {
   "cell_type": "code",
   "execution_count": 22,
   "id": "bff831aa-7d56-4415-977b-0122940bfbb9",
   "metadata": {},
   "outputs": [
    {
     "name": "stdin",
     "output_type": "stream",
     "text": [
      "Enter purchase amount:-  50000\n"
     ]
    },
    {
     "name": "stdout",
     "output_type": "stream",
     "text": [
      "40%OFF  you are generated bill is 30000.0\n"
     ]
    }
   ],
   "source": [
    "amount = int(input(\"Enter purchase amount:- \"))\n",
    "if(amount<5000):\n",
    "    print(\"Up to 5,000 No discount, shop more.........\")\n",
    "elif(5001 <amount< 10000):\n",
    "    amount = amount- amount*0.1\n",
    "    print(\"10%OFF \",\"you are generated bill is\", amount)\n",
    "\n",
    "elif(10001 <amount< 20000):\n",
    "    amount = amount- amount*0.2\n",
    "    print(\"20%OFF \",\"you are generated bill is\", amount)\n",
    "\n",
    "elif(20001 <amount< 30000):\n",
    "    amount = amount- amount*0.3\n",
    "    print(\"30%OFF \",\"you are generated bill is\", amount)\n",
    "\n",
    "elif(amount>30000):\n",
    "    amount = amount- amount*0.4\n",
    "    print(\"40%OFF \",\"you are generated bill is\", amount)"
   ]
  },
  {
   "cell_type": "raw",
   "id": "bff7e13c-1515-4f18-a522-0a7ee8f8e2ba",
   "metadata": {},
   "source": [
    "Q27:- Develop a program to calculate the electricity bill based on different consumption slabs using elif\n",
    "statements."
   ]
  },
  {
   "cell_type": "code",
   "execution_count": 26,
   "id": "568ae136-8b32-4d1a-99b7-c1157ef49ebc",
   "metadata": {},
   "outputs": [
    {
     "name": "stdin",
     "output_type": "stream",
     "text": [
      "Enter your unit consumption:-  502\n"
     ]
    },
    {
     "name": "stdout",
     "output_type": "stream",
     "text": [
      "Your consumption:- 502\n",
      "Current electricity bill:- Rs. 12550\n"
     ]
    }
   ],
   "source": [
    "# 1 to 100 units – Rs. 10/unit  I have used these units for my calculations.\n",
    "# 100 to 200 units – Rs. 15/unit\n",
    "# 200 to 300 units – Rs. 20/unit\n",
    "# above 300 units – Rs. 25/unit\n",
    "\n",
    "\n",
    "unit= int(input(\"Enter your unit consumption:- \"))\n",
    "print(\"Your consumption:-\",unit)\n",
    "if(1<unit<100):\n",
    "    bill = unit*10\n",
    "    print(\"Current electricity bill:-\",\"Rs.\",bill)\n",
    "elif(100<=unit<200):\n",
    "    bill = unit*15\n",
    "    print(\"Current electricity bill:-\",\"Rs.\",bill)\n",
    "elif(200<=unit<300):\n",
    "    bill = unit*20\n",
    "    print(\"Current electricity bill:-\",\"Rs.\",bill)\n",
    "else:\n",
    "    bill = unit*25\n",
    "    print(\"Current electricity bill:-\",\"Rs.\",bill)\n",
    "\n"
   ]
  },
  {
   "cell_type": "raw",
   "id": "886d43c4-85c5-4ffc-9128-2ed38eebe6ce",
   "metadata": {},
   "source": [
    "Q28:- Create a program to determine the type of quadrilateral based on its angles and sides using elif\n",
    "statements."
   ]
  },
  {
   "cell_type": "code",
   "execution_count": null,
   "id": "ad98ccba-bf69-4702-996a-247ef1691e38",
   "metadata": {},
   "outputs": [],
   "source": [
    "#There are six basic types of quadrilaterals. They are:\n",
    "\n",
    "#1.Trapezium\n",
    "#2.Parallelogram\n",
    "#3.Rectangle\n",
    "#4.Rhombus\n",
    "#5.Square\n",
    "#6.Kite\n",
    "\n",
    "\n",
    "\n"
   ]
  },
  {
   "cell_type": "raw",
   "id": "8f1e29cc-5d58-4e33-9121-af40977fe105",
   "metadata": {},
   "source": [
    "Q29:- Write a Python script to determine the season based on a user-provided month using elif statements."
   ]
  },
  {
   "cell_type": "code",
   "execution_count": 52,
   "id": "1ec46e54-8f07-4456-aba6-42257d58fefe",
   "metadata": {},
   "outputs": [
    {
     "name": "stdin",
     "output_type": "stream",
     "text": [
      "Enter any month of the year:-  July\n"
     ]
    },
    {
     "name": "stdout",
     "output_type": "stream",
     "text": [
      "It's Summer Season \n"
     ]
    }
   ],
   "source": [
    "#The winter months are in December, January and February.\n",
    "#The spring months in March, April and May. \n",
    "#The summer months in June, July and August. \n",
    "#And the autumn months in September, October and November.\n",
    "\n",
    "month = str(input(\"Enter any month of the year:- \"))\n",
    "if month == \"January\":\n",
    "    print(\"It's Winter Season \")\n",
    "elif month == \"January\":\n",
    "    print(\"It's Winter Season \")\n",
    "elif month == \"February\":\n",
    "    print(\"It's Winter Season \")\n",
    "elif month == \"March\":\n",
    "    print(\"It's Spring Season \")\n",
    "elif month == \"April\":\n",
    "    print(\"It's Spring Season \")\n",
    "elif month == \"May\":\n",
    "    print(\"It's Spring Season \")\n",
    "elif month == \"June\":\n",
    "    print(\"It's Summer Season \")\n",
    "elif month == \"July\":\n",
    "    print(\"It's Summer Season \")\n",
    "elif month == \"August\":\n",
    "    print(\"It's Summer Season \")\n",
    "elif month == \"September\":\n",
    "    print(\"It's Autumn Season \")\n",
    "elif month == \"October\":\n",
    "    print(\"It's Autumn Season \")\n",
    "elif month == \"November\":\n",
    "    print(\"It's Autumn season\")\n",
    "else:\n",
    "    if month == \"December\":\n",
    "        print(\"It's Winter Season \")"
   ]
  },
  {
   "cell_type": "raw",
   "id": "4be03724-05ec-40be-be4d-880f9edfd774",
   "metadata": {},
   "source": [
    "Q30:- Implement a program to determine the type of a year (leap or common) and month (30 or 31 days) using\n",
    "elif statements."
   ]
  },
  {
   "cell_type": "code",
   "execution_count": 4,
   "id": "7a99dad0-742c-4356-85a1-d8128760e8f3",
   "metadata": {},
   "outputs": [
    {
     "name": "stdin",
     "output_type": "stream",
     "text": [
      "Enter month number:-  2\n",
      "Enter the year:-  2023\n"
     ]
    },
    {
     "name": "stdout",
     "output_type": "stream",
     "text": [
      "Number of days is 28\n"
     ]
    }
   ],
   "source": [
    "month = int(input(\"Enter month number:- \"))\n",
    "year= int(input(\"Enter the year:- \"))\n",
    "if((month==2) and (year%4==0) or (year%100 ==0)and(year%4==0)):\n",
    "   print(\"Number of days is 29\")\n",
    "elif(month ==2):\n",
    "   print(\"Number of days is 28\")\n",
    "elif(month ==1 or month==3 or month==5 or month==7 or month==8 or month==10 or month==12):\n",
    "   print(\"number of days is 31\")\n",
    "else:\n",
    "   print(\"number of days is 30\")"
   ]
  },
  {
   "cell_type": "raw",
   "id": "4e2a82b9-36db-4e42-9c48-745669855a51",
   "metadata": {},
   "source": [
    "Basic Level:\n",
    "\n",
    " \n",
    "\n",
    "Q1. Write a Python program that checks if a given number is positive, negative, or zero."
   ]
  },
  {
   "cell_type": "code",
   "execution_count": 57,
   "id": "e164e4c0-2570-47c6-824b-6d5c1aee2d11",
   "metadata": {},
   "outputs": [
    {
     "name": "stdin",
     "output_type": "stream",
     "text": [
      "Enter a number here:-  5646564\n"
     ]
    },
    {
     "name": "stdout",
     "output_type": "stream",
     "text": [
      "It is a positive number \n"
     ]
    }
   ],
   "source": [
    "num = int(input(\"Enter a number here:- \"))\n",
    "if(num>0 ):\n",
    "    print(\"It is a positive number \")\n",
    "elif(num<0):\n",
    "    print(\"It is a negative number \")\n",
    "else:\n",
    "    if (num==0):\n",
    "        print(\"It is Zero\")"
   ]
  },
  {
   "cell_type": "raw",
   "id": "c25b7aea-f11d-4823-b6c4-9c71eeef6c55",
   "metadata": {},
   "source": [
    "Q2:- Create a program to determine if a person is eligible to vote based on their age."
   ]
  },
  {
   "cell_type": "code",
   "execution_count": 58,
   "id": "e50275ea-e322-48d8-ac2f-536a56af2a02",
   "metadata": {},
   "outputs": [
    {
     "name": "stdin",
     "output_type": "stream",
     "text": [
      "Enter your age: 16\n"
     ]
    },
    {
     "name": "stdout",
     "output_type": "stream",
     "text": [
      "You are not eligible to vote\n"
     ]
    }
   ],
   "source": [
    "age = int(input(\"Enter your age:\"))\n",
    "if age>= 18:\n",
    "    print(\"You are eligible to vote\")\n",
    "else:\n",
    "    print(\"You are not eligible to vote\")"
   ]
  },
  {
   "cell_type": "raw",
   "id": "65d30c77-8a32-424b-87ca-308f84621391",
   "metadata": {},
   "source": [
    "Q3:- Write a program to find the maximum of two given numbers using conditional statements."
   ]
  },
  {
   "cell_type": "code",
   "execution_count": 60,
   "id": "84e68864-9679-4b60-9ae6-dd3426a74bdf",
   "metadata": {},
   "outputs": [
    {
     "name": "stdin",
     "output_type": "stream",
     "text": [
      "Enter the first number  56\n",
      "Enter the second number  65\n"
     ]
    },
    {
     "name": "stdout",
     "output_type": "stream",
     "text": [
      "The second number is maximum that is  65\n"
     ]
    }
   ],
   "source": [
    "num1 = int(input(\"Enter the first number \"))\n",
    "num2 = int(input(\"Enter the second number \"))\n",
    "if (num1>num2):\n",
    "    print(\"The first number is maximum that is \",num1)\n",
    "elif(num2>num1):\n",
    "    print(\"The second number is maximum that is \", num2)\n",
    "elif (num1==num2):\n",
    "    print(\"Both the numbers are equal \")"
   ]
  },
  {
   "cell_type": "raw",
   "id": "d5ead4c4-ad1c-468f-878e-031c3a01bbd9",
   "metadata": {},
   "source": [
    "Q4:- Develop a program that calculates the grade of a student based on their exam score."
   ]
  },
  {
   "cell_type": "code",
   "execution_count": 64,
   "id": "f153ec43-5397-483b-bb1e-38c3f4f8a967",
   "metadata": {},
   "outputs": [
    {
     "name": "stdin",
     "output_type": "stream",
     "text": [
      "Enter your Score in percentage form:-  60\n"
     ]
    },
    {
     "name": "stdout",
     "output_type": "stream",
     "text": [
      "Your grade is D\n"
     ]
    }
   ],
   "source": [
    "percent = int(input(\"Enter your Score in percentage form:- \"))\n",
    "if(90<=percent<=100):\n",
    "    print(\"Your grade is A\")\n",
    "elif(80<=percent<90):\n",
    "    print(\"Your grade is B\")\n",
    "elif(70<=percent<80):\n",
    "    print(\"Your grade is C\")\n",
    "elif(60<=percent<70):\n",
    "    print(\"Your grade is D\")\n",
    "else:\n",
    "    print(\"you are fail\")"
   ]
  },
  {
   "cell_type": "raw",
   "id": "2f0eac35-44bb-4b05-8f94-561862fc2169",
   "metadata": {},
   "source": [
    "Q5:- Create a program that checks if a year is a leap year or not."
   ]
  },
  {
   "cell_type": "code",
   "execution_count": 67,
   "id": "d2ac3401-3971-45cb-bccb-ad252943c092",
   "metadata": {},
   "outputs": [
    {
     "name": "stdin",
     "output_type": "stream",
     "text": [
      "Enter the year:-  2000\n"
     ]
    },
    {
     "name": "stdout",
     "output_type": "stream",
     "text": [
      "2000 is leap year\n"
     ]
    }
   ],
   "source": [
    "year = int(input(\"Enter the year:- \"))\n",
    "if(year%4 == 0 ):\n",
    "    print(year,\"is leap year\")\n",
    "else:\n",
    "    print(year, \"is not a leap year\")"
   ]
  },
  {
   "cell_type": "raw",
   "id": "42890878-771d-4fa0-9113-492e140ca446",
   "metadata": {},
   "source": [
    "Q6:- Write a program to classify a triangle based on its sides' lengths."
   ]
  },
  {
   "cell_type": "code",
   "execution_count": 68,
   "id": "e1048c27-f70b-403b-8172-09d0603fd82e",
   "metadata": {},
   "outputs": [
    {
     "name": "stdin",
     "output_type": "stream",
     "text": [
      "Enter the first side of the triangle:-  5\n",
      "Enter the second side of the triangle:-  5\n",
      "Enter the third side of the triangle:-  6\n"
     ]
    },
    {
     "name": "stdout",
     "output_type": "stream",
     "text": [
      "It is an isoceles triangle \n"
     ]
    }
   ],
   "source": [
    "a = int(input(\"Enter the first side of the triangle:- \"))\n",
    "b = int(input(\"Enter the second side of the triangle:- \"))\n",
    "c =int(input(\"Enter the third side of the triangle:- \"))\n",
    "\n",
    "if (a==b==c):\n",
    "    print(\"It is an equilateral triangle\")\n",
    "elif(a!=b!=c):\n",
    "    print(\"It is a scalene triangle\")\n",
    "else:\n",
    "    if(a==b or b==c or c==a):\n",
    "        print(\"It is an isoceles triangle \")"
   ]
  },
  {
   "cell_type": "raw",
   "id": "2252f397-828e-4508-8fd2-8bf12ac3b955",
   "metadata": {},
   "source": [
    "Q7:- Build a program that determines the largest of three given numbers."
   ]
  },
  {
   "cell_type": "code",
   "execution_count": 82,
   "id": "a0d7244a-a4f6-4610-895f-e104ca08dd0a",
   "metadata": {},
   "outputs": [
    {
     "name": "stdin",
     "output_type": "stream",
     "text": [
      "Enter the first number:-  56\n",
      "Enter the second number:-  65\n",
      "Enter the third number:-  79\n"
     ]
    },
    {
     "name": "stdout",
     "output_type": "stream",
     "text": [
      "79 is the largest number\n"
     ]
    }
   ],
   "source": [
    "num1 = int(input(\"Enter the first number:- \"))\n",
    "num2 = int(input(\"Enter the second number:- \"))\n",
    "num3 = int(input(\"Enter the third number:- \"))\n",
    "\n",
    "if num1>num2 and num1>num3:\n",
    "    print(num1, \"is the largest number\")\n",
    "elif num2>num1 and num2>num3:\n",
    "    print(num2,\"is the largest number\")\n",
    "else:\n",
    "    print(num3,\"is the largest number\")"
   ]
  },
  {
   "cell_type": "raw",
   "id": "f51ffefc-78f9-411c-9031-cef69b7f40ee",
   "metadata": {},
   "source": [
    "Q8:- Develop a program that checks whether a character is a vowel or a consonant."
   ]
  },
  {
   "cell_type": "code",
   "execution_count": 81,
   "id": "5dbb010c-98eb-4f3b-bdfd-8c319e5a9e40",
   "metadata": {},
   "outputs": [
    {
     "name": "stdin",
     "output_type": "stream",
     "text": [
      "Enter any one character:-  b\n"
     ]
    },
    {
     "name": "stdout",
     "output_type": "stream",
     "text": [
      "The entered character is a consonant\n"
     ]
    }
   ],
   "source": [
    "char = str(input(\"Enter any one character:- \"))\n",
    "vowel = ['a','e','i','o','u']\n",
    "for i in vowel:\n",
    "    if i == char:\n",
    "        print(\"The entered character is a vowel\")\n",
    "        break\n",
    "    elif i != char:\n",
    "        print(\"The entered character is a consonant\")\n",
    "        break"
   ]
  },
  {
   "cell_type": "raw",
   "id": "95b8a95b-258a-4aac-91bc-0b8d4c2fe147",
   "metadata": {},
   "source": [
    "Q9:- Create a program to calculate the total cost of a shopping cart based on discounts."
   ]
  },
  {
   "cell_type": "code",
   "execution_count": 30,
   "id": "7f7a596d-b14a-4be7-acb6-774cd54662e6",
   "metadata": {},
   "outputs": [
    {
     "name": "stdin",
     "output_type": "stream",
     "text": [
      "Enter your total cost of shopping cart:-  26000\n"
     ]
    },
    {
     "name": "stdout",
     "output_type": "stream",
     "text": [
      "The total cost of shopping cart based on 30% discount 18200.0\n"
     ]
    }
   ],
   "source": [
    "#The discount rates are:\n",
    "\n",
    "#   Amount          Discount\n",
    "#    0-5000          5%\n",
    "#   5000-15000      12%\n",
    "#   15000-25000     20%\n",
    "#    above 25000     30%\n",
    "\n",
    "amount = int(input(\"Enter your total cost of shopping cart:- \"))\n",
    "if(amount<=5000):\n",
    "    discount = \"5%\"\n",
    "    amount = amount -amount*0.05\n",
    "    print(\"The total cost of shopping cart based on\",discount,\"discount\",amount)\n",
    "elif(5000<amount<=15000):\n",
    "    discount = \"12%\"\n",
    "    amount = amount-amount*0.12\n",
    "    print(\"The total cost of shopping cart based on\",discount,\"discount\",amount)\n",
    "elif(15000<amount<=25000):\n",
    "    discount = \"20%\"\n",
    "    amount = amount-amount*0.20\n",
    "    print(\"The total cost of shopping cart based on\",discount,\"discount\",amount)\n",
    "else:\n",
    "    discount = \"30%\"\n",
    "    amount = amount -amount*0.30\n",
    "    print(\"The total cost of shopping cart based on\",discount,\"discount\",amount)\n",
    "\n"
   ]
  },
  {
   "cell_type": "raw",
   "id": "e135b782-e070-4a4b-8758-330fe850e39c",
   "metadata": {},
   "source": [
    "Q10:- Write a program that checks if a given number is even or odd."
   ]
  },
  {
   "cell_type": "code",
   "execution_count": 62,
   "id": "1003c157-ac71-48e1-844c-a71550971782",
   "metadata": {},
   "outputs": [
    {
     "name": "stdin",
     "output_type": "stream",
     "text": [
      "Enter a number:-  65\n"
     ]
    },
    {
     "name": "stdout",
     "output_type": "stream",
     "text": [
      "65 is odd number\n"
     ]
    }
   ],
   "source": [
    "num_1 = int(input(\"Enter a number:- \"))\n",
    "if (num_1 %2 ==0):\n",
    "    print(num_1, \"is a even number\")\n",
    "else:\n",
    "    print(num_1, \"is odd number\")"
   ]
  },
  {
   "cell_type": "raw",
   "id": "9b6ffd7a-79ea-42f1-bb6f-b89fa63b2c6f",
   "metadata": {},
   "source": [
    "Intermediate Level:\n",
    "\n",
    " \n",
    "\n",
    "Q11:- Write a program that calculates the roots of a quadratic equation."
   ]
  },
  {
   "cell_type": "code",
   "execution_count": 31,
   "id": "8d9cf8db-23f6-4d2f-a982-7f0ad1e1a1e5",
   "metadata": {},
   "outputs": [
    {
     "name": "stdin",
     "output_type": "stream",
     "text": [
      "Enter the first number:- 56\n",
      "Enter the second number:-  95\n",
      "Enter the third number:-  45\n"
     ]
    },
    {
     "name": "stdout",
     "output_type": "stream",
     "text": [
      "The solution are (-0.8482142857142857-0.2900068173019949j) and (-0.8482142857142857+0.2900068173019949j)\n"
     ]
    }
   ],
   "source": [
    "import cmath  #importing complex math module...........\n",
    "\n",
    "a = int(input(\"Enter the first number:-\"))\n",
    "b = int(input(\"Enter the second number:- \"))\n",
    "c = int(input(\"Enter the third number:- \"))\n",
    "\n",
    "# calculating the discriminant....\n",
    "\n",
    "d = (b**2) - (4*a*c)\n",
    "\n",
    "# find the roots with the help of the quadratic formula.....\n",
    "\n",
    "root1 = (-b-cmath.sqrt(d))/(2*a)\n",
    "root2 = (-b+cmath.sqrt(d))/(2*a)\n",
    "\n",
    "print(\"The solution are {0} and {1}\".format(root1,root2))"
   ]
  },
  {
   "cell_type": "raw",
   "id": "6a0ebded-6df0-4dbd-8fb3-23c595516b46",
   "metadata": {},
   "source": [
    "Q12:- Create a program that determines the day of the week based on the day number (1-7)."
   ]
  },
  {
   "cell_type": "code",
   "execution_count": 100,
   "id": "0c86c7cb-3b7f-4fb5-965c-34145f4412b6",
   "metadata": {},
   "outputs": [
    {
     "name": "stdin",
     "output_type": "stream",
     "text": [
      "Enter the number from 1 to 7:-  2\n"
     ]
    },
    {
     "name": "stdout",
     "output_type": "stream",
     "text": [
      "It's Tuesday \n"
     ]
    }
   ],
   "source": [
    "number = int(input(\"Enter the number from 1 to 7:- \"))\n",
    "if(number == 1):\n",
    "    print(\"It's Monday \")\n",
    "elif(number == 2):\n",
    "    print(\"It's Tuesday \")\n",
    "elif(number == 3):\n",
    "    print(\"It's Wednesday \")\n",
    "elif(number == 4):\n",
    "    print(\"It's Thursday \")\n",
    "elif(number == 5):\n",
    "    print(\"It's Friday \")\n",
    "elif(number == 6):\n",
    "    print(\"It's Saturday \")\n",
    "elif(number == 7):\n",
    "    print(\"It's Sunday \")"
   ]
  },
  {
   "cell_type": "raw",
   "id": "86fa531b-c3d7-4304-ba51-34e8dff4bd72",
   "metadata": {},
   "source": [
    "Q13:- Develop a program that calculates the factorial of a given number using recursion."
   ]
  },
  {
   "cell_type": "code",
   "execution_count": 84,
   "id": "947c9ab1-0eac-4a47-ba50-c2057bd1d51d",
   "metadata": {},
   "outputs": [],
   "source": [
    "def fact(n):\n",
    "    if n ==0:\n",
    "        return 1\n",
    "    else:\n",
    "        return n*fact(n-1)"
   ]
  },
  {
   "cell_type": "code",
   "execution_count": 85,
   "id": "cd27fde7-9a4a-40c7-872d-91695c8325da",
   "metadata": {},
   "outputs": [
    {
     "data": {
      "text/plain": [
       "120"
      ]
     },
     "execution_count": 85,
     "metadata": {},
     "output_type": "execute_result"
    }
   ],
   "source": [
    "fact(5)"
   ]
  },
  {
   "cell_type": "raw",
   "id": "834a31ed-d02a-4efd-a7e4-975d7a38ae56",
   "metadata": {},
   "source": [
    "Q14:- Write a program to find the largest among three numbers without using the `max()` function."
   ]
  },
  {
   "cell_type": "code",
   "execution_count": 86,
   "id": "6966468d-86a4-4eb8-8e96-3b67545412d9",
   "metadata": {},
   "outputs": [
    {
     "name": "stdin",
     "output_type": "stream",
     "text": [
      "Enter the first number:-  56\n",
      "Enter the second number:-  89\n",
      "Enter the third number:-  102\n"
     ]
    },
    {
     "name": "stdout",
     "output_type": "stream",
     "text": [
      "102 is the maximum number\n"
     ]
    }
   ],
   "source": [
    "num1 = int(input(\"Enter the first number:- \"))\n",
    "num2 = int(input(\"Enter the second number:- \"))\n",
    "num3 = int(input(\"Enter the third number:- \"))\n",
    "\n",
    "if num1>num2 and num1>num3:\n",
    "    print(num1, \"is the maximum number\")\n",
    "elif num2>num1 and num2>num3:\n",
    "    print(num2,\"is the maximum number\")\n",
    "else:\n",
    "    print(num3,\"is the maximum number\")"
   ]
  },
  {
   "cell_type": "raw",
   "id": "727a7e3c-57ef-4f2a-ad10-6188c6138579",
   "metadata": {},
   "source": [
    "Q15:- Create a program that simulates a basic ATM transaction menu."
   ]
  },
  {
   "cell_type": "code",
   "execution_count": 3,
   "id": "bb5b596d-bf7b-4e02-b9d3-c89e7535fad5",
   "metadata": {},
   "outputs": [
    {
     "name": "stdout",
     "output_type": "stream",
     "text": [
      "***********************WELCOME TO THE ATM*****************\n"
     ]
    },
    {
     "name": "stdin",
     "output_type": "stream",
     "text": [
      "Press Enter Key to proceed with further transaction  \n"
     ]
    },
    {
     "name": "stdout",
     "output_type": "stream",
     "text": [
      "\n",
      "Please insert your Debit card in the ATM Machine\n"
     ]
    },
    {
     "name": "stdin",
     "output_type": "stream",
     "text": [
      "Enter your PIN:-  9268\n"
     ]
    },
    {
     "name": "stdout",
     "output_type": "stream",
     "text": [
      "9268\n",
      "1.Cash Withdrawal.    2.PIN generation     3.PIN change\n"
     ]
    },
    {
     "name": "stdin",
     "output_type": "stream",
     "text": [
      "Enter 1,2,3 option:-  1\n"
     ]
    },
    {
     "name": "stdout",
     "output_type": "stream",
     "text": [
      "You have choose Cash Withdrawal, select bank account\n"
     ]
    },
    {
     "name": "stdin",
     "output_type": "stream",
     "text": [
      "1. saving account   2.current account 1\n",
      "Enter the amount:- 300\n"
     ]
    },
    {
     "name": "stdout",
     "output_type": "stream",
     "text": [
      "You have withdrawal 300\n",
      "Now your balance is  119700\n"
     ]
    }
   ],
   "source": [
    "print(\"***********************WELCOME TO THE ATM*****************\")\n",
    "print(input(\"Press Enter Key to proceed with further transaction \"))\n",
    "print(\"Please insert your Debit card in the ATM Machine\")\n",
    "print(input(\"Enter your PIN:- \"))\n",
    "print(\"1.Cash Withdrawal.    2.PIN generation     3.PIN change\")\n",
    "\n",
    "user_input = input(\"Enter 1,2,3 option:- \")\n",
    "balance = 120000\n",
    "if user_input == \"1\":\n",
    "    print(\"You have choose Cash Withdrawal, select bank account\")\n",
    "elif user_input ==\"2\":\n",
    "    print(\"You have choose PIN generation option.\")\n",
    "else:\n",
    "    print(\"You have choose PIN change\")\n",
    "bank =int( input(\"1. saving account   2.current account\"))\n",
    "if bank == 1:\n",
    "    amount = int(input(\"Enter the amount:-\"))\n",
    "    balance = balance - amount\n",
    "    print(\"You have withdrawal\",amount)\n",
    "    print(\"Now your balance is \",balance)\n",
    "elif bank == 1:\n",
    "    amount = int(input(\"Enter the amount:-\"))\n",
    "    \n",
    "    \n",
    "    \n",
    "    balance = balance - amount\n",
    "    print(\"You have withdrawal\",amount)\n",
    "    print(\"Now your balance is \",balance)\n"
   ]
  },
  {
   "cell_type": "raw",
   "id": "99077cd3-3b29-4838-a38d-4ecd18d901f7",
   "metadata": {},
   "source": [
    "Q16:- Build a program that checks if a given string is a palindrome or not."
   ]
  },
  {
   "cell_type": "code",
   "execution_count": 88,
   "id": "fcfb79e7-e117-44bb-8607-fa343174d4d3",
   "metadata": {},
   "outputs": [
    {
     "name": "stdin",
     "output_type": "stream",
     "text": [
      "Enter any string:-  civic\n"
     ]
    },
    {
     "name": "stdout",
     "output_type": "stream",
     "text": [
      "civic is a palindrome string \n"
     ]
    }
   ],
   "source": [
    "string = str(input(\"Enter any string:- \"))\n",
    "if string == string[::-1]:\n",
    "    print(string,\"is a palindrome string \")\n",
    "else:\n",
    "    print(string,\"it is not a palindrome string\")"
   ]
  },
  {
   "cell_type": "raw",
   "id": "aad6b600-1630-4347-865c-27b66e884339",
   "metadata": {},
   "source": [
    "Q17:- Write a program that calculates the average of a list of numbers, excluding the smallest and largest values."
   ]
  },
  {
   "cell_type": "code",
   "execution_count": 1,
   "id": "c85e893b-3852-4d5b-9eff-2aae2eee9c23",
   "metadata": {},
   "outputs": [
    {
     "name": "stdout",
     "output_type": "stream",
     "text": [
      "The average of a list of numbers, excluding the smallest and largest value is:- 9.333333333333334\n"
     ]
    }
   ],
   "source": [
    "l1 = [45,1645,54,56,6,4,2,4,5,6,1,2,8,9]\n",
    "count= 0\n",
    "l1.sort()\n",
    "l1.remove(l1[0])\n",
    "l1.remove(l1[-1])\n",
    "for i in l1:\n",
    "    i = i+i\n",
    "    count += 1\n",
    "    \n",
    "print(\"The average of a list of numbers, excluding the smallest and largest value is:-\",i/count)"
   ]
  },
  {
   "cell_type": "raw",
   "id": "eb2e4413-1f77-4fef-b2d7-274aa8763f1a",
   "metadata": {},
   "source": [
    "Q18:- Develop a program that converts a given temperature from Celsius to Fahrenheit."
   ]
  },
  {
   "cell_type": "code",
   "execution_count": 101,
   "id": "0d433491-cfe5-4605-9ceb-82540df9c2a7",
   "metadata": {},
   "outputs": [
    {
     "name": "stdin",
     "output_type": "stream",
     "text": [
      "enter the temperature in celsius:  56\n"
     ]
    },
    {
     "name": "stdout",
     "output_type": "stream",
     "text": [
      "132.8 Fahrenheits\n"
     ]
    }
   ],
   "source": [
    "c = int(input(\"enter the temperature in celsius: \"))\n",
    "f = 1.8*c+32\n",
    "\n",
    "print(f,\"Fahrenheits\")"
   ]
  },
  {
   "cell_type": "raw",
   "id": "078fe038-5830-484b-b306-ed8ae5432225",
   "metadata": {},
   "source": [
    "Q19:- Create a program that simulates a basic calculator for addition, subtraction, multiplication, and division."
   ]
  },
  {
   "cell_type": "code",
   "execution_count": 3,
   "id": "962f9043-6773-47f0-92ff-669cf6f66c12",
   "metadata": {},
   "outputs": [
    {
     "name": "stdout",
     "output_type": "stream",
     "text": [
      "*******************************calculator********************************\n"
     ]
    },
    {
     "name": "stdin",
     "output_type": "stream",
     "text": [
      "Enter a operation to perform operations such as:- 1.Addition 2.Subtraction 3.Multiplication  4.Division 3\n",
      "Enter a number here:-  5\n",
      "Enter a number here:-  2\n"
     ]
    },
    {
     "name": "stdout",
     "output_type": "stream",
     "text": [
      "You have selected Multiplication and your answer is:- 10\n"
     ]
    }
   ],
   "source": [
    "print(\"*******************************calculator********************************\")\n",
    "user_input= input(\"Enter a operation to perform operations such as:- 1.Addition 2.Subtraction 3.Multiplication  4.Division\")\n",
    "a = int(input(\"Enter a number here:- \"))\n",
    "b  = int(input(\"Enter a number here:- \"))\n",
    "if user_input == \"1\":\n",
    "    add = a+b\n",
    "    print(\"You have selected Addition operation and your answer is:-\",add)\n",
    "elif user_input ==\"2\":\n",
    "    sub = a-b\n",
    "    print(\"You have selected subtraction operation and your answer is:-\",sub)\n",
    "elif user_input == \"4\":\n",
    "    div = a/b\n",
    "    print(\"You have selected division operation and your answer is:-\",div)\n",
    "else:\n",
    "    mul = a*b\n",
    "    print(\"You have selected Multiplication and your answer is:-\",mul)"
   ]
  },
  {
   "cell_type": "raw",
   "id": "05431966-eba5-4678-b9c7-4776ca0da197",
   "metadata": {},
   "source": [
    "Q20:- Write a program that determines the roots of a cubic equation using the Cardano formula."
   ]
  },
  {
   "cell_type": "code",
   "execution_count": 8,
   "id": "162303f4-5258-4a51-8fc9-c9e4dfaf2782",
   "metadata": {},
   "outputs": [
    {
     "name": "stdin",
     "output_type": "stream",
     "text": [
      "Enter a, b , c , d value with spaces separated  5 3 1 1\n"
     ]
    },
    {
     "name": "stdout",
     "output_type": "stream",
     "text": [
      "[5, 3, 1, 1]\n",
      "The roots of a cubic equations are:- [-0.71294744+0.j          0.05647372+0.52662729j  0.05647372-0.52662729j]\n"
     ]
    }
   ],
   "source": [
    "import numpy as np\n",
    "#consider a equation in the form of ax^3 + bx^2 + cx + d = 0,\n",
    "#eg:- 5x^3+3x^2+x+1\n",
    "user_roots = input(\"Enter a, b , c , d value with spaces separated \")\n",
    "\n",
    "user_roots = [int(i) for i in user_roots.split()]\n",
    "print(user_roots)\n",
    "\n",
    "roots = np.roots(user_roots)\n",
    "print(\"The roots of a cubic equations are:-\",roots)"
   ]
  },
  {
   "cell_type": "raw",
   "id": "c130959c-e624-45cc-b596-202950a925ba",
   "metadata": {},
   "source": [
    "Advanced Level:\n",
    "\n",
    " \n",
    "\n",
    "Q21:- Create a program that calculates the income tax based on the user's income and tax brackets."
   ]
  },
  {
   "cell_type": "code",
   "execution_count": 1,
   "id": "55d5494b-9957-4d27-a512-e05410bbc880",
   "metadata": {},
   "outputs": [
    {
     "name": "stdin",
     "output_type": "stream",
     "text": [
      "Enter your Income here:-  15000000\n"
     ]
    },
    {
     "name": "stdout",
     "output_type": "stream",
     "text": [
      "Income Tax rate 30%,total payable tax is:- 4687500.0\n"
     ]
    }
   ],
   "source": [
    "#AMOUNT                             INCOME TAX RATE\n",
    "#Up to ₹2,50,000                     0%\n",
    "#₹2,50,001 – ₹5,00,000           5% above ₹2,50,000\n",
    "#₹5,00,001 – ₹7,50,000           10% above ₹5,00,000 + ₹12,500\n",
    "#₹7,50,001 – ₹10,00,000         15% above ₹7,50,000 + ₹37,500\n",
    "#₹10,00,001 – ₹12,50,000       20% above ₹10,00,000 + ₹75,000\n",
    "#₹12,50,001 – ₹15,00,000       25% above ₹12,50,000 + ₹1,25,000\n",
    "#Above ₹15,00,001                  30% above ₹15,00,000 + ₹1,87,500\n",
    "\n",
    "amount = int(input(\"Enter your Income here:- \"))\n",
    "if (amount<250000):\n",
    "    print(\"Income Tax rate 0%\")\n",
    "elif(250001<amount<500000):\n",
    "    amount = amount*0.05 \n",
    "    print(\"Income Tax rate 5%,total payable tax is:-\" ,amount)\n",
    "elif(500001<amount<750000):\n",
    "    amount = amount*0.1 +12500\n",
    "    print(\"Income Tax rate 10%,total payable tax is:-\" ,amount)\n",
    "elif(750001<amount<1000000):\n",
    "    amount = amount*0.15+37500\n",
    "    print(\"Income Tax rate 15%,total payable tax is:-\" ,amount)\n",
    "elif(1000001<amount<1250000):\n",
    "    amount = amount*0.2+75000\n",
    "    print(\"Income tax rate 20%, total payable tax is:-\",amount)\n",
    "elif(1250001<amount<1500000):\n",
    "    amount = amount*0.25+125000\n",
    "    print(\"Income Tax rate 25%,total payable tax is:-\" ,amount)\n",
    "else:\n",
    "    amount = amount*0.3+187500\n",
    "    print(\"Income Tax rate 30%,total payable tax is:-\",amount)"
   ]
  },
  {
   "cell_type": "raw",
   "id": "af40c540-fa74-4061-bc51-392ebf3eb73d",
   "metadata": {},
   "source": [
    "Q22:- Write a program that simulates a rock-paper-scissors game against the computer."
   ]
  },
  {
   "cell_type": "code",
   "execution_count": 36,
   "id": "26e19901-de41-4407-9c96-fe7d882918a5",
   "metadata": {},
   "outputs": [
    {
     "name": "stdin",
     "output_type": "stream",
     "text": [
      "chose rock, paper, scissors:-  rock\n"
     ]
    },
    {
     "name": "stdout",
     "output_type": "stream",
     "text": [
      "your choice:-  rock\n",
      "Computer choice:- rock\n",
      "both player selectedrock.It's a tie.........\n"
     ]
    }
   ],
   "source": [
    "import random \n",
    "user_action = input(\"chose rock, paper, scissors:- \")\n",
    "print(\"your choice:- \",user_action)\n",
    "\n",
    "possible_action = [\"rock\",\"paper\",\"scissors\"]\n",
    "computer_action = random.choice(possible_action)\n",
    "print(\"Computer choice:-\",computer_action)\n",
    "if user_action == computer_action: \n",
    "    print(f\"both player selected{user_action}.It's a tie.........\")\n",
    "elif user_action == \"rock\":\n",
    "    if computer_action == \"scissor\":\n",
    "        print(\"Rock samashes scissor! You win!!\")\n",
    "    else:\n",
    "        print(\"Paper covers the rock!, You lose!!\")\n",
    "elif user_action == \"paper\":\n",
    "    if computer_action == \"rock\":\n",
    "        print(\"paper cover rock!, you win!!\")\n",
    "    else:\n",
    "        print(\"scissors cuts paper!, you lose!!\")\n",
    "elif user_action == \"scissors\":\n",
    "    if compter_action == \"paper\":\n",
    "        print(\"scissors cut paper!, you lose!!\")\n",
    "    else:\n",
    "        print(\"Rock smashes scissor!, You win!!\")"
   ]
  },
  {
   "cell_type": "raw",
   "id": "1e35b0f0-8217-4343-acfd-9eadfa729a27",
   "metadata": {},
   "source": [
    "Q23. Develop a program that generates a random password based on user preferences (length, complexity)."
   ]
  },
  {
   "cell_type": "code",
   "execution_count": 46,
   "id": "b1bae2ba-a8cb-4bbb-8225-efa719e3885f",
   "metadata": {},
   "outputs": [
    {
     "name": "stdin",
     "output_type": "stream",
     "text": [
      "Enter the length fof generating the password:-  10\n"
     ]
    },
    {
     "name": "stdout",
     "output_type": "stream",
     "text": [
      "qsRlWvNgIa\n"
     ]
    }
   ],
   "source": [
    "import random \n",
    "n = int(input(\"Enter the length fof generating the password:- \"))\n",
    "password = ''\n",
    "\n",
    "characters = \"abcdefghijklmnopqrstuvwxyzABCDEFGHIJKLMNOPQRSTUVWXYZ\"\n",
    "for i in range(n):\n",
    "    chosenletters= random.sample(characters,n) # I  have use random.sample to use unique characters.  \n",
    "    password = \"\".join(chosenletters)\n",
    "print(password)\n"
   ]
  },
  {
   "cell_type": "raw",
   "id": "891a84e4-28b4-4af7-ae52-5c2a47362950",
   "metadata": {},
   "source": [
    "Q24:- Create a program that implements a simple text-based adventure game with branching scenarios."
   ]
  },
  {
   "cell_type": "code",
   "execution_count": null,
   "id": "7733fdf1-f6cd-4cdc-8122-b2b2c7a3434c",
   "metadata": {},
   "outputs": [],
   "source": []
  },
  {
   "cell_type": "raw",
   "id": "0cb5bed3-e409-49db-87c5-d33a5a321ad7",
   "metadata": {},
   "source": [
    "Q25:- Build a program that solves a linear equation  for x, considering different cases."
   ]
  },
  {
   "cell_type": "code",
   "execution_count": null,
   "id": "4be24f3f-08b2-443c-ab89-d051ba7ea88e",
   "metadata": {},
   "outputs": [],
   "source": [
    "# for Example :-x+y =1\n",
    "# x-y =1"
   ]
  },
  {
   "cell_type": "raw",
   "id": "88e2bda1-06e3-44a5-aa02-b9dfe047770f",
   "metadata": {},
   "source": [
    "Q26:- Write a program that simulates a basic quiz game with multiple-choice questions and scoring."
   ]
  },
  {
   "cell_type": "code",
   "execution_count": 61,
   "id": "75e04c47-bc63-4890-9956-0bb123daf670",
   "metadata": {},
   "outputs": [
    {
     "name": "stdout",
     "output_type": "stream",
     "text": [
      "Wellcome to quiz game !!\n",
      "NOTE: if your spelling is incorrect then it is considered as wrong answer\n"
     ]
    },
    {
     "name": "stdin",
     "output_type": "stream",
     "text": [
      "Do you want to play ?  yes\n",
      "\n",
      "1. what does CPU stand for?  central processing unit\n"
     ]
    },
    {
     "name": "stdout",
     "output_type": "stream",
     "text": [
      "correct! you got 1 point\n"
     ]
    },
    {
     "name": "stdin",
     "output_type": "stream",
     "text": [
      "\n",
      "2. what does GPU stand for?  graphics processing unit\n"
     ]
    },
    {
     "name": "stdout",
     "output_type": "stream",
     "text": [
      "correct! you got 1 point\n"
     ]
    },
    {
     "name": "stdin",
     "output_type": "stream",
     "text": [
      "\n",
      "3. what does RAM stand for?  random access memory\n"
     ]
    },
    {
     "name": "stdout",
     "output_type": "stream",
     "text": [
      "correct! you got 1 point\n"
     ]
    },
    {
     "name": "stdin",
     "output_type": "stream",
     "text": [
      "\n",
      "4. what does PSU stand for?  power supply unit\n"
     ]
    },
    {
     "name": "stdout",
     "output_type": "stream",
     "text": [
      "correct! you got 1 point\n"
     ]
    },
    {
     "name": "stdin",
     "output_type": "stream",
     "text": [
      "\n",
      "5. what does ROM stand for?  random access memory\n"
     ]
    },
    {
     "name": "stdout",
     "output_type": "stream",
     "text": [
      "Incorrect!\n",
      "current answer is --> read only memory\n",
      "\n",
      "number of question is 5\n",
      "your score is 4\n",
      "80.0% questions are correct.\n"
     ]
    }
   ],
   "source": [
    "print(\"Wellcome to quiz game !!\")\n",
    "print('NOTE: if your spelling is incorrect then it is considered as wrong answer')\n",
    "score = 0\n",
    "question_no = 0\n",
    "playing = input('Do you want to play ? ').lower()\n",
    "if playing == 'yes':\n",
    "    question_no += 1\n",
    "    ques = input(f'\\n{question_no}. what does CPU stand for? ').lower()\n",
    "    if ques == 'central processing unit':\n",
    "        score +=1\n",
    "        print('correct! you got 1 point')\n",
    "        \n",
    "    else:\n",
    "        print('Incorrect!')\n",
    "        print(f'current answer is --> central processing unit')\n",
    "\n",
    "# ------1\n",
    "    question_no += 1\n",
    "    ques = input(f'\\n{question_no}. what does GPU stand for? ').lower()\n",
    "    \n",
    "    if ques == 'graphics processing unit':\n",
    "        score +=1\n",
    "        print('correct! you got 1 point')\n",
    "        \n",
    "    else:\n",
    "        print('Incorrect!')\n",
    "        print(f'current answer is --> graphics processing unit')\n",
    "\n",
    "# -----2\n",
    "    question_no += 1\n",
    "    ques = input(f'\\n{question_no}. what does RAM stand for? ').lower()\n",
    "    \n",
    "    if ques == 'random access memory':\n",
    "        score +=1\n",
    "        print('correct! you got 1 point')\n",
    "        \n",
    "    else:\n",
    "        print('Incorrect!')\n",
    "        print(f'current answer is --> random access memory')\n",
    "\n",
    "# -----3\n",
    "    question_no += 1\n",
    "    ques = input(f'\\n{question_no}. what does PSU stand for? ').lower()\n",
    "    \n",
    "    if ques == 'power supply unit':\n",
    "        score +=1\n",
    "        print('correct! you got 1 point')\n",
    "        \n",
    "    else:\n",
    "        print('Incorrect!')\n",
    "        print(f'current answer is --> power supply unit')\n",
    "\n",
    "\n",
    "# -----4\n",
    "    question_no += 1\n",
    "    ques = input(f'\\n{question_no}. what does ROM stand for? ').lower()\n",
    "    \n",
    "    if ques == 'read only memory':\n",
    "        score +=1\n",
    "        print('correct! you got 1 point')\n",
    "        \n",
    "    else:\n",
    "        print('Incorrect!')\n",
    "        print(f'current answer is --> read only memory')\n",
    "\n",
    "\n",
    "# ------5 \n",
    "\n",
    "else:\n",
    "    print('thankyou you are out of a game.')\n",
    "    quit()\n",
    "\n",
    "print(f'\\nnumber of question is {question_no}')\n",
    "print(f'your score is {score}')\n",
    "try:\n",
    "    percentage = (score *100)/question_no\n",
    "except ZeroDivisionError:\n",
    "    print('0% quetions are correct')\n",
    "\n",
    "print(f'{percentage}% questions are correct.')"
   ]
  },
  {
   "cell_type": "raw",
   "id": "a516bb73-eda4-4942-b2a5-87eb95b37d65",
   "metadata": {},
   "source": [
    "Q27:- Develop a program that determines whether a given year is a prime number or not."
   ]
  },
  {
   "cell_type": "code",
   "execution_count": 107,
   "id": "42ecc18c-2b75-4ece-8be5-76dd58ea4433",
   "metadata": {},
   "outputs": [
    {
     "name": "stdin",
     "output_type": "stream",
     "text": [
      "Enter a number to find it's a prime number or not:-  2003\n"
     ]
    },
    {
     "name": "stdout",
     "output_type": "stream",
     "text": [
      "Yes it is a prime number \n"
     ]
    }
   ],
   "source": [
    "year = int(input(\"Enter a number to find it's a prime number or not:- \"))\n",
    "if year%2 !=0:\n",
    "    print(\"Yes it is a prime number \")\n",
    "else:\n",
    "    print(\"It is not a prime number \")"
   ]
  },
  {
   "cell_type": "raw",
   "id": "c1ebb046-5415-4472-8558-a6b959a0333d",
   "metadata": {},
   "source": [
    "Q28:- Create a program that sorts three numbers in ascending order using conditional statements."
   ]
  },
  {
   "cell_type": "code",
   "execution_count": null,
   "id": "25c42b41-50a0-4668-814d-510a4f56c9aa",
   "metadata": {},
   "outputs": [],
   "source": [
    "num1 = int(input(\"Enter the first number:- \"))\n",
    "num2 = int(input(\"Enter the second number:- \"))\n",
    "num3 = int(input(\"Enter the third number:- \"))\n",
    "l1 = []\n",
    "if num1>=0:\n",
    "    l1.append(num1)\n",
    "elif num2>=0:\n",
    "    l1.append(num2)\n",
    "elif  num3>=0:\n",
    "    l1.append(num3)\n",
    "print(l1)"
   ]
  },
  {
   "cell_type": "raw",
   "id": "57348f01-5a6c-4a9f-bf63-702ecad28506",
   "metadata": {},
   "source": [
    "Q29:- Build a program that determines the roots of a quartic equation using numerical methods."
   ]
  },
  {
   "cell_type": "code",
   "execution_count": 4,
   "id": "8c57af8f-d864-4e0a-87de-c4f0654c84b8",
   "metadata": {},
   "outputs": [
    {
     "name": "stdin",
     "output_type": "stream",
     "text": [
      "Enter a coefficient of the eqaution space separated 1 -45 324\n"
     ]
    },
    {
     "name": "stdout",
     "output_type": "stream",
     "text": [
      "Entered coefficients are:- [1, -45, 324]\n",
      "The roots of a quadratic equation are:- [36.  9.]\n"
     ]
    }
   ],
   "source": [
    "import numpy as np\n",
    "# considering a quadratic equation for example:-  x^2 – 45x + 324 = 0\n",
    "user_input= input(\"Enter a coefficient of the eqaution space separated\")\n",
    "user_input = [int(i) for i in user_input.split()]\n",
    "print(\"Entered coefficients are:-\",user_input)\n",
    "\n",
    "user_input = np.roots(user_input)\n",
    "print(\"The roots of a quadratic equation are:-\",user_input)"
   ]
  },
  {
   "cell_type": "raw",
   "id": "422f3ca5-7ce0-4800-abc7-5f522ae3af98",
   "metadata": {},
   "source": [
    "Q30:- Write a program that calculates the BMI (Body Mass Index) and provides health recommendations based\n",
    "on the user's input."
   ]
  },
  {
   "cell_type": "code",
   "execution_count": 10,
   "id": "fb124991-acb2-4324-a4f5-f0baf57ab281",
   "metadata": {},
   "outputs": [
    {
     "name": "stdin",
     "output_type": "stream",
     "text": [
      "Enter your Weight in Kg:-  75\n",
      "Enter your height in m:-  1.75\n"
     ]
    },
    {
     "name": "stdout",
     "output_type": "stream",
     "text": [
      "Your BMI is :-  24.489795918367346\n",
      "You are Healthy Weight, you are just fine\n"
     ]
    }
   ],
   "source": [
    "weight = float(input(\"Enter your Weight in Kg:- \"))\n",
    "height = float(input(\"Enter your height in m:- \"))\n",
    "\n",
    "height = height**2\n",
    "BMI = weight/height\n",
    "print(\"Your BMI is :- \",BMI)\n",
    "\n",
    "if BMI<18.5:\n",
    "    print(\"You are Underweight, Recommends you to eat a surplus diet\")\n",
    "elif 18.5<=BMI<=24.5:\n",
    "    print(\"You are Healthy Weight, you are just fine\")\n",
    "elif 25.0<=BMI<=29.9:\n",
    "    print(\"you are overweight, You should taka a balanced-calorie-contolled diet\")\n",
    "else:\n",
    "    print(\"You are obese, You should do high intensity workout\")"
   ]
  },
  {
   "cell_type": "raw",
   "id": "59fbfeb6-6093-4670-b7e5-dc8093b360f2",
   "metadata": {},
   "source": [
    "Challenge Level:\n",
    "\n",
    " \n",
    "\n",
    "Q31:- Create a program that validates a password based on complexity rules (length, characters, etc.)."
   ]
  },
  {
   "cell_type": "code",
   "execution_count": null,
   "id": "d55b69e2-932d-4077-913d-0528a999ab23",
   "metadata": {},
   "outputs": [],
   "source": [
    "password = str(input(\"Enter a password:- \"))\n",
    "length = len(password)\n",
    "\n",
    "if length<8 and \n",
    "    print(\"Password is too short\")\n",
    "    "
   ]
  },
  {
   "cell_type": "raw",
   "id": "34fbe7c1-8259-468a-9201-c2a073eee05a",
   "metadata": {},
   "source": [
    "Q32:- Develop a program that performs matrix addition and subtraction based on user input."
   ]
  },
  {
   "cell_type": "code",
   "execution_count": 4,
   "id": "72e901ff-f1ae-488a-89be-0dd7f29a5c6c",
   "metadata": {},
   "outputs": [
    {
     "name": "stdin",
     "output_type": "stream",
     "text": [
      "Enter the size of the matrix A:-  1\n",
      "Enter the values:-  2\n"
     ]
    },
    {
     "name": "stdout",
     "output_type": "stream",
     "text": [
      "Matrix A:- [[2]]\n"
     ]
    },
    {
     "name": "stdin",
     "output_type": "stream",
     "text": [
      "Enter the size of the matrix B:-  1\n",
      "Enter the values:-  2\n"
     ]
    },
    {
     "name": "stdout",
     "output_type": "stream",
     "text": [
      "Matrix B:- [[2]]\n"
     ]
    },
    {
     "name": "stdin",
     "output_type": "stream",
     "text": [
      "choose the operation 1 for Addition and 2 for subtraction:-  1\n"
     ]
    },
    {
     "name": "stdout",
     "output_type": "stream",
     "text": [
      "The added matrix is here:- [[4]]\n"
     ]
    }
   ],
   "source": [
    "import numpy as np\n",
    "a = []\n",
    "n = int(input(\"Enter the size of the matrix A:- \"))\n",
    "for i in range(n):\n",
    "    na = []\n",
    "    for j in range(n):\n",
    "        v = int(input(\"Enter the values:- \"))\n",
    "        na.append(v)\n",
    "    a.append(na)\n",
    "print(\"Matrix A:-\",a)\n",
    "\n",
    "b = []\n",
    "d= int(input(\"Enter the size of the matrix B:- \"))\n",
    "for k in range(d):\n",
    "    nb = []\n",
    "    for l in range(d):\n",
    "        vi = int(input(\"Enter the values:- \"))\n",
    "        nb.append(vi)\n",
    "    b.append(na)\n",
    "print(\"Matrix B:-\",b)\n",
    "\n",
    "A = np.array(a)\n",
    "B = np.array(b)\n",
    "enter = int(input(\"choose the operation 1 for Addition and 2 for subtraction:- \"))\n",
    "if enter == 1:\n",
    "    add = np.add(A,B)\n",
    "    print(\"The added matrix is here:-\",add)\n",
    "else:\n",
    "    sub = np.subtract(A,B)\n",
    "    print(\"The subtracted matrix is:-\",sub)"
   ]
  },
  {
   "cell_type": "raw",
   "id": "f3269184-0385-4e34-a3c7-c4ab4d37370d",
   "metadata": {},
   "source": [
    "Q33:- Write a program that calculates the greatest common divisor (GCD) of two numbers using the Euclidean\n",
    "algorithm."
   ]
  },
  {
   "cell_type": "code",
   "execution_count": 35,
   "id": "de1ae10a-41c8-4b58-9b91-0558fcb46b65",
   "metadata": {},
   "outputs": [
    {
     "name": "stdin",
     "output_type": "stream",
     "text": [
      "Enter the first number:-  48\n",
      "Enter the second number:-  60\n"
     ]
    },
    {
     "name": "stdout",
     "output_type": "stream",
     "text": [
      "The GCD of 48 and 60 is:-12\n"
     ]
    }
   ],
   "source": [
    "import math\n",
    "\n",
    "a = int(input(\"Enter the first number:- \"))\n",
    "b = int(input(\"Enter the second number:- \"))\n",
    "\n",
    "print(f\"The GCD of {a} and {b} is:-\",end = \"\")\n",
    "print(math.gcd(a,b))"
   ]
  },
  {
   "cell_type": "raw",
   "id": "0efc58ba-f6c3-45e4-af65-6a4e7ba7d89f",
   "metadata": {},
   "source": [
    "Q34:- Build a program that performs matrix multiplication using nested loops and conditional statements."
   ]
  },
  {
   "cell_type": "code",
   "execution_count": null,
   "id": "58bfc4f8-de40-4f9a-99e6-4150f1102c17",
   "metadata": {},
   "outputs": [],
   "source": [
    "import numpy as np\n",
    "a = []\n",
    "n = int(input(\"Enter the size of the matrix A:- \"))\n",
    "for i in range(n):\n",
    "    na = []\n",
    "    for j in range(n):\n",
    "        v = int(input(\"Enter the values:- \"))\n",
    "        na.append(v)\n",
    "    a.append(na)\n",
    "print(\"Matrix A:-\",a)\n",
    "\n",
    "b = []\n",
    "d= int(input(\"Enter the size of the matrix B:- \"))\n",
    "for k in range(d):\n",
    "    nb = []\n",
    "    for l in range(d):\n",
    "        vi = int(input(\"Enter the values:- \"))\n",
    "        nb.append(vi)\n",
    "    b.append(na)\n",
    "print(\"Matrix B:-\",b)\n",
    "\n",
    "A = np.array(a)\n",
    "B = np.array(b)\n",
    "enter = int(input(\"choose the operation 1 for Multiplication:- \"))\n",
    "if enter == 1:\n",
    "    Mul = np.multiply(A,B)\n",
    "    print(\"The Multiplied matrix is here:-\",Mul)\n",
    "else:\n",
    "    print(\"Enter wrong operation\")"
   ]
  },
  {
   "cell_type": "raw",
   "id": "81d12c94-927d-4b4a-bfeb-e6582c23b0e4",
   "metadata": {},
   "source": [
    "Q35:- Create a program that simulates a basic text-based tic-tac-toe game against the computer."
   ]
  },
  {
   "cell_type": "raw",
   "id": "12febc02-cda6-4e72-9f2b-81c5c86205a7",
   "metadata": {},
   "source": [
    "Q36:- Write a program that generates Fibonacci numbers up to a specified term using iterative methods."
   ]
  },
  {
   "cell_type": "code",
   "execution_count": 17,
   "id": "79ce318f-39d4-4bf1-b449-53fa3e6002df",
   "metadata": {},
   "outputs": [
    {
     "name": "stdin",
     "output_type": "stream",
     "text": [
      "Enter the specified term for Fibonacci numbers:-  5\n"
     ]
    },
    {
     "name": "stdout",
     "output_type": "stream",
     "text": [
      "1\n",
      "2\n",
      "3\n",
      "4\n",
      "5\n"
     ]
    }
   ],
   "source": [
    "# 0, 1, 1, 2, 3, 5, 8, 13, 21, 34, 55, 89, 144, 233, 377.\n",
    "n = int(input(\"Enter the specified term for Fibonacci numbers:- \"))\n",
    "a = 1\n",
    "for i in range(n):\n",
    "    i = i+1\n",
    "    print(i)"
   ]
  },
  {
   "cell_type": "raw",
   "id": "7d037fa2-8b21-4530-867f-fd7f73a61071",
   "metadata": {},
   "source": [
    "Q37:- Develop a program that calculates the nth term of the Fibonacci sequence using memoization."
   ]
  },
  {
   "cell_type": "code",
   "execution_count": 13,
   "id": "6144ddf1-6584-4d99-8e51-4b11d4f3bf01",
   "metadata": {},
   "outputs": [
    {
     "name": "stdout",
     "output_type": "stream",
     "text": [
      "0\n",
      "1\n",
      "1\n",
      "2\n",
      "3\n",
      "5\n",
      "8\n",
      "13\n",
      "21\n",
      "34\n",
      "55\n",
      "89\n"
     ]
    }
   ],
   "source": [
    "first= 0\n",
    "second = 1\n",
    "print(first)\n",
    "print(second)\n",
    "for i in range(0,10):\n",
    "    third = first+second\n",
    "    print(third)\n",
    "    first ,second =second,third"
   ]
  },
  {
   "cell_type": "raw",
   "id": "7a96bf6e-72c6-49d3-aee5-5b752151418a",
   "metadata": {},
   "source": [
    "Q38:- Create a program that generates a calendar for a given month and year using conditional statements."
   ]
  },
  {
   "cell_type": "code",
   "execution_count": 9,
   "id": "5c8d25e5-6dad-446d-82bd-323aee2e97dc",
   "metadata": {},
   "outputs": [
    {
     "name": "stdin",
     "output_type": "stream",
     "text": [
      "Enter the month:-  11\n",
      "Enter the year:-  2004\n"
     ]
    },
    {
     "name": "stdout",
     "output_type": "stream",
     "text": [
      "The calendar of:-    November 2004\n",
      "Mo Tu We Th Fr Sa Su\n",
      " 1  2  3  4  5  6  7\n",
      " 8  9 10 11 12 13 14\n",
      "15 16 17 18 19 20 21\n",
      "22 23 24 25 26 27 28\n",
      "29 30\n",
      "\n"
     ]
    }
   ],
   "source": [
    "import calendar\n",
    "month = int(input(\"Enter the month:- \"))\n",
    "year = int(input(\"Enter the year:- \"))\n",
    "print(\"The calendar of:-\",calendar.month(year,month))"
   ]
  },
  {
   "cell_type": "raw",
   "id": "16716e70-71f5-4d5d-b71b-13090107fe08",
   "metadata": {},
   "source": [
    "Q39:- Build a program that simulates a basic text-based blackjack game against the computer."
   ]
  },
  {
   "cell_type": "code",
   "execution_count": null,
   "id": "1d78968c-863b-4c82-8fd0-53c046668283",
   "metadata": {},
   "outputs": [],
   "source": []
  },
  {
   "cell_type": "raw",
   "id": "462462d3-4cc7-4f52-be72-4515de5676b1",
   "metadata": {},
   "source": [
    "Q40:- Write a program that generates the prime factors of a given number using trial division."
   ]
  },
  {
   "cell_type": "code",
   "execution_count": 60,
   "id": "0f2936e9-0a9e-4f63-8200-a7293b695ebf",
   "metadata": {},
   "outputs": [
    {
     "name": "stdin",
     "output_type": "stream",
     "text": [
      "Enter the number to generate its prime factors:-  2300\n"
     ]
    },
    {
     "name": "stdout",
     "output_type": "stream",
     "text": [
      "2\n",
      "2\n",
      "5\n",
      "5\n",
      "23\n"
     ]
    }
   ],
   "source": [
    "import math\n",
    "\n",
    "n = int(input(\"Enter the number to generate its prime factors:- \"))\n",
    "\n",
    "while n % 2 == 0:\n",
    "        print(2)\n",
    "        n = n // 2\n",
    "         \n",
    "for i in range(3,int(math.sqrt(n))+1,2):\n",
    "         \n",
    "    \n",
    "        while n % i== 0:\n",
    "            print(i)\n",
    "            n = n // i\n",
    "             \n",
    "    \n",
    "if n > 2:\n",
    "    print(\"The prime factor is \",n,end = \"\")\n",
    "         "
   ]
  },
  {
   "cell_type": "code",
   "execution_count": null,
   "id": "996016d1-0c21-4cf5-a5bb-492103738b91",
   "metadata": {},
   "outputs": [],
   "source": []
  }
 ],
 "metadata": {
  "kernelspec": {
   "display_name": "Python 3 (ipykernel)",
   "language": "python",
   "name": "python3"
  },
  "language_info": {
   "codemirror_mode": {
    "name": "ipython",
    "version": 3
   },
   "file_extension": ".py",
   "mimetype": "text/x-python",
   "name": "python",
   "nbconvert_exporter": "python",
   "pygments_lexer": "ipython3",
   "version": "3.10.8"
  }
 },
 "nbformat": 4,
 "nbformat_minor": 5
}
