{
 "cells": [
  {
   "cell_type": "markdown",
   "id": "c1a73c85-5a53-436e-810b-ade1d11aea9b",
   "metadata": {},
   "source": [
    "Recursion\n",
    "\n",
    "\n",
    "\n",
    "\n",
    "\n",
    "Assignment Questions:-"
   ]
  },
  {
   "cell_type": "markdown",
   "id": "48c1425f-c62f-4805-b886-46659ff2c59c",
   "metadata": {},
   "source": [
    "Q1:- Can you explain the logic and working of the Tower of Hanoi algorithm by writing a Python program?\n",
    "How does the recursion work, and how are the movements of disks between rods accomplished?"
   ]
  },
  {
   "cell_type": "code",
   "execution_count": 1,
   "id": "e71a2a42-e02f-482d-ba2d-2a1e88d0ba51",
   "metadata": {},
   "outputs": [
    {
     "name": "stdout",
     "output_type": "stream",
     "text": [
      "The moves are:\n",
      "Move disk 1 from rod A to rod C\n",
      "Move disk 2 from rod A to rod B\n",
      "Move disk 1 from rod C to rod B\n",
      "Move disk 3 from rod A to rod C\n",
      "Move disk 1 from rod B to rod A\n",
      "Move disk 2 from rod B to rod C\n",
      "Move disk 1 from rod A to rod C\n"
     ]
    }
   ],
   "source": [
    "def tower_of_hanoi(n, source, destination, auxiliary):\n",
    "    # Base case: \n",
    "    if n == 1:\n",
    "        print(f\"Move disk 1 from rod {source} to rod {destination}\")\n",
    "        return\n",
    "    \n",
    "    # Move n-1 disks from source to auxiliary\n",
    "    tower_of_hanoi(n - 1, source, auxiliary, destination)\n",
    "    \n",
    "    # Move the nth disk from source to destination\n",
    "    print(f\"Move disk {n} from rod {source} to rod {destination}\")\n",
    "    \n",
    "    # Move the n-1 disks from auxiliary to destination\n",
    "    tower_of_hanoi(n - 1, auxiliary, destination, source)\n",
    "\n",
    "#driver Code\n",
    "n = 3  # Number of disks\n",
    "print(\"The moves are:\")\n",
    "tower_of_hanoi(n, 'A', 'C', 'B')  # A is source, C is destination, B is auxiliary\n"
   ]
  },
  {
   "cell_type": "raw",
   "id": "19634607-6dd0-4317-9053-7f36851426f1",
   "metadata": {},
   "source": [
    "Q2:- Given two strings word1 and word2, return the minimum number of operations required to convert word1\n",
    "to word2.\n",
    "Example 1:\n",
    "Input: word1 = \"horse\", word2 = \"ros\"\n",
    "Output: 3\n",
    "Explanation:\n",
    "horse -> rorse (replace 'h' with 'r')\n",
    "rorse -> rose (remove 'r')\n",
    "rose -> ros (remove 'e')\n",
    "\n",
    "\n",
    "\n",
    "Example 2:\n",
    "Input: word1 = \"intention\", word2 = \"execution\"\n",
    "Output: 5\n",
    "Explanation:\n",
    "intention -> inention (remove 't')\n",
    "inention -> enention (replace 'i' with 'e')\n",
    "enention -> exention (replace 'n' with 'x')\n",
    "exention -> exection (replace 'n' with 'c')\n",
    "exection -> execution (insert 'u')"
   ]
  },
  {
   "cell_type": "code",
   "execution_count": null,
   "id": "d3c7bf1a-c300-4ca6-a2e4-e6c2fb12abfe",
   "metadata": {},
   "outputs": [],
   "source": []
  },
  {
   "cell_type": "raw",
   "id": "0826e874-424f-4215-9653-bc707cbb02c0",
   "metadata": {},
   "source": [
    "Q3:- Print the max value of the array [ 13, 1, -3, 22, 5]."
   ]
  },
  {
   "cell_type": "code",
   "execution_count": 3,
   "id": "f5460eb3-dffc-4548-8fb1-3643ecd9bd2a",
   "metadata": {},
   "outputs": [
    {
     "name": "stdout",
     "output_type": "stream",
     "text": [
      "22\n"
     ]
    }
   ],
   "source": [
    "\n",
    "array = [13, 1, -3, 22, 5]\n",
    "\n",
    "\n",
    "max_value = max(array)\n",
    "\n",
    "print(max_value)\n"
   ]
  },
  {
   "cell_type": "raw",
   "id": "2f3aeac0-2a44-4a8f-81da-2dac97cc4778",
   "metadata": {},
   "source": [
    "Q4:- Find the sum of the values of the array [92, 23, 15, -20, 10]."
   ]
  },
  {
   "cell_type": "code",
   "execution_count": 4,
   "id": "6fb7c75b-4373-412a-bb18-bffc844eb5f0",
   "metadata": {},
   "outputs": [
    {
     "name": "stdout",
     "output_type": "stream",
     "text": [
      "120\n"
     ]
    }
   ],
   "source": [
    "def calculate_sum(array):\n",
    "    total_sum = 0\n",
    "    for value in array:\n",
    "        total_sum += value\n",
    "    return total_sum\n",
    "\n",
    "# Driver Code \n",
    "array = [92, 23, 15, -20, 10]\n",
    "sum_of_array = calculate_sum(array)\n",
    "print(sum_of_array)"
   ]
  },
  {
   "cell_type": "raw",
   "id": "4987d7cb-5696-456d-a7aa-64313915cf55",
   "metadata": {},
   "source": [
    "Q5:- Given a number n. Print if it is an armstrong number or not.An armstrong number is a number if the sum\n",
    "of every digit in that number raised to the power of total digits in that number is equal to the number.\n",
    "\n",
    "\n",
    "Example : 153 = 1^3 + 5^3 + 3^3 = 1 + 125 + 27 = 153 hence 153 is an armstrong number. (Easy)\n",
    "Input1 : 153\n",
    "Output1 : Yes\n",
    "Input 2 : 134\n",
    "Output2 : No"
   ]
  },
  {
   "cell_type": "code",
   "execution_count": null,
   "id": "3b1ef6a3-57d4-4491-be15-328ed2dab110",
   "metadata": {},
   "outputs": [],
   "source": [
    "def is_armstrong_number(n):\n",
    "    digits = str(n)\n",
    "    num_digits = len(digits)\n",
    "    \n",
    "    sum_of_powers = sum(int(digit) ** num_digits for digit in digits)\n",
    "    \n",
    "    # Check if the sum is equal to the original number\n",
    "    if sum_of_powers == n:\n",
    "        return \"Yes\"\n",
    "    else:\n",
    "        return \"No\"\n",
    "\n",
    "# Driver Code \n",
    "n1 = 153\n",
    "n2 = 134\n",
    "\n",
    "print(f\"Input: {n1}, Output: {is_armstrong_number(n1)}\")\n",
    "print(f\"Input: {n2}, Output: {is_armstrong_number(n2)}\")"
   ]
  }
 ],
 "metadata": {
  "kernelspec": {
   "display_name": "Python 3 (ipykernel)",
   "language": "python",
   "name": "python3"
  },
  "language_info": {
   "codemirror_mode": {
    "name": "ipython",
    "version": 3
   },
   "file_extension": ".py",
   "mimetype": "text/x-python",
   "name": "python",
   "nbconvert_exporter": "python",
   "pygments_lexer": "ipython3",
   "version": "3.10.8"
  }
 },
 "nbformat": 4,
 "nbformat_minor": 5
}
