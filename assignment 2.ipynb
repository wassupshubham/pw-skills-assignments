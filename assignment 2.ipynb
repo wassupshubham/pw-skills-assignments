{
 "cells": [
  {
   "cell_type": "markdown",
   "id": "63e61d54-c537-427c-a37c-41e7714b1a59",
   "metadata": {},
   "source": [
    "TOPIC : STRING BASED ASSIGNMENT PROBLEM"
   ]
  },
  {
   "cell_type": "markdown",
   "id": "7537776c-d43e-4971-9809-5c5c92331f55",
   "metadata": {},
   "source": [
    "ques1) write a program to reverse a string."
   ]
  },
  {
   "cell_type": "code",
   "execution_count": 17,
   "id": "f9ee436d-cecd-41de-bbe4-f772d2f89add",
   "metadata": {},
   "outputs": [
    {
     "name": "stdin",
     "output_type": "stream",
     "text": [
      "enter ur string: wassup man\n"
     ]
    },
    {
     "name": "stdout",
     "output_type": "stream",
     "text": [
      "reverse of the string : nam pussaw\n"
     ]
    }
   ],
   "source": [
    "string = input(\"enter ur string:\")\n",
    "reverse = string[::-1]\n",
    "print(\"reverse of the string :\",reverse)"
   ]
  },
  {
   "cell_type": "markdown",
   "id": "c7239f20-6408-4142-beaf-00256df5f2a3",
   "metadata": {},
   "source": [
    "ques2) check if a string is palindrome."
   ]
  },
  {
   "cell_type": "code",
   "execution_count": 18,
   "id": "1f053dc7-f680-4a38-918b-cf3c68535a18",
   "metadata": {},
   "outputs": [
    {
     "name": "stdin",
     "output_type": "stream",
     "text": [
      "enter ur string: maam\n"
     ]
    },
    {
     "name": "stdout",
     "output_type": "stream",
     "text": [
      "yes\n"
     ]
    }
   ],
   "source": [
    "string2 = input(\"enter ur string:\")\n",
    "palindrome = string2[::-1]\n",
    "if palindrome == string2:\n",
    "    print(\"yes\")\n",
    "else:\n",
    "    print(\"no\")\n",
    "\n"
   ]
  },
  {
   "cell_type": "markdown",
   "id": "ad219708-4f7c-4dd2-9cdc-49dea6a179d0",
   "metadata": {},
   "source": [
    "ques3) convert a string in upper case."
   ]
  },
  {
   "cell_type": "code",
   "execution_count": 14,
   "id": "a39519a2-76a5-4ff2-90b7-fe09ba72ef6e",
   "metadata": {},
   "outputs": [
    {
     "name": "stdin",
     "output_type": "stream",
     "text": [
      "enter ur string: shubham\n"
     ]
    },
    {
     "name": "stdout",
     "output_type": "stream",
     "text": [
      "string in upper case: SHUBHAM\n"
     ]
    }
   ],
   "source": [
    "string3 = input(\"enter ur string:\")\n",
    "string3 = string3.upper()\n",
    "print(\"string in upper case:\",string3)"
   ]
  },
  {
   "cell_type": "markdown",
   "id": "b11b7715-05f0-413e-8b00-b85684311b1f",
   "metadata": {},
   "source": [
    "ques4) convert a string in lower case"
   ]
  },
  {
   "cell_type": "code",
   "execution_count": 15,
   "id": "8332e27f-c93b-4283-ae08-251deffeecc6",
   "metadata": {},
   "outputs": [
    {
     "name": "stdin",
     "output_type": "stream",
     "text": [
      "enter ur string: SHUBHAM\n"
     ]
    },
    {
     "name": "stdout",
     "output_type": "stream",
     "text": [
      "string in lower case: shubham\n"
     ]
    }
   ],
   "source": [
    "string4 = input(\"enter ur string:\")\n",
    "string4 = string4.lower()\n",
    "print(\"string in lower case:\",string4)"
   ]
  },
  {
   "cell_type": "markdown",
   "id": "9f1985fd-a92c-461c-8f12-365f5f2eae9e",
   "metadata": {},
   "source": [
    "ques5) count the number of vowel in a string"
   ]
  },
  {
   "cell_type": "code",
   "execution_count": 21,
   "id": "8215f0e3-6ada-4ec5-b43b-d2546ee58a24",
   "metadata": {},
   "outputs": [
    {
     "name": "stdin",
     "output_type": "stream",
     "text": [
      "enter ur string: shubham sharma\n"
     ]
    },
    {
     "name": "stdout",
     "output_type": "stream",
     "text": [
      "the number of vowels in a string: 4\n"
     ]
    }
   ],
   "source": [
    "string5 = input(\"enter ur string:\")\n",
    "vowels = (\"aeiouAEIOU\")\n",
    "count = sum(string5.count(vowel) for vowel in vowels)\n",
    "print(\"the number of vowels in a string:\",count)"
   ]
  },
  {
   "cell_type": "markdown",
   "id": "dfadd3b3-a133-4010-91fe-da7ed017ce9d",
   "metadata": {},
   "source": [
    "ques6) count the number of consonant in a string"
   ]
  },
  {
   "cell_type": "code",
   "execution_count": 23,
   "id": "b677ddcd-9689-4e9e-84d0-30deb5eb32fb",
   "metadata": {},
   "outputs": [
    {
     "name": "stdin",
     "output_type": "stream",
     "text": [
      "enter ur string: shubham sharma\n"
     ]
    },
    {
     "name": "stdout",
     "output_type": "stream",
     "text": [
      "number of consonant in string: 9\n"
     ]
    }
   ],
   "source": [
    "string6 = input(\"enter ur string:\")\n",
    "consonants = (\"bcdfghjklmnpqrstvwxyzBCDFGHJKLMNPQRSTVWXYZ\")\n",
    "count = sum(string6.count(consonant) for consonant in consonants)\n",
    "print(\"number of consonant in string:\",count)"
   ]
  },
  {
   "cell_type": "markdown",
   "id": "3cfbb3d3-d76f-41f8-a211-706e054411c9",
   "metadata": {},
   "source": [
    "ques7) remove all white spqaces from a string"
   ]
  },
  {
   "cell_type": "code",
   "execution_count": 10,
   "id": "d40d6cba-8a9d-4a3b-a72e-cf3fa3523ec8",
   "metadata": {},
   "outputs": [
    {
     "name": "stdin",
     "output_type": "stream",
     "text": [
      "enter ur string: s  hu  bhAM\n"
     ]
    },
    {
     "name": "stdout",
     "output_type": "stream",
     "text": [
      "string without spaces: shubhAM\n"
     ]
    }
   ],
   "source": [
    "string7 = input(\"enter ur string:\")\n",
    "replace = string7.replace(\" \",\"\")\n",
    "print(\"string without spaces:\",replace)"
   ]
  },
  {
   "cell_type": "markdown",
   "id": "51d2b60d-bf5f-4c8b-9308-57d8a5ce2d89",
   "metadata": {},
   "source": [
    "ques8) find the length of a string without using the len() function."
   ]
  },
  {
   "cell_type": "code",
   "execution_count": 12,
   "id": "cc0a5057-7eee-468c-88f1-b2c35c14ffa3",
   "metadata": {},
   "outputs": [
    {
     "name": "stdin",
     "output_type": "stream",
     "text": [
      "enter ur string: SHUBHAM\n"
     ]
    },
    {
     "name": "stdout",
     "output_type": "stream",
     "text": [
      "the length of a string 7\n"
     ]
    }
   ],
   "source": [
    "string8 = input(\"enter ur string:\")\n",
    "count = 0\n",
    "for i in string8:\n",
    "    count+=1\n",
    "print(\"the length of a string\",count)"
   ]
  },
  {
   "cell_type": "markdown",
   "id": "a91a0b68-988d-44be-8e72-48523ed51147",
   "metadata": {},
   "source": [
    "ques9)check if a string contains a specific word"
   ]
  },
  {
   "cell_type": "code",
   "execution_count": 11,
   "id": "485495dc-46e4-4619-9b09-0925f16c0d00",
   "metadata": {},
   "outputs": [
    {
     "name": "stdin",
     "output_type": "stream",
     "text": [
      "enter ur string: HE WASSUP GUYS MY NAME IS SHUBHAM\n",
      "enter the specific word: SHUBHAM\n"
     ]
    },
    {
     "name": "stdout",
     "output_type": "stream",
     "text": [
      "yes the string contains the specific word: SHUBHAM\n"
     ]
    }
   ],
   "source": [
    "string9 = input(\"enter ur string:\")\n",
    "specific_word = input(\"enter the specific word:\")\n",
    "if specific_word in string9:\n",
    "    print(\"yes the string contains the specific word:\",specific_word)\n",
    "else:\n",
    "    print(\"no the string not contains the specific word:\",specific_word)"
   ]
  },
  {
   "cell_type": "markdown",
   "id": "07e9516c-20b3-4a9a-9887-2b6c79c2cef0",
   "metadata": {},
   "source": [
    "ques10) replace a word in a string with another word"
   ]
  },
  {
   "cell_type": "code",
   "execution_count": 17,
   "id": "0aee6812-5095-4698-bb77-02b5eb212fdf",
   "metadata": {},
   "outputs": [
    {
     "name": "stdin",
     "output_type": "stream",
     "text": [
      "enter ur string: hey wassup my name is shubham\n",
      "enter ur word: shubham\n",
      "enter ur replacing word: raghav\n"
     ]
    },
    {
     "name": "stdout",
     "output_type": "stream",
     "text": [
      "the replace string: hey wassup my name is raghav\n"
     ]
    }
   ],
   "source": [
    "string10 = input(\"enter ur string:\")\n",
    "specific_word1 = input(\"enter ur word:\")\n",
    "if specific_word1 in string10:\n",
    "    another_word = input(\"enter ur replacing word:\")\n",
    "    replace = string10.replace(specific_word1,another_word)\n",
    "    print(\"the replace string:\",replace)\n",
    "else:\n",
    "    print(\"no specific word in the string\")"
   ]
  },
  {
   "cell_type": "markdown",
   "id": "d81b684f-9b3a-4453-99b2-4dee4e234b9b",
   "metadata": {},
   "source": [
    "ques11)count the occurences of a word in a string"
   ]
  },
  {
   "cell_type": "code",
   "execution_count": 6,
   "id": "468f2953-66ec-48d7-a5ac-b61a00d39913",
   "metadata": {},
   "outputs": [
    {
     "name": "stdin",
     "output_type": "stream",
     "text": [
      "enter ur string: look cool \n",
      "enter ur word: o\n"
     ]
    },
    {
     "name": "stdout",
     "output_type": "stream",
     "text": [
      "the occurence of the given word: 4\n"
     ]
    }
   ],
   "source": [
    "string11 = input(\"enter ur string:\")\n",
    "target_word= input(\"enter ur word:\")\n",
    "count = sum(string11.count(target_word) for i in target_word)\n",
    "print(\"the occurence of the given word:\",count)"
   ]
  },
  {
   "cell_type": "markdown",
   "id": "5c788ff6-a801-470e-8444-3a1963ef6caa",
   "metadata": {},
   "source": [
    "\n",
    "ques12) count the first occurence of a word in a string"
   ]
  },
  {
   "cell_type": "code",
   "execution_count": 7,
   "id": "6f567301-e597-429e-bc78-604be1c732e5",
   "metadata": {},
   "outputs": [
    {
     "name": "stdin",
     "output_type": "stream",
     "text": [
      "enter ur string: shubham\n",
      "enter ur world: u\n"
     ]
    },
    {
     "name": "stdout",
     "output_type": "stream",
     "text": [
      "the first occurence of the given word: 2\n"
     ]
    }
   ],
   "source": [
    "string12 = input(\"enter ur string:\")\n",
    "target_word = input(\"enter ur world:\")\n",
    "index = string12.find(target_word)\n",
    "print(\"the first occurence of the given word:\",index)"
   ]
  },
  {
   "cell_type": "markdown",
   "id": "cd5680b3-c019-4389-81bd-28a6fbe1582d",
   "metadata": {},
   "source": [
    "ques13) count the last occurence of a word in string"
   ]
  },
  {
   "cell_type": "code",
   "execution_count": 13,
   "id": "35967a03-4aad-4353-8953-973406f9d9d6",
   "metadata": {},
   "outputs": [
    {
     "name": "stdin",
     "output_type": "stream",
     "text": [
      "enter ur string: shubham\n",
      "enter ur word: h\n"
     ]
    },
    {
     "name": "stdout",
     "output_type": "stream",
     "text": [
      "the last occurencen of the given word 4\n"
     ]
    }
   ],
   "source": [
    "string13 = input(\"enter ur string:\")\n",
    "target_word = input(\"enter ur word:\")\n",
    "index = string13.rfind(target_word)\n",
    "print(\"the last occurencen of the given word\",index)"
   ]
  },
  {
   "cell_type": "markdown",
   "id": "7fad3b8d-2edd-45be-aef9-2af17c0e9dbe",
   "metadata": {},
   "source": [
    "ques14) split a string into a list of words"
   ]
  },
  {
   "cell_type": "code",
   "execution_count": 2,
   "id": "b08eac9c-4c02-4a49-822f-099774c6c059",
   "metadata": {},
   "outputs": [
    {
     "name": "stdin",
     "output_type": "stream",
     "text": [
      "enter ur string: my name is shubham\n"
     ]
    },
    {
     "name": "stdout",
     "output_type": "stream",
     "text": [
      "the list of the string ['my', 'name', 'is', 'shubham']\n"
     ]
    }
   ],
   "source": [
    "string14 = input(\"enter ur string:\")\n",
    "split = string14.split()\n",
    "print(\"the list of the string\",split)\n"
   ]
  },
  {
   "cell_type": "markdown",
   "id": "d9ea0fb7-18eb-4e4a-b1f3-0fa3da02b672",
   "metadata": {},
   "source": [
    "ques15) join a list of word into a string"
   ]
  },
  {
   "cell_type": "code",
   "execution_count": 22,
   "id": "3b79a440-2b4a-48d4-9a24-8d47e385940e",
   "metadata": {},
   "outputs": [
    {
     "name": "stdout",
     "output_type": "stream",
     "text": [
      "aman harsh subham\n"
     ]
    }
   ],
   "source": [
    "ama=['aman','harsh','subham']\n",
    "result=\" \".join(ama)\n",
    "print(result)"
   ]
  },
  {
   "cell_type": "markdown",
   "id": "6bda29e9-e8a2-400a-97ee-42723c76748f",
   "metadata": {},
   "source": [
    "ques16)convert a string where words are separated by spaces to  one where words are sperated by underscores."
   ]
  },
  {
   "cell_type": "code",
   "execution_count": 24,
   "id": "d0f9330f-5cf5-4ace-a0c9-758b39484adf",
   "metadata": {},
   "outputs": [
    {
     "name": "stdin",
     "output_type": "stream",
     "text": [
      "enter ur string: my name is shubham\n"
     ]
    },
    {
     "name": "stdout",
     "output_type": "stream",
     "text": [
      "my_name_is_shubham\n"
     ]
    }
   ],
   "source": [
    "string16 = input(\"enter ur string:\")\n",
    "replace = string16.replace(\" \",\"_\")\n",
    "print(replace)"
   ]
  },
  {
   "cell_type": "markdown",
   "id": "4a2ee594-14b5-4195-ab9b-1147ef731c3f",
   "metadata": {},
   "source": [
    "ques17)check if a string starts  with a specific word or phrase."
   ]
  },
  {
   "cell_type": "code",
   "execution_count": 7,
   "id": "89409a15-a443-4e0a-acb5-5ecc86f5ad66",
   "metadata": {},
   "outputs": [
    {
     "name": "stdin",
     "output_type": "stream",
     "text": [
      "Enter a string:  hi shubham\n"
     ]
    },
    {
     "name": "stdout",
     "output_type": "stream",
     "text": [
      "the string start with a specific word\n"
     ]
    }
   ],
   "source": [
    "string = str(input(\"Enter a string: \"))\n",
    "string = string.startswith(\"hi\")\n",
    "\n",
    "if(string== True):\n",
    "    print(\"the string start with a specific word\")\n",
    "else:\n",
    "    print(\"The string does not start with a specific word\")"
   ]
  },
  {
   "cell_type": "markdown",
   "id": "5fb2989a-1a4a-4b13-b3c5-96b593a97106",
   "metadata": {},
   "source": [
    "ques18)check if a string ends with a specific word or phrase"
   ]
  },
  {
   "cell_type": "code",
   "execution_count": 4,
   "id": "0e253d8a-76ff-4a5e-8b02-dea3f21e7b23",
   "metadata": {},
   "outputs": [
    {
     "name": "stdin",
     "output_type": "stream",
     "text": [
      "Enter a string:  bro i just wanna say u good bye\n"
     ]
    },
    {
     "name": "stdout",
     "output_type": "stream",
     "text": [
      "yes the string ends with a specific word \n"
     ]
    }
   ],
   "source": [
    "string = str(input(\"Enter a string: \"))\n",
    "ends = string.endswith(\"bye\")\n",
    "                             \n",
    "if(ends==True):\n",
    "    print(\"yes the string ends with a specific word \")\n",
    "else:\n",
    "    print(\"NO the string ends with a specific word\")"
   ]
  },
  {
   "cell_type": "markdown",
   "id": "0434053f-85bb-4485-81f5-b4921ffebdee",
   "metadata": {},
   "source": [
    "ques19)convert a string to title case"
   ]
  },
  {
   "cell_type": "code",
   "execution_count": 10,
   "id": "cad94475-bde4-451a-be14-b64b9f82673a",
   "metadata": {},
   "outputs": [
    {
     "name": "stdin",
     "output_type": "stream",
     "text": [
      "enter ur string: hello world\n"
     ]
    },
    {
     "name": "stdout",
     "output_type": "stream",
     "text": [
      "the title case string: Hello World\n"
     ]
    }
   ],
   "source": [
    "string = input(\"enter ur string:\")\n",
    "string = string.title()\n",
    "print(\"the title case string:\",string)"
   ]
  },
  {
   "cell_type": "markdown",
   "id": "5736256e-7091-4799-9304-ad63063d8577",
   "metadata": {},
   "source": [
    "ques20)find the longest word in a string"
   ]
  },
  {
   "cell_type": "code",
   "execution_count": 12,
   "id": "af1d38e8-a578-4ec4-a603-cc3130c0a998",
   "metadata": {},
   "outputs": [
    {
     "name": "stdout",
     "output_type": "stream",
     "text": [
      "whatsupp is the longest string\n"
     ]
    }
   ],
   "source": [
    "string = str(\"hey whatsupp\")\n",
    "hey = len(\"hey\")\n",
    "whatsupp = len(\"whatsupp\")\n",
    "if(hey> whatsupp):\n",
    "    print(\"hey is the longest word in a string \")\n",
    "else:\n",
    "    print(\"whatsupp is the longest string\")"
   ]
  },
  {
   "cell_type": "markdown",
   "id": "f92c7090-eeae-4512-8e3d-701dd02e20df",
   "metadata": {},
   "source": [
    "ques21)find the shortest word in a string"
   ]
  },
  {
   "cell_type": "code",
   "execution_count": null,
   "id": "e5d21ee9-aab4-4f44-86be-401556f2c967",
   "metadata": {},
   "outputs": [
    {
     "name": "stdout",
     "output_type": "stream",
     "text": [
      "hey is the shortest word in a string\n"
     ]
    }
   ],
   "source": [
    "string = str(\"hey whatsupp\")\n",
    "hey = len (\"hey\")\n",
    "whatsupp = len(\"whatsupp\")\n",
    "if (hey<whatsupp):\n",
    "    print(\"hey is the shortest word in a string\")\n",
    "else:\n",
    "    print(\"whatsupp is the longest wor in a string\")"
   ]
  },
  {
   "cell_type": "markdown",
   "id": "dd9a2ff4-8c3f-4e1a-8d61-afbcd46fd841",
   "metadata": {},
   "source": [
    "ques22)reverse the order of words in a string"
   ]
  },
  {
   "cell_type": "code",
   "execution_count": 19,
   "id": "d1064958-fbc2-4211-a48b-63f852bcc3c6",
   "metadata": {},
   "outputs": [
    {
     "name": "stdin",
     "output_type": "stream",
     "text": [
      "Enter a string:  hi wassup guys my name is shubham\n"
     ]
    },
    {
     "name": "stdout",
     "output_type": "stream",
     "text": [
      "hi wassup guys my name is shubham\n"
     ]
    },
    {
     "name": "stdin",
     "output_type": "stream",
     "text": [
      "Enter the word that you want to reverse:  wassup\n"
     ]
    },
    {
     "name": "stdout",
     "output_type": "stream",
     "text": [
      "The new string is : hi pussaw guys my name is shubham\n"
     ]
    }
   ],
   "source": [
    "string = str(input(\"Enter a string: \"))\n",
    "print(string)\n",
    "\n",
    "word = str(input(\"Enter the word that you want to reverse: \"))\n",
    "reverse = word[::-1]\n",
    "string = string.replace(word,reverse)\n",
    "print(\"The new string is :\", string)"
   ]
  },
  {
   "cell_type": "markdown",
   "id": "a3ec1d79-05e0-4871-8509-943758cadf0e",
   "metadata": {},
   "source": [
    "ques23) check if a string is alphanumeric"
   ]
  },
  {
   "cell_type": "code",
   "execution_count": 20,
   "id": "f79c7c68-3b00-430d-b188-efb55a995d36",
   "metadata": {},
   "outputs": [
    {
     "name": "stdin",
     "output_type": "stream",
     "text": [
      "Enter a string:  shubham2324\n"
     ]
    },
    {
     "name": "stdout",
     "output_type": "stream",
     "text": [
      "Entered string is alphanumeric \n"
     ]
    }
   ],
   "source": [
    "string = str(input(\"Enter a string: \"))\n",
    "string = string.isalnum()\n",
    "if(string == True):\n",
    "    print(\"Entered string is alphanumeric \")\n",
    "else: \n",
    "    print(\"Entered string is not alphanumeric \")"
   ]
  },
  {
   "cell_type": "markdown",
   "id": "8e11c597-e475-4c8b-8a03-e84a1dab7c91",
   "metadata": {},
   "source": [
    "ques24) extract all digits from a string"
   ]
  },
  {
   "cell_type": "code",
   "execution_count": 23,
   "id": "40bee2ca-1f99-49ba-806c-4c0a52f9b782",
   "metadata": {},
   "outputs": [
    {
     "name": "stdout",
     "output_type": "stream",
     "text": [
      "Extracted digits: 123456\n"
     ]
    }
   ],
   "source": [
    "def extract_digits(text):\n",
    "    digits = \"\"\n",
    "    for char in text:\n",
    "        if char.isdigit():\n",
    "            digits += char\n",
    "    return digits\n",
    "text = \"Hello123World456\"\n",
    "extracted_digits = extract_digits(text)\n",
    "print(\"Extracted digits:\", extracted_digits)"
   ]
  },
  {
   "cell_type": "markdown",
   "id": "29caa01a-4d86-46ae-ba6c-bd255c6a0374",
   "metadata": {},
   "source": [
    "ques25) extract all alphabets from a string"
   ]
  },
  {
   "cell_type": "code",
   "execution_count": 6,
   "id": "470b1675-f746-4588-8755-af8897305e77",
   "metadata": {},
   "outputs": [
    {
     "name": "stdin",
     "output_type": "stream",
     "text": [
      "enter a string shubham232423\n"
     ]
    },
    {
     "name": "stdout",
     "output_type": "stream",
     "text": [
      "shubham\n"
     ]
    }
   ],
   "source": [
    "string = input(\"enter a string\")\n",
    "only_alpha = \"\"\n",
    "for char in string:\n",
    "    if char.isalpha():\n",
    "        only_alpha += char\n",
    "print(only_alpha)\n",
    "    "
   ]
  },
  {
   "cell_type": "markdown",
   "id": "06dc7d15-4549-40e9-b52f-7473ee809e60",
   "metadata": {},
   "source": [
    "ques26)count the number of uppercase letters in a string"
   ]
  },
  {
   "cell_type": "code",
   "execution_count": 2,
   "id": "68a7f14a-3ee5-49f6-aeee-8e9771b83c7a",
   "metadata": {},
   "outputs": [
    {
     "name": "stdout",
     "output_type": "stream",
     "text": [
      "6\n"
     ]
    }
   ],
   "source": [
    "def count_uppercase(input_string):\n",
    "    uppercase_count = sum(1 for char in input_string if char.isupper())\n",
    "    return uppercase_count\n",
    "\n",
    "\n",
    "input_string = \"HelloWORLD\"\n",
    "result = count_uppercase(input_string)\n",
    "print(result)"
   ]
  },
  {
   "cell_type": "markdown",
   "id": "3f13fcc8-37cd-493d-a1e9-4f3a435732a2",
   "metadata": {},
   "source": [
    "ques27) count the number of lowercase letters in a string"
   ]
  },
  {
   "cell_type": "code",
   "execution_count": 3,
   "id": "f89f9a6b-6527-4467-89d0-ed61f3a26eca",
   "metadata": {},
   "outputs": [
    {
     "name": "stdout",
     "output_type": "stream",
     "text": [
      "4\n"
     ]
    }
   ],
   "source": [
    "def count_lowercase(input_string):\n",
    "    lowercase_count = sum(1 for char in input_string if char.islower())\n",
    "    return lowercase_count\n",
    "\n",
    "\n",
    "input_string = \"HelloWORLD\"\n",
    "result = count_lowercase(input_string)\n",
    "print(result)"
   ]
  },
  {
   "cell_type": "markdown",
   "id": "6c140a04-2037-43f9-9d8a-cee0a660849c",
   "metadata": {},
   "source": [
    "ques28) swap the case of each character in a string"
   ]
  },
  {
   "cell_type": "code",
   "execution_count": 4,
   "id": "71bfb912-db24-41ac-89dd-c5fe2c6503f3",
   "metadata": {},
   "outputs": [
    {
     "name": "stdin",
     "output_type": "stream",
     "text": [
      "enter your string: SHUbham\n"
     ]
    },
    {
     "name": "stdout",
     "output_type": "stream",
     "text": [
      "shuBHAM\n"
     ]
    }
   ],
   "source": [
    "string = input(\"enter your string:\")\n",
    "swapping = string.swapcase()\n",
    "print(swapping)\n"
   ]
  },
  {
   "cell_type": "markdown",
   "id": "759b2011-2ff8-4596-947b-d57910a83c34",
   "metadata": {},
   "source": [
    "ques29) remove a specific word from a string"
   ]
  },
  {
   "cell_type": "code",
   "execution_count": 8,
   "id": "bfd091db-ed60-4f68-8693-0e953a4fd699",
   "metadata": {},
   "outputs": [
    {
     "data": {
      "text/plain": [
       "' is important'"
      ]
     },
     "execution_count": 8,
     "metadata": {},
     "output_type": "execute_result"
    }
   ],
   "source": [
    "\n",
    "app = \"app is important\"\n",
    "app.lstrip('app')"
   ]
  },
  {
   "cell_type": "markdown",
   "id": "8e0dfd38-b12d-4b78-af61-1b52ac211fe4",
   "metadata": {},
   "source": [
    " ques30) check if a string is a valid email address"
   ]
  },
  {
   "cell_type": "code",
   "execution_count": 10,
   "id": "68876185-cbb4-49d5-8908-9d7a4e3ab093",
   "metadata": {},
   "outputs": [
    {
     "name": "stdout",
     "output_type": "stream",
     "text": [
      "Valid Email\n",
      "Valid Email\n",
      "Invalid Email\n"
     ]
    }
   ],
   "source": [
    "\n",
    "import re\n",
    " \n",
    "\n",
    "regex = r'\\b[A-Za-z0-9._%+-]+@[A-Za-z0-9.-]+\\.[A-Z|a-z]{2,7}\\b'\n",
    " \n",
    "\n",
    "def check(email):\n",
    " \n",
    "   \n",
    "    if(re.fullmatch(regex, email)):\n",
    "        print(\"Valid Email\")\n",
    " \n",
    "    else:\n",
    "        print(\"Invalid Email\")\n",
    " \n",
    "# Driver Code\n",
    "if __name__ == '__main__':\n",
    " \n",
    "  \n",
    "    email = \"ankitrai326@gmail.com\"\n",
    " \n",
    "    \n",
    "    check(email)\n",
    " \n",
    "    email = \"my.ownsite@our-earth.org\"\n",
    "    check(email)\n",
    " \n",
    "    email = \"ankitrai326.com\"\n",
    "    check(email)"
   ]
  },
  {
   "cell_type": "markdown",
   "id": "f3230e62-1ed2-4cb3-964a-6a30a0dd7e2b",
   "metadata": {},
   "source": [
    "ques31)Extract the username from an email address string.\n"
   ]
  },
  {
   "cell_type": "code",
   "execution_count": 3,
   "id": "4bffd33a-4beb-4661-bd2c-efb5f7824a00",
   "metadata": {},
   "outputs": [
    {
     "name": "stdout",
     "output_type": "stream",
     "text": [
      "The username is: example.user\n"
     ]
    }
   ],
   "source": [
    "import re\n",
    "\n",
    "def extract_username(email):\n",
    "    # Use regular expression to extract the username\n",
    "    match = re.match(r'^([a-zA-Z0-9_.+-]+)@[a-zA-Z0-9-]+\\.[a-zA-Z0-9-.]+$', email)\n",
    "    \n",
    "    if match:\n",
    "        return match.group(1)\n",
    "    else:\n",
    "        return None\n",
    "\n",
    "# Example usage:\n",
    "email_address = 'example.user@example.com'\n",
    "username = extract_username(email_address)\n",
    "\n",
    "if username:\n",
    "    print(f'The username is: {username}')\n",
    "else:\n",
    "    print('Invalid email address format.')\n"
   ]
  },
  {
   "cell_type": "markdown",
   "id": "38a100d7-a5c4-4d85-90c5-d4e7d85f2070",
   "metadata": {},
   "source": [
    "32. Extract the domain name from an email address string"
   ]
  },
  {
   "cell_type": "code",
   "execution_count": 4,
   "id": "da30ac6a-5951-447a-9577-92e2f62d6015",
   "metadata": {},
   "outputs": [
    {
     "name": "stdout",
     "output_type": "stream",
     "text": [
      "The domain is: example.com\n"
     ]
    }
   ],
   "source": [
    "import re\n",
    "\n",
    "def extract_domain(email):\n",
    "    # Use regular expression to extract the domain\n",
    "    match = re.match(r'^[a-zA-Z0-9_.+-]+@([a-zA-Z0-9-]+\\.[a-zA-Z0-9-.]+)$', email)\n",
    "    \n",
    "    if match:\n",
    "        return match.group(1)\n",
    "    else:\n",
    "        return None\n",
    "\n",
    "# Example usage:\n",
    "email_address = 'example.user@example.com'\n",
    "domain = extract_domain(email_address)\n",
    "\n",
    "if domain:\n",
    "    print(f'The domain is: {domain}')\n",
    "else:\n",
    "    print('Invalid email address format.')"
   ]
  },
  {
   "cell_type": "markdown",
   "id": "5f44bcd3-59b2-4845-93ce-a5205a8464a3",
   "metadata": {},
   "source": [
    "33. Replace multiple spaces in a string with a single space.\n"
   ]
  },
  {
   "cell_type": "code",
   "execution_count": 9,
   "id": "89bcb31a-4a90-4310-bc0c-21edebe333e4",
   "metadata": {},
   "outputs": [
    {
     "ename": "SyntaxError",
     "evalue": "invalid syntax (3063647790.py, line 1)",
     "output_type": "error",
     "traceback": [
      "\u001b[0;36m  Cell \u001b[0;32mIn[9], line 1\u001b[0;36m\u001b[0m\n\u001b[0;31m    let str = \" Welcome to Geeks for Geeks \";\u001b[0m\n\u001b[0m        ^\u001b[0m\n\u001b[0;31mSyntaxError\u001b[0m\u001b[0;31m:\u001b[0m invalid syntax\n"
     ]
    }
   ],
   "source": [
    "\n",
    "let str = \" Welcome to Geeks for Geeks \";\n",
    "\n",
    "\n",
    "let newStr = str.trim().split(/[\\s,\\t,\\n]+/).join(' ');\n",
    "\n",
    "\n",
    "console.log(newStr);\n"
   ]
  },
  {
   "cell_type": "markdown",
   "id": "c4a52fce-7f3c-42f8-8796-d1adc5a2ce47",
   "metadata": {},
   "source": [
    "34. Check if a string is a valid URL.\n"
   ]
  },
  {
   "cell_type": "code",
   "execution_count": 7,
   "id": "c4b95409-651a-4217-b8d8-55417d1313b3",
   "metadata": {},
   "outputs": [
    {
     "name": "stdout",
     "output_type": "stream",
     "text": [
      "https://www.example.com is a valid URL\n"
     ]
    }
   ],
   "source": [
    "from urllib.parse import urlparse\n",
    "\n",
    "def is_valid_url(url):\n",
    "    try:\n",
    "        result = urlparse(url)\n",
    "        return all([result.scheme, result.netloc])\n",
    "    except ValueError:\n",
    "        return False\n",
    "url_to_check = \"https://www.example.com\"\n",
    "if is_valid_url(url_to_check):\n",
    "    print(f\"{url_to_check} is a valid URL\")\n",
    "else:\n",
    "    print(f\"{url_to_check} is not a valid URL\")\n"
   ]
  },
  {
   "cell_type": "markdown",
   "id": "1b9e6027-c7e0-4990-8b42-d361bb650f1b",
   "metadata": {},
   "source": [
    "35. Extract the protocol (http or https) from a URL string."
   ]
  },
  {
   "cell_type": "code",
   "execution_count": 8,
   "id": "4f0ef704-fea3-4d3d-85c5-92c51a4eafe0",
   "metadata": {},
   "outputs": [
    {
     "name": "stdout",
     "output_type": "stream",
     "text": [
      "The protocol of https://www.example.com/path/to/resource is: https\n"
     ]
    }
   ],
   "source": [
    "from urllib.parse import urlparse\n",
    "\n",
    "def extract_protocol(url):\n",
    "    parsed_url = urlparse(url)\n",
    "    return parsed_url.scheme\n",
    "\n",
    "# Example usage:\n",
    "url_to_extract = \"https://www.example.com/path/to/resource\"\n",
    "protocol = extract_protocol(url_to_extract)\n",
    "print(f\"The protocol of {url_to_extract} is: {protocol}\")"
   ]
  },
  {
   "cell_type": "markdown",
   "id": "ce54e0ec-b9d5-4290-ba56-62b596b36e33",
   "metadata": {},
   "source": [
    "36. Find the frequency of each character in a string."
   ]
  },
  {
   "cell_type": "code",
   "execution_count": 12,
   "id": "104139a2-4bc0-4d93-828e-c4555c81de75",
   "metadata": {},
   "outputs": [
    {
     "name": "stdout",
     "output_type": "stream",
     "text": [
      "Count of all characters in GeeksforGeeks is :\n",
      " {'G': 2, 'e': 4, 'k': 2, 's': 2, 'f': 1, 'o': 1, 'r': 1}\n"
     ]
    }
   ],
   "source": [
    "test_str = \"GeeksforGeeks\"\n",
    " \n",
    "# using naive method to get count\n",
    "# of each element in string\n",
    "all_freq = {}\n",
    " \n",
    "for i in test_str:\n",
    "    if i in all_freq:\n",
    "        all_freq[i] += 1\n",
    "    else:\n",
    "        all_freq[i] = 1\n",
    " \n",
    "# printing result\n",
    "print(\"Count of all characters in GeeksforGeeks is :\\n \"\n",
    "      + str(all_freq))"
   ]
  },
  {
   "cell_type": "markdown",
   "id": "9a32ebc4-4597-486b-8ed7-a2cf94a2a550",
   "metadata": {},
   "source": [
    "37. Remove all punctuation from a string."
   ]
  },
  {
   "cell_type": "code",
   "execution_count": 13,
   "id": "245b96c6-7560-4ff2-aba8-ba8acd280cda",
   "metadata": {},
   "outputs": [
    {
     "name": "stdout",
     "output_type": "stream",
     "text": [
      "Original string: Hello, World! This is an example string.\n",
      "String without punctuation: Hello World This is an example string\n"
     ]
    }
   ],
   "source": [
    "import string\n",
    "\n",
    "def remove_punctuation(input_string):\n",
    "    translator = str.maketrans(\"\", \"\", string.punctuation)\n",
    "    return input_string.translate(translator)\n",
    "\n",
    "# Example usage:\n",
    "input_string = \"Hello, World! This is an example string.\"\n",
    "result_string = remove_punctuation(input_string)\n",
    "\n",
    "print(\"Original string:\", input_string)\n",
    "print(\"String without punctuation:\", result_string)\n"
   ]
  },
  {
   "cell_type": "markdown",
   "id": "3453e4d5-c5e3-470a-b028-f1a9cabdcc9f",
   "metadata": {},
   "source": [
    "38. Check if a string contains only digits."
   ]
  },
  {
   "cell_type": "code",
   "execution_count": 14,
   "id": "b66ae92f-ce35-4f30-a131-643b47f8a0ca",
   "metadata": {},
   "outputs": [
    {
     "name": "stdout",
     "output_type": "stream",
     "text": [
      "The string contains only digits!\n"
     ]
    }
   ],
   "source": [
    "my_string = \"1234\"\n",
    "if my_string.isdigit():\n",
    "    print(\"The string contains only digits!\")\n",
    "else:\n",
    "    print(\"The string does not contain only digits.\")"
   ]
  },
  {
   "cell_type": "markdown",
   "id": "d395cdc3-f1a4-42c6-b202-8f499d2d5c33",
   "metadata": {},
   "source": [
    "39. Check if a string contains only alphabets."
   ]
  },
  {
   "cell_type": "code",
   "execution_count": 16,
   "id": "52592638-cbef-4621-ab70-5bfb12d62e05",
   "metadata": {},
   "outputs": [
    {
     "name": "stdout",
     "output_type": "stream",
     "text": [
      "the string contains only alphabets\n"
     ]
    }
   ],
   "source": [
    "my_string = \"shubham\"\n",
    "if my_string.isalpha():\n",
    "    print(\"the string contains only alphabets\")\n",
    "else:\n",
    "    print(\"the string does not contains only alphabets\")"
   ]
  },
  {
   "cell_type": "markdown",
   "id": "1e311d2b-c34c-49e2-af98-4507aabc1912",
   "metadata": {},
   "source": [
    "40. Convert a string to a list of characters."
   ]
  },
  {
   "cell_type": "code",
   "execution_count": 17,
   "id": "da43edca-7f6e-410c-aa82-4639bea57639",
   "metadata": {},
   "outputs": [
    {
     "name": "stdout",
     "output_type": "stream",
     "text": [
      "['g', 'e', 'e', 'k', 's', 'f', 'o', 'r', 'g', 'e', 'e', 'k', 's']\n"
     ]
    }
   ],
   "source": [
    "string = \"geeksforgeeks\"\n",
    "print([*string])"
   ]
  },
  {
   "cell_type": "markdown",
   "id": "346a31d9-928b-476b-b501-ebc3be1475ea",
   "metadata": {},
   "source": [
    "41. Check if two strings are anagrams."
   ]
  },
  {
   "cell_type": "code",
   "execution_count": 18,
   "id": "e4db8437-d458-412f-9982-6b7b7b2ffb18",
   "metadata": {},
   "outputs": [
    {
     "name": "stdout",
     "output_type": "stream",
     "text": [
      "Listen and Silent are anagrams.\n"
     ]
    }
   ],
   "source": [
    "def are_anagrams(str1, str2):\n",
    "    # Remove spaces and convert to lowercase for case-insensitive comparison\n",
    "    str1 = str1.replace(\" \", \"\").lower()\n",
    "    str2 = str2.replace(\" \", \"\").lower()\n",
    "\n",
    "    # Check if the sorted characters of both strings are the same\n",
    "    return sorted(str1) == sorted(str2)\n",
    "\n",
    "# Example usage:\n",
    "string1 = \"Listen\"\n",
    "string2 = \"Silent\"\n",
    "\n",
    "if are_anagrams(string1, string2):\n",
    "    print(f\"{string1} and {string2} are anagrams.\")\n",
    "else:\n",
    "    print(f\"{string1} and {string2} are not anagrams.\")"
   ]
  },
  {
   "cell_type": "markdown",
   "id": "84c25e94-23d1-4d0f-90c2-c42e12bd6224",
   "metadata": {},
   "source": [
    "42. Encode a string using a Caesar cipher."
   ]
  },
  {
   "cell_type": "code",
   "execution_count": 19,
   "id": "b0b98383-25ad-4ff6-aafa-b210b4176ffb",
   "metadata": {},
   "outputs": [
    {
     "name": "stdout",
     "output_type": "stream",
     "text": [
      "Original text: Hello, World!\n",
      "Encrypted text: Khoor, Zruog!\n"
     ]
    }
   ],
   "source": [
    "def caesar_cipher_encrypt(text, shift):\n",
    "    result = \"\"\n",
    "\n",
    "    for char in text:\n",
    "        if char.isalpha():\n",
    "            # Determine the case (uppercase or lowercase)\n",
    "            if char.isupper():\n",
    "                result += chr((ord(char) - ord('A' ) + shift) % 26 + ord('A'))\n",
    "            else:\n",
    "                result += chr((ord(char) - ord('a' ) + shift) % 26 + ord('a'))\n",
    "        else:\n",
    "            # If the character is not a letter, leave it unchanged\n",
    "            result += char\n",
    "\n",
    "    return result\n",
    "\n",
    "# Example usage:\n",
    "plaintext = \"Hello, World!\"\n",
    "shift_value = 3\n",
    "encrypted_text = caesar_cipher_encrypt(plaintext, shift_value)\n",
    "\n",
    "print(f\"Original text: {plaintext}\")\n",
    "print(f\"Encrypted text: {encrypted_text}\")\n"
   ]
  },
  {
   "cell_type": "markdown",
   "id": "bb581a52-e240-4747-ad77-29ad38640239",
   "metadata": {},
   "source": [
    "43. Decode a Caesar cipher encoded string."
   ]
  },
  {
   "cell_type": "code",
   "execution_count": 20,
   "id": "e9e03959-ea84-4a2c-a747-a8be66263433",
   "metadata": {},
   "outputs": [
    {
     "name": "stdout",
     "output_type": "stream",
     "text": [
      "Encrypted text: Khoor, Zruog!\n",
      "Decrypted text: Hello, World!\n"
     ]
    }
   ],
   "source": [
    "def caesar_cipher_decrypt(text, shift):\n",
    "    # To decrypt, use a negative shift value\n",
    "    return caesar_cipher_encrypt(text, -shift)\n",
    "\n",
    "# Example usage:\n",
    "encrypted_text = \"Khoor, Zruog!\"\n",
    "shift_value = 3\n",
    "decrypted_text = caesar_cipher_decrypt(encrypted_text, shift_value)\n",
    "\n",
    "print(f\"Encrypted text: {encrypted_text}\")\n",
    "print(f\"Decrypted text: {decrypted_text}\")\n"
   ]
  },
  {
   "cell_type": "markdown",
   "id": "ea946f18-7fea-4291-b355-e9b205ce15f1",
   "metadata": {},
   "source": [
    "44. Find the most frequent word in a string."
   ]
  },
  {
   "cell_type": "code",
   "execution_count": 21,
   "id": "b2b7c55d-2faf-447f-96be-b8fc3cd0401a",
   "metadata": {},
   "outputs": [
    {
     "name": "stdout",
     "output_type": "stream",
     "text": [
      "The most frequent word is: this\n"
     ]
    },
    {
     "data": {
      "text/plain": [
       "6"
      ]
     },
     "execution_count": 21,
     "metadata": {},
     "output_type": "execute_result"
    }
   ],
   "source": [
    "def most_frequent_word(input_string):\n",
    "    word_frequency = {}\n",
    "\n",
    "    # Split the string into words\n",
    "    words = input_string.split()\n",
    "\n",
    "    for word in words:\n",
    "        # Remove punctuation and convert to lowercase for case-insensitive comparison\n",
    "        word = word.strip('.,?!').lower()\n",
    "\n",
    "        # Count the frequency of each word\n",
    "        if word in word_frequency:\n",
    "            word_frequency[word] += 1\n",
    "        else:\n",
    "            word_frequency[word] = 1\n",
    "\n",
    "    # Find the word with the highest frequency\n",
    "    most_frequent = max(word_frequency, key=word_frequency.get)\n",
    "\n",
    "    return most_frequent\n",
    "\n",
    "# Example usage:\n",
    "input_string = \"This is an example string. This string contains repeated words, and it is an example.\"\n",
    "\n",
    "most_frequent_word_result = most_frequent_word(input_string)\n",
    "print(f\"The most frequent word is: {most_frequent_word_result}\")\n",
    "6"
   ]
  },
  {
   "cell_type": "markdown",
   "id": "a40a16a0-3d33-4a78-b4b2-17ecaae7ccd7",
   "metadata": {},
   "source": [
    "45. Find all unique words in a string."
   ]
  },
  {
   "cell_type": "code",
   "execution_count": 23,
   "id": "98b9a0e4-e600-4101-a1cc-909083c58999",
   "metadata": {},
   "outputs": [
    {
     "name": "stdout",
     "output_type": "stream",
     "text": [
      "Unique words in the string:\n",
      "and\n",
      "it\n",
      "string\n",
      "example\n",
      "repeated\n",
      "an\n",
      "this\n",
      "words\n",
      "is\n",
      "contains\n"
     ]
    }
   ],
   "source": [
    "def unique_words(input_string):\n",
    "    unique_word_set = set()\n",
    "\n",
    "    # Split the string into words\n",
    "    words = input_string.split()\n",
    "\n",
    "    for word in words:\n",
    "        # Remove punctuation and convert to lowercase for case-insensitive comparison\n",
    "        word = word.strip('.,?!').lower()\n",
    "\n",
    "        # Add the cleaned word to the set\n",
    "        unique_word_set.add(word)\n",
    "\n",
    "    return unique_word_set\n",
    "\n",
    "# Example usage:\n",
    "input_string = \"This is an example string. This string contains repeated words, and it is an example.\"\n",
    "\n",
    "unique_words_set = unique_words(input_string)\n",
    "print(\"Unique words in the string:\")\n",
    "for word in unique_words_set:\n",
    "    print(word)\n"
   ]
  },
  {
   "cell_type": "markdown",
   "id": "8281cec5-da5c-4c30-8703-b9b261e5c751",
   "metadata": {},
   "source": [
    "46. Count the number of syllables in a string."
   ]
  },
  {
   "cell_type": "code",
   "execution_count": 27,
   "id": "f43f0cc3-86c5-4c66-a65e-570b0262c9fd",
   "metadata": {},
   "outputs": [
    {
     "name": "stdout",
     "output_type": "stream",
     "text": [
      "1\n"
     ]
    }
   ],
   "source": [
    "def syllable_count(word):\n",
    "    count = 0\n",
    "    vowels = \"aeiouy\"\n",
    "    if word[0] in vowels:\n",
    "        count += 1\n",
    "    for index in range(1, len(word)):\n",
    "        if word[index] in vowels and word[index - 1] not in vowels:\n",
    "            count += 1\n",
    "            if word.endswith(\"e\"):\n",
    "                count -= 1\n",
    "    if count == 0:\n",
    "        count += 1\n",
    "    return count\n",
    "print(syllable_count(\"HAIRY\"))"
   ]
  },
  {
   "cell_type": "markdown",
   "id": "9845fa20-5884-4deb-bf8c-9d44873e86f3",
   "metadata": {},
   "source": [
    "47. Check if a string contains any special characters."
   ]
  },
  {
   "cell_type": "code",
   "execution_count": 28,
   "id": "af43856e-0033-401f-981e-f86dc829672a",
   "metadata": {},
   "outputs": [
    {
     "name": "stdout",
     "output_type": "stream",
     "text": [
      "The string contains special characters.\n"
     ]
    }
   ],
   "source": [
    "import re\n",
    "\n",
    "def contains_special_characters_regex(input_string):\n",
    "    pattern = re.compile(r\"[~`!@#$%^&*()_+={}[\\]:;'<>,.?/\\\\]\")\n",
    "    return bool(pattern.search(input_string))\n",
    "\n",
    "# Example usage:\n",
    "test_string = \"Hello, World!\"\n",
    "if contains_special_characters_regex(test_string):\n",
    "    print(\"The string contains special characters.\")\n",
    "else:\n",
    "    print(\"The string does not contain special characters.\")\n"
   ]
  },
  {
   "cell_type": "markdown",
   "id": "eade248e-ec90-4dac-b4cc-529f8161a728",
   "metadata": {},
   "source": [
    "48. Remove the nth word from a string."
   ]
  },
  {
   "cell_type": "code",
   "execution_count": 29,
   "id": "4988e54c-4d83-4e0a-8040-4a52932a9c30",
   "metadata": {},
   "outputs": [
    {
     "name": "stdout",
     "output_type": "stream",
     "text": [
      "Original string: This is an example sentence to demonstrate removing the nth word.\n",
      "String with the 3th word removed: This is example sentence to demonstrate removing the nth word.\n"
     ]
    }
   ],
   "source": [
    "def remove_nth_word(input_string, n):\n",
    "    words = input_string.split()\n",
    "    \n",
    "    if 1 <= n <= len(words):\n",
    "        del words[n - 1]\n",
    "\n",
    "    return ' '.join(words)\n",
    "\n",
    "# Example usage:\n",
    "original_string = \"This is an example sentence to demonstrate removing the nth word.\"\n",
    "n = 3\n",
    "\n",
    "result_string = remove_nth_word(original_string, n)\n",
    "print(f\"Original string: {original_string}\")\n",
    "print(f\"String with the {n}th word removed: {result_string}\")\n"
   ]
  },
  {
   "cell_type": "markdown",
   "id": "be780da4-067d-44a6-af3c-5f65d93a7f1f",
   "metadata": {},
   "source": [
    "49. Insert a word at the nth position in a string."
   ]
  },
  {
   "cell_type": "code",
   "execution_count": 30,
   "id": "fda400f1-e577-458d-8677-923581e970f9",
   "metadata": {},
   "outputs": [
    {
     "name": "stdout",
     "output_type": "stream",
     "text": [
      "Original string: This is an example sentence to demonstrate inserting a word.\n",
      "String with 'fantastic' inserted at position 4: This is an example fantastic sentence to demonstrate inserting a word.\n"
     ]
    }
   ],
   "source": [
    "def insert_word_at_nth_position(input_string, new_word, n):\n",
    "    words = input_string.split()\n",
    "    \n",
    "    if 0 <= n <= len(words):\n",
    "        words.insert(n, new_word)\n",
    "\n",
    "    return ' '.join(words)\n",
    "\n",
    "# Example usage:\n",
    "original_string = \"This is an example sentence to demonstrate inserting a word.\"\n",
    "new_word = \"fantastic\"\n",
    "insert_position = 4\n",
    "\n",
    "result_string = insert_word_at_nth_position(original_string, new_word, insert_position)\n",
    "print(f\"Original string: {original_string}\")\n",
    "print(f\"String with '{new_word}' inserted at position {insert_position}: {result_string}\")\n"
   ]
  },
  {
   "cell_type": "markdown",
   "id": "465913c6-eafb-416d-b26a-fee21d119123",
   "metadata": {},
   "source": [
    "50. Convert a CSV string to a list of lists."
   ]
  },
  {
   "cell_type": "code",
   "execution_count": 33,
   "id": "3719d41d-4a82-4243-b324-12a3fbb51796",
   "metadata": {},
   "outputs": [
    {
     "name": "stdout",
     "output_type": "stream",
     "text": [
      "List of lists:\n",
      "['Name', 'Age', 'Location']\n",
      "['John', '25', 'New York']\n",
      "['Alice', '30', 'San Francisco']\n",
      "['Bob', '22', 'Los Angeles']\n"
     ]
    }
   ],
   "source": [
    "import csv\n",
    "from io import StringIO\n",
    "\n",
    "def csv_string_to_list_of_lists(csv_string):\n",
    "    # Create a CSV reader using StringIO to read from the string\n",
    "    csv_reader = csv.reader(StringIO(csv_string))\n",
    "    \n",
    "    # Convert the CSV reader to a list of lists\n",
    "    list_of_lists = [row for row in csv_reader]\n",
    "\n",
    "    return list_of_lists\n",
    "\n",
    "# Example usage:\n",
    "csv_string = \"Name,Age,Location\\nJohn,25,New York\\nAlice,30,San Francisco\\nBob,22,Los Angeles\"\n",
    "\n",
    "list_of_lists = csv_string_to_list_of_lists(csv_string)\n",
    "print(\"List of lists:\")\n",
    "for row in list_of_lists:\n",
    "    print(row)\n"
   ]
  },
  {
   "cell_type": "markdown",
   "id": "1a75809b-1eb5-4e6f-ad6e-aa7057e4d466",
   "metadata": {},
   "source": [
    "LIST BASED PRACTICE PROBLEM :"
   ]
  },
  {
   "cell_type": "markdown",
   "id": "b795bb55-c62e-43bf-ab6d-6000409f5578",
   "metadata": {},
   "source": [
    "1. Create a list with integers from 1 to 10.\n"
   ]
  },
  {
   "cell_type": "code",
   "execution_count": 2,
   "id": "f5bd7b3a-25cb-40c5-8637-34ff354b0740",
   "metadata": {},
   "outputs": [
    {
     "name": "stdout",
     "output_type": "stream",
     "text": [
      "[1, 2, 3, 4, 5, 6, 7, 8, 9, 10]\n"
     ]
    }
   ],
   "source": [
    "my_list = [1,2,3,4,5,6,7,8,9,10]\n",
    "print(my_list)"
   ]
  },
  {
   "cell_type": "markdown",
   "id": "d88eeb40-aeb7-4154-a5b6-e07dc3a55b16",
   "metadata": {},
   "source": [
    "2. Find the length of a list without using the `len()` function"
   ]
  },
  {
   "cell_type": "code",
   "execution_count": 4,
   "id": "1d46aac9-7601-4787-8788-2ef375d3ba46",
   "metadata": {},
   "outputs": [
    {
     "name": "stdout",
     "output_type": "stream",
     "text": [
      "length of list : 10\n"
     ]
    }
   ],
   "source": [
    "my_list = [1,2,3,4,5,6,7,8,9,10]\n",
    "length = 0\n",
    "for i in my_list:\n",
    "    length +=1\n",
    "print(\"length of list :\",length)"
   ]
  },
  {
   "cell_type": "markdown",
   "id": "692fe572-99ee-4f1f-a21b-fad5f6940750",
   "metadata": {},
   "source": [
    "3. Append an element to the end of a list."
   ]
  },
  {
   "cell_type": "code",
   "execution_count": 5,
   "id": "49784215-401a-4887-aef5-b424f3c4db0d",
   "metadata": {},
   "outputs": [
    {
     "name": "stdout",
     "output_type": "stream",
     "text": [
      "Updated list: [1, 2, 3, 4, 5, 6]\n"
     ]
    }
   ],
   "source": [
    "my_list = [1, 2, 3, 4, 5]\n",
    "\n",
    "# Append an element to the end of the list\n",
    "my_list.append(6)\n",
    "\n",
    "print(\"Updated list:\", my_list)\n"
   ]
  },
  {
   "cell_type": "markdown",
   "id": "f15b0d38-631b-4509-9eda-b60949d122cb",
   "metadata": {},
   "source": [
    "4. Insert an element at a specific index in a list"
   ]
  },
  {
   "cell_type": "code",
   "execution_count": 6,
   "id": "b7b9e42d-12fb-46fc-8e8c-60a0d871181c",
   "metadata": {},
   "outputs": [
    {
     "name": "stdout",
     "output_type": "stream",
     "text": [
      "Updated list: [1, 2, 10, 3, 4, 5]\n"
     ]
    }
   ],
   "source": [
    "my_list = [1, 2, 3, 4, 5]\n",
    "\n",
    "# Insert the element 10 at index 2\n",
    "my_list.insert(2, 10)\n",
    "\n",
    "print(\"Updated list:\", my_list)\n"
   ]
  },
  {
   "cell_type": "markdown",
   "id": "2a26eb13-03be-455e-9aad-4a6b03c63627",
   "metadata": {},
   "source": [
    "5. Remove an element from a list by its value."
   ]
  },
  {
   "cell_type": "code",
   "execution_count": 8,
   "id": "6e933e7b-c4c7-4751-ba7a-34167e9aa45a",
   "metadata": {},
   "outputs": [
    {
     "name": "stdout",
     "output_type": "stream",
     "text": [
      "Updated list: [1, 2, 4, 5]\n"
     ]
    }
   ],
   "source": [
    "my_list = [1, 2, 3, 4, 5]\n",
    "\n",
    "# Remove the element 3 from the list\n",
    "my_list.remove(3)\n",
    "\n",
    "print(\"Updated list:\", my_list)\n"
   ]
  },
  {
   "cell_type": "markdown",
   "id": "e91a4af0-cb35-4389-97fa-9a0eee3d5de5",
   "metadata": {},
   "source": [
    "6. Remove an element from a list by its index"
   ]
  },
  {
   "cell_type": "code",
   "execution_count": 10,
   "id": "d3bb4400-ac18-4023-8521-cd26398532db",
   "metadata": {},
   "outputs": [
    {
     "name": "stdout",
     "output_type": "stream",
     "text": [
      "Updated list: [1, 2, 4, 5]\n",
      "Removed element: 3\n"
     ]
    }
   ],
   "source": [
    "my_list = [1, 2, 3, 4, 5]\n",
    "\n",
    "# Remove the element at index 2\n",
    "removed_element = my_list.pop(2)\n",
    "\n",
    "print(\"Updated list:\", my_list)\n",
    "print(\"Removed element:\", removed_element)\n",
    "\n"
   ]
  },
  {
   "cell_type": "markdown",
   "id": "15b3c0c7-6b5f-4097-a283-1e9d09fb6f71",
   "metadata": {},
   "source": [
    "7. Check if an element exists in a list."
   ]
  },
  {
   "cell_type": "code",
   "execution_count": 11,
   "id": "451eed1e-0ff1-4c6e-be20-646484ee761e",
   "metadata": {},
   "outputs": [
    {
     "name": "stdout",
     "output_type": "stream",
     "text": [
      "Element 3 is in the list.\n"
     ]
    }
   ],
   "source": [
    "my_list = [1, 2, 3, 4, 5]\n",
    "\n",
    "# Check if the element 3 is in the list\n",
    "if 3 in my_list:\n",
    "    print(\"Element 3 is in the list.\")\n",
    "else:\n",
    "    print(\"Element 3 is not in the list.\")\n"
   ]
  },
  {
   "cell_type": "markdown",
   "id": "99ce61ad-17af-4730-b69f-7b2eb917d05f",
   "metadata": {},
   "source": [
    "8. Find the index of the first occurrence of an element in a list."
   ]
  },
  {
   "cell_type": "code",
   "execution_count": 14,
   "id": "3d099438-672b-41db-bd42-e17adbac4559",
   "metadata": {},
   "outputs": [
    {
     "name": "stdout",
     "output_type": "stream",
     "text": [
      "Index of element 3: 2\n"
     ]
    }
   ],
   "source": [
    "my_list = [1, 2, 3, 4, 5]\n",
    "\n",
    "# Find the index of the element 3\n",
    "index_of_3 = my_list.index(3)\n",
    "\n",
    "print(\"Index of element 3:\", index_of_3)\n"
   ]
  },
  {
   "cell_type": "markdown",
   "id": "78920c52-b6fe-4513-917b-8b29eb6d8d86",
   "metadata": {},
   "source": [
    "9. Count the occurrences of an element in a list.\n"
   ]
  },
  {
   "cell_type": "code",
   "execution_count": 15,
   "id": "2275df0c-8e1a-408b-9454-2dd76517a86c",
   "metadata": {},
   "outputs": [
    {
     "name": "stdout",
     "output_type": "stream",
     "text": [
      "Occurrences of element 3: 3\n"
     ]
    }
   ],
   "source": [
    "my_list = [1, 2, 3, 4, 3, 5, 3]\n",
    "\n",
    "# Count the occurrences of the element 3\n",
    "count_of_3 = my_list.count(3)\n",
    "\n",
    "print(\"Occurrences of element 3:\", count_of_3)\n"
   ]
  },
  {
   "cell_type": "markdown",
   "id": "96732e4a-d47f-418d-a662-ad92dd75b286",
   "metadata": {},
   "source": [
    "10. Reverse the order of elements in a list."
   ]
  },
  {
   "cell_type": "code",
   "execution_count": 17,
   "id": "1582b60e-0754-4179-aac1-108cc52afcdb",
   "metadata": {},
   "outputs": [
    {
     "name": "stdout",
     "output_type": "stream",
     "text": [
      "Reversed list: [5, 4, 3, 2, 1]\n"
     ]
    }
   ],
   "source": [
    "my_list = [1, 2, 3, 4, 5]\n",
    "\n",
    "# Reverse the order of elements using slicing\n",
    "reversed_list = my_list[::-1]\n",
    "\n",
    "print(\"Reversed list:\", reversed_list)\n"
   ]
  },
  {
   "cell_type": "markdown",
   "id": "3f4e54ba-2eaf-4669-ae2d-1659e2e3c5a8",
   "metadata": {},
   "source": [
    "11. Sort a list in ascending order"
   ]
  },
  {
   "cell_type": "code",
   "execution_count": 18,
   "id": "b87d6413-7725-488d-b638-7dd0dfe80401",
   "metadata": {},
   "outputs": [
    {
     "name": "stdout",
     "output_type": "stream",
     "text": [
      "Original list: [5, 2, 8, 1, 3]\n",
      "Sorted list in ascending order: [1, 2, 3, 5, 8]\n"
     ]
    }
   ],
   "source": [
    "my_list = [5, 2, 8, 1, 3]\n",
    "\n",
    "# Create a new sorted list without modifying the original\n",
    "sorted_list = sorted(my_list)\n",
    "\n",
    "print(\"Original list:\", my_list)\n",
    "print(\"Sorted list in ascending order:\", sorted_list)\n"
   ]
  },
  {
   "cell_type": "markdown",
   "id": "89e94e89-607b-4e39-b88c-1604e535d431",
   "metadata": {},
   "source": [
    "12. Sort a list in descending order."
   ]
  },
  {
   "cell_type": "code",
   "execution_count": 19,
   "id": "68d3e142-3490-42c5-bb9f-ffd857844860",
   "metadata": {},
   "outputs": [
    {
     "name": "stdout",
     "output_type": "stream",
     "text": [
      "Sorted list in descending order: [8, 5, 3, 2, 1]\n"
     ]
    }
   ],
   "source": [
    "my_list = [5, 2, 8, 1, 3]\n",
    "\n",
    "# Sort the list in descending order using sort() method\n",
    "my_list.sort(reverse=True)\n",
    "\n",
    "print(\"Sorted list in descending order:\", my_list)\n"
   ]
  },
  {
   "cell_type": "markdown",
   "id": "0f942d9a-f481-48cf-962d-2b8647d7c95d",
   "metadata": {},
   "source": [
    "13. Create a list of even numbers from 1 to 20"
   ]
  },
  {
   "cell_type": "code",
   "execution_count": 20,
   "id": "2b0b54eb-e856-439c-aa2c-195c67fbfaa9",
   "metadata": {},
   "outputs": [
    {
     "name": "stdout",
     "output_type": "stream",
     "text": [
      "List of even numbers from 1 to 20: [2, 4, 6, 8, 10, 12, 14, 16, 18, 20]\n"
     ]
    }
   ],
   "source": [
    "even_numbers = [x for x in range(2, 21, 2)]\n",
    "\n",
    "print(\"List of even numbers from 1 to 20:\", even_numbers)\n"
   ]
  },
  {
   "cell_type": "markdown",
   "id": "49053212-cf1b-40d9-a319-90ccb22aa0f9",
   "metadata": {},
   "source": [
    "14. Create a list of odd numbers from 1 to 20."
   ]
  },
  {
   "cell_type": "code",
   "execution_count": 21,
   "id": "cb10af5e-88bb-4001-8d0e-17054573141c",
   "metadata": {},
   "outputs": [
    {
     "name": "stdout",
     "output_type": "stream",
     "text": [
      "List of odd numbers from 1 to 20: [1, 3, 5, 7, 9, 11, 13, 15, 17, 19]\n"
     ]
    }
   ],
   "source": [
    "odd_numbers = [x for x in range(1, 21, 2)]\n",
    "\n",
    "print(\"List of odd numbers from 1 to 20:\", odd_numbers)\n"
   ]
  },
  {
   "cell_type": "markdown",
   "id": "6bf1902c-3cad-49f7-94b3-855387d94beb",
   "metadata": {},
   "source": [
    "15. Find the sum of all elements in a list"
   ]
  },
  {
   "cell_type": "code",
   "execution_count": 22,
   "id": "a8a425cb-5881-4416-a899-82d9cfce985a",
   "metadata": {},
   "outputs": [
    {
     "name": "stdout",
     "output_type": "stream",
     "text": [
      "Sum of elements in the list: 15\n"
     ]
    }
   ],
   "source": [
    "my_list = [1, 2, 3, 4, 5]\n",
    "\n",
    "# Find the sum of all elements in the list\n",
    "sum_of_elements = sum(my_list)\n",
    "\n",
    "print(\"Sum of elements in the list:\", sum_of_elements)\n"
   ]
  },
  {
   "cell_type": "markdown",
   "id": "4f01fd4b-09c2-48a5-a277-939b3e5e1c4f",
   "metadata": {},
   "source": [
    "16. Find the maximum value in a list"
   ]
  },
  {
   "cell_type": "code",
   "execution_count": 23,
   "id": "48ebf5ab-6faa-4362-8dc5-113fee69d0f8",
   "metadata": {},
   "outputs": [
    {
     "name": "stdout",
     "output_type": "stream",
     "text": [
      "Maximum value in the list: 10\n"
     ]
    }
   ],
   "source": [
    "my_list = [3, 8, 2, 10, 5]\n",
    "\n",
    "# Find the maximum value in the list\n",
    "max_value = max(my_list)\n",
    "\n",
    "print(\"Maximum value in the list:\", max_value)\n"
   ]
  },
  {
   "cell_type": "markdown",
   "id": "edc23582-ed9c-4332-8e00-f6e6ee03539d",
   "metadata": {},
   "source": [
    "17. Find the minimum value in a list.\n"
   ]
  },
  {
   "cell_type": "code",
   "execution_count": 24,
   "id": "36e97e94-8bda-46e5-9390-e0ff0b4b8472",
   "metadata": {},
   "outputs": [
    {
     "name": "stdout",
     "output_type": "stream",
     "text": [
      "Minimum value in the list: 2\n"
     ]
    }
   ],
   "source": [
    "my_list = [3, 8, 2, 10, 5]\n",
    "\n",
    "# Find the minimum value in the list\n",
    "min_value = min(my_list)\n",
    "\n",
    "print(\"Minimum value in the list:\", min_value)\n"
   ]
  },
  {
   "cell_type": "markdown",
   "id": "10aff4a0-33d3-4bba-b54a-d00c35965063",
   "metadata": {},
   "source": [
    "18. Create a list of squares of numbers from 1 to 10."
   ]
  },
  {
   "cell_type": "code",
   "execution_count": 25,
   "id": "9514a9c1-6237-4380-b19f-2659b4cbf4fd",
   "metadata": {},
   "outputs": [
    {
     "name": "stdout",
     "output_type": "stream",
     "text": [
      "List of squares of numbers from 1 to 10: [1, 4, 9, 16, 25, 36, 49, 64, 81, 100]\n"
     ]
    }
   ],
   "source": [
    "squares_list = [x**2 for x in range(1, 11)]\n",
    "\n",
    "print(\"List of squares of numbers from 1 to 10:\", squares_list)\n",
    "\n"
   ]
  },
  {
   "cell_type": "markdown",
   "id": "fa949691-c1c2-4bef-9555-aef5c9103cb0",
   "metadata": {},
   "source": [
    "19. Create a list of random numbers."
   ]
  },
  {
   "cell_type": "code",
   "execution_count": 26,
   "id": "5fd9e676-597e-41ef-908a-5e309793c0a6",
   "metadata": {},
   "outputs": [
    {
     "name": "stdout",
     "output_type": "stream",
     "text": [
      "List of random numbers: [10, 6, 4, 9, 2]\n"
     ]
    }
   ],
   "source": [
    "import random\n",
    "\n",
    "# Create a list of 5 random numbers between 1 and 10\n",
    "random_numbers = [random.randint(1, 10) for _ in range(5)]\n",
    "\n",
    "print(\"List of random numbers:\", random_numbers)\n"
   ]
  },
  {
   "cell_type": "markdown",
   "id": "e0c07589-4057-4b41-9cb6-e24053e2a3e3",
   "metadata": {},
   "source": [
    "20. Remove duplicates from a list."
   ]
  },
  {
   "cell_type": "code",
   "execution_count": 27,
   "id": "27a46a4c-7ffd-4a7b-8711-2db0204b652d",
   "metadata": {},
   "outputs": [
    {
     "name": "stdout",
     "output_type": "stream",
     "text": [
      "List with duplicates: [1, 2, 2, 3, 4, 4, 5]\n",
      "List without duplicates: [1, 2, 3, 4, 5]\n"
     ]
    }
   ],
   "source": [
    "my_list = [1, 2, 2, 3, 4, 4, 5]\n",
    "\n",
    "# Remove duplicates by converting the list to a set and back to a list\n",
    "unique_list = list(set(my_list))\n",
    "\n",
    "print(\"List with duplicates:\", my_list)\n",
    "print(\"List without duplicates:\", unique_list)\n"
   ]
  },
  {
   "cell_type": "markdown",
   "id": "4e3409f7-3d2e-4cdf-a161-6d6fb1760d46",
   "metadata": {},
   "source": [
    "21. Find the common elements between two lists.\n"
   ]
  },
  {
   "cell_type": "code",
   "execution_count": 1,
   "id": "f94a6812-c079-428e-8012-1ad1e9d2ff85",
   "metadata": {},
   "outputs": [
    {
     "name": "stdout",
     "output_type": "stream",
     "text": [
      "Common elements: [3, 4, 5]\n"
     ]
    }
   ],
   "source": [
    "list1 = [1, 2, 3, 4, 5]\n",
    "list2 = [3, 4, 5, 6, 7]\n",
    "\n",
    "common_elements = [element for element in list1 if element in list2]\n",
    "\n",
    "print(\"Common elements:\", common_elements)\n"
   ]
  },
  {
   "cell_type": "markdown",
   "id": "997c27f0-40e0-4c3b-983f-396c5c1a1f94",
   "metadata": {},
   "source": [
    "22. Find the difference between two lists.\n"
   ]
  },
  {
   "cell_type": "code",
   "execution_count": 2,
   "id": "af425046-19ab-4648-b9cc-c71278e1b5cc",
   "metadata": {},
   "outputs": [
    {
     "name": "stdout",
     "output_type": "stream",
     "text": [
      "Elements unique to list1: [1, 2]\n",
      "Elements unique to list2: [6, 7]\n"
     ]
    }
   ],
   "source": [
    "list1 = [1, 2, 3, 4, 5]\n",
    "list2 = [3, 4, 5, 6, 7]\n",
    "\n",
    "difference_list1 = list(set(list1) - set(list2))\n",
    "difference_list2 = list(set(list2) - set(list1))\n",
    "\n",
    "print(\"Elements unique to list1:\", difference_list1)\n",
    "print(\"Elements unique to list2:\", difference_list2)\n"
   ]
  },
  {
   "cell_type": "markdown",
   "id": "47c41354-9cb5-4e6e-b047-3ac171ef5b0c",
   "metadata": {},
   "source": [
    "23. Merge two lists."
   ]
  },
  {
   "cell_type": "code",
   "execution_count": 3,
   "id": "c85ff631-02cf-4911-b89d-c203b93de4c2",
   "metadata": {},
   "outputs": [
    {
     "name": "stdout",
     "output_type": "stream",
     "text": [
      "Merged List: [1, 2, 3, 4, 5, 6]\n"
     ]
    }
   ],
   "source": [
    "list1 = [1, 2, 3]\n",
    "list2 = [4, 5, 6]\n",
    "\n",
    "merged_list = list1 + list2\n",
    "\n",
    "print(\"Merged List:\", merged_list)\n"
   ]
  },
  {
   "cell_type": "markdown",
   "id": "42139983-9e48-451e-b32e-27120e1b5d0f",
   "metadata": {},
   "source": [
    "24. Multiply all elements in a list by 2.\n"
   ]
  },
  {
   "cell_type": "code",
   "execution_count": 4,
   "id": "688ff70b-b08b-4ba6-8d95-da9fbc156bd1",
   "metadata": {},
   "outputs": [
    {
     "name": "stdout",
     "output_type": "stream",
     "text": [
      "Original List: [1, 2, 3, 4, 5]\n",
      "Doubled List: [2, 4, 6, 8, 10]\n"
     ]
    }
   ],
   "source": [
    "original_list = [1, 2, 3, 4, 5]\n",
    "\n",
    "doubled_list = [element * 2 for element in original_list]\n",
    "\n",
    "print(\"Original List:\", original_list)\n",
    "print(\"Doubled List:\", doubled_list)\n"
   ]
  },
  {
   "cell_type": "markdown",
   "id": "afec01fd-a348-43cd-8cca-7ce2f1010cc6",
   "metadata": {},
   "source": [
    "25. Filter out all even numbers from a list."
   ]
  },
  {
   "cell_type": "code",
   "execution_count": 5,
   "id": "c65517ee-ece3-4eeb-8b7a-23a7946c240e",
   "metadata": {},
   "outputs": [
    {
     "name": "stdout",
     "output_type": "stream",
     "text": [
      "String List: ['1', '2', '3', '4', '5']\n",
      "Integer List: [1, 2, 3, 4, 5]\n"
     ]
    }
   ],
   "source": [
    "string_list = [\"1\", \"2\", \"3\", \"4\", \"5\"]\n",
    "\n",
    "integer_list = [int(element) for element in string_list]\n",
    "\n",
    "print(\"String List:\", string_list)\n",
    "print(\"Integer List:\", integer_list)\n"
   ]
  },
  {
   "cell_type": "markdown",
   "id": "466e6119-6d53-428b-bdeb-43026694049e",
   "metadata": {},
   "source": [
    "27. Convert a list of integers to a list of strings"
   ]
  },
  {
   "cell_type": "code",
   "execution_count": 6,
   "id": "4c923a87-3a4f-41b3-867e-697b87e9059c",
   "metadata": {},
   "outputs": [
    {
     "name": "stdout",
     "output_type": "stream",
     "text": [
      "Integer List: [1, 2, 3, 4, 5]\n",
      "String List: ['1', '2', '3', '4', '5']\n"
     ]
    }
   ],
   "source": [
    "integer_list = [1, 2, 3, 4, 5]\n",
    "\n",
    "string_list = [str(element) for element in integer_list]\n",
    "\n",
    "print(\"Integer List:\", integer_list)\n",
    "print(\"String List:\", string_list)\n"
   ]
  },
  {
   "cell_type": "markdown",
   "id": "2920881c-81de-4b6a-819f-509eeac30d4b",
   "metadata": {},
   "source": [
    "28. Flatten a nested list"
   ]
  },
  {
   "cell_type": "code",
   "execution_count": 7,
   "id": "9ee16aa5-20d4-47bd-88f5-42e0db356e75",
   "metadata": {},
   "outputs": [
    {
     "name": "stdout",
     "output_type": "stream",
     "text": [
      "Nested List: [1, [2, 3, [4, 5]], 6, [7, 8]]\n",
      "Flattened List: [1, 2, 3, 4, 5, 6, 7, 8]\n"
     ]
    }
   ],
   "source": [
    "def flatten_list(nested_list):\n",
    "    flat_list = []\n",
    "    for element in nested_list:\n",
    "        if isinstance(element, list):\n",
    "            flat_list.extend(flatten_list(element))\n",
    "        else:\n",
    "            flat_list.append(element)\n",
    "    return flat_list\n",
    "\n",
    "nested_list = [1, [2, 3, [4, 5]], 6, [7, 8]]\n",
    "flat_list = flatten_list(nested_list)\n",
    "\n",
    "print(\"Nested List:\", nested_list)\n",
    "print(\"Flattened List:\", flat_list)\n"
   ]
  },
  {
   "cell_type": "markdown",
   "id": "31a12f2e-d591-4d58-bbae-4484bbf97def",
   "metadata": {},
   "source": [
    "\n",
    "29. Create a list of the first 10 Fibonacci numbers."
   ]
  },
  {
   "cell_type": "code",
   "execution_count": 9,
   "id": "940257f4-2825-4e1e-86e4-973d8ed04cc7",
   "metadata": {},
   "outputs": [
    {
     "name": "stdout",
     "output_type": "stream",
     "text": [
      "First 10 Fibonacci Numbers: [0, 1, 1, 2, 3, 5, 8, 13, 21, 34]\n"
     ]
    }
   ],
   "source": [
    "# Function to generate the first n Fibonacci numbers\n",
    "def generate_fibonacci(n):\n",
    "    fibonacci_list = [0, 1]\n",
    "\n",
    "    while len(fibonacci_list) < n:\n",
    "        next_number = fibonacci_list[-1] + fibonacci_list[-2]\n",
    "        fibonacci_list.append(next_number)\n",
    "\n",
    "    return fibonacci_list[:n]\n",
    "\n",
    "# Generate the first 10 Fibonacci numbers\n",
    "first_10_fibonacci = generate_fibonacci(10)\n",
    "\n",
    "print(\"First 10 Fibonacci Numbers:\", first_10_fibonacci)\n"
   ]
  },
  {
   "cell_type": "markdown",
   "id": "18f4b789-001a-4511-8ab5-2632ef966b82",
   "metadata": {},
   "source": [
    "30. Check if a list is sorted"
   ]
  },
  {
   "cell_type": "code",
   "execution_count": 10,
   "id": "5434d682-1cd5-4a2e-80ef-a4bb5f45589a",
   "metadata": {},
   "outputs": [
    {
     "name": "stdout",
     "output_type": "stream",
     "text": [
      "Is the sorted_list sorted? True\n",
      "Is the unsorted_list sorted? False\n"
     ]
    }
   ],
   "source": [
    "def is_sorted(lst):\n",
    "    return all(lst[i] <= lst[i + 1] for i in range(len(lst) - 1))\n",
    "\n",
    "# Example usage:\n",
    "sorted_list = [1, 2, 3, 4, 5]\n",
    "unsorted_list = [3, 1, 4, 1, 5, 9, 2, 6]\n",
    "\n",
    "print(\"Is the sorted_list sorted?\", is_sorted(sorted_list))\n",
    "print(\"Is the unsorted_list sorted?\", is_sorted(unsorted_list))\n"
   ]
  },
  {
   "cell_type": "markdown",
   "id": "63190a8e-6e3b-4f28-974d-b33e6ae99619",
   "metadata": {},
   "source": [
    "31. Rotate a list to the left by 'n' positions.\n"
   ]
  },
  {
   "cell_type": "code",
   "execution_count": 11,
   "id": "3c931910-b316-4484-83ae-285385869ec6",
   "metadata": {},
   "outputs": [
    {
     "name": "stdout",
     "output_type": "stream",
     "text": [
      "Original List: [1, 2, 3, 4, 5]\n",
      "Rotated List to the left by 2 positions: [3, 4, 5, 1, 2]\n"
     ]
    }
   ],
   "source": [
    "def rotate_left(lst, n):\n",
    "    n = n % len(lst)  # Ensure n is within the length of the list\n",
    "    rotated_list = lst[n:] + lst[:n]\n",
    "    return rotated_list\n",
    "\n",
    "# Example usage:\n",
    "original_list = [1, 2, 3, 4, 5]\n",
    "positions_to_rotate = 2\n",
    "\n",
    "rotated_list = rotate_left(original_list, positions_to_rotate)\n",
    "\n",
    "print(\"Original List:\", original_list)\n",
    "print(f\"Rotated List to the left by {positions_to_rotate} positions:\", rotated_list)\n"
   ]
  },
  {
   "cell_type": "markdown",
   "id": "55478307-8137-47bc-984b-e6785faecbef",
   "metadata": {},
   "source": [
    "32. Rotate a list to the right by 'n' positions."
   ]
  },
  {
   "cell_type": "code",
   "execution_count": 12,
   "id": "5ce43444-57da-487c-90db-40d030fcbd60",
   "metadata": {},
   "outputs": [
    {
     "name": "stdout",
     "output_type": "stream",
     "text": [
      "Original List: [1, 2, 3, 4, 5]\n",
      "Rotated List to the right by 2 positions: [4, 5, 1, 2, 3]\n"
     ]
    }
   ],
   "source": [
    "def rotate_right(lst, n):\n",
    "    n = n % len(lst)  # Ensure n is within the length of the list\n",
    "    rotated_list = lst[-n:] + lst[:-n]\n",
    "    return rotated_list\n",
    "\n",
    "# Example usage:\n",
    "original_list = [1, 2, 3, 4, 5]\n",
    "positions_to_rotate = 2\n",
    "\n",
    "rotated_list = rotate_right(original_list, positions_to_rotate)\n",
    "\n",
    "print(\"Original List:\", original_list)\n",
    "print(f\"Rotated List to the right by {positions_to_rotate} positions:\", rotated_list)\n"
   ]
  },
  {
   "cell_type": "markdown",
   "id": "721e31be-0503-45de-89da-274e2612a597",
   "metadata": {},
   "source": [
    "33. Create a list of prime numbers up to 50."
   ]
  },
  {
   "cell_type": "code",
   "execution_count": 13,
   "id": "6656ce62-e54a-449c-883f-fe4b56647d1a",
   "metadata": {},
   "outputs": [
    {
     "name": "stdout",
     "output_type": "stream",
     "text": [
      "Prime Numbers up to 50: [2, 3, 5, 7, 11, 13, 17, 19, 23, 29, 31, 37, 41, 43, 47]\n"
     ]
    }
   ],
   "source": [
    "def is_prime(num):\n",
    "    if num < 2:\n",
    "        return False\n",
    "    for i in range(2, int(num**0.5) + 1):\n",
    "        if num % i == 0:\n",
    "            return False\n",
    "    return True\n",
    "\n",
    "# Generate a list of prime numbers up to 50\n",
    "prime_numbers_up_to_50 = [num for num in range(2, 51) if is_prime(num)]\n",
    "\n",
    "print(\"Prime Numbers up to 50:\", prime_numbers_up_to_50)\n",
    "\n"
   ]
  },
  {
   "cell_type": "markdown",
   "id": "f43194d8-91c0-4a49-b0b5-93e256bb0864",
   "metadata": {},
   "source": [
    "34. Split a list into chunks of size 'n'.\n"
   ]
  },
  {
   "cell_type": "code",
   "execution_count": 14,
   "id": "e4c4449c-9ec1-476f-843e-aafa2cc9f4e1",
   "metadata": {},
   "outputs": [
    {
     "name": "stdout",
     "output_type": "stream",
     "text": [
      "Original List: [1, 2, 3, 4, 5, 6, 7, 8, 9, 10]\n",
      "List split into chunks of size 3: [[1, 2, 3], [4, 5, 6], [7, 8, 9], [10]]\n"
     ]
    }
   ],
   "source": [
    "def split_into_chunks(lst, n):\n",
    "    return [lst[i:i+n] for i in range(0, len(lst), n)]\n",
    "\n",
    "# Example usage:\n",
    "original_list = [1, 2, 3, 4, 5, 6, 7, 8, 9, 10]\n",
    "chunk_size = 3\n",
    "\n",
    "chunks = split_into_chunks(original_list, chunk_size)\n",
    "\n",
    "print(\"Original List:\", original_list)\n",
    "print(f\"List split into chunks of size {chunk_size}:\", chunks)\n"
   ]
  },
  {
   "cell_type": "markdown",
   "id": "a8fbd0f8-3a0c-4dab-af1d-485b8eb823c6",
   "metadata": {},
   "source": [
    "35. Find the second largest number in a list"
   ]
  },
  {
   "cell_type": "code",
   "execution_count": 15,
   "id": "3674c213-a790-4800-8223-914dd9af9858",
   "metadata": {},
   "outputs": [
    {
     "name": "stdout",
     "output_type": "stream",
     "text": [
      "Original List: [10, 5, 8, 12, 7, 3, 15]\n",
      "Second Largest Number: 12\n"
     ]
    }
   ],
   "source": [
    "def second_largest(lst):\n",
    "    sorted_list = sorted(lst, reverse=True)\n",
    "    return sorted_list[1] if len(sorted_list) >= 2 else None\n",
    "\n",
    "# Example usage:\n",
    "numbers = [10, 5, 8, 12, 7, 3, 15]\n",
    "\n",
    "result = second_largest(numbers)\n",
    "\n",
    "print(\"Original List:\", numbers)\n",
    "print(\"Second Largest Number:\", result)\n"
   ]
  },
  {
   "cell_type": "markdown",
   "id": "2f85f544-2976-445e-9759-3eea59d84599",
   "metadata": {},
   "source": [
    "36. Replace every element in a list with its square"
   ]
  },
  {
   "cell_type": "code",
   "execution_count": 16,
   "id": "fb1c098e-5c5a-4091-8bcc-36080e2993e8",
   "metadata": {},
   "outputs": [
    {
     "name": "stdout",
     "output_type": "stream",
     "text": [
      "Original List: [1, 2, 3, 4, 5]\n",
      "List with Squared Elements: [1, 4, 9, 16, 25]\n"
     ]
    }
   ],
   "source": [
    "original_list = [1, 2, 3, 4, 5]\n",
    "\n",
    "squared_list = [element ** 2 for element in original_list]\n",
    "\n",
    "print(\"Original List:\", original_list)\n",
    "print(\"List with Squared Elements:\", squared_list)\n"
   ]
  },
  {
   "cell_type": "markdown",
   "id": "edb536fb-54ba-4cdb-808d-8161fbac2fce",
   "metadata": {},
   "source": [
    "37. Convert a list to a dictionary where list elements become keys and their\n",
    "indices become values\n"
   ]
  },
  {
   "cell_type": "code",
   "execution_count": 18,
   "id": "3b3a0103-1cf5-4b7f-838b-557c9449ee6e",
   "metadata": {},
   "outputs": [
    {
     "name": "stdout",
     "output_type": "stream",
     "text": [
      "Original List: ['apple', 'banana', 'cherry', 'date']\n",
      "Dictionary: {'apple': 0, 'banana': 1, 'cherry': 2, 'date': 3}\n"
     ]
    }
   ],
   "source": [
    "original_list = ['apple', 'banana', 'cherry', 'date']\n",
    "\n",
    "list_to_dict = {element: index for index, element in enumerate(original_list)}\n",
    "\n",
    "print(\"Original List:\", original_list)\n",
    "print(\"Dictionary:\", list_to_dict)\n"
   ]
  },
  {
   "cell_type": "markdown",
   "id": "e7e898df-4492-4534-a095-b14f5caea228",
   "metadata": {},
   "source": [
    "38. Shuffle the elements of a list randomly.\n"
   ]
  },
  {
   "cell_type": "code",
   "execution_count": 19,
   "id": "a7b7d735-5600-4d6d-9a0b-fe00073c65a9",
   "metadata": {},
   "outputs": [
    {
     "name": "stdout",
     "output_type": "stream",
     "text": [
      "Original List: [1, 2, 3, 4, 5]\n",
      "Shuffled List: [2, 5, 4, 1, 3]\n"
     ]
    }
   ],
   "source": [
    "import random\n",
    "\n",
    "original_list = [1, 2, 3, 4, 5]\n",
    "\n",
    "shuffled_list = original_list.copy()  # Create a copy to avoid modifying the original list\n",
    "random.shuffle(shuffled_list)\n",
    "\n",
    "print(\"Original List:\", original_list)\n",
    "print(\"Shuffled List:\", shuffled_list)\n"
   ]
  },
  {
   "cell_type": "markdown",
   "id": "a576f743-dbeb-45e5-9d4b-8daa8578aac6",
   "metadata": {},
   "source": [
    "39. Create a list of the first 10 factorial numbers."
   ]
  },
  {
   "cell_type": "code",
   "execution_count": 20,
   "id": "8c8f5186-69e6-4f34-b180-b8d717c87dd2",
   "metadata": {},
   "outputs": [
    {
     "name": "stdout",
     "output_type": "stream",
     "text": [
      "First 10 Factorial Numbers: [1, 1, 2, 6, 24, 120, 720, 5040, 40320, 362880]\n"
     ]
    }
   ],
   "source": [
    "def factorial(n):\n",
    "    if n == 0 or n == 1:\n",
    "        return 1\n",
    "    else:\n",
    "        return n * factorial(n - 1)\n",
    "\n",
    "# Generate a list of the first 10 factorial numbers\n",
    "factorial_numbers = [factorial(i) for i in range(10)]\n",
    "\n",
    "print(\"First 10 Factorial Numbers:\", factorial_numbers)\n"
   ]
  },
  {
   "cell_type": "markdown",
   "id": "84911352-c5c7-410b-93da-df8e6b8ce573",
   "metadata": {},
   "source": [
    "40. Check if two lists have at least one element in common."
   ]
  },
  {
   "cell_type": "code",
   "execution_count": 21,
   "id": "7b1f2120-d75d-4b24-8528-dd58f5f65e04",
   "metadata": {},
   "outputs": [
    {
     "name": "stdout",
     "output_type": "stream",
     "text": [
      "List 1: [1, 2, 3, 4, 5]\n",
      "List 2: [5, 6, 7, 8, 9]\n",
      "Do the lists have at least one common element? True\n"
     ]
    }
   ],
   "source": [
    "def have_common_element(list1, list2):\n",
    "    set1 = set(list1)\n",
    "    set2 = set(list2)\n",
    "    common_elements = set1.intersection(set2)\n",
    "    return len(common_elements) > 0\n",
    "\n",
    "# Example usage:\n",
    "list1 = [1, 2, 3, 4, 5]\n",
    "list2 = [5, 6, 7, 8, 9]\n",
    "\n",
    "result = have_common_element(list1, list2)\n",
    "\n",
    "print(\"List 1:\", list1)\n",
    "print(\"List 2:\", list2)\n",
    "print(\"Do the lists have at least one common element?\", result)\n"
   ]
  },
  {
   "cell_type": "markdown",
   "id": "aeea6536-1831-4b01-b0b8-aa38ba8321c7",
   "metadata": {},
   "source": [
    "41. Remove all elements from a list."
   ]
  },
  {
   "cell_type": "code",
   "execution_count": 2,
   "id": "7cd82436-b07e-4f6c-ba2b-b9da6d6ee827",
   "metadata": {},
   "outputs": [
    {
     "name": "stdout",
     "output_type": "stream",
     "text": [
      "[]\n"
     ]
    }
   ],
   "source": [
    "my_list = [1, 2, 3, 4, 5]\n",
    "my_list.clear()\n",
    "print(my_list)"
   ]
  },
  {
   "cell_type": "markdown",
   "id": "12cdb2c0-48d6-46f4-b812-19ac00589d1a",
   "metadata": {},
   "source": [
    "42. Replace negative numbers in a list with 0.\n"
   ]
  },
  {
   "cell_type": "code",
   "execution_count": 4,
   "id": "d55481f4-bfba-46bc-ba55-1ee8f64d8906",
   "metadata": {},
   "outputs": [
    {
     "name": "stdout",
     "output_type": "stream",
     "text": [
      "[1, 0, 3, 0, 5]\n"
     ]
    }
   ],
   "source": [
    "my_list = [1, -2, 3, -4, 5]\n",
    "for i in range(len(my_list)):\n",
    "    if my_list[i] < 0:\n",
    "        my_list[i] = 0\n",
    "print(my_list)"
   ]
  },
  {
   "cell_type": "markdown",
   "id": "6ba93d67-9647-47db-91aa-11099cec03e6",
   "metadata": {},
   "source": [
    "43. Convert a string into a list of words.\n"
   ]
  },
  {
   "cell_type": "code",
   "execution_count": 5,
   "id": "e74a5e89-6b33-47f4-8559-18944676db11",
   "metadata": {},
   "outputs": [
    {
     "name": "stdout",
     "output_type": "stream",
     "text": [
      "['Hello', 'world!', 'This', 'is', 'a', 'sample', 'string.']\n"
     ]
    }
   ],
   "source": [
    "my_string = \"Hello world! This is a sample string.\"\n",
    "my_list_of_words = my_string.split()\n",
    "\n",
    "print(my_list_of_words)\n"
   ]
  },
  {
   "cell_type": "markdown",
   "id": "80fd7c7f-d80c-4d12-b8ca-5efcf9807586",
   "metadata": {},
   "source": [
    "44. Convert a list of words into a string.\n"
   ]
  },
  {
   "cell_type": "code",
   "execution_count": 7,
   "id": "6f35aff0-6d91-4f15-9f23-ec740d0ae003",
   "metadata": {},
   "outputs": [
    {
     "name": "stdout",
     "output_type": "stream",
     "text": [
      "Hello world! This is a sample string.\n"
     ]
    }
   ],
   "source": [
    "my_list_of_words = ['Hello', 'world!', 'This', 'is', 'a', 'sample', 'string.']\n",
    "my_string = ' '.join(my_list_of_words)\n",
    "\n",
    "print(my_string)\n"
   ]
  },
  {
   "cell_type": "markdown",
   "id": "0699d9c8-6fa1-4d8a-ae9f-ca1001f24cce",
   "metadata": {},
   "source": [
    "45. Create a list of the first 'n' powers of 2"
   ]
  },
  {
   "cell_type": "code",
   "execution_count": 8,
   "id": "e23ee061-ea00-4877-877a-455e60faa35f",
   "metadata": {},
   "outputs": [
    {
     "name": "stdout",
     "output_type": "stream",
     "text": [
      "[1, 2, 4, 8, 16]\n"
     ]
    }
   ],
   "source": [
    "n = 5  # You can replace this with the desired value of n\n",
    "powers_of_2 = [2**i for i in range(n)]\n",
    "\n",
    "print(powers_of_2)\n"
   ]
  },
  {
   "cell_type": "markdown",
   "id": "bcecbe1c-5602-47a0-b73b-2089b9c6c856",
   "metadata": {},
   "source": [
    "46. Find the longest string in a list of strings.\n"
   ]
  },
  {
   "cell_type": "code",
   "execution_count": 9,
   "id": "214af902-bcb9-4c9f-8cc4-241375c6812f",
   "metadata": {},
   "outputs": [
    {
     "name": "stdout",
     "output_type": "stream",
     "text": [
      "The longest string is: strawberry\n"
     ]
    }
   ],
   "source": [
    "my_list_of_strings = [\"apple\", \"banana\", \"kiwi\", \"orange\", \"strawberry\"]\n",
    "\n",
    "longest_string = max(my_list_of_strings, key=len)\n",
    "\n",
    "print(\"The longest string is:\", longest_string)\n"
   ]
  },
  {
   "cell_type": "markdown",
   "id": "66bf1557-4e08-4e24-98c9-b1af877011b4",
   "metadata": {},
   "source": [
    "47. Find the shortest string in a list of strings."
   ]
  },
  {
   "cell_type": "code",
   "execution_count": 10,
   "id": "5c96c449-e555-426a-bb8c-071ab818f7ca",
   "metadata": {},
   "outputs": [
    {
     "name": "stdout",
     "output_type": "stream",
     "text": [
      "The shortest string is: kiwi\n"
     ]
    }
   ],
   "source": [
    "my_list_of_strings = [\"apple\", \"banana\", \"kiwi\", \"orange\", \"strawberry\"]\n",
    "\n",
    "shortest_string = min(my_list_of_strings, key=len)\n",
    "\n",
    "print(\"The shortest string is:\", shortest_string)\n"
   ]
  },
  {
   "cell_type": "markdown",
   "id": "8a131c01-f1d3-4da4-8d61-e5e31b807572",
   "metadata": {},
   "source": [
    "48. Create a list of the first 'n' triangular numbers."
   ]
  },
  {
   "cell_type": "code",
   "execution_count": 11,
   "id": "9ecad026-624c-4547-8b65-0a53119e7dee",
   "metadata": {},
   "outputs": [
    {
     "name": "stdout",
     "output_type": "stream",
     "text": [
      "[1, 3, 6, 10, 15]\n"
     ]
    }
   ],
   "source": [
    "n = 5  # You can replace this with the desired value of n\n",
    "triangular_numbers = [(i * (i + 1)) // 2 for i in range(1, n + 1)]\n",
    "\n",
    "print(triangular_numbers)\n"
   ]
  },
  {
   "cell_type": "markdown",
   "id": "0d0ea1f8-5492-4e9f-b6ce-ba5e019f384a",
   "metadata": {},
   "source": [
    "49. Check if a list contains another list as a subsequence.\n"
   ]
  },
  {
   "cell_type": "code",
   "execution_count": 12,
   "id": "98567db8-c9a0-4f08-98eb-594ac6ae36b2",
   "metadata": {},
   "outputs": [
    {
     "name": "stdout",
     "output_type": "stream",
     "text": [
      "The smaller list is a subsequence of the larger list.\n"
     ]
    }
   ],
   "source": [
    "def is_subsequence(sub, lst):\n",
    "    sub_len, lst_len = len(sub), len(lst)\n",
    "    i = j = 0\n",
    "\n",
    "    while i < sub_len and j < lst_len:\n",
    "        if sub[i] == lst[j]:\n",
    "            i += 1\n",
    "        j += 1\n",
    "\n",
    "    return i == sub_len\n",
    "\n",
    "# Example\n",
    "larger_list = [1, 2, 3, 4, 5, 6, 7, 8]\n",
    "smaller_list = [3, 5, 8]\n",
    "\n",
    "result = is_subsequence(smaller_list, larger_list)\n",
    "\n",
    "if result:\n",
    "    print(\"The smaller list is a subsequence of the larger list.\")\n",
    "else:\n",
    "    print(\"The smaller list is not a subsequence of the larger list.\")\n"
   ]
  },
  {
   "cell_type": "markdown",
   "id": "f8f67eec-29b1-4612-8f96-08928461c62a",
   "metadata": {},
   "source": [
    "50. Swap two elements in a list by their indices."
   ]
  },
  {
   "cell_type": "code",
   "execution_count": 13,
   "id": "0e153d5c-207e-40c6-a8ea-146d9f38b3f5",
   "metadata": {},
   "outputs": [
    {
     "name": "stdout",
     "output_type": "stream",
     "text": [
      "Original List: [1, 2, 3, 4, 5]\n",
      "List after swapping: [1, 4, 3, 2, 5]\n"
     ]
    }
   ],
   "source": [
    "def swap_elements(lst, index1, index2):\n",
    "    # Check if indices are within the range of the list\n",
    "    if 0 <= index1 < len(lst) and 0 <= index2 < len(lst):\n",
    "        lst[index1], lst[index2] = lst[index2], lst[index1]\n",
    "    else:\n",
    "        print(\"Invalid indices.\")\n",
    "\n",
    "# Example\n",
    "my_list = [1, 2, 3, 4, 5]\n",
    "print(\"Original List:\", my_list)\n",
    "\n",
    "# Swap elements at indices 1 and 3\n",
    "swap_elements(my_list, 1, 3)\n",
    "\n",
    "print(\"List after swapping:\", my_list)\n"
   ]
  },
  {
   "cell_type": "markdown",
   "id": "841e44fc-2143-4e57-b9ca-e18825ddd53b",
   "metadata": {},
   "source": [
    " Tuple Based Practice Problem :\n",
    " \n",
    " \n",
    " \n",
    " "
   ]
  },
  {
   "cell_type": "markdown",
   "id": "55fbd508-a967-4461-94e6-f03ca52d6b1f",
   "metadata": {},
   "source": [
    "1. Create a tuple with integers from 1 to 5."
   ]
  },
  {
   "cell_type": "code",
   "execution_count": 14,
   "id": "a399566d-b7fd-4e8c-b6b2-81d69658320b",
   "metadata": {},
   "outputs": [
    {
     "name": "stdout",
     "output_type": "stream",
     "text": [
      "(1, 2, 3, 4, 5)\n"
     ]
    }
   ],
   "source": [
    "my_tuple = tuple(range(1, 6))\n",
    "print(my_tuple)\n"
   ]
  },
  {
   "cell_type": "markdown",
   "id": "954bb801-2422-42fc-b6ba-68302f368d6f",
   "metadata": {},
   "source": [
    "2. Access the third element of a tuple"
   ]
  },
  {
   "cell_type": "code",
   "execution_count": 15,
   "id": "1fa91465-2c3e-4ce8-8d44-1736e3cecda6",
   "metadata": {},
   "outputs": [
    {
     "name": "stdout",
     "output_type": "stream",
     "text": [
      "The third element is: 3\n"
     ]
    }
   ],
   "source": [
    "my_tuple = (1, 2, 3, 4, 5)\n",
    "third_element = my_tuple[2]\n",
    "\n",
    "print(\"The third element is:\", third_element)\n"
   ]
  },
  {
   "cell_type": "markdown",
   "id": "30db983c-2adc-4db4-a7f4-d2267e14be09",
   "metadata": {},
   "source": [
    "3. Find the length of a tuple without using the `len()` function."
   ]
  },
  {
   "cell_type": "code",
   "execution_count": 18,
   "id": "edb3233e-97e6-4ec4-b4e6-31e784370f33",
   "metadata": {},
   "outputs": [
    {
     "name": "stdout",
     "output_type": "stream",
     "text": [
      "The length of the tuple is: 5\n"
     ]
    }
   ],
   "source": [
    "my_tuple = (1, 2, 3, 4, 5)\n",
    "tuple_length = 0\n",
    "\n",
    "for _ in my_tuple:\n",
    "    tuple_length += 1\n",
    "\n",
    "print(\"The length of the tuple is:\", tuple_length)\n"
   ]
  },
  {
   "cell_type": "markdown",
   "id": "22dc3503-0b0c-4ddf-a4e6-0d32e86c25e0",
   "metadata": {},
   "source": [
    "4. Count the occurrences of an element in a tuple"
   ]
  },
  {
   "cell_type": "code",
   "execution_count": 19,
   "id": "3d281a80-233c-4fac-ab76-3c69879e7ca7",
   "metadata": {},
   "outputs": [
    {
     "name": "stdout",
     "output_type": "stream",
     "text": [
      "The element 1 occurs 3 times in the tuple.\n"
     ]
    }
   ],
   "source": [
    "my_tuple = (1, 2, 3, 4, 1, 2, 1, 5)\n",
    "element_to_count = 1\n",
    "\n",
    "occurrences = my_tuple.count(element_to_count)\n",
    "\n",
    "print(f\"The element {element_to_count} occurs {occurrences} times in the tuple.\")\n"
   ]
  },
  {
   "cell_type": "markdown",
   "id": "75d8ef26-2465-4211-a7f9-81889c5b026a",
   "metadata": {},
   "source": [
    "5. Find the index of the first occurrence of an element in a tuple.\n"
   ]
  },
  {
   "cell_type": "code",
   "execution_count": 20,
   "id": "871fde0d-c17a-4c95-8804-41c54a916038",
   "metadata": {},
   "outputs": [
    {
     "name": "stdout",
     "output_type": "stream",
     "text": [
      "The index of the first occurrence of 2 is: 1\n"
     ]
    }
   ],
   "source": [
    "my_tuple = (1, 2, 3, 4, 1, 2, 1, 5)\n",
    "element_to_find = 2\n",
    "\n",
    "index_of_first_occurrence = my_tuple.index(element_to_find)\n",
    "\n",
    "print(f\"The index of the first occurrence of {element_to_find} is: {index_of_first_occurrence}\")\n"
   ]
  },
  {
   "cell_type": "markdown",
   "id": "323fd8b8-086f-4f49-a293-3e3ae85b741f",
   "metadata": {},
   "source": [
    "6. Check if an element exists in a tuple"
   ]
  },
  {
   "cell_type": "code",
   "execution_count": 21,
   "id": "96106449-e92e-4c63-97ad-5a3cce3208c3",
   "metadata": {},
   "outputs": [
    {
     "name": "stdout",
     "output_type": "stream",
     "text": [
      "3 exists in the tuple.\n"
     ]
    }
   ],
   "source": [
    "my_tuple = (1, 2, 3, 4, 5)\n",
    "element_to_check = 3\n",
    "\n",
    "if element_to_check in my_tuple:\n",
    "    print(f\"{element_to_check} exists in the tuple.\")\n",
    "else:\n",
    "    print(f\"{element_to_check} does not exist in the tuple.\")\n",
    "\n",
    "    "
   ]
  },
  {
   "cell_type": "markdown",
   "id": "384090a4-f28e-4618-9ba8-6278547206a4",
   "metadata": {},
   "source": [
    "7. Convert a tuple to a list.\n"
   ]
  },
  {
   "cell_type": "code",
   "execution_count": 22,
   "id": "b5097218-30e9-4a4f-a6ff-0f224d43a3de",
   "metadata": {},
   "outputs": [
    {
     "name": "stdout",
     "output_type": "stream",
     "text": [
      "Tuple: (1, 2, 3, 4, 5)\n",
      "List: [1, 2, 3, 4, 5]\n"
     ]
    }
   ],
   "source": [
    "my_tuple = (1, 2, 3, 4, 5)\n",
    "my_list = list(my_tuple)\n",
    "\n",
    "print(\"Tuple:\", my_tuple)\n",
    "print(\"List:\", my_list)\n"
   ]
  },
  {
   "cell_type": "markdown",
   "id": "e2d93fbb-4ef8-49d3-9fc1-81dc79ec6dc2",
   "metadata": {},
   "source": [
    "8. Convert a list to a tuple."
   ]
  },
  {
   "cell_type": "code",
   "execution_count": 23,
   "id": "f21e892d-fb2a-42a9-88fc-5137fafa873e",
   "metadata": {},
   "outputs": [
    {
     "name": "stdout",
     "output_type": "stream",
     "text": [
      "List: [1, 2, 3, 4, 5]\n",
      "Tuple: (1, 2, 3, 4, 5)\n"
     ]
    }
   ],
   "source": [
    "my_list = [1, 2, 3, 4, 5]\n",
    "my_tuple = tuple(my_list)\n",
    "\n",
    "print(\"List:\", my_list)\n",
    "print(\"Tuple:\", my_tuple)\n"
   ]
  },
  {
   "cell_type": "markdown",
   "id": "5f86a557-6438-4418-9dc0-defd2b7bba4d",
   "metadata": {},
   "source": [
    "9. Unpack the elements of a tuple into variables.\n"
   ]
  },
  {
   "cell_type": "code",
   "execution_count": 24,
   "id": "eb5475df-45ac-4738-a32d-b877b7e00232",
   "metadata": {},
   "outputs": [
    {
     "name": "stdout",
     "output_type": "stream",
     "text": [
      "a: 1\n",
      "b: 2\n",
      "c: 3\n"
     ]
    }
   ],
   "source": [
    "my_tuple = (1, 2, 3)\n",
    "a, b, c = my_tuple\n",
    "\n",
    "print(\"a:\", a)\n",
    "print(\"b:\", b)\n",
    "print(\"c:\", c)\n"
   ]
  },
  {
   "cell_type": "markdown",
   "id": "e24fb332-1250-408c-b246-6db865dbc66a",
   "metadata": {},
   "source": [
    "10. Create a tuple of even numbers from 1 to 10"
   ]
  },
  {
   "cell_type": "code",
   "execution_count": 25,
   "id": "d3f917ee-19b8-4ee9-bcab-801f120c24f8",
   "metadata": {},
   "outputs": [
    {
     "name": "stdout",
     "output_type": "stream",
     "text": [
      "(2, 4, 6, 8, 10)\n"
     ]
    }
   ],
   "source": [
    "even_numbers_tuple = tuple(x for x in range(2, 11, 2))\n",
    "\n",
    "print(even_numbers_tuple)\n"
   ]
  },
  {
   "cell_type": "markdown",
   "id": "87a41386-7d29-46a0-ab0f-cb9cb5d2934f",
   "metadata": {},
   "source": [
    "11. Create a tuple of odd numbers from 1 to 10"
   ]
  },
  {
   "cell_type": "code",
   "execution_count": 26,
   "id": "67739747-2925-441d-8089-879ae1ebf369",
   "metadata": {},
   "outputs": [
    {
     "name": "stdout",
     "output_type": "stream",
     "text": [
      "(1, 3, 5, 7, 9)\n"
     ]
    }
   ],
   "source": [
    "odd_numbers_tuple = tuple(x for x in range(1, 11, 2))\n",
    "\n",
    "print(odd_numbers_tuple)\n"
   ]
  },
  {
   "cell_type": "markdown",
   "id": "f8e878b4-57c6-41f8-a9a2-2fe93edbd70c",
   "metadata": {},
   "source": [
    "12. Concatenate two tuples."
   ]
  },
  {
   "cell_type": "code",
   "execution_count": 27,
   "id": "2ff1ab3a-8b6e-46b0-a41b-8a03c18da972",
   "metadata": {},
   "outputs": [
    {
     "name": "stdout",
     "output_type": "stream",
     "text": [
      "Tuple 1: (1, 2, 3)\n",
      "Tuple 2: (4, 5, 6)\n",
      "Concatenated Tuple: (1, 2, 3, 4, 5, 6)\n"
     ]
    }
   ],
   "source": [
    "tuple1 = (1, 2, 3)\n",
    "tuple2 = (4, 5, 6)\n",
    "\n",
    "concatenated_tuple = tuple1 + tuple2\n",
    "\n",
    "print(\"Tuple 1:\", tuple1)\n",
    "print(\"Tuple 2:\", tuple2)\n",
    "print(\"Concatenated Tuple:\", concatenated_tuple)\n"
   ]
  },
  {
   "cell_type": "markdown",
   "id": "8f8e40ae-df3d-4e9d-8493-c4b7ed1f228f",
   "metadata": {},
   "source": [
    "13. Repeat a tuple three times."
   ]
  },
  {
   "cell_type": "code",
   "execution_count": 28,
   "id": "3fe2d46f-8861-4809-85e1-6b3114721efb",
   "metadata": {},
   "outputs": [
    {
     "name": "stdout",
     "output_type": "stream",
     "text": [
      "Original Tuple: (1, 2, 3)\n",
      "Repeated Tuple: (1, 2, 3, 1, 2, 3, 1, 2, 3)\n"
     ]
    }
   ],
   "source": [
    "original_tuple = (1, 2, 3)\n",
    "\n",
    "repeated_tuple = original_tuple * 3\n",
    "\n",
    "print(\"Original Tuple:\", original_tuple)\n",
    "print(\"Repeated Tuple:\", repeated_tuple)\n"
   ]
  },
  {
   "cell_type": "markdown",
   "id": "bfa96e2b-3daf-49e8-af62-b8a5ab97a164",
   "metadata": {},
   "source": [
    "14. Check if a tuple is empty.\n"
   ]
  },
  {
   "cell_type": "code",
   "execution_count": 30,
   "id": "2211959a-d0c4-4499-90e5-5c9a9e091b0a",
   "metadata": {},
   "outputs": [
    {
     "name": "stdout",
     "output_type": "stream",
     "text": [
      "The tuple is empty.\n"
     ]
    }
   ],
   "source": [
    "my_tuple = ()\n",
    "\n",
    "if not my_tuple:\n",
    "    print(\"The tuple is empty.\")\n",
    "else:\n",
    "    print(\"The tuple is not empty.\")\n"
   ]
  },
  {
   "cell_type": "markdown",
   "id": "77c12c45-2770-4cae-8c7c-6ac393da3086",
   "metadata": {},
   "source": [
    "15. Create a nested tuple"
   ]
  },
  {
   "cell_type": "code",
   "execution_count": 31,
   "id": "8b2dbbad-ee69-4e7f-a520-5f4253ff28f1",
   "metadata": {},
   "outputs": [
    {
     "name": "stdout",
     "output_type": "stream",
     "text": [
      "((1, 2, 3), ('a', 'b', 'c'), (True, False))\n"
     ]
    }
   ],
   "source": [
    "nested_tuple = ((1, 2, 3), ('a', 'b', 'c'), (True, False))\n",
    "\n",
    "print(nested_tuple)\n"
   ]
  },
  {
   "cell_type": "markdown",
   "id": "2a7c1772-107e-4856-8206-634ce362dc81",
   "metadata": {},
   "source": [
    "16. Access the first element of a nested tuple.\n"
   ]
  },
  {
   "cell_type": "code",
   "execution_count": 32,
   "id": "75250116-a025-4776-8f55-308ac06d8f81",
   "metadata": {},
   "outputs": [
    {
     "name": "stdout",
     "output_type": "stream",
     "text": [
      "The first element of the nested tuple is: 1\n"
     ]
    }
   ],
   "source": [
    "nested_tuple = ((1, 2, 3), ('a', 'b', 'c'), (True, False))\n",
    "\n",
    "first_element = nested_tuple[0][0]\n",
    "\n",
    "print(\"The first element of the nested tuple is:\", first_element)\n"
   ]
  },
  {
   "cell_type": "markdown",
   "id": "0018cf5c-8fbc-4773-b866-43703e8ad78d",
   "metadata": {},
   "source": [
    "17. Create a tuple with a single element."
   ]
  },
  {
   "cell_type": "code",
   "execution_count": 33,
   "id": "40e68c22-ca55-4a8d-976f-9f2f54416c96",
   "metadata": {},
   "outputs": [
    {
     "name": "stdout",
     "output_type": "stream",
     "text": [
      "(42,)\n"
     ]
    }
   ],
   "source": [
    "single_element_tuple = (42,)\n",
    "\n",
    "print(single_element_tuple)\n"
   ]
  },
  {
   "cell_type": "markdown",
   "id": "ec77e3b7-151d-4ebd-93ca-c9314c92ed0d",
   "metadata": {},
   "source": [
    "18. Compare two tuples."
   ]
  },
  {
   "cell_type": "code",
   "execution_count": 35,
   "id": "487310f8-7973-411e-87e4-479563c1221e",
   "metadata": {},
   "outputs": [
    {
     "name": "stdout",
     "output_type": "stream",
     "text": [
      "The tuples are not equal.\n"
     ]
    }
   ],
   "source": [
    "tuple1 = (1, 2, 3)\n",
    "tuple2 = (1, 2, 4)\n",
    "\n",
    "if tuple1 == tuple2:\n",
    "    print(\"The tuples are equal.\")\n",
    "else:\n",
    "    print(\"The tuples are not equal.\")\n"
   ]
  },
  {
   "cell_type": "markdown",
   "id": "3470e2ac-34e1-45ba-b14c-9a9e997ea540",
   "metadata": {},
   "source": [
    "19. Delete a tuple."
   ]
  },
  {
   "cell_type": "code",
   "execution_count": 39,
   "id": "96da5500-5ee0-4e47-9106-d25a3416e392",
   "metadata": {},
   "outputs": [],
   "source": [
    "my_tuple = (1, 2, 3, 4, 5)\n",
    "\n",
    "# Deleting the entire tuple\n",
    "del my_tuple\n",
    "\n",
    "# This will raise an error because the tuple no longer exists\n",
    "#print(my_tuple)\n"
   ]
  },
  {
   "cell_type": "markdown",
   "id": "7bc14290-20aa-4365-a868-427a6b739813",
   "metadata": {},
   "source": [
    "20. Slice a tuple"
   ]
  },
  {
   "cell_type": "code",
   "execution_count": 40,
   "id": "eca0e48f-a8d9-41d0-a2ee-a1af1b2c3ee8",
   "metadata": {},
   "outputs": [
    {
     "name": "stdout",
     "output_type": "stream",
     "text": [
      "Original Tuple: (1, 2, 3, 4, 5, 6, 7, 8, 9, 10)\n",
      "Sliced Portion: (3, 4, 5)\n"
     ]
    }
   ],
   "source": [
    "my_tuple = (1, 2, 3, 4, 5, 6, 7, 8, 9, 10)\n",
    "\n",
    "# Slice from index 2 to 5 (exclusive)\n",
    "sliced_portion = my_tuple[2:5]\n",
    "\n",
    "print(\"Original Tuple:\", my_tuple)\n",
    "print(\"Sliced Portion:\", sliced_portion)\n"
   ]
  },
  {
   "cell_type": "markdown",
   "id": "d957ca1d-55ea-4fd8-a3cb-c8cc489fa4a9",
   "metadata": {},
   "source": [
    "21. Find the maximum value in a tuple."
   ]
  },
  {
   "cell_type": "code",
   "execution_count": 41,
   "id": "0bff21c4-17e0-4630-b590-47e959d6dc98",
   "metadata": {},
   "outputs": [
    {
     "name": "stdout",
     "output_type": "stream",
     "text": [
      "The maximum value in the tuple is: 30\n"
     ]
    }
   ],
   "source": [
    "my_tuple = (10, 25, 5, 30, 15)\n",
    "\n",
    "max_value = max(my_tuple)\n",
    "\n",
    "print(\"The maximum value in the tuple is:\", max_value)\n"
   ]
  },
  {
   "cell_type": "markdown",
   "id": "01b7e532-01c9-4bcd-b706-086a819279bf",
   "metadata": {},
   "source": [
    "22. Find the minimum value in a tuple."
   ]
  },
  {
   "cell_type": "code",
   "execution_count": 42,
   "id": "910708a0-ba25-4a5b-afbb-0e921ec7cf33",
   "metadata": {},
   "outputs": [
    {
     "name": "stdout",
     "output_type": "stream",
     "text": [
      "The minimum value in the tuple is: 5\n"
     ]
    }
   ],
   "source": [
    "my_tuple = (10, 25, 5, 30, 15)\n",
    "\n",
    "min_value = min(my_tuple)\n",
    "\n",
    "print(\"The minimum value in the tuple is:\", min_value)\n"
   ]
  },
  {
   "cell_type": "markdown",
   "id": "d0e47014-f671-4aad-ae2e-5e88687861f3",
   "metadata": {},
   "source": [
    "23. Convert a string to a tuple of characters.\n"
   ]
  },
  {
   "cell_type": "code",
   "execution_count": 43,
   "id": "8bb25cdd-8d02-4fd0-a47e-1188b5a1f30b",
   "metadata": {},
   "outputs": [
    {
     "name": "stdout",
     "output_type": "stream",
     "text": [
      "Original String: hello\n",
      "Tuple of Characters: ('h', 'e', 'l', 'l', 'o')\n"
     ]
    }
   ],
   "source": [
    "my_string = \"hello\"\n",
    "tuple_of_characters = tuple(my_string)\n",
    "\n",
    "print(\"Original String:\", my_string)\n",
    "print(\"Tuple of Characters:\", tuple_of_characters)\n"
   ]
  },
  {
   "cell_type": "markdown",
   "id": "90a0cd51-8177-4e9d-9e0b-12ab05b41903",
   "metadata": {},
   "source": [
    "24. Convert a tuple of characters to a string."
   ]
  },
  {
   "cell_type": "code",
   "execution_count": 44,
   "id": "48a21e26-5bf6-4cc4-bf3b-91c07f985757",
   "metadata": {},
   "outputs": [
    {
     "name": "stdout",
     "output_type": "stream",
     "text": [
      "Tuple of Characters: ('h', 'e', 'l', 'l', 'o')\n",
      "String from Tuple: hello\n"
     ]
    }
   ],
   "source": [
    "tuple_of_characters = ('h', 'e', 'l', 'l', 'o')\n",
    "string_from_tuple = ''.join(tuple_of_characters)\n",
    "\n",
    "print(\"Tuple of Characters:\", tuple_of_characters)\n",
    "print(\"String from Tuple:\", string_from_tuple)\n"
   ]
  },
  {
   "cell_type": "markdown",
   "id": "7ddbae06-aa92-4dad-84fc-713c9595706c",
   "metadata": {},
   "source": [
    "25. Create a tuple from multiple data types."
   ]
  },
  {
   "cell_type": "code",
   "execution_count": 45,
   "id": "246cb472-1217-4ac7-bc94-27ead8262249",
   "metadata": {},
   "outputs": [
    {
     "name": "stdout",
     "output_type": "stream",
     "text": [
      "(1, 'hello', 3.14, True)\n"
     ]
    }
   ],
   "source": [
    "mixed_tuple = (1, 'hello', 3.14, True)\n",
    "\n",
    "print(mixed_tuple)\n"
   ]
  },
  {
   "cell_type": "markdown",
   "id": "35176337-160e-4c01-8ca9-758d7db23b41",
   "metadata": {},
   "source": [
    "26. Check if two tuples are identical"
   ]
  },
  {
   "cell_type": "code",
   "execution_count": 46,
   "id": "5c30ef24-efc0-49ce-b20e-dd713bb2296e",
   "metadata": {},
   "outputs": [
    {
     "name": "stdout",
     "output_type": "stream",
     "text": [
      "The tuples are identical.\n"
     ]
    }
   ],
   "source": [
    "tuple1 = (1, 2, 3)\n",
    "tuple2 = (1, 2, 3)\n",
    "\n",
    "if tuple1 == tuple2:\n",
    "    print(\"The tuples are identical.\")\n",
    "else:\n",
    "    print(\"The tuples are not identical.\")\n"
   ]
  },
  {
   "cell_type": "markdown",
   "id": "f8e9c6bd-f8b9-42e9-942a-70fe25a7a3fa",
   "metadata": {},
   "source": [
    "27. Sort the elements of a tuple."
   ]
  },
  {
   "cell_type": "code",
   "execution_count": 47,
   "id": "618e2c3d-e3a5-4158-ad0c-06b8cea07911",
   "metadata": {},
   "outputs": [
    {
     "name": "stdout",
     "output_type": "stream",
     "text": [
      "Original Tuple: (4, 2, 8, 1, 7)\n",
      "Sorted Tuple: (1, 2, 4, 7, 8)\n"
     ]
    }
   ],
   "source": [
    "my_tuple = (4, 2, 8, 1, 7)\n",
    "\n",
    "# Create a sorted list\n",
    "sorted_list = sorted(my_tuple)\n",
    "\n",
    "# Convert the sorted list back to a tuple\n",
    "sorted_tuple = tuple(sorted_list)\n",
    "\n",
    "print(\"Original Tuple:\", my_tuple)\n",
    "print(\"Sorted Tuple:\", sorted_tuple)\n"
   ]
  },
  {
   "cell_type": "markdown",
   "id": "e038dd0c-527a-4b28-a156-784cb1fe0d04",
   "metadata": {},
   "source": [
    "29. Convert a tuple of strings to a tuple of integers."
   ]
  },
  {
   "cell_type": "code",
   "execution_count": 48,
   "id": "0e5dbee5-4ac1-420f-9d86-cb08e7afb228",
   "metadata": {},
   "outputs": [
    {
     "name": "stdout",
     "output_type": "stream",
     "text": [
      "Tuple of Strings: ('1', '2', '3', '4', '5')\n",
      "Tuple of Integers: (1, 2, 3, 4, 5)\n"
     ]
    }
   ],
   "source": [
    "tuple_of_strings = ('1', '2', '3', '4', '5')\n",
    "\n",
    "# Convert each string to an integer using int()\n",
    "tuple_of_integers = tuple(int(x) for x in tuple_of_strings)\n",
    "\n",
    "print(\"Tuple of Strings:\", tuple_of_strings)\n",
    "print(\"Tuple of Integers:\", tuple_of_integers)\n"
   ]
  },
  {
   "cell_type": "markdown",
   "id": "d2244f65-fcae-4d97-b92f-6c9303667a81",
   "metadata": {},
   "source": [
    "30. Merge two tuples."
   ]
  },
  {
   "cell_type": "code",
   "execution_count": 49,
   "id": "99d552df-7edb-44db-98b5-9c1bbe053a89",
   "metadata": {},
   "outputs": [
    {
     "name": "stdout",
     "output_type": "stream",
     "text": [
      "Tuple 1: (1, 2, 3)\n",
      "Tuple 2: ('a', 'b', 'c')\n",
      "Merged Tuple: (1, 2, 3, 'a', 'b', 'c')\n"
     ]
    }
   ],
   "source": [
    "tuple1 = (1, 2, 3)\n",
    "tuple2 = ('a', 'b', 'c')\n",
    "\n",
    "merged_tuple = tuple1 + tuple2\n",
    "\n",
    "print(\"Tuple 1:\", tuple1)\n",
    "print(\"Tuple 2:\", tuple2)\n",
    "print(\"Merged Tuple:\", merged_tuple)\n"
   ]
  },
  {
   "cell_type": "markdown",
   "id": "de8959ac-42c1-4a56-ae8a-35d7e86d6989",
   "metadata": {},
   "source": [
    "31. Flatten a nested tuple."
   ]
  },
  {
   "cell_type": "code",
   "execution_count": 50,
   "id": "91baa1da-28a1-4780-9981-36d176ab6a6a",
   "metadata": {},
   "outputs": [
    {
     "name": "stdout",
     "output_type": "stream",
     "text": [
      "Nested Tuple: ((1, 2, 3), ('a', 'b', 'c'), (True, False))\n",
      "Flattened Tuple: (1, 2, 3, 'a', 'b', 'c', True, False)\n"
     ]
    }
   ],
   "source": [
    "nested_tuple = ((1, 2, 3), ('a', 'b', 'c'), (True, False))\n",
    "\n",
    "flattened_tuple = tuple(item for sublist in nested_tuple for item in sublist)\n",
    "\n",
    "print(\"Nested Tuple:\", nested_tuple)\n",
    "print(\"Flattened Tuple:\", flattened_tuple)\n"
   ]
  },
  {
   "cell_type": "markdown",
   "id": "2a377097-15d4-4851-bbdb-487e855241f1",
   "metadata": {},
   "source": [
    "32. Create a tuple of the first 5 prime numbers.\n"
   ]
  },
  {
   "cell_type": "code",
   "execution_count": 51,
   "id": "c6a74370-f03c-4257-b943-55ff33f7959f",
   "metadata": {},
   "outputs": [
    {
     "name": "stdout",
     "output_type": "stream",
     "text": [
      "Tuple of the first 5 prime numbers: (2, 3, 5, 7, 11)\n"
     ]
    }
   ],
   "source": [
    "# Manually listing the first 5 prime numbers\n",
    "prime_numbers = (2, 3, 5, 7, 11)\n",
    "\n",
    "print(\"Tuple of the first 5 prime numbers:\", prime_numbers)\n"
   ]
  },
  {
   "cell_type": "markdown",
   "id": "9dc4985e-7bba-4234-9adb-d5c3cacaccc3",
   "metadata": {},
   "source": [
    "33. Check if a tuple is a palindrome."
   ]
  },
  {
   "cell_type": "code",
   "execution_count": 52,
   "id": "8889b4be-890b-43be-9f9d-fad87aa5772c",
   "metadata": {},
   "outputs": [
    {
     "name": "stdout",
     "output_type": "stream",
     "text": [
      "Is the tuple (1, 2, 3, 2, 1) a palindrome? True\n",
      "Is the tuple (1, 2, 3, 4, 5) a palindrome? False\n"
     ]
    }
   ],
   "source": [
    "def is_palindrome(my_tuple):\n",
    "    return my_tuple == my_tuple[::-1]\n",
    "\n",
    "# Example 1: Palindrome tuple\n",
    "palindrome_tuple = (1, 2, 3, 2, 1)\n",
    "result1 = is_palindrome(palindrome_tuple)\n",
    "print(f\"Is the tuple {palindrome_tuple} a palindrome? {result1}\")\n",
    "\n",
    "# Example 2: Non-palindrome tuple\n",
    "non_palindrome_tuple = (1, 2, 3, 4, 5)\n",
    "result2 = is_palindrome(non_palindrome_tuple)\n",
    "print(f\"Is the tuple {non_palindrome_tuple} a palindrome? {result2}\")\n"
   ]
  },
  {
   "cell_type": "markdown",
   "id": "8a43108e-10d0-41f0-87d7-a47cbd8e8e9a",
   "metadata": {},
   "source": [
    "34. Create a tuple of squares of numbers from 1 to 5.\n"
   ]
  },
  {
   "cell_type": "code",
   "execution_count": 53,
   "id": "0d75cff3-f657-4a5f-99ca-8d824b5ec767",
   "metadata": {},
   "outputs": [
    {
     "name": "stdout",
     "output_type": "stream",
     "text": [
      "Tuple of squares: (1, 4, 9, 16, 25)\n"
     ]
    }
   ],
   "source": [
    "squares_tuple = tuple(x**2 for x in range(1, 6))\n",
    "\n",
    "print(\"Tuple of squares:\", squares_tuple)\n"
   ]
  },
  {
   "cell_type": "markdown",
   "id": "f76f6e4b-551b-4b70-88e4-7268fc9b9d02",
   "metadata": {},
   "source": [
    "35. Filter out all even numbers from a tuple."
   ]
  },
  {
   "cell_type": "code",
   "execution_count": 54,
   "id": "c7c38fa5-3707-4dfd-b35e-317b752d65d8",
   "metadata": {},
   "outputs": [
    {
     "name": "stdout",
     "output_type": "stream",
     "text": [
      "Original Tuple: (1, 2, 3, 4, 5, 6, 7, 8, 9, 10)\n",
      "Filtered Tuple (odd numbers only): (1, 3, 5, 7, 9)\n"
     ]
    }
   ],
   "source": [
    "original_tuple = (1, 2, 3, 4, 5, 6, 7, 8, 9, 10)\n",
    "\n",
    "filtered_tuple = tuple(x for x in original_tuple if x % 2 != 0)\n",
    "\n",
    "print(\"Original Tuple:\", original_tuple)\n",
    "print(\"Filtered Tuple (odd numbers only):\", filtered_tuple)\n"
   ]
  },
  {
   "cell_type": "markdown",
   "id": "657b37d4-13de-490b-a51e-b7411fdc958e",
   "metadata": {},
   "source": [
    "36. Multiply all elements in a tuple by 2."
   ]
  },
  {
   "cell_type": "code",
   "execution_count": 55,
   "id": "ee5ce88b-4754-49b2-852c-ca786bee2cd1",
   "metadata": {},
   "outputs": [
    {
     "name": "stdout",
     "output_type": "stream",
     "text": [
      "Original Tuple: (1, 2, 3, 4, 5)\n",
      "Doubled Tuple: (2, 4, 6, 8, 10)\n"
     ]
    }
   ],
   "source": [
    "original_tuple = (1, 2, 3, 4, 5)\n",
    "\n",
    "doubled_tuple = tuple(x * 2 for x in original_tuple)\n",
    "\n",
    "print(\"Original Tuple:\", original_tuple)\n",
    "print(\"Doubled Tuple:\", doubled_tuple)\n"
   ]
  },
  {
   "cell_type": "markdown",
   "id": "2454c18e-6541-4f8e-98cc-5a727625dbb9",
   "metadata": {},
   "source": [
    "37. Create a tuple of random numbers.\n"
   ]
  },
  {
   "cell_type": "code",
   "execution_count": 56,
   "id": "5357d566-0fa0-4a8d-a318-8421e1fce735",
   "metadata": {},
   "outputs": [
    {
     "name": "stdout",
     "output_type": "stream",
     "text": [
      "Tuple of Random Numbers: (70, 20, 7, 39, 60)\n"
     ]
    }
   ],
   "source": [
    "import random\n",
    "\n",
    "# Generating a tuple of 5 random numbers between 1 and 100\n",
    "random_tuple = tuple(random.randint(1, 100) for _ in range(5))\n",
    "\n",
    "print(\"Tuple of Random Numbers:\", random_tuple)\n"
   ]
  },
  {
   "cell_type": "markdown",
   "id": "dc92d48f-1b06-4d99-918b-d30e2b8161e8",
   "metadata": {},
   "source": [
    "38. Check if a tuple is sorted"
   ]
  },
  {
   "cell_type": "code",
   "execution_count": 57,
   "id": "0f0a2b21-47d0-4858-97bc-170ba73d84da",
   "metadata": {},
   "outputs": [
    {
     "name": "stdout",
     "output_type": "stream",
     "text": [
      "Is the tuple (1, 2, 3, 4, 5) sorted? True\n",
      "Is the tuple (5, 3, 1, 4, 2) sorted? False\n"
     ]
    }
   ],
   "source": [
    "def is_sorted(my_tuple):\n",
    "    return my_tuple == tuple(sorted(my_tuple))\n",
    "\n",
    "# Example 1: Sorted tuple\n",
    "sorted_tuple = (1, 2, 3, 4, 5)\n",
    "result1 = is_sorted(sorted_tuple)\n",
    "print(f\"Is the tuple {sorted_tuple} sorted? {result1}\")\n",
    "\n",
    "# Example 2: Unsorted tuple\n",
    "unsorted_tuple = (5, 3, 1, 4, 2)\n",
    "result2 = is_sorted(unsorted_tuple)\n",
    "print(f\"Is the tuple {unsorted_tuple} sorted? {result2}\")\n"
   ]
  },
  {
   "cell_type": "markdown",
   "id": "068b89a6-133e-4388-8ffd-3adf6d7a6881",
   "metadata": {},
   "source": [
    "39. Rotate a tuple to the left by 'n' positions."
   ]
  },
  {
   "cell_type": "code",
   "execution_count": 58,
   "id": "97133b18-7085-4843-a2cb-6cf07ff39953",
   "metadata": {},
   "outputs": [
    {
     "name": "stdout",
     "output_type": "stream",
     "text": [
      "Is the tuple (1, 2, 3, 4, 5) sorted? True\n",
      "Is the tuple (5, 3, 1, 4, 2) sorted? False\n"
     ]
    }
   ],
   "source": [
    "def is_sorted(my_tuple):\n",
    "    return my_tuple == tuple(sorted(my_tuple))\n",
    "\n",
    "# Example 1: Sorted tuple\n",
    "sorted_tuple = (1, 2, 3, 4, 5)\n",
    "result1 = is_sorted(sorted_tuple)\n",
    "print(f\"Is the tuple {sorted_tuple} sorted? {result1}\")\n",
    "\n",
    "# Example 2: Unsorted tuple\n",
    "unsorted_tuple = (5, 3, 1, 4, 2)\n",
    "result2 = is_sorted(unsorted_tuple)\n",
    "print(f\"Is the tuple {unsorted_tuple} sorted? {result2}\")\n"
   ]
  },
  {
   "cell_type": "markdown",
   "id": "752da003-f510-4bdd-bcf0-705c5c47c10a",
   "metadata": {},
   "source": [
    "40. Rotate a tuple to the right by 'n' positions.\n"
   ]
  },
  {
   "cell_type": "code",
   "execution_count": 59,
   "id": "96c1e7b5-0bc9-45d5-9965-8e62b7e8a9e7",
   "metadata": {},
   "outputs": [
    {
     "name": "stdout",
     "output_type": "stream",
     "text": [
      "Original Tuple: (1, 2, 3, 4, 5)\n",
      "Rotated Tuple to the right by 2 positions: (4, 5, 1, 2, 3)\n"
     ]
    }
   ],
   "source": [
    "def rotate_tuple_right(my_tuple, n):\n",
    "    length = len(my_tuple)\n",
    "    n = n % length  # Ensure n is within the length of the tuple\n",
    "    rotated_tuple = my_tuple[-n:] + my_tuple[:-n]\n",
    "    return rotated_tuple\n",
    "\n",
    "# Example:\n",
    "original_tuple = (1, 2, 3, 4, 5)\n",
    "n_positions = 2\n",
    "\n",
    "rotated_tuple = rotate_tuple_right(original_tuple, n_positions)\n",
    "\n",
    "print(\"Original Tuple:\", original_tuple)\n",
    "print(f\"Rotated Tuple to the right by {n_positions} positions:\", rotated_tuple)\n"
   ]
  },
  {
   "cell_type": "markdown",
   "id": "0612fb38-4e6f-4fa9-af38-4966e83889f1",
   "metadata": {},
   "source": [
    "41. Create a tuple of the first 5 Fibonacci numbers."
   ]
  },
  {
   "cell_type": "code",
   "execution_count": 1,
   "id": "c3edcf79-01c3-4c3b-8d3b-6c7166c11bed",
   "metadata": {},
   "outputs": [
    {
     "name": "stdout",
     "output_type": "stream",
     "text": [
      "(0, 1, 1, 2, 3)\n"
     ]
    }
   ],
   "source": [
    "# Function to generate the first n Fibonacci numbers\n",
    "def generate_fibonacci(n):\n",
    "    fibonacci_numbers = [0, 1]\n",
    "    while len(fibonacci_numbers) < n:\n",
    "        next_number = fibonacci_numbers[-1] + fibonacci_numbers[-2]\n",
    "        fibonacci_numbers.append(next_number)\n",
    "    return tuple(fibonacci_numbers[:n])\n",
    "\n",
    "# Generate a tuple of the first 5 Fibonacci numbers\n",
    "fibonacci_tuple = generate_fibonacci(5)\n",
    "\n",
    "print(fibonacci_tuple)\n"
   ]
  },
  {
   "cell_type": "markdown",
   "id": "d5b882c2-7de4-414d-9a39-bfdc732f3e85",
   "metadata": {},
   "source": [
    "42. Create a tuple from user input"
   ]
  },
  {
   "cell_type": "code",
   "execution_count": 2,
   "id": "79f72c56-c58c-4d08-8a5d-76504838c700",
   "metadata": {},
   "outputs": [
    {
     "name": "stdin",
     "output_type": "stream",
     "text": [
      "Enter the first element:  1\n",
      "Enter the second element:  2\n",
      "Enter the third element:  3\n"
     ]
    },
    {
     "name": "stdout",
     "output_type": "stream",
     "text": [
      "User Input Tuple: ('1', '2', '3')\n"
     ]
    }
   ],
   "source": [
    "# Get user input for elements of the tuple\n",
    "element1 = input(\"Enter the first element: \")\n",
    "element2 = input(\"Enter the second element: \")\n",
    "element3 = input(\"Enter the third element: \")\n",
    "\n",
    "# Create a tuple from user input\n",
    "user_input_tuple = (element1, element2, element3)\n",
    "\n",
    "# Display the resulting tuple\n",
    "print(\"User Input Tuple:\", user_input_tuple)\n"
   ]
  },
  {
   "cell_type": "markdown",
   "id": "43c2fe97-230a-4b80-ba98-54cf130995eb",
   "metadata": {},
   "source": [
    "43. Swap two elements in a tuple.\n"
   ]
  },
  {
   "cell_type": "code",
   "execution_count": 5,
   "id": "90e73517-0a15-4f35-ba68-60926ad5dc04",
   "metadata": {},
   "outputs": [
    {
     "name": "stdout",
     "output_type": "stream",
     "text": [
      "Original Tuple: (1, 2, 3, 4)\n",
      "Swapped Tuple: (1, 3, 2, 4)\n"
     ]
    }
   ],
   "source": [
    "# Original tuple\n",
    "original_tuple = (1, 2, 3, 4)\n",
    "\n",
    "# Indices of the elements to swap\n",
    "index1 = 1\n",
    "index2 = 2\n",
    "\n",
    "# Convert the tuple to a list to modify it\n",
    "list_representation = list(original_tuple)\n",
    "\n",
    "# Swap the elements using list indices\n",
    "list_representation[index1], list_representation[index2] = list_representation[index2], list_representation[index1]\n",
    "\n",
    "# Convert the list back to a tuple\n",
    "swapped_tuple = tuple(list_representation)\n",
    "\n",
    "# Display the original and swapped tuples\n",
    "print(\"Original Tuple:\", original_tuple)\n",
    "print(\"Swapped Tuple:\", swapped_tuple)\n"
   ]
  },
  {
   "cell_type": "markdown",
   "id": "b9347dd1-62a1-46ee-9603-12466f9d260b",
   "metadata": {},
   "source": [
    "44. Reverse the elements of a tuple"
   ]
  },
  {
   "cell_type": "code",
   "execution_count": 6,
   "id": "8501fb1d-c2bf-47a1-a6e4-ce2cc468693b",
   "metadata": {},
   "outputs": [
    {
     "name": "stdout",
     "output_type": "stream",
     "text": [
      "Original Tuple: (1, 2, 3, 4, 5)\n",
      "Reversed Tuple: (5, 4, 3, 2, 1)\n"
     ]
    }
   ],
   "source": [
    "# Original tuple\n",
    "original_tuple = (1, 2, 3, 4, 5)\n",
    "\n",
    "# Reverse the tuple\n",
    "reversed_tuple = tuple(reversed(original_tuple))\n",
    "\n",
    "# Display the original and reversed tuples\n",
    "print(\"Original Tuple:\", original_tuple)\n",
    "print(\"Reversed Tuple:\", reversed_tuple)\n"
   ]
  },
  {
   "cell_type": "markdown",
   "id": "c9f5fa4d-e34e-4885-aea3-90023dbd871a",
   "metadata": {},
   "source": [
    "45. Create a tuple of the first 'n' powers of 2."
   ]
  },
  {
   "cell_type": "code",
   "execution_count": 7,
   "id": "76825ad7-589c-4e9d-9716-e91ed5591655",
   "metadata": {},
   "outputs": [
    {
     "name": "stdout",
     "output_type": "stream",
     "text": [
      "(1, 2, 4, 8, 16)\n"
     ]
    }
   ],
   "source": [
    "# Function to generate the first n powers of 2\n",
    "def generate_powers_of_two(n):\n",
    "    return tuple(2 ** i for i in range(n))\n",
    "\n",
    "# Specify the value of n\n",
    "n = 5\n",
    "\n",
    "# Generate a tuple of the first n powers of 2\n",
    "powers_of_two_tuple = generate_powers_of_two(n)\n",
    "\n",
    "# Display the resulting tuple\n",
    "print(powers_of_two_tuple)\n"
   ]
  },
  {
   "cell_type": "markdown",
   "id": "f47b286c-8b74-45a2-8272-9e24ac779e60",
   "metadata": {},
   "source": [
    "46. Find the longest string in a tuple of strings.\n"
   ]
  },
  {
   "cell_type": "code",
   "execution_count": 8,
   "id": "7d5f0912-2607-42ab-9d04-12c26187247a",
   "metadata": {},
   "outputs": [
    {
     "name": "stdout",
     "output_type": "stream",
     "text": [
      "Longest String: strawberry\n"
     ]
    }
   ],
   "source": [
    "# Function to find the longest string in a tuple\n",
    "def find_longest_string(input_tuple):\n",
    "    if not input_tuple:\n",
    "        return None  # Return None for an empty tuple\n",
    "\n",
    "    longest_string = input_tuple[0]  # Initialize with the first string\n",
    "    max_length = len(longest_string)\n",
    "\n",
    "    for string in input_tuple:\n",
    "        current_length = len(string)\n",
    "        if current_length > max_length:\n",
    "            longest_string = string\n",
    "            max_length = current_length\n",
    "\n",
    "    return longest_string\n",
    "\n",
    "# Example tuple of strings\n",
    "string_tuple = (\"apple\", \"banana\", \"kiwi\", \"strawberry\", \"blueberry\")\n",
    "\n",
    "# Find the longest string\n",
    "longest_string = find_longest_string(string_tuple)\n",
    "\n",
    "# Display the result\n",
    "print(\"Longest String:\", longest_string)\n"
   ]
  },
  {
   "cell_type": "markdown",
   "id": "94dd97a4-b707-4dc2-81f2-ce7f1e61ef46",
   "metadata": {},
   "source": [
    "47. Find the shortest string in a tuple of strings."
   ]
  },
  {
   "cell_type": "code",
   "execution_count": 9,
   "id": "225119b4-62a8-4136-90bd-a2eb55559829",
   "metadata": {},
   "outputs": [
    {
     "name": "stdout",
     "output_type": "stream",
     "text": [
      "Shortest String: kiwi\n"
     ]
    }
   ],
   "source": [
    "# Function to find the shortest string in a tuple\n",
    "def find_shortest_string(input_tuple):\n",
    "    if not input_tuple:\n",
    "        return None  # Return None for an empty tuple\n",
    "\n",
    "    shortest_string = input_tuple[0]  # Initialize with the first string\n",
    "    min_length = len(shortest_string)\n",
    "\n",
    "    for string in input_tuple:\n",
    "        current_length = len(string)\n",
    "        if current_length < min_length:\n",
    "            shortest_string = string\n",
    "            min_length = current_length\n",
    "\n",
    "    return shortest_string\n",
    "\n",
    "# Example tuple of strings\n",
    "string_tuple = (\"apple\", \"banana\", \"kiwi\", \"strawberry\", \"blueberry\")\n",
    "\n",
    "# Find the shortest string\n",
    "shortest_string = find_shortest_string(string_tuple)\n",
    "\n",
    "# Display the result\n",
    "print(\"Shortest String:\", shortest_string)\n"
   ]
  },
  {
   "cell_type": "markdown",
   "id": "bbad4321-ab89-4cf6-a6a0-c9ded50d38f6",
   "metadata": {},
   "source": [
    "48. Create a tuple of the first 'n' triangular numbers."
   ]
  },
  {
   "cell_type": "code",
   "execution_count": 10,
   "id": "7806494b-570d-4db9-87c3-de1f30413a96",
   "metadata": {},
   "outputs": [
    {
     "name": "stdout",
     "output_type": "stream",
     "text": [
      "(1, 3, 6, 10, 15)\n"
     ]
    }
   ],
   "source": [
    "# Function to generate the first n triangular numbers\n",
    "def generate_triangular_numbers(n):\n",
    "    return tuple((i * (i + 1)) // 2 for i in range(1, n + 1))\n",
    "\n",
    "# Specify the value of n\n",
    "n = 5\n",
    "\n",
    "# Generate a tuple of the first n triangular numbers\n",
    "triangular_numbers_tuple = generate_triangular_numbers(n)\n",
    "\n",
    "# Display the resulting tuple\n",
    "print(triangular_numbers_tuple)\n"
   ]
  },
  {
   "cell_type": "markdown",
   "id": "3d2db585-ad9d-45b1-bc52-398afce18611",
   "metadata": {},
   "source": [
    "49. Check if a tuple contains another tuple as a subsequence.\n"
   ]
  },
  {
   "cell_type": "code",
   "execution_count": 1,
   "id": "c0d2842c-b187-497c-8635-b36f16a9f57f",
   "metadata": {},
   "outputs": [
    {
     "name": "stdout",
     "output_type": "stream",
     "text": [
      "The tuple contains the subsequence.\n"
     ]
    }
   ],
   "source": [
    "# Function to check if a tuple contains another tuple as a subsequence\n",
    "def contains_subsequence(main_tuple, sub_tuple):\n",
    "    m = len(main_tuple)\n",
    "    n = len(sub_tuple)\n",
    "\n",
    "    for i in range(m - n + 1):\n",
    "        if main_tuple[i:i + n] == sub_tuple:\n",
    "            return True\n",
    "\n",
    "    return False\n",
    "\n",
    "# Example tuples\n",
    "main_tuple = (1, 2, 3, 4, 5, 6, 7, 8, 9)\n",
    "sub_tuple = (3, 4, 5)\n",
    "\n",
    "# Check if main_tuple contains sub_tuple as a subsequence\n",
    "result = contains_subsequence(main_tuple, sub_tuple)\n",
    "\n",
    "# Display the result\n",
    "if result:\n",
    "    print(\"The tuple contains the subsequence.\")\n",
    "else:\n",
    "    print(\"The tuple does not contain the subsequence.\")\n"
   ]
  },
  {
   "cell_type": "markdown",
   "id": "b82692b2-c400-41c1-8cdc-a31968ed90de",
   "metadata": {},
   "source": [
    "50. Create a tuple of alternating 1s and 0s of length 'n'."
   ]
  },
  {
   "cell_type": "code",
   "execution_count": 2,
   "id": "4afd719f-929f-447d-8248-6a306b6b5537",
   "metadata": {},
   "outputs": [
    {
     "name": "stdout",
     "output_type": "stream",
     "text": [
      "(0, 1, 0, 1, 0, 1, 0, 1)\n"
     ]
    }
   ],
   "source": [
    "# Function to create a tuple of alternating 1s and 0s\n",
    "def create_alternating_tuple(n):\n",
    "    return tuple(i % 2 for i in range(n))\n",
    "\n",
    "# Specify the length of the tuple\n",
    "n = 8\n",
    "\n",
    "# Generate the tuple of alternating 1s and 0s\n",
    "alternating_tuple = create_alternating_tuple(n)\n",
    "\n",
    "# Display the resulting tuple\n",
    "print(alternating_tuple)\n"
   ]
  },
  {
   "cell_type": "markdown",
   "id": "da966bf0-9fc2-4996-9ece-d456236156b2",
   "metadata": {},
   "source": [
    "Set Based Practice Problem :"
   ]
  },
  {
   "cell_type": "markdown",
   "id": "441ba087-7a00-44e6-a2b7-c8ef0f2f0f57",
   "metadata": {},
   "source": [
    "1. Create a set with integers from 1 to 5.\n"
   ]
  },
  {
   "cell_type": "code",
   "execution_count": 4,
   "id": "2e417b33-68b6-4b40-a22e-6d73cb7e956d",
   "metadata": {},
   "outputs": [
    {
     "name": "stdout",
     "output_type": "stream",
     "text": [
      "{1, 2, 3, 4, 5}\n"
     ]
    }
   ],
   "source": [
    "my_set = {1, 2, 3, 4, 5}\n",
    "print(my_set)\n"
   ]
  },
  {
   "cell_type": "markdown",
   "id": "8d881af6-e668-47be-ae19-d35200c56588",
   "metadata": {},
   "source": [
    "2. Add an element to a set"
   ]
  },
  {
   "cell_type": "code",
   "execution_count": 5,
   "id": "8ed4a9e2-b105-4cc3-b7e1-172540102941",
   "metadata": {},
   "outputs": [
    {
     "name": "stdout",
     "output_type": "stream",
     "text": [
      "{1, 2, 3, 4, 5, 6}\n"
     ]
    }
   ],
   "source": [
    "# Create a set\n",
    "my_set = {1, 2, 3, 4, 5}\n",
    "\n",
    "# Add an element to the set\n",
    "my_set.add(6)\n",
    "\n",
    "# Display the updated set\n",
    "print(my_set)\n"
   ]
  },
  {
   "cell_type": "markdown",
   "id": "da1ef06f-163e-404f-a988-4556b3c85a59",
   "metadata": {},
   "source": [
    "3. Remove an element from a set.\n"
   ]
  },
  {
   "cell_type": "code",
   "execution_count": 6,
   "id": "62409e06-cb0d-4b6a-bb7e-d6c1caad7eea",
   "metadata": {},
   "outputs": [
    {
     "name": "stdout",
     "output_type": "stream",
     "text": [
      "{1, 2, 4, 5}\n"
     ]
    }
   ],
   "source": [
    "# Create a set\n",
    "my_set = {1, 2, 3, 4, 5}\n",
    "\n",
    "# Remove an element from the set\n",
    "my_set.remove(3)\n",
    "\n",
    "# Display the updated set\n",
    "print(my_set)\n"
   ]
  },
  {
   "cell_type": "markdown",
   "id": "b199b90b-2dfa-40c7-89d3-922418172a20",
   "metadata": {},
   "source": [
    "4. Check if an element exists in a set."
   ]
  },
  {
   "cell_type": "code",
   "execution_count": 7,
   "id": "b9862365-d641-43e5-b559-6391207875ed",
   "metadata": {},
   "outputs": [
    {
     "name": "stdout",
     "output_type": "stream",
     "text": [
      "3 exists in the set.\n"
     ]
    }
   ],
   "source": [
    "# Create a set\n",
    "my_set = {1, 2, 3, 4, 5}\n",
    "\n",
    "# Check if an element exists in the set\n",
    "element_to_check = 3\n",
    "if element_to_check in my_set:\n",
    "    print(f\"{element_to_check} exists in the set.\")\n",
    "else:\n",
    "    print(f\"{element_to_check} does not exist in the set.\")\n"
   ]
  },
  {
   "cell_type": "markdown",
   "id": "0862e593-eb39-41de-9fa3-6164b602215b",
   "metadata": {},
   "source": [
    "5. Find the length of a set without using the 'len()' function."
   ]
  },
  {
   "cell_type": "code",
   "execution_count": 8,
   "id": "24365300-882e-4af9-9d8d-4daa9ac6bc75",
   "metadata": {},
   "outputs": [
    {
     "name": "stdout",
     "output_type": "stream",
     "text": [
      "Length of the set: 5\n"
     ]
    }
   ],
   "source": [
    "# Create a set\n",
    "my_set = {1, 2, 3, 4, 5}\n",
    "\n",
    "# Find the length of the set without using len()\n",
    "length = 0\n",
    "for _ in my_set:\n",
    "    length += 1\n",
    "\n",
    "# Display the length of the set\n",
    "print(\"Length of the set:\", length)\n"
   ]
  },
  {
   "cell_type": "markdown",
   "id": "69ffb5c8-aa39-46ae-9bd2-ba873238326e",
   "metadata": {},
   "source": [
    "6. Clear all elements from a set"
   ]
  },
  {
   "cell_type": "code",
   "execution_count": 9,
   "id": "dd6ac5fc-35e8-4e0b-b76a-5565d7e3f7bb",
   "metadata": {},
   "outputs": [
    {
     "name": "stdout",
     "output_type": "stream",
     "text": [
      "Set after clearing: set()\n"
     ]
    }
   ],
   "source": [
    "# Create a set\n",
    "my_set = {1, 2, 3, 4, 5}\n",
    "\n",
    "# Clear all elements from the set\n",
    "my_set.clear()\n",
    "\n",
    "# Display the empty set\n",
    "print(\"Set after clearing:\", my_set)\n"
   ]
  },
  {
   "cell_type": "markdown",
   "id": "4b6c5971-db72-4e92-8c34-72c0b6961591",
   "metadata": {},
   "source": [
    "7. Create a set of even numbers from 1 to 10."
   ]
  },
  {
   "cell_type": "code",
   "execution_count": 10,
   "id": "c751a0ec-787d-4d12-a4a5-e6a44819f793",
   "metadata": {},
   "outputs": [
    {
     "name": "stdout",
     "output_type": "stream",
     "text": [
      "{2, 4, 6, 8, 10}\n"
     ]
    }
   ],
   "source": [
    "# Create a set of even numbers from 1 to 10\n",
    "even_numbers_set = {x for x in range(1, 11) if x % 2 == 0}\n",
    "\n",
    "# Display the resulting set\n",
    "print(even_numbers_set)\n"
   ]
  },
  {
   "cell_type": "markdown",
   "id": "4bb4b1f2-35b8-44cd-962d-023325b3a2f8",
   "metadata": {},
   "source": [
    "8. Create a set of odd numbers from 1 to 10."
   ]
  },
  {
   "cell_type": "code",
   "execution_count": 11,
   "id": "75793005-5162-494f-bd3b-6609aec8a18a",
   "metadata": {},
   "outputs": [
    {
     "name": "stdout",
     "output_type": "stream",
     "text": [
      "{1, 3, 5, 7, 9}\n"
     ]
    }
   ],
   "source": [
    "# Create a set of odd numbers from 1 to 10\n",
    "odd_numbers_set = {x for x in range(1, 11) if x % 2 != 0}\n",
    "\n",
    "# Display the resulting set\n",
    "print(odd_numbers_set)\n"
   ]
  },
  {
   "cell_type": "markdown",
   "id": "fbeb9a3b-eb98-44fe-9564-99c108b1f517",
   "metadata": {},
   "source": [
    "9. Find the union of two sets.\n"
   ]
  },
  {
   "cell_type": "code",
   "execution_count": 12,
   "id": "77dcba06-7802-47bd-8e43-7ba8ba95c899",
   "metadata": {},
   "outputs": [
    {
     "name": "stdout",
     "output_type": "stream",
     "text": [
      "Union of the sets: {1, 2, 3, 4, 5, 6, 7}\n"
     ]
    }
   ],
   "source": [
    "# Create two sets\n",
    "set1 = {1, 2, 3, 4, 5}\n",
    "set2 = {3, 4, 5, 6, 7}\n",
    "\n",
    "# Find the union of the two sets using the union() method\n",
    "union_set = set1.union(set2)\n",
    "\n",
    "# Display the resulting set\n",
    "print(\"Union of the sets:\", union_set)\n"
   ]
  },
  {
   "cell_type": "markdown",
   "id": "5d36775d-9cd0-4de7-ae96-b06e1f070f59",
   "metadata": {},
   "source": [
    "10. Find the intersection of two sets."
   ]
  },
  {
   "cell_type": "code",
   "execution_count": 13,
   "id": "c9b1e3fc-d8fe-447b-bc19-341feb070f04",
   "metadata": {},
   "outputs": [
    {
     "name": "stdout",
     "output_type": "stream",
     "text": [
      "Intersection of the sets: {3, 4, 5}\n"
     ]
    }
   ],
   "source": [
    "# Create two sets\n",
    "set1 = {1, 2, 3, 4, 5}\n",
    "set2 = {3, 4, 5, 6, 7}\n",
    "\n",
    "# Find the intersection of the two sets using the intersection() method\n",
    "intersection_set = set1.intersection(set2)\n",
    "\n",
    "# Display the resulting set\n",
    "print(\"Intersection of the sets:\", intersection_set)\n"
   ]
  },
  {
   "cell_type": "markdown",
   "id": "0e18e156-8442-4270-8010-ccdb8e879def",
   "metadata": {},
   "source": [
    "11. Find the difference between two sets."
   ]
  },
  {
   "cell_type": "code",
   "execution_count": 14,
   "id": "ec190585-fe3b-43ee-8657-372e9b36c732",
   "metadata": {},
   "outputs": [
    {
     "name": "stdout",
     "output_type": "stream",
     "text": [
      "Difference between the sets: {1, 2}\n"
     ]
    }
   ],
   "source": [
    "# Create two sets\n",
    "set1 = {1, 2, 3, 4, 5}\n",
    "set2 = {3, 4, 5, 6, 7}\n",
    "\n",
    "# Find the difference between set1 and set2 using the difference() method\n",
    "difference_set = set1.difference(set2)\n",
    "\n",
    "# Display the resulting set\n",
    "print(\"Difference between the sets:\", difference_set)\n"
   ]
  },
  {
   "cell_type": "markdown",
   "id": "270ccab4-9636-4747-b309-348d54f06886",
   "metadata": {},
   "source": [
    "12. Check if a set is a subset of another set."
   ]
  },
  {
   "cell_type": "code",
   "execution_count": 15,
   "id": "2a99a5c7-541d-4b15-a912-f8ec0acc7cd8",
   "metadata": {},
   "outputs": [
    {
     "name": "stdout",
     "output_type": "stream",
     "text": [
      "set2 is a subset of set1.\n"
     ]
    }
   ],
   "source": [
    "# Create two sets\n",
    "set1 = {1, 2, 3, 4, 5}\n",
    "set2 = {2, 4}\n",
    "\n",
    "# Check if set2 is a subset of set1 using the issubset() method\n",
    "is_subset = set2.issubset(set1)\n",
    "\n",
    "# Display the result\n",
    "if is_subset:\n",
    "    print(\"set2 is a subset of set1.\")\n",
    "else:\n",
    "    print(\"set2 is not a subset of set1.\")\n"
   ]
  },
  {
   "cell_type": "markdown",
   "id": "30004ea4-2f33-42c1-98b0-84dea71277c5",
   "metadata": {},
   "source": [
    "13. Check if a set is a superset of another set."
   ]
  },
  {
   "cell_type": "code",
   "execution_count": 16,
   "id": "921e81ca-7688-48fe-8ca2-1445d5f88576",
   "metadata": {},
   "outputs": [
    {
     "name": "stdout",
     "output_type": "stream",
     "text": [
      "set1 is a superset of set2.\n"
     ]
    }
   ],
   "source": [
    "# Create two sets\n",
    "set1 = {1, 2, 3, 4, 5}\n",
    "set2 = {2, 4}\n",
    "\n",
    "# Check if set1 is a superset of set2 using the issuperset() method\n",
    "is_superset = set1.issuperset(set2)\n",
    "\n",
    "# Display the result\n",
    "if is_superset:\n",
    "    print(\"set1 is a superset of set2.\")\n",
    "else:\n",
    "    print(\"set1 is not a superset of set2.\")\n"
   ]
  },
  {
   "cell_type": "markdown",
   "id": "05ce3f88-a906-405b-b8d2-c64a4bb2d8f9",
   "metadata": {},
   "source": [
    "14. Create a set from a list.\n"
   ]
  },
  {
   "cell_type": "code",
   "execution_count": 17,
   "id": "a30b1d76-38c3-4e90-b6b1-3e741814d705",
   "metadata": {},
   "outputs": [
    {
     "name": "stdout",
     "output_type": "stream",
     "text": [
      "{1, 2, 3, 4, 5}\n"
     ]
    }
   ],
   "source": [
    "# Create a list\n",
    "my_list = [1, 2, 3, 4, 5]\n",
    "\n",
    "# Create a set from the list using the set() constructor\n",
    "my_set = set(my_list)\n",
    "\n",
    "# Display the resulting set\n",
    "print(my_set)\n"
   ]
  },
  {
   "cell_type": "markdown",
   "id": "c4c75d81-3f01-4797-bd42-042a99351d59",
   "metadata": {},
   "source": [
    "15. Convert a set to a list.\n"
   ]
  },
  {
   "cell_type": "code",
   "execution_count": 18,
   "id": "b5e8466a-1203-462c-8ef7-07a9ee30fbdd",
   "metadata": {},
   "outputs": [
    {
     "name": "stdout",
     "output_type": "stream",
     "text": [
      "[1, 2, 3, 4, 5]\n"
     ]
    }
   ],
   "source": [
    "# Create a set\n",
    "my_set = {1, 2, 3, 4, 5}\n",
    "\n",
    "# Convert the set to a list using the list() constructor\n",
    "my_list = list(my_set)\n",
    "\n",
    "# Display the resulting list\n",
    "print(my_list)\n"
   ]
  },
  {
   "cell_type": "markdown",
   "id": "80fee162-9034-43c7-a994-740ca4b7b920",
   "metadata": {},
   "source": [
    " 16. Remove a random element from a set."
   ]
  },
  {
   "cell_type": "code",
   "execution_count": 1,
   "id": "2a5f55c9-cb4e-4066-89aa-52f9110ac172",
   "metadata": {},
   "outputs": [
    {
     "name": "stdout",
     "output_type": "stream",
     "text": [
      "Removed random element: 1\n",
      "Updated set: {2, 3, 4, 5}\n"
     ]
    }
   ],
   "source": [
    "import random\n",
    "\n",
    "my_set = {1, 2, 3, 4, 5}\n",
    "\n",
    "# Select and remove a random element from the set\n",
    "random_element = my_set.pop()\n",
    "\n",
    "print(f\"Removed random element: {random_element}\")\n",
    "print(f\"Updated set: {my_set}\")\n"
   ]
  },
  {
   "cell_type": "markdown",
   "id": "2a030a5d-4680-45d6-b446-d16b23bbab73",
   "metadata": {},
   "source": [
    " 17. Pop an element from a set."
   ]
  },
  {
   "cell_type": "code",
   "execution_count": 2,
   "id": "34b782a0-3a89-4531-8053-7800acacda78",
   "metadata": {},
   "outputs": [
    {
     "name": "stdout",
     "output_type": "stream",
     "text": [
      "Popped element: 1\n",
      "Updated set: {2, 3, 4, 5}\n"
     ]
    }
   ],
   "source": [
    "my_set = {1, 2, 3, 4, 5}\n",
    "\n",
    "# Pop an element from the set\n",
    "popped_element = my_set.pop()\n",
    "\n",
    "print(f\"Popped element: {popped_element}\")\n",
    "print(f\"Updated set: {my_set}\")\n"
   ]
  },
  {
   "cell_type": "markdown",
   "id": "a5e74ef2-e4f6-46df-ada7-99cf0e2638da",
   "metadata": {},
   "source": [
    "18. Check if two sets have no elements in common."
   ]
  },
  {
   "cell_type": "code",
   "execution_count": 3,
   "id": "c24ced6f-7349-49c0-be60-0b97a3aaadf0",
   "metadata": {},
   "outputs": [
    {
     "name": "stdout",
     "output_type": "stream",
     "text": [
      "The sets have no elements in common.\n"
     ]
    }
   ],
   "source": [
    "set1 = {1, 2, 3, 4}\n",
    "set2 = {5, 6, 7}\n",
    "\n",
    "# Check if sets have no elements in common\n",
    "are_disjoint = set1.isdisjoint(set2)\n",
    "\n",
    "if are_disjoint:\n",
    "    print(\"The sets have no elements in common.\")\n",
    "else:\n",
    "    print(\"The sets have at least one common element.\")\n"
   ]
  },
  {
   "cell_type": "markdown",
   "id": "78e8878c-1516-49eb-b398-87932778b04e",
   "metadata": {},
   "source": [
    "19. Find the symmetric difference between two sets.\n"
   ]
  },
  {
   "cell_type": "code",
   "execution_count": 4,
   "id": "ea96c61f-6b9c-4504-9e75-2a5787fbdd6c",
   "metadata": {},
   "outputs": [
    {
     "name": "stdout",
     "output_type": "stream",
     "text": [
      "Symmetric Difference: {1, 2, 5, 6}\n"
     ]
    }
   ],
   "source": [
    "set1 = {1, 2, 3, 4}\n",
    "set2 = {3, 4, 5, 6}\n",
    "\n",
    "# Find the symmetric difference using the symmetric_difference() method\n",
    "symmetric_diff = set1.symmetric_difference(set2)\n",
    "\n",
    "print(f\"Symmetric Difference: {symmetric_diff}\")\n"
   ]
  },
  {
   "cell_type": "markdown",
   "id": "9d1f2dd2-6d9e-4146-89a9-dde8399bdaa4",
   "metadata": {},
   "source": [
    " 20. Update a set with elements from another set."
   ]
  },
  {
   "cell_type": "code",
   "execution_count": 5,
   "id": "29aef7f9-d4c3-400a-8192-edfb86f6cdf3",
   "metadata": {},
   "outputs": [
    {
     "name": "stdout",
     "output_type": "stream",
     "text": [
      "Updated set1: {1, 2, 3, 4, 5}\n"
     ]
    }
   ],
   "source": [
    "set1 = {1, 2, 3}\n",
    "set2 = {3, 4, 5}\n",
    "\n",
    "# Update set1 with elements from set2 using the update() method\n",
    "set1.update(set2)\n",
    "\n",
    "print(f\"Updated set1: {set1}\")\n"
   ]
  },
  {
   "cell_type": "markdown",
   "id": "d783d76c-c576-48ef-ac0a-c6cd966dd6d5",
   "metadata": {},
   "source": [
    " 21. Create a set of the first 5 prime numbers."
   ]
  },
  {
   "cell_type": "code",
   "execution_count": 6,
   "id": "c11c42a9-e495-4f27-9e38-eff3f675cb4e",
   "metadata": {},
   "outputs": [
    {
     "name": "stdout",
     "output_type": "stream",
     "text": [
      "Set of the first 5 prime numbers: {2, 3, 5, 7, 11}\n"
     ]
    }
   ],
   "source": [
    "# Create a set of the first 5 prime numbers\n",
    "prime_numbers_set = {2, 3, 5, 7, 11}\n",
    "\n",
    "print(\"Set of the first 5 prime numbers:\", prime_numbers_set)\n"
   ]
  },
  {
   "cell_type": "markdown",
   "id": "fac8eeed-2e69-4f05-b1be-3a6ffd5ec50f",
   "metadata": {},
   "source": [
    " 22. Check if two sets are identical"
   ]
  },
  {
   "cell_type": "code",
   "execution_count": 7,
   "id": "971eb860-02c1-4d15-8a61-5fca0da5f9ce",
   "metadata": {},
   "outputs": [
    {
     "name": "stdout",
     "output_type": "stream",
     "text": [
      "The sets are identical.\n"
     ]
    }
   ],
   "source": [
    "set1 = {1, 2, 3, 4}\n",
    "set2 = {4, 3, 2, 1}\n",
    "\n",
    "# Check if sets are identical using the == operator\n",
    "are_identical = set1 == set2\n",
    "\n",
    "if are_identical:\n",
    "    print(\"The sets are identical.\")\n",
    "else:\n",
    "    print(\"The sets are not identical.\")\n"
   ]
  },
  {
   "cell_type": "markdown",
   "id": "2e88f6ed-d85b-405a-9abc-7860cfaff5e3",
   "metadata": {},
   "source": [
    " 23. Create a frozen set."
   ]
  },
  {
   "cell_type": "code",
   "execution_count": 8,
   "id": "da89cd16-5010-4e01-bff5-d824faa43807",
   "metadata": {},
   "outputs": [
    {
     "name": "stdout",
     "output_type": "stream",
     "text": [
      "Regular set: {1, 2, 3, 4, 5}\n",
      "Frozen set: frozenset({1, 2, 3, 4, 5})\n"
     ]
    }
   ],
   "source": [
    "# Create a regular set\n",
    "my_set = {1, 2, 3, 4, 5}\n",
    "\n",
    "# Convert the regular set to a frozen set\n",
    "my_frozen_set = frozenset(my_set)\n",
    "\n",
    "print(\"Regular set:\", my_set)\n",
    "print(\"Frozen set:\", my_frozen_set)\n"
   ]
  },
  {
   "cell_type": "markdown",
   "id": "69e4554f-0e42-4353-bd07-c54b53c5f643",
   "metadata": {},
   "source": [
    " 24. Check if a set is disjoint with another set."
   ]
  },
  {
   "cell_type": "code",
   "execution_count": 9,
   "id": "a977823e-4405-46c3-890a-95b4324961b1",
   "metadata": {},
   "outputs": [
    {
     "name": "stdout",
     "output_type": "stream",
     "text": [
      "The sets are disjoint (have no elements in common).\n"
     ]
    }
   ],
   "source": [
    "set1 = {1, 2, 3, 4}\n",
    "set2 = {5, 6, 7}\n",
    "\n",
    "# Check if sets are disjoint using the isdisjoint() method\n",
    "are_disjoint = set1.isdisjoint(set2)\n",
    "\n",
    "if are_disjoint:\n",
    "    print(\"The sets are disjoint (have no elements in common).\")\n",
    "else:\n",
    "    print(\"The sets are not disjoint (have at least one common element).\")\n"
   ]
  },
  {
   "cell_type": "markdown",
   "id": "a957219a-a413-4ab9-869c-74c77c0e64a8",
   "metadata": {},
   "source": [
    "25. Create a set of squares of numbers from 1 to 5."
   ]
  },
  {
   "cell_type": "code",
   "execution_count": 10,
   "id": "13998174-5eef-4174-86ce-57ad5d0392d8",
   "metadata": {},
   "outputs": [
    {
     "name": "stdout",
     "output_type": "stream",
     "text": [
      "Set of squares: {1, 4, 9, 16, 25}\n"
     ]
    }
   ],
   "source": [
    "# Create a set of squares of numbers from 1 to 5\n",
    "squares_set = {x**2 for x in range(1, 6)}\n",
    "\n",
    "print(\"Set of squares:\", squares_set)\n"
   ]
  },
  {
   "cell_type": "markdown",
   "id": "4b8ab03f-5260-4239-a0e6-48d6563ecdc5",
   "metadata": {},
   "source": [
    " 26. Filter out all even numbers from a set."
   ]
  },
  {
   "cell_type": "code",
   "execution_count": 11,
   "id": "1d79aa88-93b1-4b52-8dd4-ee40cc66ec5e",
   "metadata": {},
   "outputs": [
    {
     "name": "stdout",
     "output_type": "stream",
     "text": [
      "Original set: {1, 2, 3, 4, 5, 6, 7, 8, 9, 10}\n",
      "Filtered set (without even numbers): {1, 3, 5, 7, 9}\n"
     ]
    }
   ],
   "source": [
    "# Original set\n",
    "original_set = {1, 2, 3, 4, 5, 6, 7, 8, 9, 10}\n",
    "\n",
    "# Use a set comprehension to filter out even numbers\n",
    "filtered_set = {x for x in original_set if x % 2 != 0}\n",
    "\n",
    "print(\"Original set:\", original_set)\n",
    "print(\"Filtered set (without even numbers):\", filtered_set)\n"
   ]
  },
  {
   "cell_type": "markdown",
   "id": "34298ee9-c911-4e00-a8b9-278a4867afee",
   "metadata": {},
   "source": [
    " 27. Multiply all elements in a set by 2."
   ]
  },
  {
   "cell_type": "code",
   "execution_count": 12,
   "id": "b38e301f-c58a-4c15-9d84-af8e5f0e3bb8",
   "metadata": {},
   "outputs": [
    {
     "name": "stdout",
     "output_type": "stream",
     "text": [
      "Original set: {1, 2, 3, 4, 5}\n",
      "Multiplied set: {2, 4, 6, 8, 10}\n"
     ]
    }
   ],
   "source": [
    "# Original set\n",
    "original_set = {1, 2, 3, 4, 5}\n",
    "\n",
    "# Use a set comprehension to create a new set with elements multiplied by 2\n",
    "multiplied_set = {x * 2 for x in original_set}\n",
    "\n",
    "print(\"Original set:\", original_set)\n",
    "print(\"Multiplied set:\", multiplied_set)\n"
   ]
  },
  {
   "cell_type": "markdown",
   "id": "8c53ecae-9073-422d-af4f-97a9b94c7818",
   "metadata": {},
   "source": [
    " 28. Create a set of random numbers."
   ]
  },
  {
   "cell_type": "code",
   "execution_count": 13,
   "id": "0c03b4a2-5551-41aa-9a18-7869f0be2c15",
   "metadata": {},
   "outputs": [
    {
     "name": "stdout",
     "output_type": "stream",
     "text": [
      "Random set: {1, 2, 3, 9}\n"
     ]
    }
   ],
   "source": [
    "import random\n",
    "\n",
    "# Create a set of 5 random numbers between 1 and 10\n",
    "random_set = {random.randint(1, 10) for _ in range(5)}\n",
    "\n",
    "print(\"Random set:\", random_set)\n"
   ]
  },
  {
   "cell_type": "markdown",
   "id": "ac1df7f9-7838-4876-8a6a-ee180b976483",
   "metadata": {},
   "source": [
    " 29. Check if a set is empty."
   ]
  },
  {
   "cell_type": "code",
   "execution_count": 14,
   "id": "d2b1d374-a6d5-4631-8081-46168501c5b3",
   "metadata": {},
   "outputs": [
    {
     "name": "stdout",
     "output_type": "stream",
     "text": [
      "The set is empty.\n"
     ]
    }
   ],
   "source": [
    "my_set = set()\n",
    "\n",
    "if not my_set:\n",
    "    print(\"The set is empty.\")\n",
    "else:\n",
    "    print(\"The set is not empty.\")\n"
   ]
  },
  {
   "cell_type": "markdown",
   "id": "48e9926a-4028-4367-af2e-76a1356d3c3f",
   "metadata": {},
   "source": [
    " 30. Create a nested set (hint: use frozenset)."
   ]
  },
  {
   "cell_type": "code",
   "execution_count": 15,
   "id": "3e697030-c9af-40df-b02d-11ed43408c91",
   "metadata": {},
   "outputs": [
    {
     "name": "stdout",
     "output_type": "stream",
     "text": [
      "Nested set: {frozenset({3, 4, 5}), frozenset({8, 6, 7}), frozenset({1, 2})}\n"
     ]
    }
   ],
   "source": [
    "# Create a nested set using frozenset\n",
    "nested_set = {frozenset({1, 2}), frozenset({3, 4, 5}), frozenset({6, 7, 8})}\n",
    "\n",
    "print(\"Nested set:\", nested_set)\n"
   ]
  },
  {
   "cell_type": "markdown",
   "id": "074a2d47-a992-458a-92c1-6e5b2b790540",
   "metadata": {},
   "source": [
    " 31. Remove an element from a set using the discard method."
   ]
  },
  {
   "cell_type": "code",
   "execution_count": 16,
   "id": "8c076900-66e4-46b6-89e1-90e7de775b29",
   "metadata": {},
   "outputs": [
    {
     "name": "stdout",
     "output_type": "stream",
     "text": [
      "Set after discarding element: {1, 2, 4, 5}\n"
     ]
    }
   ],
   "source": [
    "my_set = {1, 2, 3, 4, 5}\n",
    "\n",
    "# Remove an element using the discard() method\n",
    "my_set.discard(3)\n",
    "\n",
    "print(\"Set after discarding element:\", my_set)\n"
   ]
  },
  {
   "cell_type": "markdown",
   "id": "54229b83-c875-4535-94b3-6aaab580fb93",
   "metadata": {},
   "source": [
    "32. Compare two sets."
   ]
  },
  {
   "cell_type": "code",
   "execution_count": 17,
   "id": "02028a24-fd77-4cb0-8301-13f0c6c8803f",
   "metadata": {},
   "outputs": [
    {
     "name": "stdout",
     "output_type": "stream",
     "text": [
      "The sets are equal.\n"
     ]
    }
   ],
   "source": [
    "set1 = {1, 2, 3, 4}\n",
    "set2 = {4, 3, 2, 1}\n",
    "\n",
    "if set1 == set2:\n",
    "    print(\"The sets are equal.\")\n",
    "else:\n",
    "    print(\"The sets are not equal.\")\n"
   ]
  },
  {
   "cell_type": "markdown",
   "id": "f4e004e0-dce1-45ff-b8f9-36af7b732f3f",
   "metadata": {},
   "source": [
    " 33. Create a set from a string."
   ]
  },
  {
   "cell_type": "code",
   "execution_count": 18,
   "id": "1cf5ce1b-f031-4638-8d6c-82de7c82cf37",
   "metadata": {},
   "outputs": [
    {
     "name": "stdout",
     "output_type": "stream",
     "text": [
      "Original string: hello\n",
      "Set from string: {'l', 'e', 'h', 'o'}\n"
     ]
    }
   ],
   "source": [
    "# Create a set from a string\n",
    "my_string = \"hello\"\n",
    "my_set = set(my_string)\n",
    "\n",
    "print(\"Original string:\", my_string)\n",
    "print(\"Set from string:\", my_set)\n"
   ]
  },
  {
   "cell_type": "markdown",
   "id": "e7624313-f599-41c9-bd35-9b9e1da9c865",
   "metadata": {},
   "source": [
    " 34. Convert a set of strings to a set of integers."
   ]
  },
  {
   "cell_type": "code",
   "execution_count": 19,
   "id": "aea7d0f3-9b54-4fa3-a985-60e276ff089a",
   "metadata": {},
   "outputs": [
    {
     "name": "stdout",
     "output_type": "stream",
     "text": [
      "Original set of strings: {'4', '2', '3', '5', '1'}\n",
      "Set of integers: {1, 2, 3, 4, 5}\n"
     ]
    }
   ],
   "source": [
    "# Set of strings\n",
    "set_of_strings = {\"1\", \"2\", \"3\", \"4\", \"5\"}\n",
    "\n",
    "# Convert the set of strings to a set of integers\n",
    "set_of_integers = {int(x) for x in set_of_strings}\n",
    "\n",
    "print(\"Original set of strings:\", set_of_strings)\n",
    "print(\"Set of integers:\", set_of_integers)\n"
   ]
  },
  {
   "cell_type": "markdown",
   "id": "804a4559-94a5-425c-a71c-e3c4cfed8279",
   "metadata": {},
   "source": [
    " 35. Convert a set of integers to a set of strings."
   ]
  },
  {
   "cell_type": "code",
   "execution_count": 20,
   "id": "447b28aa-10b3-4964-8c23-96b5479ab0d9",
   "metadata": {},
   "outputs": [
    {
     "name": "stdout",
     "output_type": "stream",
     "text": [
      "Original set of integers: {1, 2, 3, 4, 5}\n",
      "Set of strings: {'1', '4', '5', '3', '2'}\n"
     ]
    }
   ],
   "source": [
    "# Set of integers\n",
    "set_of_integers = {1, 2, 3, 4, 5}\n",
    "\n",
    "# Convert the set of integers to a set of strings\n",
    "set_of_strings = {str(x) for x in set_of_integers}\n",
    "\n",
    "print(\"Original set of integers:\", set_of_integers)\n",
    "print(\"Set of strings:\", set_of_strings)\n"
   ]
  },
  {
   "cell_type": "markdown",
   "id": "e8b07461-d738-4877-871d-3b8756d288eb",
   "metadata": {},
   "source": [
    "36. Create a set from a tuple."
   ]
  },
  {
   "cell_type": "code",
   "execution_count": 21,
   "id": "e3787256-28a4-4ad9-a36b-c925c8ac8a0b",
   "metadata": {},
   "outputs": [
    {
     "name": "stdout",
     "output_type": "stream",
     "text": [
      "Original tuple: (1, 2, 3, 4, 5)\n",
      "Set from tuple: {1, 2, 3, 4, 5}\n"
     ]
    }
   ],
   "source": [
    "# Tuple\n",
    "my_tuple = (1, 2, 3, 4, 5)\n",
    "\n",
    "# Convert the tuple to a set\n",
    "my_set = set(my_tuple)\n",
    "\n",
    "print(\"Original tuple:\", my_tuple)\n",
    "print(\"Set from tuple:\", my_set)\n"
   ]
  },
  {
   "cell_type": "markdown",
   "id": "7cf6494b-b952-4e5a-8d89-dece97a80482",
   "metadata": {},
   "source": [
    " 37. Convert a set to a tuple."
   ]
  },
  {
   "cell_type": "code",
   "execution_count": 22,
   "id": "894f9ffc-ec19-46d3-8369-f2b0b91f63de",
   "metadata": {},
   "outputs": [
    {
     "name": "stdout",
     "output_type": "stream",
     "text": [
      "Original set: {1, 2, 3, 4, 5}\n",
      "Tuple from set: (1, 2, 3, 4, 5)\n"
     ]
    }
   ],
   "source": [
    "# Set\n",
    "my_set = {1, 2, 3, 4, 5}\n",
    "\n",
    "# Convert the set to a tuple\n",
    "my_tuple = tuple(my_set)\n",
    "\n",
    "print(\"Original set:\", my_set)\n",
    "print(\"Tuple from set:\", my_tuple)\n"
   ]
  },
  {
   "cell_type": "markdown",
   "id": "426941c8-2916-42a0-b92f-7e0a1186a74a",
   "metadata": {},
   "source": [
    "38. Find the maximum value in a set."
   ]
  },
  {
   "cell_type": "code",
   "execution_count": 23,
   "id": "89f718d6-d34e-4b8b-a3b4-e41918054c0b",
   "metadata": {},
   "outputs": [
    {
     "name": "stdout",
     "output_type": "stream",
     "text": [
      "Set: {3, 20, 5, 8, 10}\n",
      "Maximum value in the set: 20\n"
     ]
    }
   ],
   "source": [
    "# Set\n",
    "my_set = {10, 5, 8, 20, 3}\n",
    "\n",
    "# Convert the set to a list and find the maximum value\n",
    "max_value = max(list(my_set))\n",
    "\n",
    "print(\"Set:\", my_set)\n",
    "print(\"Maximum value in the set:\", max_value)\n"
   ]
  },
  {
   "cell_type": "markdown",
   "id": "fe94cc54-1fdc-4d61-a345-5d43ac19d945",
   "metadata": {},
   "source": [
    "39. Find the minimum value in a set."
   ]
  },
  {
   "cell_type": "code",
   "execution_count": 24,
   "id": "76697088-2b33-4600-b997-299e8991e76a",
   "metadata": {},
   "outputs": [
    {
     "name": "stdout",
     "output_type": "stream",
     "text": [
      "Set: {3, 20, 5, 8, 10}\n",
      "Minimum value in the set: 3\n"
     ]
    }
   ],
   "source": [
    "# Set\n",
    "my_set = {10, 5, 8, 20, 3}\n",
    "\n",
    "# Convert the set to a list and find the minimum value\n",
    "min_value = min(list(my_set))\n",
    "\n",
    "print(\"Set:\", my_set)\n",
    "print(\"Minimum value in the set:\", min_value)\n"
   ]
  },
  {
   "cell_type": "markdown",
   "id": "236ee5c1-ec8c-4f11-abe1-4f2aeae4d262",
   "metadata": {},
   "source": [
    " 40. Create a set from user input."
   ]
  },
  {
   "cell_type": "code",
   "execution_count": 2,
   "id": "c529c34b-4e0c-4c33-863f-ff8829e4d510",
   "metadata": {},
   "outputs": [
    {
     "name": "stdin",
     "output_type": "stream",
     "text": [
      "Enter elements separated by commas:  s,h,u,b,h,a,m\n"
     ]
    },
    {
     "name": "stdout",
     "output_type": "stream",
     "text": [
      "The set created from user input: {'b', 'h', 'u', 'm', 'a', 's'}\n"
     ]
    }
   ],
   "source": [
    "# Get user input as a comma-separated string\n",
    "user_input_str = input(\"Enter elements separated by commas: \")\n",
    "\n",
    "# Split the input string into a list of elements\n",
    "elements_list = user_input_str.split(',')\n",
    "\n",
    "# Create a set from the list\n",
    "user_set = set(elements_list)\n",
    "\n",
    "# Print the resulting set\n",
    "print(\"The set created from user input:\", user_set)\n"
   ]
  },
  {
   "cell_type": "markdown",
   "id": "3acbe829-a3e6-40f6-8610-bb5f47ee9b6d",
   "metadata": {},
   "source": [
    " 41. Check if the intersection of two sets is empty."
   ]
  },
  {
   "cell_type": "code",
   "execution_count": 3,
   "id": "2e1f4224-9f0c-470d-9f87-ea367892211a",
   "metadata": {},
   "outputs": [
    {
     "name": "stdin",
     "output_type": "stream",
     "text": [
      "Enter elements for the first set separated by commas:  1,2,3,4,5,69\n",
      "Enter elements for the second set separated by commas:  7,8,9,4\n"
     ]
    },
    {
     "name": "stdout",
     "output_type": "stream",
     "text": [
      "The intersection of the two sets is not empty: {'4'}\n"
     ]
    }
   ],
   "source": [
    "# Get user input for the first set\n",
    "set1_input = input(\"Enter elements for the first set separated by commas: \")\n",
    "set1 = set(set1_input.split(','))\n",
    "\n",
    "# Get user input for the second set\n",
    "set2_input = input(\"Enter elements for the second set separated by commas: \")\n",
    "set2 = set(set2_input.split(','))\n",
    "\n",
    "# Find the intersection of the two sets\n",
    "intersection_result = set1.intersection(set2)\n",
    "\n",
    "# Check if the intersection is empty\n",
    "if not intersection_result:\n",
    "    print(\"The intersection of the two sets is empty.\")\n",
    "else:\n",
    "    print(\"The intersection of the two sets is not empty:\", intersection_result)\n"
   ]
  },
  {
   "cell_type": "markdown",
   "id": "03f975c1-594d-437e-8c45-bf95275625b9",
   "metadata": {},
   "source": [
    " 42. Create a set of the first 5 Fibonacci numbers."
   ]
  },
  {
   "cell_type": "code",
   "execution_count": 5,
   "id": "af811c22-a728-45ab-ba64-33c301bc6ca9",
   "metadata": {},
   "outputs": [
    {
     "name": "stdout",
     "output_type": "stream",
     "text": [
      "Set of the first 5 Fibonacci numbers: {0, 1, 2, 3}\n"
     ]
    }
   ],
   "source": [
    "# Function to generate the first n Fibonacci numbers\n",
    "def generate_fibonacci(n):\n",
    "    fibonacci_set = set()\n",
    "    a, b = 0, 1\n",
    "    for _ in range(n):\n",
    "        fibonacci_set.add(a)\n",
    "        a, b = b, a + b\n",
    "    return fibonacci_set\n",
    "\n",
    "# Create a set of the first 5 Fibonacci numbers\n",
    "first_5_fibonacci = generate_fibonacci(5)\n",
    "\n",
    "# Print the resulting set\n",
    "print(\"Set of the first 5 Fibonacci numbers:\", first_5_fibonacci)\n"
   ]
  },
  {
   "cell_type": "markdown",
   "id": "a2a12abd-d817-43db-90db-3aed4fe1448b",
   "metadata": {},
   "source": [
    " 43. Remove duplicates from a list using sets."
   ]
  },
  {
   "cell_type": "code",
   "execution_count": 7,
   "id": "edc2864c-e7f6-4d6c-b1e0-314371e4c9be",
   "metadata": {},
   "outputs": [
    {
     "name": "stdout",
     "output_type": "stream",
     "text": [
      "Original List: [1, 2, 2, 3, 4, 4, 5, 6, 6]\n",
      "List with Duplicates Removed: [1, 2, 3, 4, 5, 6]\n"
     ]
    }
   ],
   "source": [
    "# Sample list with duplicates\n",
    "original_list = [1, 2, 2, 3, 4, 4, 5, 6, 6]\n",
    "\n",
    "# Remove duplicates using sets\n",
    "unique_list = list(set(original_list))\n",
    "\n",
    "# Print the original and unique lists\n",
    "print(\"Original List:\", original_list)\n",
    "print(\"List with Duplicates Removed:\", unique_list)\n"
   ]
  },
  {
   "cell_type": "markdown",
   "id": "0790ba1c-3bfd-4662-9f4e-1661afbb8d4b",
   "metadata": {},
   "source": [
    "44. Check if two sets have the same elements, regardless of their count."
   ]
  },
  {
   "cell_type": "code",
   "execution_count": 10,
   "id": "1d15e8ad-d425-4206-a165-5a4b7ae41eeb",
   "metadata": {},
   "outputs": [
    {
     "name": "stdin",
     "output_type": "stream",
     "text": [
      "Enter elements for the first set separated by commas:  1,2,3,4\n",
      "Enter elements for the second set separated by commas:  1,2,3,4\n"
     ]
    },
    {
     "name": "stdout",
     "output_type": "stream",
     "text": [
      "The sets have the same elements, regardless of their count.\n"
     ]
    }
   ],
   "source": [
    "# Get user input for the first set\n",
    "set1_input = input(\"Enter elements for the first set separated by commas: \")\n",
    "set1 = set(set1_input.split(','))\n",
    "\n",
    "# Get user input for the second set\n",
    "set2_input = input(\"Enter elements for the second set separated by commas: \")\n",
    "set2 = set(set2_input.split(','))\n",
    "\n",
    "# Check if the sets have the same elements\n",
    "if set1 == set2:\n",
    "    print(\"The sets have the same elements, regardless of their count.\")\n",
    "else:\n",
    "    print(\"The sets do not have the same elements.\")\n"
   ]
  },
  {
   "cell_type": "markdown",
   "id": "a91d1627-a4f6-4cc2-ade7-ea4323be1850",
   "metadata": {},
   "source": [
    " 45. Create a set of the first 'n' powers of 2."
   ]
  },
  {
   "cell_type": "code",
   "execution_count": 11,
   "id": "c1374a4e-a285-400a-9b07-363e1e7d166d",
   "metadata": {},
   "outputs": [
    {
     "name": "stdout",
     "output_type": "stream",
     "text": [
      "Set of the first 5 powers of 2: {1, 2, 4, 8, 16}\n"
     ]
    }
   ],
   "source": [
    "# Function to generate the first n powers of 2\n",
    "def generate_powers_of_2(n):\n",
    "    powers_of_2_set = set()\n",
    "    for i in range(n):\n",
    "        powers_of_2_set.add(2 ** i)\n",
    "    return powers_of_2_set\n",
    "\n",
    "# Set the value of n\n",
    "n = 5  # You can change this to the desired number of powers of 2\n",
    "\n",
    "# Create a set of the first n powers of 2\n",
    "powers_of_2_set = generate_powers_of_2(n)\n",
    "\n",
    "# Print the resulting set\n",
    "print(f\"Set of the first {n} powers of 2:\", powers_of_2_set)\n"
   ]
  },
  {
   "cell_type": "markdown",
   "id": "e14e8c0a-089f-478e-ba1c-669e7a1cca61",
   "metadata": {},
   "source": [
    " 46. Find the common elements between a set and a list."
   ]
  },
  {
   "cell_type": "code",
   "execution_count": 12,
   "id": "3cd57a02-8b0f-4afa-a805-0ba27aca83c7",
   "metadata": {},
   "outputs": [
    {
     "name": "stdout",
     "output_type": "stream",
     "text": [
      "Common elements: {3, 4, 5}\n"
     ]
    }
   ],
   "source": [
    "# Sample set\n",
    "set_data = {1, 2, 3, 4, 5}\n",
    "\n",
    "# Sample list\n",
    "list_data = [3, 4, 5, 6, 7]\n",
    "\n",
    "# Find the common elements using the intersection method\n",
    "common_elements = set_data.intersection(list_data)\n",
    "\n",
    "# Print the common elements\n",
    "print(\"Common elements:\", common_elements)\n"
   ]
  },
  {
   "cell_type": "markdown",
   "id": "9c909192-1b77-4d9c-bf67-1f6ac5b11657",
   "metadata": {},
   "source": [
    " 47. Create a set of the first `n` triangular numbers."
   ]
  },
  {
   "cell_type": "code",
   "execution_count": 13,
   "id": "d4827b16-e89c-4e3c-beff-cbcc7e89eecc",
   "metadata": {},
   "outputs": [
    {
     "name": "stdout",
     "output_type": "stream",
     "text": [
      "Set of the first 5 triangular numbers: {1, 3, 6, 10, 15}\n"
     ]
    }
   ],
   "source": [
    "# Function to generate the first n triangular numbers\n",
    "def generate_triangular_numbers(n):\n",
    "    triangular_numbers_set = set()\n",
    "    sum_so_far = 0\n",
    "    for i in range(1, n + 1):\n",
    "        sum_so_far += i\n",
    "        triangular_numbers_set.add(sum_so_far)\n",
    "    return triangular_numbers_set\n",
    "\n",
    "# Set the value of n\n",
    "n = 5  # You can change this to the desired number of triangular numbers\n",
    "\n",
    "# Create a set of the first n triangular numbers\n",
    "triangular_numbers_set = generate_triangular_numbers(n)\n",
    "\n",
    "# Print the resulting set\n",
    "print(f\"Set of the first {n} triangular numbers:\", triangular_numbers_set)\n"
   ]
  },
  {
   "cell_type": "markdown",
   "id": "82417248-11d1-422e-894f-6c42ed355eb0",
   "metadata": {},
   "source": [
    " 48. Check if a set contains another set as a subset."
   ]
  },
  {
   "cell_type": "code",
   "execution_count": 14,
   "id": "0b51ed21-682a-4203-a188-020e7e607a2b",
   "metadata": {},
   "outputs": [
    {
     "name": "stdin",
     "output_type": "stream",
     "text": [
      "Enter elements for the first set separated by commas:  1,2,3,4\n",
      "Enter elements for the second set separated by commas:  5,6,8,1\n"
     ]
    },
    {
     "name": "stdout",
     "output_type": "stream",
     "text": [
      "Set 1 is not a subset of Set 2.\n"
     ]
    }
   ],
   "source": [
    "# Get user input for the first set\n",
    "set1_input = input(\"Enter elements for the first set separated by commas: \")\n",
    "set1 = set(set1_input.split(','))\n",
    "\n",
    "# Get user input for the second set\n",
    "set2_input = input(\"Enter elements for the second set separated by commas: \")\n",
    "set2 = set(set2_input.split(','))\n",
    "\n",
    "# Check if set1 is a subset of set2\n",
    "if set1.issubset(set2):\n",
    "    print(\"Set 1 is a subset of Set 2.\")\n",
    "else:\n",
    "    print(\"Set 1 is not a subset of Set 2.\")\n"
   ]
  },
  {
   "cell_type": "markdown",
   "id": "432f2f82-6acd-43d9-871b-06e65ff8d83e",
   "metadata": {},
   "source": [
    " 49. Create a set of alternating 1s and 0s of length `n`."
   ]
  },
  {
   "cell_type": "code",
   "execution_count": 15,
   "id": "1523cc3c-13f5-42bc-ad2c-7c0c6f3a3819",
   "metadata": {},
   "outputs": [
    {
     "name": "stdout",
     "output_type": "stream",
     "text": [
      "Set of alternating 1s and 0s of length 10: {0, 1}\n"
     ]
    }
   ],
   "source": [
    "# Set the value of n\n",
    "n = 10  # You can change this to the desired length\n",
    "\n",
    "# Create a set of alternating 1s and 0s using a list comprehension\n",
    "alternating_set = {1 if i % 2 == 0 else 0 for i in range(n)}\n",
    "\n",
    "# Print the resulting set\n",
    "print(f\"Set of alternating 1s and 0s of length {n}:\", alternating_set)\n"
   ]
  },
  {
   "cell_type": "markdown",
   "id": "c45e4d8b-3ba2-401e-ba30-72d03209c32c",
   "metadata": {},
   "source": [
    " 50. Merge multiple sets into one."
   ]
  },
  {
   "cell_type": "code",
   "execution_count": 16,
   "id": "80bf53d4-6f7a-4ceb-b9a7-5e877fa43ca2",
   "metadata": {},
   "outputs": [
    {
     "name": "stdout",
     "output_type": "stream",
     "text": [
      "Merged Set: {1, 2, 3, 4, 5, 6, 7}\n"
     ]
    }
   ],
   "source": [
    "# Sample sets\n",
    "set1 = {1, 2, 3}\n",
    "set2 = {3, 4, 5}\n",
    "set3 = {5, 6, 7}\n",
    "\n",
    "# Merge multiple sets using the union method\n",
    "merged_set = set1.union(set2, set3)\n",
    "\n",
    "# Alternatively, you can use the | operator\n",
    "# merged_set = set1 | set2 | set3\n",
    "\n",
    "# Print the merged set\n",
    "print(\"Merged Set:\", merged_set)\n"
   ]
  },
  {
   "cell_type": "code",
   "execution_count": null,
   "id": "1153054d-cd51-4122-b64b-aa65f595271d",
   "metadata": {},
   "outputs": [],
   "source": []
  },
  {
   "cell_type": "code",
   "execution_count": null,
   "id": "de99f46c-55f8-4708-b850-021f01be2f83",
   "metadata": {},
   "outputs": [],
   "source": []
  }
 ],
 "metadata": {
  "kernelspec": {
   "display_name": "Python 3 (ipykernel)",
   "language": "python",
   "name": "python3"
  },
  "language_info": {
   "codemirror_mode": {
    "name": "ipython",
    "version": 3
   },
   "file_extension": ".py",
   "mimetype": "text/x-python",
   "name": "python",
   "nbconvert_exporter": "python",
   "pygments_lexer": "ipython3",
   "version": "3.10.8"
  }
 },
 "nbformat": 4,
 "nbformat_minor": 5
}
